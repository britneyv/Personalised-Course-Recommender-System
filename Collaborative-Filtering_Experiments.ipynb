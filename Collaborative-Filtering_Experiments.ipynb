{
 "cells": [
  {
   "cell_type": "code",
   "execution_count": 1,
   "id": "e2eb375e",
   "metadata": {},
   "outputs": [],
   "source": [
    "import pandas as pd\n",
    "import warnings\n",
    "warnings.filterwarnings(\"ignore\")\n",
    "import numpy as np\n",
    "from surprise import accuracy\n",
    "from surprise.model_selection.validation import cross_validate\n",
    "from surprise.dataset import Dataset\n",
    "from surprise.reader import Reader\n",
    "from surprise import SVD, KNNBasic, KNNWithMeans, KNNWithZScore, KNNBaseline\n",
    "from surprise.model_selection import train_test_split, GridSearchCV\n",
    "import random"
   ]
  },
  {
   "cell_type": "markdown",
   "id": "8ac6ce2b",
   "metadata": {},
   "source": [
    "## Calling the Saved Dataset"
   ]
  },
  {
   "cell_type": "code",
   "execution_count": 2,
   "id": "6aba25fe",
   "metadata": {},
   "outputs": [
    {
     "data": {
      "text/html": [
       "<div>\n",
       "<style scoped>\n",
       "    .dataframe tbody tr th:only-of-type {\n",
       "        vertical-align: middle;\n",
       "    }\n",
       "\n",
       "    .dataframe tbody tr th {\n",
       "        vertical-align: top;\n",
       "    }\n",
       "\n",
       "    .dataframe thead th {\n",
       "        text-align: right;\n",
       "    }\n",
       "</style>\n",
       "<table border=\"1\" class=\"dataframe\">\n",
       "  <thead>\n",
       "    <tr style=\"text-align: right;\">\n",
       "      <th></th>\n",
       "      <th>course_id</th>\n",
       "      <th>user_id</th>\n",
       "      <th>rating</th>\n",
       "    </tr>\n",
       "  </thead>\n",
       "  <tbody>\n",
       "    <tr>\n",
       "      <th>0</th>\n",
       "      <td>2001</td>\n",
       "      <td>1001</td>\n",
       "      <td>5</td>\n",
       "    </tr>\n",
       "    <tr>\n",
       "      <th>1</th>\n",
       "      <td>2001</td>\n",
       "      <td>1002</td>\n",
       "      <td>3</td>\n",
       "    </tr>\n",
       "    <tr>\n",
       "      <th>2</th>\n",
       "      <td>2001</td>\n",
       "      <td>1003</td>\n",
       "      <td>1</td>\n",
       "    </tr>\n",
       "    <tr>\n",
       "      <th>3</th>\n",
       "      <td>2001</td>\n",
       "      <td>1004</td>\n",
       "      <td>0</td>\n",
       "    </tr>\n",
       "    <tr>\n",
       "      <th>4</th>\n",
       "      <td>2001</td>\n",
       "      <td>1005</td>\n",
       "      <td>2</td>\n",
       "    </tr>\n",
       "  </tbody>\n",
       "</table>\n",
       "</div>"
      ],
      "text/plain": [
       "   course_id  user_id  rating\n",
       "0       2001     1001       5\n",
       "1       2001     1002       3\n",
       "2       2001     1003       1\n",
       "3       2001     1004       0\n",
       "4       2001     1005       2"
      ]
     },
     "execution_count": 2,
     "metadata": {},
     "output_type": "execute_result"
    }
   ],
   "source": [
    "ratings_df = pd.read_csv(\"data/ratingData.csv\", encoding= 'unicode_escape')\n",
    "ratings_df.head()"
   ]
  },
  {
   "cell_type": "markdown",
   "id": "8361971c",
   "metadata": {},
   "source": [
    "## Collaborative Filtering"
   ]
  },
  {
   "cell_type": "markdown",
   "id": "2ec9df55",
   "metadata": {},
   "source": [
    "Lower values of RMSE indicate better fit. RMSE is a good measure of how accurately the model predicts the response. It's the most important criterion for fit if the main purpose of the model is prediction.\n",
    "Based on a rule of thumb, it can be said that RMSE values between **0.2 and 0.5** shows that the model can relatively predict the data accurately.\n",
    "\n",
    "There is no correct value for MSE. Simply put, the lower the value the better and 0 means the model is perfect."
   ]
  },
  {
   "cell_type": "markdown",
   "id": "02fb7d57",
   "metadata": {},
   "source": [
    "### Using Surprise and testing with different algorithms (SVD, KnnBasic, KnnBaseline, KnnWithMeans, KnnWithZScore) to find the best one to use based on MAE and RMAE scores. "
   ]
  },
  {
   "cell_type": "code",
   "execution_count": 3,
   "id": "1c87def2",
   "metadata": {},
   "outputs": [
    {
     "data": {
      "text/html": [
       "<div>\n",
       "<style scoped>\n",
       "    .dataframe tbody tr th:only-of-type {\n",
       "        vertical-align: middle;\n",
       "    }\n",
       "\n",
       "    .dataframe tbody tr th {\n",
       "        vertical-align: top;\n",
       "    }\n",
       "\n",
       "    .dataframe thead th {\n",
       "        text-align: right;\n",
       "    }\n",
       "</style>\n",
       "<table border=\"1\" class=\"dataframe\">\n",
       "  <thead>\n",
       "    <tr style=\"text-align: right;\">\n",
       "      <th></th>\n",
       "      <th>MAE</th>\n",
       "      <th>RMSE</th>\n",
       "      <th>Fit Time</th>\n",
       "      <th>Test Time</th>\n",
       "    </tr>\n",
       "  </thead>\n",
       "  <tbody>\n",
       "    <tr>\n",
       "      <th>matrix_factorization.SVD</th>\n",
       "      <td>1.086086</td>\n",
       "      <td>1.340326</td>\n",
       "      <td>0.031944</td>\n",
       "      <td>0.038002</td>\n",
       "    </tr>\n",
       "    <tr>\n",
       "      <th>knns.KNNBaseline</th>\n",
       "      <td>1.277351</td>\n",
       "      <td>1.542227</td>\n",
       "      <td>0.006609</td>\n",
       "      <td>0.061850</td>\n",
       "    </tr>\n",
       "    <tr>\n",
       "      <th>knns.KNNWithZScore</th>\n",
       "      <td>1.275347</td>\n",
       "      <td>1.547736</td>\n",
       "      <td>0.003855</td>\n",
       "      <td>0.022107</td>\n",
       "    </tr>\n",
       "    <tr>\n",
       "      <th>knns.KNNWithMeans</th>\n",
       "      <td>1.280928</td>\n",
       "      <td>1.550474</td>\n",
       "      <td>0.003234</td>\n",
       "      <td>0.023411</td>\n",
       "    </tr>\n",
       "    <tr>\n",
       "      <th>knns.KNNBasic</th>\n",
       "      <td>1.314801</td>\n",
       "      <td>1.582670</td>\n",
       "      <td>0.002347</td>\n",
       "      <td>0.065577</td>\n",
       "    </tr>\n",
       "  </tbody>\n",
       "</table>\n",
       "</div>"
      ],
      "text/plain": [
       "                                MAE      RMSE  Fit Time  Test Time\n",
       "matrix_factorization.SVD   1.086086  1.340326  0.031944   0.038002\n",
       "knns.KNNBaseline           1.277351  1.542227  0.006609   0.061850\n",
       "knns.KNNWithZScore         1.275347  1.547736  0.003855   0.022107\n",
       "knns.KNNWithMeans          1.280928  1.550474  0.003234   0.023411\n",
       "knns.KNNBasic              1.314801  1.582670  0.002347   0.065577"
      ]
     },
     "execution_count": 3,
     "metadata": {},
     "output_type": "execute_result"
    }
   ],
   "source": [
    "reader = Reader(rating_scale=(0, 5))\n",
    "data = Dataset.load_from_df(ratings_df[['user_id','course_id','rating']], reader)\n",
    "\n",
    "#split into training and test sets using 80:20 ratio\n",
    "raw_ratings = data.raw_ratings\n",
    "random.shuffle(raw_ratings)                \n",
    "\n",
    "ratio = int(len(raw_ratings)*0.8)\n",
    "train_raw = raw_ratings[:ratio] \n",
    "test_raw = raw_ratings[ratio:] \n",
    "\n",
    "#data is set to the training dataset\n",
    "data.raw_ratings = train_raw       \n",
    "trainset = data.build_full_trainset() \n",
    "testset = data.construct_testset(test_raw)\n",
    "\n",
    "#create dict for different models \n",
    "models=[SVD(), KNNBasic(), KNNBaseline(), KNNWithMeans(), KNNWithZScore()] \n",
    "results = {} #to store the scores\n",
    "\n",
    "#perform cross validation of MAE and RMSE for all models\n",
    "for model in models:\n",
    "    #kfold set to 5\n",
    "    crossval_scores = cross_validate(model, data, measures=[\"MAE\",\"RMSE\"], cv=5, n_jobs=-1)  \n",
    "    \n",
    "    #saving and renaming appropraitely\n",
    "    result = pd.DataFrame.from_dict(crossval_scores).mean(axis=0).\\\n",
    "             rename({'test_mae':'MAE', 'test_rmse': 'RMSE', 'fit_time': 'Fit Time', 'test_time': 'Test Time'})\n",
    "    results[str(model).split(\"algorithms.\")[1].split(\"object \")[0]] = result\n",
    "    \n",
    "#printing all models results\n",
    "all_models = pd.DataFrame.from_dict(results)\n",
    "all_models.T.sort_values(by='RMSE') #models sorted by RMSE"
   ]
  },
  {
   "cell_type": "markdown",
   "id": "2d863a9d",
   "metadata": {},
   "source": [
    "### Testing with Different Parameters \n",
    "### SVD"
   ]
  },
  {
   "cell_type": "markdown",
   "id": "842299c4",
   "metadata": {},
   "source": [
    "####  SVD - Normal"
   ]
  },
  {
   "cell_type": "code",
   "execution_count": 4,
   "id": "40c80e45",
   "metadata": {},
   "outputs": [
    {
     "name": "stdout",
     "output_type": "stream",
     "text": [
      "Evaluating RMSE, MAE of algorithm SVD on 5 split(s).\n",
      "\n",
      "                  Fold 1  Fold 2  Fold 3  Fold 4  Fold 5  Mean    Std     \n",
      "RMSE (testset)    1.3260  1.3492  1.3257  1.3626  1.3238  1.3375  0.0157  \n",
      "MAE (testset)     1.0729  1.0971  1.0707  1.0935  1.0682  1.0805  0.0123  \n",
      "Fit time          0.04    0.03    0.03    0.03    0.03    0.03    0.00    \n",
      "Test time         0.01    0.01    0.01    0.01    0.01    0.01    0.00    \n",
      "\n",
      "Accuracy on the testset:\n",
      "RMSE: 1.3025\n",
      "MSE: 1.6965\n",
      "MAE:  1.0158\n",
      "\n",
      "Predict Tests: \n",
      "user: 1001       item: 2001       r_ui = None   est = 2.64   {'was_impossible': False}\n",
      "user: 2001       item: 1001       r_ui = None   est = 2.59   {'was_impossible': False}\n",
      "user: 1001       item: 88         r_ui = None   est = 2.53   {'was_impossible': False}\n",
      "user: 1001       item: 5          r_ui = None   est = 2.53   {'was_impossible': False}\n",
      "\n",
      "Predict Using TestSet list: \n"
     ]
    },
    {
     "data": {
      "text/plain": [
       "[Prediction(uid=1001, iid=2001, r_ui=5, est=2.643450625453006, details={'was_impossible': False}),\n",
       " Prediction(uid=1002, iid=2001, r_ui=3, est=2.5837231448932565, details={'was_impossible': False})]"
      ]
     },
     "execution_count": 4,
     "metadata": {},
     "output_type": "execute_result"
    }
   ],
   "source": [
    "#algo\n",
    "svd = SVD()\n",
    "\n",
    "#cross validate with kfold set to 5\n",
    "cross_validate(svd, data, measures = ['RMSE', 'MAE'], cv = 5, verbose = True)\n",
    "\n",
    "#build train and train train set\n",
    "trainset = data.build_full_trainset()\n",
    "svd.fit(trainset)\n",
    "\n",
    "#test the test set using .test() \n",
    "print('\\nAccuracy on the testset:')\n",
    "accuracy.rmse(svd.test(testset))\n",
    "accuracy.mse(svd.test(testset))\n",
    "accuracy.mae(svd.test(testset))\n",
    "\n",
    "print('\\nPredict Tests: ')\n",
    "print(svd.predict(1001, 2001))\n",
    "print(svd.predict(2001, 1001))\n",
    "print(svd.predict(1001, 88))\n",
    "print(svd.predict(1001, 5))\n",
    "\n",
    "print('\\nPredict Using TestSet list: ')\n",
    "testset = [data.df.loc[i].to_list() for i in range(len(data.df))]\n",
    "svd.test(testset)[:2]"
   ]
  },
  {
   "cell_type": "markdown",
   "id": "6ed120f3",
   "metadata": {},
   "source": [
    "#### SVD - Using GridSearchCV "
   ]
  },
  {
   "cell_type": "code",
   "execution_count": 5,
   "id": "d070e1bd",
   "metadata": {},
   "outputs": [
    {
     "name": "stdout",
     "output_type": "stream",
     "text": [
      "\n",
      "RMSE Best Parameters: {'n_factors': 90, 'n_epochs': 20, 'lr_all': 0.005, 'reg_all': 0.2}\n",
      "RMSE Best Score: 1.480349872111694\n",
      "MAE Best Parameters: {'n_factors': 90, 'n_epochs': 20, 'lr_all': 0.005, 'reg_all': 0.2}\n",
      "MAE Best Score: 1.2472740786053553\n"
     ]
    }
   ],
   "source": [
    "params = {\"n_factors\": range(10, 100, 20),\n",
    "         \"n_epochs\": [5, 10, 20],\n",
    "         \"lr_all\": [0.002, 0.005],\n",
    "         \"reg_all\": [0.2, 0.5]}\n",
    "\n",
    "gsSVD = GridSearchCV(SVD, params, measures = [\"RMSE\", \"MAE\"], cv = 5, n_jobs = -1)\n",
    "gsSVD.fit(data)\n",
    "\n",
    "print(f'\\nRMSE Best Parameters: {gsSVD.best_params[\"rmse\"]}')\n",
    "print(f'RMSE Best Score: {gsSVD.best_score[\"rmse\"]}')\n",
    "print(f'MAE Best Parameters: {gsSVD.best_params[\"mae\"]}')\n",
    "print(f'MAE Best Score: {gsSVD.best_score[\"mae\"]}')"
   ]
  },
  {
   "cell_type": "markdown",
   "id": "256f26c5",
   "metadata": {},
   "source": [
    "##### Using the Best Hyperparameters found above: "
   ]
  },
  {
   "cell_type": "code",
   "execution_count": 6,
   "id": "ad2f0693",
   "metadata": {},
   "outputs": [
    {
     "name": "stdout",
     "output_type": "stream",
     "text": [
      "\n",
      "Updated Accuracy: \n",
      "RMSE: 1.2877\n",
      "MSE: 1.6583\n",
      "MAE:  1.0722\n"
     ]
    },
    {
     "data": {
      "text/plain": [
       "1.0722138721670214"
      ]
     },
     "execution_count": 6,
     "metadata": {},
     "output_type": "execute_result"
    }
   ],
   "source": [
    "finalSVD = SVD(n_factors = 90, n_epochs = 20, lr_all = 0.005, reg_all = 0.2)\n",
    "predictions = finalSVD.fit(trainset).test(testset)\n",
    "\n",
    "print('\\nUpdated Accuracy: ')\n",
    "accuracy.rmse(predictions)\n",
    "accuracy.mse(predictions)\n",
    "accuracy.mae(predictions)"
   ]
  },
  {
   "cell_type": "markdown",
   "id": "49a0dfce",
   "metadata": {},
   "source": [
    "### KNNBasic"
   ]
  },
  {
   "cell_type": "markdown",
   "id": "adb4a4b3",
   "metadata": {},
   "source": [
    "##### KNNBasic - user-based cosine "
   ]
  },
  {
   "cell_type": "code",
   "execution_count": 7,
   "id": "b891b95f",
   "metadata": {},
   "outputs": [
    {
     "name": "stdout",
     "output_type": "stream",
     "text": [
      "Computing the cosine similarity matrix...\n",
      "Done computing similarity matrix.\n",
      "\n",
      "Accuracy on the testset:\n",
      "RMSE: 1.5155\n",
      "MSE: 2.2967\n",
      "MAE:  1.2614\n",
      "\n",
      "Predict Tests: \n",
      "user: 1001       item: 2001       r_ui = None   est = 1.13   {'actual_k': 16, 'was_impossible': False}\n",
      "user: 2001       item: 1001       r_ui = None   est = 2.59   {'was_impossible': True, 'reason': 'User and/or item is unknown.'}\n",
      "user: 1001       item: 88         r_ui = None   est = 2.59   {'was_impossible': True, 'reason': 'User and/or item is unknown.'}\n",
      "user: 1001       item: 5          r_ui = None   est = 2.59   {'was_impossible': True, 'reason': 'User and/or item is unknown.'}\n",
      "\n",
      "Predict Using TestSet list: \n"
     ]
    },
    {
     "data": {
      "text/plain": [
       "[Prediction(uid=1001, iid=2001, r_ui=5, est=1.128238855166933, details={'actual_k': 16, 'was_impossible': False}),\n",
       " Prediction(uid=1002, iid=2001, r_ui=3, est=1.2024891034197556, details={'actual_k': 16, 'was_impossible': False})]"
      ]
     },
     "execution_count": 7,
     "metadata": {},
     "output_type": "execute_result"
    }
   ],
   "source": [
    "#build train and train train set\n",
    "trainset = data.build_full_trainset()\n",
    "\n",
    "#fitting\n",
    "#using user-based cosine similarity\n",
    "params = {\n",
    "    \"name\": \"cosine\",\n",
    "    \"user_based\": True,  # Compute  similarities between users\n",
    "}\n",
    "algo = KNNBasic(sim_options = params)\n",
    "algo.fit(trainset)\n",
    "\n",
    "#test the test set using .test() \n",
    "print('\\nAccuracy on the testset:')\n",
    "accuracy.rmse(algo.test(testset))\n",
    "accuracy.mse(algo.test(testset))\n",
    "accuracy.mae(algo.test(testset))\n",
    "\n",
    "print('\\nPredict Tests: ')\n",
    "print(algo.predict(1001, 2001))\n",
    "print(algo.predict(2001, 1001))\n",
    "print(algo.predict(1001, 88))\n",
    "print(algo.predict(1001, 5))\n",
    "\n",
    "print('\\nPredict Using TestSet list: ')\n",
    "testset = [data.df.loc[i].to_list() for i in range(len(data.df))]\n",
    "algo.test(testset)[:2]"
   ]
  },
  {
   "cell_type": "markdown",
   "id": "2639617a",
   "metadata": {},
   "source": [
    "#### KNNBasic - item-based cosine "
   ]
  },
  {
   "cell_type": "code",
   "execution_count": 8,
   "id": "2da0787e",
   "metadata": {},
   "outputs": [
    {
     "name": "stdout",
     "output_type": "stream",
     "text": [
      "Computing the cosine similarity matrix...\n"
     ]
    },
    {
     "ename": "ZeroDivisionError",
     "evalue": "float division",
     "output_type": "error",
     "traceback": [
      "\u001b[1;31m---------------------------------------------------------------------------\u001b[0m",
      "\u001b[1;31mZeroDivisionError\u001b[0m                         Traceback (most recent call last)",
      "Cell \u001b[1;32mIn[8], line 11\u001b[0m\n\u001b[0;32m      6\u001b[0m params \u001b[38;5;241m=\u001b[39m {\n\u001b[0;32m      7\u001b[0m     \u001b[38;5;124m\"\u001b[39m\u001b[38;5;124mname\u001b[39m\u001b[38;5;124m\"\u001b[39m: \u001b[38;5;124m\"\u001b[39m\u001b[38;5;124mcosine\u001b[39m\u001b[38;5;124m\"\u001b[39m,\n\u001b[0;32m      8\u001b[0m     \u001b[38;5;124m\"\u001b[39m\u001b[38;5;124muser_based\u001b[39m\u001b[38;5;124m\"\u001b[39m: \u001b[38;5;28;01mFalse\u001b[39;00m,  \u001b[38;5;66;03m# Compute  similarities between users\u001b[39;00m\n\u001b[0;32m      9\u001b[0m }\n\u001b[0;32m     10\u001b[0m algo \u001b[38;5;241m=\u001b[39m KNNBasic(sim_options \u001b[38;5;241m=\u001b[39m params)\n\u001b[1;32m---> 11\u001b[0m \u001b[43malgo\u001b[49m\u001b[38;5;241;43m.\u001b[39;49m\u001b[43mfit\u001b[49m\u001b[43m(\u001b[49m\u001b[43mtrainset\u001b[49m\u001b[43m)\u001b[49m\n\u001b[0;32m     13\u001b[0m \u001b[38;5;66;03m#test the test set using .test() \u001b[39;00m\n\u001b[0;32m     14\u001b[0m \u001b[38;5;28mprint\u001b[39m(\u001b[38;5;124m'\u001b[39m\u001b[38;5;130;01m\\n\u001b[39;00m\u001b[38;5;124mAccuracy on the testset:\u001b[39m\u001b[38;5;124m'\u001b[39m)\n",
      "File \u001b[1;32m~\\anaconda3\\lib\\site-packages\\surprise\\prediction_algorithms\\knns.py:98\u001b[0m, in \u001b[0;36mKNNBasic.fit\u001b[1;34m(self, trainset)\u001b[0m\n\u001b[0;32m     95\u001b[0m \u001b[38;5;28;01mdef\u001b[39;00m \u001b[38;5;21mfit\u001b[39m(\u001b[38;5;28mself\u001b[39m, trainset):\n\u001b[0;32m     97\u001b[0m     SymmetricAlgo\u001b[38;5;241m.\u001b[39mfit(\u001b[38;5;28mself\u001b[39m, trainset)\n\u001b[1;32m---> 98\u001b[0m     \u001b[38;5;28mself\u001b[39m\u001b[38;5;241m.\u001b[39msim \u001b[38;5;241m=\u001b[39m \u001b[38;5;28;43mself\u001b[39;49m\u001b[38;5;241;43m.\u001b[39;49m\u001b[43mcompute_similarities\u001b[49m\u001b[43m(\u001b[49m\u001b[43m)\u001b[49m\n\u001b[0;32m    100\u001b[0m     \u001b[38;5;28;01mreturn\u001b[39;00m \u001b[38;5;28mself\u001b[39m\n",
      "File \u001b[1;32m~\\anaconda3\\lib\\site-packages\\surprise\\prediction_algorithms\\algo_base.py:248\u001b[0m, in \u001b[0;36mAlgoBase.compute_similarities\u001b[1;34m(self)\u001b[0m\n\u001b[0;32m    246\u001b[0m \u001b[38;5;28;01mif\u001b[39;00m \u001b[38;5;28mgetattr\u001b[39m(\u001b[38;5;28mself\u001b[39m, \u001b[38;5;124m\"\u001b[39m\u001b[38;5;124mverbose\u001b[39m\u001b[38;5;124m\"\u001b[39m, \u001b[38;5;28;01mFalse\u001b[39;00m):\n\u001b[0;32m    247\u001b[0m     \u001b[38;5;28mprint\u001b[39m(\u001b[38;5;124mf\u001b[39m\u001b[38;5;124m\"\u001b[39m\u001b[38;5;124mComputing the \u001b[39m\u001b[38;5;132;01m{\u001b[39;00mname\u001b[38;5;132;01m}\u001b[39;00m\u001b[38;5;124m similarity matrix...\u001b[39m\u001b[38;5;124m\"\u001b[39m)\n\u001b[1;32m--> 248\u001b[0m sim \u001b[38;5;241m=\u001b[39m \u001b[43mconstruction_func\u001b[49m\u001b[43m[\u001b[49m\u001b[43mname\u001b[49m\u001b[43m]\u001b[49m\u001b[43m(\u001b[49m\u001b[38;5;241;43m*\u001b[39;49m\u001b[43margs\u001b[49m\u001b[43m)\u001b[49m\n\u001b[0;32m    249\u001b[0m \u001b[38;5;28;01mif\u001b[39;00m \u001b[38;5;28mgetattr\u001b[39m(\u001b[38;5;28mself\u001b[39m, \u001b[38;5;124m\"\u001b[39m\u001b[38;5;124mverbose\u001b[39m\u001b[38;5;124m\"\u001b[39m, \u001b[38;5;28;01mFalse\u001b[39;00m):\n\u001b[0;32m    250\u001b[0m     \u001b[38;5;28mprint\u001b[39m(\u001b[38;5;124m\"\u001b[39m\u001b[38;5;124mDone computing similarity matrix.\u001b[39m\u001b[38;5;124m\"\u001b[39m)\n",
      "File \u001b[1;32m~\\anaconda3\\lib\\site-packages\\surprise\\similarities.pyx:83\u001b[0m, in \u001b[0;36msurprise.similarities.cosine\u001b[1;34m()\u001b[0m\n",
      "\u001b[1;31mZeroDivisionError\u001b[0m: float division"
     ]
    }
   ],
   "source": [
    "#build train and train train set\n",
    "trainset = data.build_full_trainset()\n",
    "\n",
    "#fitting\n",
    "#using user-based cosine similarity\n",
    "params = {\n",
    "    \"name\": \"cosine\",\n",
    "    \"user_based\": False,  # Compute  similarities between users\n",
    "}\n",
    "algo = KNNBasic(sim_options = params)\n",
    "algo.fit(trainset)\n",
    "\n",
    "#test the test set using .test() \n",
    "print('\\nAccuracy on the testset:')\n",
    "accuracy.rmse(algo.test(testset))\n",
    "accuracy.mse(algo.test(testset))\n",
    "accuracy.mae(algo.test(testset))\n",
    "\n",
    "print('\\nPredict Tests: ')\n",
    "print(algo.predict(1001, 2001))\n",
    "print(algo.predict(2001, 1001))\n",
    "print(algo.predict(1001, 88))\n",
    "print(algo.predict(1001, 5))\n",
    "\n",
    "print('\\nPredict Using TestSet list: ')\n",
    "testset = [data.df.loc[i].to_list() for i in range(len(data.df))]\n",
    "algo.test(testset)[:2]"
   ]
  },
  {
   "cell_type": "markdown",
   "id": "d5efc100",
   "metadata": {},
   "source": [
    "#### KNNBasic - user-based msd "
   ]
  },
  {
   "cell_type": "code",
   "execution_count": 9,
   "id": "27b223a5",
   "metadata": {},
   "outputs": [
    {
     "name": "stdout",
     "output_type": "stream",
     "text": [
      "Computing the msd similarity matrix...\n",
      "Done computing similarity matrix.\n",
      "\n",
      "Accuracy on the testset:\n",
      "RMSE: 1.2245\n",
      "MSE: 1.4993\n",
      "MAE:  1.0078\n",
      "\n",
      "Predict Tests: \n",
      "user: 1001       item: 2001       r_ui = None   est = 1.13   {'actual_k': 16, 'was_impossible': False}\n",
      "user: 2001       item: 1001       r_ui = None   est = 2.59   {'was_impossible': True, 'reason': 'User and/or item is unknown.'}\n",
      "user: 1001       item: 88         r_ui = None   est = 2.59   {'was_impossible': True, 'reason': 'User and/or item is unknown.'}\n",
      "user: 1001       item: 5          r_ui = None   est = 2.59   {'was_impossible': True, 'reason': 'User and/or item is unknown.'}\n",
      "\n",
      "Predict Using TestSet list: \n"
     ]
    },
    {
     "data": {
      "text/plain": [
       "[Prediction(uid=1001, iid=2001, r_ui=5, est=1.1268647390529196, details={'actual_k': 16, 'was_impossible': False}),\n",
       " Prediction(uid=1002, iid=2001, r_ui=3, est=1.6498068886580213, details={'actual_k': 16, 'was_impossible': False})]"
      ]
     },
     "execution_count": 9,
     "metadata": {},
     "output_type": "execute_result"
    }
   ],
   "source": [
    "#build train and train train set\n",
    "trainset = data.build_full_trainset()\n",
    "\n",
    "#fitting\n",
    "#using user-based cosine similarity\n",
    "params = {\n",
    "    \"name\": \"msd\",\n",
    "    \"user_based\": True,  # Compute  similarities between users\n",
    "}\n",
    "algo = KNNBasic(sim_options = params)\n",
    "algo.fit(trainset)\n",
    "\n",
    "#test the test set using .test() \n",
    "print('\\nAccuracy on the testset:')\n",
    "accuracy.rmse(algo.test(testset))\n",
    "accuracy.mse(algo.test(testset))\n",
    "accuracy.mae(algo.test(testset))\n",
    "\n",
    "print('\\nPredict Tests: ')\n",
    "print(algo.predict(1001, 2001))\n",
    "print(algo.predict(2001, 1001))\n",
    "print(algo.predict(1001, 88))\n",
    "print(algo.predict(1001, 5))\n",
    "\n",
    "print('\\nPredict Using TestSet list: ')\n",
    "testset = [data.df.loc[i].to_list() for i in range(len(data.df))]\n",
    "algo.test(testset)[:2]"
   ]
  },
  {
   "cell_type": "markdown",
   "id": "f575bff2",
   "metadata": {},
   "source": [
    "#### KNNBasic - item-based msd "
   ]
  },
  {
   "cell_type": "code",
   "execution_count": 10,
   "id": "7d8062ae",
   "metadata": {},
   "outputs": [
    {
     "name": "stdout",
     "output_type": "stream",
     "text": [
      "Computing the msd similarity matrix...\n",
      "Done computing similarity matrix.\n",
      "\n",
      "Accuracy on the testset:\n",
      "RMSE: 0.7368\n",
      "MSE: 0.5428\n",
      "MAE:  0.4596\n",
      "\n",
      "Predict Tests: \n",
      "user: 1001       item: 2001       r_ui = None   est = 3.16   {'actual_k': 40, 'was_impossible': False}\n",
      "user: 2001       item: 1001       r_ui = None   est = 2.59   {'was_impossible': True, 'reason': 'User and/or item is unknown.'}\n",
      "user: 1001       item: 88         r_ui = None   est = 2.59   {'was_impossible': True, 'reason': 'User and/or item is unknown.'}\n",
      "user: 1001       item: 5          r_ui = None   est = 2.59   {'was_impossible': True, 'reason': 'User and/or item is unknown.'}\n",
      "\n",
      "Predict Using TestSet list: \n"
     ]
    },
    {
     "data": {
      "text/plain": [
       "[Prediction(uid=1001, iid=2001, r_ui=5, est=3.1601592498338467, details={'actual_k': 40, 'was_impossible': False}),\n",
       " Prediction(uid=1002, iid=2001, r_ui=3, est=2.9662747627442974, details={'actual_k': 40, 'was_impossible': False})]"
      ]
     },
     "execution_count": 10,
     "metadata": {},
     "output_type": "execute_result"
    }
   ],
   "source": [
    "#build train and train train set\n",
    "trainset = data.build_full_trainset()\n",
    "\n",
    "#fitting\n",
    "#using user-based cosine similarity\n",
    "params = {\n",
    "    \"name\": \"msd\",\n",
    "    \"user_based\": False,  # Compute  similarities between users\n",
    "}\n",
    "algo = KNNBasic(sim_options = params)\n",
    "algo.fit(trainset)\n",
    "\n",
    "#test the test set using .test() \n",
    "print('\\nAccuracy on the testset:')\n",
    "accuracy.rmse(algo.test(testset))\n",
    "accuracy.mse(algo.test(testset))\n",
    "accuracy.mae(algo.test(testset))\n",
    "\n",
    "print('\\nPredict Tests: ')\n",
    "print(algo.predict(1001, 2001))\n",
    "print(algo.predict(2001, 1001))\n",
    "print(algo.predict(1001, 88))\n",
    "print(algo.predict(1001, 5))\n",
    "\n",
    "print('\\nPredict Using TestSet list: ')\n",
    "testset = [data.df.loc[i].to_list() for i in range(len(data.df))]\n",
    "algo.test(testset)[:2]"
   ]
  },
  {
   "cell_type": "markdown",
   "id": "248ba303",
   "metadata": {},
   "source": [
    "#### KNNBasic - cosine, user, shrinkage"
   ]
  },
  {
   "cell_type": "code",
   "execution_count": 11,
   "id": "098feed2",
   "metadata": {},
   "outputs": [
    {
     "name": "stdout",
     "output_type": "stream",
     "text": [
      "Computing the msd similarity matrix...\n",
      "Done computing similarity matrix.\n",
      "\n",
      "Accuracy on the testset:\n",
      "RMSE: 1.2245\n",
      "MSE: 1.4993\n",
      "MAE:  1.0078\n",
      "\n",
      "Predict Tests: \n",
      "user: 1001       item: 2001       r_ui = None   est = 1.13   {'actual_k': 16, 'was_impossible': False}\n",
      "user: 2001       item: 1001       r_ui = None   est = 2.59   {'was_impossible': True, 'reason': 'User and/or item is unknown.'}\n",
      "user: 1001       item: 88         r_ui = None   est = 2.59   {'was_impossible': True, 'reason': 'User and/or item is unknown.'}\n",
      "user: 1001       item: 5          r_ui = None   est = 2.59   {'was_impossible': True, 'reason': 'User and/or item is unknown.'}\n",
      "\n",
      "Predict Using TestSet list: \n"
     ]
    },
    {
     "data": {
      "text/plain": [
       "[Prediction(uid=1001, iid=2001, r_ui=5, est=1.1268647390529196, details={'actual_k': 16, 'was_impossible': False}),\n",
       " Prediction(uid=1002, iid=2001, r_ui=3, est=1.6498068886580213, details={'actual_k': 16, 'was_impossible': False})]"
      ]
     },
     "execution_count": 11,
     "metadata": {},
     "output_type": "execute_result"
    }
   ],
   "source": [
    "#build train and train train set\n",
    "trainset = data.build_full_trainset()\n",
    "\n",
    "#fitting\n",
    "#using user-based cosine similarity\n",
    "params = {\n",
    "    \"name\": \"msd\",\n",
    "    \"user_based\": True,\n",
    "    \"shrinkage\": 0 #no shrinkage\n",
    "}\n",
    "algo = KNNBasic(sim_options = params)\n",
    "algo.fit(trainset)\n",
    "\n",
    "#test the test set using .test() \n",
    "print('\\nAccuracy on the testset:')\n",
    "accuracy.rmse(algo.test(testset))\n",
    "accuracy.mse(algo.test(testset))\n",
    "accuracy.mae(algo.test(testset))\n",
    "\n",
    "print('\\nPredict Tests: ')\n",
    "print(algo.predict(1001, 2001))\n",
    "print(algo.predict(2001, 1001))\n",
    "print(algo.predict(1001, 88))\n",
    "print(algo.predict(1001, 5))\n",
    "\n",
    "print('\\nPredict Using TestSet list: ')\n",
    "testset = [data.df.loc[i].to_list() for i in range(len(data.df))]\n",
    "algo.test(testset)[:2]"
   ]
  },
  {
   "cell_type": "markdown",
   "id": "f9585cb1",
   "metadata": {},
   "source": [
    "#### KNNBasic - msd, user, shrinkage"
   ]
  },
  {
   "cell_type": "code",
   "execution_count": 12,
   "id": "89ee3594",
   "metadata": {},
   "outputs": [
    {
     "name": "stdout",
     "output_type": "stream",
     "text": [
      "Computing the msd similarity matrix...\n",
      "Done computing similarity matrix.\n",
      "\n",
      "Accuracy on the testset:\n",
      "RMSE: 0.7368\n",
      "MSE: 0.5428\n",
      "MAE:  0.4596\n",
      "\n",
      "Predict Tests: \n",
      "user: 1001       item: 2001       r_ui = None   est = 3.16   {'actual_k': 40, 'was_impossible': False}\n",
      "user: 2001       item: 1001       r_ui = None   est = 2.59   {'was_impossible': True, 'reason': 'User and/or item is unknown.'}\n",
      "user: 1001       item: 88         r_ui = None   est = 2.59   {'was_impossible': True, 'reason': 'User and/or item is unknown.'}\n",
      "user: 1001       item: 5          r_ui = None   est = 2.59   {'was_impossible': True, 'reason': 'User and/or item is unknown.'}\n",
      "\n",
      "Predict Using TestSet list: \n"
     ]
    },
    {
     "data": {
      "text/plain": [
       "[Prediction(uid=1001, iid=2001, r_ui=5, est=3.1601592498338467, details={'actual_k': 40, 'was_impossible': False}),\n",
       " Prediction(uid=1002, iid=2001, r_ui=3, est=2.9662747627442974, details={'actual_k': 40, 'was_impossible': False})]"
      ]
     },
     "execution_count": 12,
     "metadata": {},
     "output_type": "execute_result"
    }
   ],
   "source": [
    "#build train and train train set\n",
    "trainset = data.build_full_trainset()\n",
    "\n",
    "#fitting\n",
    "#using user-based cosine similarity\n",
    "params = {\n",
    "    \"name\": \"msd\",\n",
    "    \"user_based\": False,\n",
    "    \"shrinkage\": 0 #shrinkage is 0\n",
    "}\n",
    "\n",
    "algo = KNNBasic(sim_options = params)\n",
    "algo.fit(trainset)\n",
    "\n",
    "#test the test set using .test() \n",
    "print('\\nAccuracy on the testset:')\n",
    "accuracy.rmse(algo.test(testset))\n",
    "accuracy.mse(algo.test(testset))\n",
    "accuracy.mae(algo.test(testset))\n",
    "\n",
    "print('\\nPredict Tests: ')\n",
    "print(algo.predict(1001, 2001))\n",
    "print(algo.predict(2001, 1001))\n",
    "print(algo.predict(1001, 88))\n",
    "print(algo.predict(1001, 5))\n",
    "\n",
    "print('\\nPredict Using TestSet list: ')\n",
    "testset = [data.df.loc[i].to_list() for i in range(len(data.df))]\n",
    "algo.test(testset)[:2]"
   ]
  },
  {
   "cell_type": "markdown",
   "id": "fb62c4f2",
   "metadata": {},
   "source": [
    "#### KNNBasic - Using GridSearchCV "
   ]
  },
  {
   "cell_type": "code",
   "execution_count": 13,
   "id": "9aa015fd",
   "metadata": {},
   "outputs": [
    {
     "name": "stdout",
     "output_type": "stream",
     "text": [
      "\n",
      "RMSE Best Parameters: {'sim_options': {'method': 'als', 'n_epochs': 5, 'user_based': False, 'min_support': 3}}\n",
      "RMSE Best Score: 1.093996338468426\n",
      "MAE Best Parameters: {'sim_options': {'method': 'als', 'n_epochs': 5, 'user_based': False, 'min_support': 3}}\n",
      "MAE Best Score: 0.7795566668131725\n"
     ]
    }
   ],
   "source": [
    "#doing this with name is msd or cosine causes float or zero division error\n",
    "params = {'sim_options' : {'method': ['als','sgd'],\n",
    "                            \"n_epochs\" : [5, 10, 20],\n",
    "                            \"user_based\": [True, False],\n",
    "                            \"min_support\": [3, 5, 8],\n",
    "                          \"user_based\": [True, False]}}\n",
    "\n",
    "gsKB = GridSearchCV(KNNBasic, params, measures=['mae', 'rmse'], cv=5, n_jobs=-1)                               \n",
    "gsKB.fit(data)\n",
    "\n",
    "print(f'\\nRMSE Best Parameters: {gsKB.best_params[\"rmse\"]}')\n",
    "print(f'RMSE Best Score: {gsKB.best_score[\"rmse\"]}')\n",
    "print(f'MAE Best Parameters: {gsKB.best_params[\"mae\"]}')\n",
    "print(f'MAE Best Score: {gsKB.best_score[\"mae\"]}')"
   ]
  },
  {
   "cell_type": "markdown",
   "id": "3e59860c",
   "metadata": {},
   "source": [
    "#### Using the Best Hyperparameters found above: "
   ]
  },
  {
   "cell_type": "code",
   "execution_count": 14,
   "id": "4e34f8fb",
   "metadata": {},
   "outputs": [
    {
     "name": "stdout",
     "output_type": "stream",
     "text": [
      "Computing the msd similarity matrix...\n",
      "Done computing similarity matrix.\n",
      "\n",
      "Updated Accuracy: \n",
      "RMSE: 1.2245\n",
      "MSE: 1.4993\n",
      "MAE:  1.0078\n"
     ]
    },
    {
     "data": {
      "text/plain": [
       "1.0077718091917234"
      ]
     },
     "execution_count": 14,
     "metadata": {},
     "output_type": "execute_result"
    }
   ],
   "source": [
    "finalKB = KNNBasic(method = \"als\", n_epochs = 5, user_based = False, min_support = 3)\n",
    "predictions = finalKB.fit(trainset).test(testset)\n",
    "\n",
    "print('\\nUpdated Accuracy: ')\n",
    "accuracy.rmse(predictions)\n",
    "accuracy.mse(predictions)\n",
    "accuracy.mae(predictions)"
   ]
  },
  {
   "cell_type": "markdown",
   "id": "a5f2e0a5",
   "metadata": {},
   "source": [
    "### KNNBaseline"
   ]
  },
  {
   "cell_type": "markdown",
   "id": "70f0d69d",
   "metadata": {},
   "source": [
    "#### KNNBaseline - Using GridSearchCV"
   ]
  },
  {
   "cell_type": "code",
   "execution_count": 15,
   "id": "058d22b6",
   "metadata": {},
   "outputs": [
    {
     "name": "stdout",
     "output_type": "stream",
     "text": [
      "\n",
      "RMSE Best Parameters: {'sim_options': {'method': 'als', 'n_epochs': 5, 'user_based': False, 'reg_u': 10, 'reg_i': 8, 'learning_rate': 5e-05}}\n",
      "RMSE Best Score: 1.0833374989138946\n",
      "MAE Best Parameters: {'sim_options': {'method': 'als', 'n_epochs': 5, 'user_based': False, 'reg_u': 10, 'reg_i': 8, 'learning_rate': 5e-05}}\n",
      "MAE Best Score: 0.7939239934143018\n"
     ]
    }
   ],
   "source": [
    "params = { 'sim_options' : {'method': ['als','sgd'],\n",
    "                            \"n_epochs\" : [5, 10, 20],\n",
    "                            \"user_based\": [True, False],\n",
    "                            \"reg_u\": [10, 12, 15, 18],\n",
    "                            \"reg_i\": [8, 10, 12, 15],\n",
    "                            \"learning_rate\": [0.00005, 0.05]}}\n",
    "\n",
    "gsKBL = GridSearchCV(KNNBaseline, params, measures=['mae', 'rmse'], cv=5, n_jobs=-1)                               \n",
    "gsKBL.fit(data)\n",
    "\n",
    "print(f'\\nRMSE Best Parameters: {gsKBL.best_params[\"rmse\"]}')\n",
    "print(f'RMSE Best Score: {gsKBL.best_score[\"rmse\"]}')\n",
    "print(f'MAE Best Parameters: {gsKBL.best_params[\"mae\"]}')\n",
    "print(f'MAE Best Score: {gsKBL.best_score[\"mae\"]}')"
   ]
  },
  {
   "cell_type": "markdown",
   "id": "9dc9405a",
   "metadata": {},
   "source": [
    "#### Using the Best Hyperparameters found above: "
   ]
  },
  {
   "cell_type": "code",
   "execution_count": 16,
   "id": "ec67bf0c",
   "metadata": {},
   "outputs": [
    {
     "name": "stdout",
     "output_type": "stream",
     "text": [
      "Estimating biases using als...\n",
      "Computing the msd similarity matrix...\n",
      "Done computing similarity matrix.\n",
      "\n",
      "Updated Accuracy: \n",
      "RMSE: 1.1982\n",
      "MSE: 1.4356\n",
      "MAE:  0.9791\n"
     ]
    },
    {
     "data": {
      "text/plain": [
       "0.9790664252554542"
      ]
     },
     "execution_count": 16,
     "metadata": {},
     "output_type": "execute_result"
    }
   ],
   "source": [
    "finalKBL = KNNBaseline(method = \"als\", n_epochs = 5, user_based = False, reg_u = 10, reg_i = 8)\n",
    "predictions = finalKBL.fit(trainset).test(testset)\n",
    "\n",
    "print('\\nUpdated Accuracy: ')\n",
    "accuracy.rmse(predictions)\n",
    "accuracy.mse(predictions)\n",
    "accuracy.mae(predictions)"
   ]
  },
  {
   "cell_type": "markdown",
   "id": "7bdb59fb",
   "metadata": {},
   "source": [
    "### KNNWithMeans "
   ]
  },
  {
   "cell_type": "markdown",
   "id": "35e75b1c",
   "metadata": {},
   "source": [
    "#### KNNWithMeans - Normal "
   ]
  },
  {
   "cell_type": "code",
   "execution_count": 17,
   "id": "01a23ef4",
   "metadata": {},
   "outputs": [
    {
     "name": "stdout",
     "output_type": "stream",
     "text": [
      "Computing the msd similarity matrix...\n",
      "Done computing similarity matrix.\n",
      "Computing the msd similarity matrix...\n",
      "Done computing similarity matrix.\n",
      "Computing the msd similarity matrix...\n",
      "Done computing similarity matrix.\n",
      "Computing the msd similarity matrix...\n",
      "Done computing similarity matrix.\n",
      "Computing the msd similarity matrix...\n",
      "Done computing similarity matrix.\n",
      "Evaluating RMSE, MAE of algorithm KNNWithMeans on 5 split(s).\n",
      "\n",
      "                  Fold 1  Fold 2  Fold 3  Fold 4  Fold 5  Mean    Std     \n",
      "RMSE (testset)    1.5663  1.5445  1.5413  1.5295  1.5270  1.5417  0.0140  \n",
      "MAE (testset)     1.2939  1.2741  1.2742  1.2678  1.2580  1.2736  0.0118  \n",
      "Fit time          0.01    0.00    0.00    0.00    0.00    0.00    0.00    \n",
      "Test time         0.04    0.02    0.02    0.02    0.02    0.02    0.01    \n",
      "Computing the msd similarity matrix...\n",
      "Done computing similarity matrix.\n",
      "\n",
      "Accuracy on the testset:\n",
      "RMSE: 1.1983\n",
      "MSE: 1.4359\n",
      "MAE:  0.9788\n",
      "\n",
      "Predict Tests: \n",
      "user: 1001       item: 2001       r_ui = None   est = 1.04   {'actual_k': 16, 'was_impossible': False}\n",
      "user: 2001       item: 1001       r_ui = None   est = 2.59   {'was_impossible': True, 'reason': 'User and/or item is unknown.'}\n",
      "user: 1001       item: 88         r_ui = None   est = 2.59   {'was_impossible': True, 'reason': 'User and/or item is unknown.'}\n",
      "user: 1001       item: 5          r_ui = None   est = 2.59   {'was_impossible': True, 'reason': 'User and/or item is unknown.'}\n",
      "\n",
      "Predict Using TestSet list: \n"
     ]
    },
    {
     "data": {
      "text/plain": [
       "[Prediction(uid=1001, iid=2001, r_ui=5, est=1.0412444732849224, details={'actual_k': 16, 'was_impossible': False}),\n",
       " Prediction(uid=1002, iid=2001, r_ui=3, est=1.8904927575397272, details={'actual_k': 16, 'was_impossible': False})]"
      ]
     },
     "execution_count": 17,
     "metadata": {},
     "output_type": "execute_result"
    }
   ],
   "source": [
    "#algo\n",
    "algo = KNNWithMeans()\n",
    "\n",
    "#cross validate with kfold set to 5\n",
    "cross_validate(algo, data, measures = ['RMSE', 'MAE'], cv = 5, verbose = True)\n",
    "\n",
    "#build train and train train set\n",
    "trainset = data.build_full_trainset()\n",
    "algo.fit(trainset)\n",
    "\n",
    "#test the test set using .test() \n",
    "print('\\nAccuracy on the testset:')\n",
    "accuracy.rmse(algo.test(testset))\n",
    "accuracy.mse(algo.test(testset))\n",
    "accuracy.mae(algo.test(testset))\n",
    "\n",
    "print('\\nPredict Tests: ')\n",
    "print(algo.predict(1001, 2001))\n",
    "print(algo.predict(2001, 1001))\n",
    "print(algo.predict(1001, 88))\n",
    "print(algo.predict(1001, 5))\n",
    "\n",
    "print('\\nPredict Using TestSet list: ')\n",
    "testset = [data.df.loc[i].to_list() for i in range(len(data.df))]\n",
    "algo.test(testset)[:2]"
   ]
  },
  {
   "cell_type": "markdown",
   "id": "e9cd9ca9",
   "metadata": {},
   "source": [
    "##### KNNWithMeans - user-based cosine "
   ]
  },
  {
   "cell_type": "code",
   "execution_count": 18,
   "id": "465e8ccb",
   "metadata": {},
   "outputs": [
    {
     "name": "stdout",
     "output_type": "stream",
     "text": [
      "Computing the msd similarity matrix...\n",
      "Done computing similarity matrix.\n",
      "\n",
      "Accuracy on the testset:\n",
      "RMSE: 1.1983\n",
      "MSE: 1.4359\n",
      "MAE:  0.9788\n",
      "\n",
      "Predict Tests: \n",
      "user: 1001       item: 2001       r_ui = None   est = 1.04   {'actual_k': 16, 'was_impossible': False}\n",
      "user: 2001       item: 1001       r_ui = None   est = 2.59   {'was_impossible': True, 'reason': 'User and/or item is unknown.'}\n",
      "user: 1001       item: 88         r_ui = None   est = 2.59   {'was_impossible': True, 'reason': 'User and/or item is unknown.'}\n",
      "user: 1001       item: 5          r_ui = None   est = 2.59   {'was_impossible': True, 'reason': 'User and/or item is unknown.'}\n",
      "\n",
      "Predict Using TestSet list: \n"
     ]
    },
    {
     "data": {
      "text/plain": [
       "[Prediction(uid=1001, iid=2001, r_ui=5, est=1.0412444732849224, details={'actual_k': 16, 'was_impossible': False}),\n",
       " Prediction(uid=1002, iid=2001, r_ui=3, est=1.8904927575397272, details={'actual_k': 16, 'was_impossible': False})]"
      ]
     },
     "execution_count": 18,
     "metadata": {},
     "output_type": "execute_result"
    }
   ],
   "source": [
    "#build train and train train set\n",
    "trainset = data.build_full_trainset()\n",
    "\n",
    "#fitting\n",
    "#using user-based cosine similarity\n",
    "parans = {\n",
    "    \"name\": \"cosine\",\n",
    "    \"user_based\": True,  # Compute  similarities between users\n",
    "}\n",
    "algo = KNNWithMeans(sim_options = params)\n",
    "algo.fit(trainset)\n",
    "\n",
    "#test the test set using .test() \n",
    "print('\\nAccuracy on the testset:')\n",
    "accuracy.rmse(algo.test(testset))\n",
    "accuracy.mse(algo.test(testset))\n",
    "accuracy.mae(algo.test(testset))\n",
    "\n",
    "print('\\nPredict Tests: ')\n",
    "print(algo.predict(1001, 2001))\n",
    "print(algo.predict(2001, 1001))\n",
    "print(algo.predict(1001, 88))\n",
    "print(algo.predict(1001, 5))\n",
    "\n",
    "print('\\nPredict Using TestSet list: ')\n",
    "testset = [data.df.loc[i].to_list() for i in range(len(data.df))]\n",
    "algo.test(testset)[:2]"
   ]
  },
  {
   "cell_type": "markdown",
   "id": "b32f1de9",
   "metadata": {},
   "source": [
    "##### KNNWithMeans - item-based cosine "
   ]
  },
  {
   "cell_type": "code",
   "execution_count": 19,
   "id": "3bbecff2",
   "metadata": {},
   "outputs": [
    {
     "name": "stdout",
     "output_type": "stream",
     "text": [
      "Computing the msd similarity matrix...\n",
      "Done computing similarity matrix.\n",
      "\n",
      "Accuracy on the testset:\n",
      "RMSE: 1.1983\n",
      "MSE: 1.4359\n",
      "MAE:  0.9788\n",
      "\n",
      "Predict Tests: \n",
      "user: 1001       item: 2001       r_ui = None   est = 1.04   {'actual_k': 16, 'was_impossible': False}\n",
      "user: 2001       item: 1001       r_ui = None   est = 2.59   {'was_impossible': True, 'reason': 'User and/or item is unknown.'}\n",
      "user: 1001       item: 88         r_ui = None   est = 2.59   {'was_impossible': True, 'reason': 'User and/or item is unknown.'}\n",
      "user: 1001       item: 5          r_ui = None   est = 2.59   {'was_impossible': True, 'reason': 'User and/or item is unknown.'}\n",
      "\n",
      "Predict Using TestSet list: \n"
     ]
    },
    {
     "data": {
      "text/plain": [
       "[Prediction(uid=1001, iid=2001, r_ui=5, est=1.0412444732849224, details={'actual_k': 16, 'was_impossible': False}),\n",
       " Prediction(uid=1002, iid=2001, r_ui=3, est=1.8904927575397272, details={'actual_k': 16, 'was_impossible': False})]"
      ]
     },
     "execution_count": 19,
     "metadata": {},
     "output_type": "execute_result"
    }
   ],
   "source": [
    "#build train and train train set\n",
    "trainset = data.build_full_trainset()\n",
    "\n",
    "#fitting\n",
    "#using user-based cosine similarity\n",
    "parans = {\n",
    "    \"name\": \"cosine\",\n",
    "    \"user_based\": False,  # Compute  similarities between items\n",
    "}\n",
    "algo = KNNWithMeans(sim_options = params)\n",
    "algo.fit(trainset)\n",
    "\n",
    "#test the test set using .test() \n",
    "print('\\nAccuracy on the testset:')\n",
    "accuracy.rmse(algo.test(testset))\n",
    "accuracy.mse(algo.test(testset))\n",
    "accuracy.mae(algo.test(testset))\n",
    "\n",
    "print('\\nPredict Tests: ')\n",
    "print(algo.predict(1001, 2001))\n",
    "print(algo.predict(2001, 1001))\n",
    "print(algo.predict(1001, 88))\n",
    "print(algo.predict(1001, 5))\n",
    "\n",
    "print('\\nPredict Using TestSet list: ')\n",
    "testset = [data.df.loc[i].to_list() for i in range(len(data.df))]\n",
    "algo.test(testset)[:2]"
   ]
  },
  {
   "cell_type": "markdown",
   "id": "40087e74",
   "metadata": {},
   "source": [
    "##### KNNWithMeans - user-based MSD "
   ]
  },
  {
   "cell_type": "code",
   "execution_count": 20,
   "id": "f9831cd9",
   "metadata": {},
   "outputs": [
    {
     "name": "stdout",
     "output_type": "stream",
     "text": [
      "Computing the msd similarity matrix...\n",
      "Done computing similarity matrix.\n",
      "\n",
      "Accuracy on the testset:\n",
      "RMSE: 1.1983\n",
      "MSE: 1.4359\n",
      "MAE:  0.9788\n",
      "\n",
      "Predict Tests: \n",
      "user: 1001       item: 2001       r_ui = None   est = 1.04   {'actual_k': 16, 'was_impossible': False}\n",
      "user: 2001       item: 1001       r_ui = None   est = 2.59   {'was_impossible': True, 'reason': 'User and/or item is unknown.'}\n",
      "user: 1001       item: 88         r_ui = None   est = 2.59   {'was_impossible': True, 'reason': 'User and/or item is unknown.'}\n",
      "user: 1001       item: 5          r_ui = None   est = 2.59   {'was_impossible': True, 'reason': 'User and/or item is unknown.'}\n",
      "\n",
      "Predict Using TestSet list: \n"
     ]
    },
    {
     "data": {
      "text/plain": [
       "[Prediction(uid=1001, iid=2001, r_ui=5, est=1.0412444732849224, details={'actual_k': 16, 'was_impossible': False}),\n",
       " Prediction(uid=1002, iid=2001, r_ui=3, est=1.8904927575397272, details={'actual_k': 16, 'was_impossible': False})]"
      ]
     },
     "execution_count": 20,
     "metadata": {},
     "output_type": "execute_result"
    }
   ],
   "source": [
    "#build train and train train set\n",
    "trainset = data.build_full_trainset()\n",
    "\n",
    "#fitting\n",
    "#using user-based msd similarity\n",
    "parans = {\n",
    "    \"name\": \"msd\",\n",
    "    \"user_based\": True,  # Compute similarities between users\n",
    "}\n",
    "algo = KNNWithMeans(sim_options = params)\n",
    "algo.fit(trainset)\n",
    "\n",
    "#test the test set using .test() \n",
    "print('\\nAccuracy on the testset:')\n",
    "accuracy.rmse(algo.test(testset))\n",
    "accuracy.mse(algo.test(testset))\n",
    "accuracy.mae(algo.test(testset))\n",
    "\n",
    "print('\\nPredict Tests: ')\n",
    "print(algo.predict(1001, 2001))\n",
    "print(algo.predict(2001, 1001))\n",
    "print(algo.predict(1001, 88))\n",
    "print(algo.predict(1001, 5))\n",
    "\n",
    "print('\\nPredict Using TestSet list: ')\n",
    "testset = [data.df.loc[i].to_list() for i in range(len(data.df))]\n",
    "algo.test(testset)[:2]"
   ]
  },
  {
   "cell_type": "markdown",
   "id": "7cfa2659",
   "metadata": {},
   "source": [
    "##### KNNWithMeans - item-based MSD "
   ]
  },
  {
   "cell_type": "code",
   "execution_count": 21,
   "id": "d6b3e551",
   "metadata": {},
   "outputs": [
    {
     "name": "stdout",
     "output_type": "stream",
     "text": [
      "Computing the msd similarity matrix...\n",
      "Done computing similarity matrix.\n",
      "\n",
      "Accuracy on the testset:\n",
      "RMSE: 1.1983\n",
      "MSE: 1.4359\n",
      "MAE:  0.9788\n",
      "\n",
      "Predict Tests: \n",
      "user: 1001       item: 2001       r_ui = None   est = 1.04   {'actual_k': 16, 'was_impossible': False}\n",
      "user: 2001       item: 1001       r_ui = None   est = 2.59   {'was_impossible': True, 'reason': 'User and/or item is unknown.'}\n",
      "user: 1001       item: 88         r_ui = None   est = 2.59   {'was_impossible': True, 'reason': 'User and/or item is unknown.'}\n",
      "user: 1001       item: 5          r_ui = None   est = 2.59   {'was_impossible': True, 'reason': 'User and/or item is unknown.'}\n",
      "\n",
      "Predict Using TestSet list: \n"
     ]
    },
    {
     "data": {
      "text/plain": [
       "[Prediction(uid=1001, iid=2001, r_ui=5, est=1.0412444732849224, details={'actual_k': 16, 'was_impossible': False}),\n",
       " Prediction(uid=1002, iid=2001, r_ui=3, est=1.8904927575397272, details={'actual_k': 16, 'was_impossible': False})]"
      ]
     },
     "execution_count": 21,
     "metadata": {},
     "output_type": "execute_result"
    }
   ],
   "source": [
    "#build train and train train set\n",
    "trainset = data.build_full_trainset()\n",
    "\n",
    "#fitting\n",
    "#using item-based msd similarity\n",
    "parans = {\n",
    "    \"name\": \"msd\",\n",
    "    \"user_based\": False,  # Compute similarities between items\n",
    "}\n",
    "algo = KNNWithMeans(sim_options = params)\n",
    "algo.fit(trainset)\n",
    "\n",
    "#test the test set using .test() \n",
    "print('\\nAccuracy on the testset:')\n",
    "accuracy.rmse(algo.test(testset))\n",
    "accuracy.mse(algo.test(testset))\n",
    "accuracy.mae(algo.test(testset))\n",
    "\n",
    "print('\\nPredict Tests: ')\n",
    "print(algo.predict(1001, 2001))\n",
    "print(algo.predict(2001, 1001))\n",
    "print(algo.predict(1001, 88))\n",
    "print(algo.predict(1001, 5))\n",
    "\n",
    "print('\\nPredict Using TestSet list: ')\n",
    "testset = [data.df.loc[i].to_list() for i in range(len(data.df))]\n",
    "algo.test(testset)[:2]"
   ]
  },
  {
   "cell_type": "markdown",
   "id": "951e1877",
   "metadata": {},
   "source": [
    "#### KNNWithMeans - Using GridSearchCV"
   ]
  },
  {
   "cell_type": "code",
   "execution_count": 22,
   "id": "55f6e8be",
   "metadata": {},
   "outputs": [
    {
     "name": "stdout",
     "output_type": "stream",
     "text": [
      "\n",
      "RMSE Best Parameters: {'sim_options': {'method': 'als', 'n_epochs': 5, 'user_based': False, 'min_support': 3}}\n",
      "RMSE Best Score: 1.1170063996975135\n",
      "MAE Best Parameters: {'sim_options': {'method': 'als', 'n_epochs': 5, 'user_based': False, 'min_support': 3}}\n",
      "MAE Best Score: 0.8313519737369262\n"
     ]
    }
   ],
   "source": [
    "#doing this with name is msd or cosine causes float or zero division error\n",
    "params = {'sim_options' : {'method': ['als','sgd'],\n",
    "                            \"n_epochs\" : [5, 10, 20],\n",
    "                            \"user_based\": [True, False],\n",
    "                            \"min_support\": [3, 5, 8],\n",
    "                          \"user_based\": [True, False]}}\n",
    "\n",
    "gsKWM = GridSearchCV(KNNWithMeans, params, measures=['mae', 'rmse'], cv=5, n_jobs=-1)                               \n",
    "gsKWM.fit(data)\n",
    "\n",
    "print(f'\\nRMSE Best Parameters: {gsKWM.best_params[\"rmse\"]}')\n",
    "print(f'RMSE Best Score: {gsKWM.best_score[\"rmse\"]}')\n",
    "print(f'MAE Best Parameters: {gsKWM.best_params[\"mae\"]}')\n",
    "print(f'MAE Best Score: {gsKWM.best_score[\"mae\"]}')"
   ]
  },
  {
   "cell_type": "markdown",
   "id": "9f43cfca",
   "metadata": {},
   "source": [
    "#### Using the Best Hyperparameters found above: "
   ]
  },
  {
   "cell_type": "code",
   "execution_count": 23,
   "id": "834eaf85",
   "metadata": {},
   "outputs": [
    {
     "name": "stdout",
     "output_type": "stream",
     "text": [
      "Computing the msd similarity matrix...\n",
      "Done computing similarity matrix.\n",
      "\n",
      "Updated Accuracy: \n",
      "RMSE: 1.1983\n",
      "MSE: 1.4359\n",
      "MAE:  0.9788\n"
     ]
    },
    {
     "data": {
      "text/plain": [
       "0.9787717003257882"
      ]
     },
     "execution_count": 23,
     "metadata": {},
     "output_type": "execute_result"
    }
   ],
   "source": [
    "finalKWM = KNNWithMeans(method = \"als\", n_epochs = 5, user_based = False, min_support = 3)\n",
    "predictions = finalKWM.fit(trainset).test(testset)\n",
    "\n",
    "print('\\nUpdated Accuracy: ')\n",
    "accuracy.rmse(predictions)\n",
    "accuracy.mse(predictions)\n",
    "accuracy.mae(predictions)"
   ]
  },
  {
   "cell_type": "markdown",
   "id": "7db308e0",
   "metadata": {},
   "source": [
    "### KNNWithZScore "
   ]
  },
  {
   "cell_type": "markdown",
   "id": "69c168f5",
   "metadata": {},
   "source": [
    "#### KNNWithZScore - Using GridSearchCV"
   ]
  },
  {
   "cell_type": "code",
   "execution_count": 24,
   "id": "2805c5ee",
   "metadata": {},
   "outputs": [
    {
     "name": "stdout",
     "output_type": "stream",
     "text": [
      "\n",
      "RMSE Best Parameters: {'sim_options': {'method': 'als', 'n_epochs': 5, 'user_based': False, 'reg_u': 10, 'reg_i': 8, 'learning_rate': 0.0005}}\n",
      "RMSE Best Score: 1.1241581577332298\n",
      "MAE Best Parameters: {'sim_options': {'method': 'als', 'n_epochs': 5, 'user_based': False, 'reg_u': 10, 'reg_i': 8, 'learning_rate': 0.0005}}\n",
      "MAE Best Score: 0.8364530119944135\n"
     ]
    }
   ],
   "source": [
    "params = {'sim_options' : {'method': ['als','sgd'],\n",
    "                            \"n_epochs\" : [5, 10, 20],\n",
    "                            \"user_based\": [True, False],\n",
    "                            \"reg_u\": [10, 12, 15],\n",
    "                            \"reg_i\": [8, 10, 12],\n",
    "                            \"learning_rate\": [0.0005, 0.05]}}\n",
    "\n",
    "gsKZS = GridSearchCV(KNNWithZScore, params, measures=['mae', 'rmse'], cv=5, n_jobs=-1)                               \n",
    "gsKZS.fit(data)\n",
    "\n",
    "print(f'\\nRMSE Best Parameters: {gsKZS.best_params[\"rmse\"]}')\n",
    "print(f'RMSE Best Score: {gsKZS.best_score[\"rmse\"]}')\n",
    "print(f'MAE Best Parameters: {gsKZS.best_params[\"mae\"]}')\n",
    "print(f'MAE Best Score: {gsKZS.best_score[\"mae\"]}')"
   ]
  },
  {
   "cell_type": "markdown",
   "id": "6657ca2d",
   "metadata": {},
   "source": [
    "#### Using the Best Hyperparameters found above: "
   ]
  },
  {
   "cell_type": "code",
   "execution_count": 25,
   "id": "4bb5cfad",
   "metadata": {},
   "outputs": [
    {
     "name": "stdout",
     "output_type": "stream",
     "text": [
      "Computing the msd similarity matrix...\n",
      "Done computing similarity matrix.\n",
      "\n",
      "Updated Accuracy: \n",
      "RMSE: 1.1986\n",
      "MSE: 1.4365\n",
      "MAE:  0.9773\n"
     ]
    },
    {
     "data": {
      "text/plain": [
       "0.9773004281323534"
      ]
     },
     "execution_count": 25,
     "metadata": {},
     "output_type": "execute_result"
    }
   ],
   "source": [
    "finalKZS = KNNWithZScore(method = \"als\", n_epochs = 5, user_based = False, reg_u = 10, reg_i = 8, learning_rate = 0.0005)\n",
    "predictions = finalKZS.fit(trainset).test(testset)\n",
    "\n",
    "print('\\nUpdated Accuracy: ')\n",
    "accuracy.rmse(predictions)\n",
    "accuracy.mse(predictions)\n",
    "accuracy.mae(predictions)"
   ]
  },
  {
   "cell_type": "code",
   "execution_count": null,
   "id": "d83607ab",
   "metadata": {},
   "outputs": [],
   "source": []
  }
 ],
 "metadata": {
  "kernelspec": {
   "display_name": "Python 3 (ipykernel)",
   "language": "python",
   "name": "python3"
  },
  "language_info": {
   "codemirror_mode": {
    "name": "ipython",
    "version": 3
   },
   "file_extension": ".py",
   "mimetype": "text/x-python",
   "name": "python",
   "nbconvert_exporter": "python",
   "pygments_lexer": "ipython3",
   "version": "3.9.7"
  }
 },
 "nbformat": 4,
 "nbformat_minor": 5
}
