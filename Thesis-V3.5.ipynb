{
 "cells": [
  {
   "cell_type": "code",
   "execution_count": 34,
   "id": "e2eb375e",
   "metadata": {},
   "outputs": [],
   "source": [
    "import pandas as pd\n",
    "from sklearn.feature_extraction.text import TfidfVectorizer, CountVectorizer\n",
    "from sklearn.cluster import KMeans\n",
    "from sklearn.decomposition import PCA\n",
    "from sklearn.metrics.pairwise import linear_kernel, cosine_similarity\n",
    "import warnings\n",
    "warnings.filterwarnings(\"ignore\")\n",
    "import matplotlib.pyplot as plt\n",
    "import matplotlib\n",
    "import numpy as np\n",
    "from nltk.stem import SnowballStemmer\n",
    "from nltk.tokenize import word_tokenize\n",
    "import squarify\n",
    "import seaborn as sns\n",
    "from surprise import accuracy\n",
    "from surprise.model_selection.validation import cross_validate\n",
    "from surprise.dataset import Dataset\n",
    "from surprise.reader import Reader\n",
    "from surprise import SVD, KNNBasic, KNNWithMeans, KNNWithZScore, KNNBaseline\n",
    "from surprise.model_selection import train_test_split\n",
    "import random"
   ]
  },
  {
   "cell_type": "markdown",
   "id": "8ac6ce2b",
   "metadata": {},
   "source": [
    "## Calling the Saved Dataset"
   ]
  },
  {
   "cell_type": "code",
   "execution_count": 2,
   "id": "0e51ebb2",
   "metadata": {},
   "outputs": [
    {
     "data": {
      "text/html": [
       "<div>\n",
       "<style scoped>\n",
       "    .dataframe tbody tr th:only-of-type {\n",
       "        vertical-align: middle;\n",
       "    }\n",
       "\n",
       "    .dataframe tbody tr th {\n",
       "        vertical-align: top;\n",
       "    }\n",
       "\n",
       "    .dataframe thead th {\n",
       "        text-align: right;\n",
       "    }\n",
       "</style>\n",
       "<table border=\"1\" class=\"dataframe\">\n",
       "  <thead>\n",
       "    <tr style=\"text-align: right;\">\n",
       "      <th></th>\n",
       "      <th>Unnamed: 0</th>\n",
       "      <th>sr_</th>\n",
       "      <th>degree_1</th>\n",
       "      <th>degree_1_specializations</th>\n",
       "      <th>campus</th>\n",
       "      <th>key_skills</th>\n",
       "      <th>key_skills_str</th>\n",
       "    </tr>\n",
       "  </thead>\n",
       "  <tbody>\n",
       "    <tr>\n",
       "      <th>0</th>\n",
       "      <td>0</td>\n",
       "      <td>1001</td>\n",
       "      <td>B.E.</td>\n",
       "      <td>Mechanical</td>\n",
       "      <td>MITCOE</td>\n",
       "      <td>['CATIA']</td>\n",
       "      <td>CATIA</td>\n",
       "    </tr>\n",
       "    <tr>\n",
       "      <th>1</th>\n",
       "      <td>1</td>\n",
       "      <td>1002</td>\n",
       "      <td>B.E.</td>\n",
       "      <td>Mechanical</td>\n",
       "      <td>MITCOE</td>\n",
       "      <td>['CATIA']</td>\n",
       "      <td>CATIA</td>\n",
       "    </tr>\n",
       "    <tr>\n",
       "      <th>2</th>\n",
       "      <td>2</td>\n",
       "      <td>1003</td>\n",
       "      <td>B.E.</td>\n",
       "      <td>Mechanical</td>\n",
       "      <td>MITAOE</td>\n",
       "      <td>['CATIA']</td>\n",
       "      <td>CATIA</td>\n",
       "    </tr>\n",
       "    <tr>\n",
       "      <th>3</th>\n",
       "      <td>3</td>\n",
       "      <td>1004</td>\n",
       "      <td>B.E.</td>\n",
       "      <td>Mechanical</td>\n",
       "      <td>MITCOE</td>\n",
       "      <td>['CATIA']</td>\n",
       "      <td>CATIA</td>\n",
       "    </tr>\n",
       "    <tr>\n",
       "      <th>4</th>\n",
       "      <td>4</td>\n",
       "      <td>1005</td>\n",
       "      <td>B.E.</td>\n",
       "      <td>Mechanical</td>\n",
       "      <td>MITCOE</td>\n",
       "      <td>['CATIA']</td>\n",
       "      <td>CATIA</td>\n",
       "    </tr>\n",
       "  </tbody>\n",
       "</table>\n",
       "</div>"
      ],
      "text/plain": [
       "   Unnamed: 0   sr_ degree_1 degree_1_specializations  campus key_skills  \\\n",
       "0           0  1001     B.E.               Mechanical  MITCOE  ['CATIA']   \n",
       "1           1  1002     B.E.               Mechanical  MITCOE  ['CATIA']   \n",
       "2           2  1003     B.E.               Mechanical  MITAOE  ['CATIA']   \n",
       "3           3  1004     B.E.               Mechanical  MITCOE  ['CATIA']   \n",
       "4           4  1005     B.E.               Mechanical  MITCOE  ['CATIA']   \n",
       "\n",
       "  key_skills_str  \n",
       "0          CATIA  \n",
       "1          CATIA  \n",
       "2          CATIA  \n",
       "3          CATIA  \n",
       "4          CATIA  "
      ]
     },
     "execution_count": 2,
     "metadata": {},
     "output_type": "execute_result"
    }
   ],
   "source": [
    "course_dataset = pd.read_csv(\"data/courseData.csv\", encoding= 'unicode_escape')\n",
    "course_dataset.head()"
   ]
  },
  {
   "cell_type": "code",
   "execution_count": 3,
   "id": "30951d8d",
   "metadata": {},
   "outputs": [
    {
     "data": {
      "text/html": [
       "<div>\n",
       "<style scoped>\n",
       "    .dataframe tbody tr th:only-of-type {\n",
       "        vertical-align: middle;\n",
       "    }\n",
       "\n",
       "    .dataframe tbody tr th {\n",
       "        vertical-align: top;\n",
       "    }\n",
       "\n",
       "    .dataframe thead th {\n",
       "        text-align: right;\n",
       "    }\n",
       "</style>\n",
       "<table border=\"1\" class=\"dataframe\">\n",
       "  <thead>\n",
       "    <tr style=\"text-align: right;\">\n",
       "      <th></th>\n",
       "      <th>Unnamed: 0</th>\n",
       "      <th>userid</th>\n",
       "      <th>degree_1</th>\n",
       "      <th>degree_1_specializations</th>\n",
       "      <th>known_languages</th>\n",
       "      <th>key_skills</th>\n",
       "      <th>career_objective</th>\n",
       "      <th>key_skills_str</th>\n",
       "    </tr>\n",
       "  </thead>\n",
       "  <tbody>\n",
       "    <tr>\n",
       "      <th>0</th>\n",
       "      <td>0</td>\n",
       "      <td>1001</td>\n",
       "      <td>B.E.</td>\n",
       "      <td>Computer Science &amp; Engineering</td>\n",
       "      <td>['English', ' Marathi', ' Hindi']</td>\n",
       "      <td>['C', ' Java', ' Keras', ' Flask', ' Deep Lear...</td>\n",
       "      <td>Computer Engineering student with good technic...</td>\n",
       "      <td>C,  Java,  Keras,  Flask,  Deep Learning,  Sel...</td>\n",
       "    </tr>\n",
       "    <tr>\n",
       "      <th>1</th>\n",
       "      <td>1</td>\n",
       "      <td>1002</td>\n",
       "      <td>B.E.</td>\n",
       "      <td>Computer Science &amp; Engineering</td>\n",
       "      <td>['Hindi English']</td>\n",
       "      <td>['Java', ' Neural Networks', ' AI', ' Python',...</td>\n",
       "      <td>Interested in working under company offering A...</td>\n",
       "      <td>Java,  Neural Networks,  AI,  Python,  Html5, ...</td>\n",
       "    </tr>\n",
       "    <tr>\n",
       "      <th>2</th>\n",
       "      <td>2</td>\n",
       "      <td>1003</td>\n",
       "      <td>B.E.</td>\n",
       "      <td>Computer Science &amp; Engineering</td>\n",
       "      <td>['Missing']</td>\n",
       "      <td>['Missing']</td>\n",
       "      <td>Missing</td>\n",
       "      <td>Missing</td>\n",
       "    </tr>\n",
       "    <tr>\n",
       "      <th>3</th>\n",
       "      <td>3</td>\n",
       "      <td>1004</td>\n",
       "      <td>B.E.</td>\n",
       "      <td>Computer Science &amp; Engineering</td>\n",
       "      <td>['English', ' Hindi', ' Marathi', ' Marwari']</td>\n",
       "      <td>['XML', ' C', ' Java', ' Data Structures', ' P...</td>\n",
       "      <td>Currently a final year student of Computer Eng...</td>\n",
       "      <td>XML,  C,  Java,  Data Structures,  Python,  Mo...</td>\n",
       "    </tr>\n",
       "    <tr>\n",
       "      <th>4</th>\n",
       "      <td>4</td>\n",
       "      <td>1005</td>\n",
       "      <td>B.E.</td>\n",
       "      <td>Computer Science &amp; Engineering</td>\n",
       "      <td>['English', 'Hindi  ', 'Kashmiri ', ' Urdu']</td>\n",
       "      <td>['XML', ' Word', ' Data Structures', ' Communi...</td>\n",
       "      <td>To have a growth oriented and challenging care...</td>\n",
       "      <td>XML,  Word,  Data Structures,  Communication, ...</td>\n",
       "    </tr>\n",
       "  </tbody>\n",
       "</table>\n",
       "</div>"
      ],
      "text/plain": [
       "  Unnamed: 0 userid degree_1        degree_1_specializations  \\\n",
       "0          0   1001     B.E.  Computer Science & Engineering   \n",
       "1          1   1002     B.E.  Computer Science & Engineering   \n",
       "2          2   1003     B.E.  Computer Science & Engineering   \n",
       "3          3   1004     B.E.  Computer Science & Engineering   \n",
       "4          4   1005     B.E.  Computer Science & Engineering   \n",
       "\n",
       "                                 known_languages  \\\n",
       "0              ['English', ' Marathi', ' Hindi']   \n",
       "1                              ['Hindi English']   \n",
       "2                                    ['Missing']   \n",
       "3  ['English', ' Hindi', ' Marathi', ' Marwari']   \n",
       "4   ['English', 'Hindi  ', 'Kashmiri ', ' Urdu']   \n",
       "\n",
       "                                          key_skills  \\\n",
       "0  ['C', ' Java', ' Keras', ' Flask', ' Deep Lear...   \n",
       "1  ['Java', ' Neural Networks', ' AI', ' Python',...   \n",
       "2                                        ['Missing']   \n",
       "3  ['XML', ' C', ' Java', ' Data Structures', ' P...   \n",
       "4  ['XML', ' Word', ' Data Structures', ' Communi...   \n",
       "\n",
       "                                    career_objective  \\\n",
       "0  Computer Engineering student with good technic...   \n",
       "1  Interested in working under company offering A...   \n",
       "2                                            Missing   \n",
       "3  Currently a final year student of Computer Eng...   \n",
       "4  To have a growth oriented and challenging care...   \n",
       "\n",
       "                                      key_skills_str  \n",
       "0  C,  Java,  Keras,  Flask,  Deep Learning,  Sel...  \n",
       "1  Java,  Neural Networks,  AI,  Python,  Html5, ...  \n",
       "2                                            Missing  \n",
       "3  XML,  C,  Java,  Data Structures,  Python,  Mo...  \n",
       "4  XML,  Word,  Data Structures,  Communication, ...  "
      ]
     },
     "execution_count": 3,
     "metadata": {},
     "output_type": "execute_result"
    }
   ],
   "source": [
    "user_dataset = pd.read_csv(\"data/userData.csv\", encoding= 'unicode_escape')\n",
    "user_dataset.head()"
   ]
  },
  {
   "cell_type": "code",
   "execution_count": 4,
   "id": "c5dedb3a",
   "metadata": {},
   "outputs": [
    {
     "data": {
      "text/html": [
       "<div>\n",
       "<style scoped>\n",
       "    .dataframe tbody tr th:only-of-type {\n",
       "        vertical-align: middle;\n",
       "    }\n",
       "\n",
       "    .dataframe tbody tr th {\n",
       "        vertical-align: top;\n",
       "    }\n",
       "\n",
       "    .dataframe thead th {\n",
       "        text-align: right;\n",
       "    }\n",
       "</style>\n",
       "<table border=\"1\" class=\"dataframe\">\n",
       "  <thead>\n",
       "    <tr style=\"text-align: right;\">\n",
       "      <th></th>\n",
       "      <th>course_id</th>\n",
       "      <th>user_id</th>\n",
       "      <th>rating</th>\n",
       "    </tr>\n",
       "  </thead>\n",
       "  <tbody>\n",
       "    <tr>\n",
       "      <th>0</th>\n",
       "      <td>2001</td>\n",
       "      <td>1001</td>\n",
       "      <td>5</td>\n",
       "    </tr>\n",
       "    <tr>\n",
       "      <th>1</th>\n",
       "      <td>2001</td>\n",
       "      <td>1002</td>\n",
       "      <td>3</td>\n",
       "    </tr>\n",
       "    <tr>\n",
       "      <th>2</th>\n",
       "      <td>2001</td>\n",
       "      <td>1003</td>\n",
       "      <td>1</td>\n",
       "    </tr>\n",
       "    <tr>\n",
       "      <th>3</th>\n",
       "      <td>2001</td>\n",
       "      <td>1004</td>\n",
       "      <td>0</td>\n",
       "    </tr>\n",
       "    <tr>\n",
       "      <th>4</th>\n",
       "      <td>2001</td>\n",
       "      <td>1005</td>\n",
       "      <td>2</td>\n",
       "    </tr>\n",
       "  </tbody>\n",
       "</table>\n",
       "</div>"
      ],
      "text/plain": [
       "   course_id  user_id  rating\n",
       "0       2001     1001       5\n",
       "1       2001     1002       3\n",
       "2       2001     1003       1\n",
       "3       2001     1004       0\n",
       "4       2001     1005       2"
      ]
     },
     "execution_count": 4,
     "metadata": {},
     "output_type": "execute_result"
    }
   ],
   "source": [
    "ratings_df = pd.read_csv(\"data/ratingData.csv\", encoding= 'unicode_escape')\n",
    "ratings_df.head()"
   ]
  },
  {
   "cell_type": "markdown",
   "id": "b7a48bb0",
   "metadata": {},
   "source": [
    "## Clustering Technique"
   ]
  },
  {
   "cell_type": "markdown",
   "id": "3b4f27fa",
   "metadata": {},
   "source": [
    "### Course Dataset - Key Skills"
   ]
  },
  {
   "cell_type": "markdown",
   "id": "359cb458",
   "metadata": {},
   "source": [
    "#### Trying different k values "
   ]
  },
  {
   "cell_type": "code",
   "execution_count": 5,
   "id": "3fe89a94",
   "metadata": {},
   "outputs": [],
   "source": [
    "def tokenize(text):\n",
    "    stemmer=SnowballStemmer('english')\n",
    "    return [stemmer.stem(word) for word in word_tokenize(text.lower())]"
   ]
  },
  {
   "cell_type": "code",
   "execution_count": 6,
   "id": "61b7a4f6",
   "metadata": {},
   "outputs": [],
   "source": [
    "vectorizer= TfidfVectorizer(stop_words=set([\",\"]),tokenizer=tokenize, max_features=1000)\n",
    "X=vectorizer.fit_transform(course_dataset[\"key_skills_str\"])"
   ]
  },
  {
   "cell_type": "code",
   "execution_count": 7,
   "id": "af825c35",
   "metadata": {},
   "outputs": [],
   "source": [
    "#k_cluster_range is the values of k we will loop through (from 1 to 30 seems common)\n",
    "k_cluster_range = range(1,30)\n",
    "inertia = np.zeros(len(k_cluster_range)) #sum of squares errors\n",
    "\n",
    "for i in range(len(k_cluster_range)):\n",
    "    kmeans = KMeans(n_clusters=i+1, init='k-means++', random_state=1234).fit(X)\n",
    "    inertia[i] = kmeans.inertia_\n",
    "    \n",
    "course_dataset['cluster']=kmeans.labels_"
   ]
  },
  {
   "cell_type": "code",
   "execution_count": 8,
   "id": "062b3017",
   "metadata": {},
   "outputs": [
    {
     "data": {
      "text/plain": [
       "Text(6, 7700, \"Let's try k=6\")"
      ]
     },
     "execution_count": 8,
     "metadata": {},
     "output_type": "execute_result"
    },
    {
     "data": {
      "image/png": "[encoded data removed]",
      "text/plain": [
       "<Figure size 432x288 with 1 Axes>"
      ]
     },
     "metadata": {
      "needs_background": "light"
     },
     "output_type": "display_data"
    }
   ],
   "source": [
    "#plotting the kvalues vs inertia graph\n",
    "plt.plot(k_cluster_range, inertia, 'o-')\n",
    "plt.xlabel('Cluster Number')\n",
    "plt.ylabel('Inertia/SSE')\n",
    "plt.title('K-Values VS Intertia/SSE Graph', size=14)\n",
    "#save the plot\n",
    "#plt.savefig('elbow_method.png')\n",
    "\n",
    "#plotting the red line and arrow\n",
    "plt.plot([6], [inertia[5]], 'o--', color='red')\n",
    "plt.plot([1,6,11], [8520, 4400,2400], '--', color='red', linewidth=1)\n",
    "plt.annotate(\"Let's try k=6\", xy=(6, inertia[5]), xytext=(6,7700),\n",
    "             size=14, weight='bold', color='red',\n",
    "             arrowprops=dict(facecolor='red', shrink=0.05))"
   ]
  },
  {
   "cell_type": "code",
   "execution_count": 9,
   "id": "3964a33c",
   "metadata": {},
   "outputs": [
    {
     "name": "stdout",
     "output_type": "stream",
     "text": [
      "Explained variance is 0.3122.\n"
     ]
    },
    {
     "data": {
      "image/png": "[encoded data removed]",
      "text/plain": [
       "<Figure size 1224x648 with 1 Axes>"
      ]
     },
     "metadata": {
      "needs_background": "light"
     },
     "output_type": "display_data"
    }
   ],
   "source": [
    "pca=PCA(n_components=2)\n",
    "X_2d=pca.fit_transform(X.todense())\n",
    "\n",
    "print('Explained variance is {}.'.format(round(pca.explained_variance_ratio_.sum(), 4)))\n",
    "\n",
    "df = pd.DataFrame(dict(x=X_2d[:,0], y=X_2d[:,1], label=course_dataset['cluster'])) \n",
    "df_sample=df.sample(100)\n",
    "groups = df_sample.groupby('label')\n",
    "\n",
    "fig, ax = plt.subplots(figsize=(17, 9)) \n",
    "for cluster_name in np.arange(len(df_sample['label'].unique())):\n",
    "    temp=df_sample[df_sample['label']==cluster_name]\n",
    "    ax.plot(temp.x, temp.y, marker='o', linestyle='', ms=10, \n",
    "        label='Cluster '+str(cluster_name))\n",
    "ax.legend(numpoints=1) \n",
    "plt.title('Principle Component Analysis (PCA) Visualisation')\n",
    "plt.show()"
   ]
  },
  {
   "cell_type": "markdown",
   "id": "74a77300",
   "metadata": {},
   "source": [
    "### Course Dataset - Degree1, Degree1 Specializations & Key Skills"
   ]
  },
  {
   "cell_type": "code",
   "execution_count": 10,
   "id": "ca2aefea",
   "metadata": {},
   "outputs": [
    {
     "data": {
      "text/plain": [
       "(10000, 69)"
      ]
     },
     "execution_count": 10,
     "metadata": {},
     "output_type": "execute_result"
    }
   ],
   "source": [
    "comb_frame = course_dataset.degree_1.str.cat(\" \" + course_dataset.degree_1_specializations.str.cat(\" \" + course_dataset.key_skills_str))\n",
    "comb_frame = comb_frame.replace({\"[^A-Za-z0-9 ]+\": \"\"}, regex=True)\n",
    "\n",
    "vectorizer = TfidfVectorizer(stop_words='english')\n",
    "X = vectorizer.fit_transform(comb_frame)\n",
    "X.shape #(10,000 x 69)"
   ]
  },
  {
   "cell_type": "code",
   "execution_count": 11,
   "id": "1a2e51a2",
   "metadata": {},
   "outputs": [],
   "source": [
    "k_cluster_range = range(1,31)\n",
    "inertia = np.zeros(len(k_cluster_range)) #sum of squares errors\n",
    "\n",
    "for i in range(len(k_cluster_range)):\n",
    "    kmeans = KMeans(n_clusters=i+1, init='k-means++', random_state=1234, max_iter=100).fit(X)\n",
    "    comb_frame[\"clusters\"] = kmeans.labels_\n",
    "    inertia[i] = kmeans.inertia_"
   ]
  },
  {
   "cell_type": "code",
   "execution_count": 12,
   "id": "fa13a887",
   "metadata": {},
   "outputs": [
    {
     "data": {
      "text/plain": [
       "Text(0.5, 1.0, 'K-Values VS Intertia/SSE Graph')"
      ]
     },
     "execution_count": 12,
     "metadata": {},
     "output_type": "execute_result"
    },
    {
     "data": {
      "image/png": "[encoded data removed]",
      "text/plain": [
       "<Figure size 432x288 with 1 Axes>"
      ]
     },
     "metadata": {
      "needs_background": "light"
     },
     "output_type": "display_data"
    }
   ],
   "source": [
    "#plotting the kvalues vs inertia graph\n",
    "plt.plot(k_cluster_range, inertia, 'o-')\n",
    "plt.xlabel('Cluster Number')\n",
    "plt.ylabel('Inertia/SSE')\n",
    "plt.title('K-Values VS Intertia/SSE Graph', size=14)\n",
    "#save the plot\n",
    "#plt.savefig('elbow_method.png')"
   ]
  },
  {
   "cell_type": "code",
   "execution_count": 13,
   "id": "83fbfae6",
   "metadata": {},
   "outputs": [
    {
     "name": "stdout",
     "output_type": "stream",
     "text": [
      "Explained variance is 0.3457.\n"
     ]
    },
    {
     "data": {
      "image/png": "[encoded data removed]",
      "text/plain": [
       "<Figure size 1224x648 with 1 Axes>"
      ]
     },
     "metadata": {
      "needs_background": "light"
     },
     "output_type": "display_data"
    }
   ],
   "source": [
    "pca=PCA(n_components=2)\n",
    "X_2d=pca.fit_transform(X.todense())\n",
    "\n",
    "print('Explained variance is {}.'.format(round(pca.explained_variance_ratio_.sum(), 4)))\n",
    "\n",
    "df = pd.DataFrame(dict(x=X_2d[:,0], y=X_2d[:,1], label=comb_frame[\"clusters\"])) \n",
    "df_sample=df.sample(500)\n",
    "groups = df_sample.groupby('label')\n",
    "\n",
    "fig, ax = plt.subplots(figsize=(17, 9)) \n",
    "for cluster_name in np.arange(len(df_sample['label'].unique())):\n",
    "    temp=df_sample[df_sample['label']==cluster_name]\n",
    "    ax.plot(temp.x, temp.y, marker='o', linestyle='', ms=10, \n",
    "        label='Cluster '+str(cluster_name))\n",
    "ax.legend(numpoints=1) \n",
    "plt.title('Principle Component Analysis (PCA) Visualisation')\n",
    "plt.show()"
   ]
  },
  {
   "cell_type": "markdown",
   "id": "23bc99e2",
   "metadata": {},
   "source": [
    "#### The two different clusters we made seem identical even though the first is based solely on key skills and the second is a combination of key skills, degree specialization and degree type "
   ]
  },
  {
   "cell_type": "markdown",
   "id": "92b01f43",
   "metadata": {},
   "source": [
    "### User Dataset -  Key Skills"
   ]
  },
  {
   "cell_type": "markdown",
   "id": "0b1b4898",
   "metadata": {},
   "source": [
    "#### Trying different k values "
   ]
  },
  {
   "cell_type": "code",
   "execution_count": 14,
   "id": "982a86c4",
   "metadata": {},
   "outputs": [],
   "source": [
    "vectorizer = TfidfVectorizer(stop_words=set([\",\", \"--\", \"-\", \"#\", \"&\", \"-c-\"]),tokenizer=tokenize, max_features=1000)\n",
    "X = vectorizer.fit_transform(user_dataset[\"key_skills_str\"].values.astype('U'))"
   ]
  },
  {
   "cell_type": "code",
   "execution_count": 15,
   "id": "3a6180e9",
   "metadata": {},
   "outputs": [],
   "source": [
    "#k_cluster_range is the values of k we will loop through (from 1 to 30 seems common)\n",
    "#try using smaller ranges to see that clustering is done correctly\n",
    "k_cluster_range = range(1,5)\n",
    "inertia = np.zeros(len(k_cluster_range)) #sum of squares errors\n",
    "\n",
    "for i in range(len(k_cluster_range)):\n",
    "    kmeans = KMeans(n_clusters=i+1, init='k-means++', random_state=1234).fit(X)\n",
    "    inertia[i] = kmeans.inertia_\n",
    "    \n",
    "user_dataset['cluster']=kmeans.labels_"
   ]
  },
  {
   "cell_type": "code",
   "execution_count": 16,
   "id": "7382f7fe",
   "metadata": {},
   "outputs": [
    {
     "data": {
      "image/png": "[encoded data removed]",
      "text/plain": [
       "<Figure size 432x288 with 1 Axes>"
      ]
     },
     "metadata": {
      "needs_background": "light"
     },
     "output_type": "display_data"
    }
   ],
   "source": [
    "#plotting the kvalues vs inertia graph\n",
    "plt.plot(k_cluster_range, inertia, 'o-')\n",
    "plt.xlabel('Cluster Number')\n",
    "plt.ylabel('Inertia/SSE')\n",
    "plt.title('K-Values VS Intertia/SSE Graph', size=14)\n",
    "plt.show()\n",
    "#save the plot\n",
    "#plt.savefig('elbow_method.png')"
   ]
  },
  {
   "cell_type": "code",
   "execution_count": 17,
   "id": "404048a3",
   "metadata": {},
   "outputs": [
    {
     "name": "stdout",
     "output_type": "stream",
     "text": [
      "Explained variance is 0.4047.\n"
     ]
    },
    {
     "data": {
      "image/png": "[encoded data removed]",
      "text/plain": [
       "<Figure size 1224x648 with 1 Axes>"
      ]
     },
     "metadata": {
      "needs_background": "light"
     },
     "output_type": "display_data"
    }
   ],
   "source": [
    "pca=PCA(n_components=2)\n",
    "X_2d=pca.fit_transform(X.todense())\n",
    "\n",
    "print('Explained variance is {}.'.format(round(pca.explained_variance_ratio_.sum(), 4)))\n",
    "\n",
    "df = pd.DataFrame(dict(x=X_2d[:,0], y=X_2d[:,1], label=user_dataset['cluster'])) \n",
    "df_sample=df.sample(100)\n",
    "groups = df_sample.groupby('label')\n",
    "\n",
    "fig, ax = plt.subplots(figsize=(17, 9)) \n",
    "for cluster_name in np.arange(len(df_sample['label'].unique())):\n",
    "    temp=df_sample[df_sample['label']==cluster_name]\n",
    "    ax.plot(temp.x, temp.y, marker='o', linestyle='', ms=10, \n",
    "        label='Cluster '+str(cluster_name))\n",
    "ax.legend(numpoints=1) \n",
    "plt.title('Principle Component Analysis (PCA) Visualisation')\n",
    "plt.show()"
   ]
  },
  {
   "cell_type": "markdown",
   "id": "9b95fbcb",
   "metadata": {},
   "source": [
    "### User Dataset -  Career Objective"
   ]
  },
  {
   "cell_type": "markdown",
   "id": "2840db1d",
   "metadata": {},
   "source": [
    "#### Trying different k values "
   ]
  },
  {
   "cell_type": "code",
   "execution_count": 18,
   "id": "1863fad2",
   "metadata": {},
   "outputs": [],
   "source": [
    "vectorizer= TfidfVectorizer(stop_words=set([\",\", \"--\", \"-\", \"#\", \"&\", \"-c-\"]),tokenizer=tokenize, max_features=1000)\n",
    "X=vectorizer.fit_transform(user_dataset[\"career_objective\"].values.astype('U'))"
   ]
  },
  {
   "cell_type": "code",
   "execution_count": 19,
   "id": "6dcfd816",
   "metadata": {},
   "outputs": [],
   "source": [
    "#k_cluster_range is the values of k we will loop through (from 1 to 30 seems common)\n",
    "k_cluster_range = range(1,30)\n",
    "inertia = np.zeros(len(k_cluster_range)) #sum of squares errors\n",
    "\n",
    "for i in range(len(k_cluster_range)):\n",
    "    kmeans = KMeans(n_clusters=i+1, init='k-means++', random_state=1234).fit(X)\n",
    "    inertia[i] = kmeans.inertia_\n",
    "    \n",
    "user_dataset['cluster']=kmeans.labels_"
   ]
  },
  {
   "cell_type": "code",
   "execution_count": 20,
   "id": "2baa5798",
   "metadata": {},
   "outputs": [
    {
     "data": {
      "image/png": "[encoded data removed]",
      "text/plain": [
       "<Figure size 432x288 with 1 Axes>"
      ]
     },
     "metadata": {
      "needs_background": "light"
     },
     "output_type": "display_data"
    }
   ],
   "source": [
    "#plotting the kvalues vs inertia graph\n",
    "plt.plot(k_cluster_range, inertia, 'o-')\n",
    "plt.xlabel('Cluster Number')\n",
    "plt.ylabel('Inertia/SSE')\n",
    "plt.title('K-Values VS Intertia/SSE Graph', size=14)\n",
    "plt.show()\n",
    "#save the plot\n",
    "#plt.savefig('elbow_method.png')"
   ]
  },
  {
   "cell_type": "code",
   "execution_count": 21,
   "id": "0c787582",
   "metadata": {},
   "outputs": [
    {
     "name": "stdout",
     "output_type": "stream",
     "text": [
      "Explained variance is 0.527.\n"
     ]
    },
    {
     "data": {
      "image/png": "[encoded data removed]",
      "text/plain": [
       "<Figure size 1224x648 with 1 Axes>"
      ]
     },
     "metadata": {
      "needs_background": "light"
     },
     "output_type": "display_data"
    }
   ],
   "source": [
    "pca=PCA(n_components=2)\n",
    "X_2d=pca.fit_transform(X.todense())\n",
    "\n",
    "print('Explained variance is {}.'.format(round(pca.explained_variance_ratio_.sum(), 4)))\n",
    "\n",
    "df = pd.DataFrame(dict(x=X_2d[:,0], y=X_2d[:,1], label=user_dataset['cluster'])) \n",
    "df_sample=df.sample(100)\n",
    "groups = df_sample.groupby('label')\n",
    "\n",
    "fig, ax = plt.subplots(figsize=(17, 9)) \n",
    "for cluster_name in np.arange(len(df_sample['label'].unique())):\n",
    "    temp=df_sample[df_sample['label']==cluster_name]\n",
    "    ax.plot(temp.x, temp.y, marker='o', linestyle='', ms=10, \n",
    "        label='Cluster '+str(cluster_name))\n",
    "ax.legend(numpoints=1) \n",
    "plt.title('Principle Component Analysis (PCA) Visualisation')\n",
    "plt.show()"
   ]
  },
  {
   "cell_type": "markdown",
   "id": "ec81ad12",
   "metadata": {},
   "source": [
    "### User Dataset -  Degree1 Specializations, Career Objective & Key Skills"
   ]
  },
  {
   "cell_type": "code",
   "execution_count": 22,
   "id": "6158d004",
   "metadata": {},
   "outputs": [
    {
     "data": {
      "text/plain": [
       "(1097, 1697)"
      ]
     },
     "execution_count": 22,
     "metadata": {},
     "output_type": "execute_result"
    }
   ],
   "source": [
    "comb_user_frame = user_dataset.degree_1_specializations.str.cat(\" \" + user_dataset.career_objective.str.cat(\" \" + user_dataset.key_skills_str))\n",
    "comb_user_frame = comb_user_frame.replace({\"[^A-Za-z0-9 ]+\": \"\"}, regex=True)\n",
    "\n",
    "vectorizer = TfidfVectorizer(stop_words='english')\n",
    "X = vectorizer.fit_transform(comb_user_frame.values.astype('U'))\n",
    "X.shape "
   ]
  },
  {
   "cell_type": "code",
   "execution_count": 23,
   "id": "358d954e",
   "metadata": {},
   "outputs": [],
   "source": [
    "k_cluster_range = range(1,31)\n",
    "inertia = np.zeros(len(k_cluster_range)) #sum of squares errors\n",
    "\n",
    "for i in range(len(k_cluster_range)):\n",
    "    kmeans = KMeans(n_clusters=i+1, init='k-means++', random_state=1234, max_iter=100).fit(X)\n",
    "    comb_user_frame[\"clusters\"] = kmeans.labels_\n",
    "    inertia[i] = kmeans.inertia_"
   ]
  },
  {
   "cell_type": "code",
   "execution_count": 24,
   "id": "100537e5",
   "metadata": {},
   "outputs": [
    {
     "data": {
      "image/png": "[encoded data removed]",
      "text/plain": [
       "<Figure size 432x288 with 1 Axes>"
      ]
     },
     "metadata": {
      "needs_background": "light"
     },
     "output_type": "display_data"
    }
   ],
   "source": [
    "#plotting the kvalues vs inertia graph\n",
    "plt.plot(k_cluster_range, inertia, 'o-')\n",
    "plt.xlabel('Cluster Number')\n",
    "plt.ylabel('Inertia/SSE')\n",
    "plt.title('K-Values VS Intertia/SSE Graph', size=14)\n",
    "plt.show()\n",
    "#save the plot\n",
    "#plt.savefig('elbow_method.png')"
   ]
  },
  {
   "cell_type": "code",
   "execution_count": 25,
   "id": "620ebce8",
   "metadata": {},
   "outputs": [
    {
     "name": "stdout",
     "output_type": "stream",
     "text": [
      "Explained variance is 0.3351.\n"
     ]
    },
    {
     "data": {
      "image/png": "[encoded data removed]",
      "text/plain": [
       "<Figure size 1224x648 with 1 Axes>"
      ]
     },
     "metadata": {
      "needs_background": "light"
     },
     "output_type": "display_data"
    }
   ],
   "source": [
    "pca=PCA(n_components=2)\n",
    "X_2d=pca.fit_transform(X.todense())\n",
    "\n",
    "print('Explained variance is {}.'.format(round(pca.explained_variance_ratio_.sum(), 4)))\n",
    "\n",
    "df = pd.DataFrame(dict(x=X_2d[:,0], y=X_2d[:,1], label=comb_user_frame[\"clusters\"])) \n",
    "df_sample=df.sample(500)\n",
    "groups = df_sample.groupby('label')\n",
    "\n",
    "fig, ax = plt.subplots(figsize=(17, 9)) \n",
    "for cluster_name in np.arange(len(df_sample['label'].unique())):\n",
    "    temp=df_sample[df_sample['label']==cluster_name]\n",
    "    ax.plot(temp.x, temp.y, marker='o', linestyle='', ms=10, \n",
    "        label='Cluster '+str(cluster_name))\n",
    "ax.legend(numpoints=1) \n",
    "plt.title('Principle Component Analysis (PCA) Visualisation')\n",
    "plt.show()"
   ]
  },
  {
   "cell_type": "markdown",
   "id": "8361971c",
   "metadata": {},
   "source": [
    "## Collaborative Filtering"
   ]
  },
  {
   "cell_type": "code",
   "execution_count": 26,
   "id": "b0632955",
   "metadata": {},
   "outputs": [],
   "source": [
    "#Collaborative Filtering to make recommendations to Movie Watchers. \n",
    "#Collaborative Filtering is based on the idea that users similar to a me can be used to predict how much I will \n",
    "#like a particular product or service those users have used/experienced but I have not.\n",
    "#I will not be implementing Collaborative Filtering from scratch. Instead, I will use the Surprise library \n",
    "#that used extremely powerful algorithms like Singular Value Decomposition (SVD) to minimise RMSE (Root Mean Square Error)\n",
    "#and give great recommendations.\n",
    "#Implementation of SVD for surprise library is given on this link"
   ]
  },
  {
   "cell_type": "markdown",
   "id": "2ec9df55",
   "metadata": {},
   "source": [
    "Lower values of RMSE indicate better fit. RMSE is a good measure of how accurately the model predicts the response. It's the most important criterion for fit if the main purpose of the model is prediction.\n",
    "Based on a rule of thumb, it can be said that RMSE values between **0.2 and 0.5** shows that the model can relatively predict the data accurately.\n",
    "\n",
    "There is no correct value for MSE. Simply put, the lower the value the better and 0 means the model is perfect.\n",
    "\n",
    "MAE: A metric that tells us the **mean absolute difference** between the predicted values and the actual values in a dataset. The lower the MAE, the better a model fits a dataset."
   ]
  },
  {
   "cell_type": "markdown",
   "id": "c6b0b5f0",
   "metadata": {},
   "source": [
    "### Using Surprise and testing with different algorithms (SVD, KnnBasic, KnnBaseline, KnnWithMeans, KnnWithZScore) to find the best one to use based on MAE and RMAE scores. "
   ]
  },
  {
   "cell_type": "code",
   "execution_count": 27,
   "id": "1c87def2",
   "metadata": {},
   "outputs": [
    {
     "data": {
      "text/html": [
       "<div>\n",
       "<style scoped>\n",
       "    .dataframe tbody tr th:only-of-type {\n",
       "        vertical-align: middle;\n",
       "    }\n",
       "\n",
       "    .dataframe tbody tr th {\n",
       "        vertical-align: top;\n",
       "    }\n",
       "\n",
       "    .dataframe thead th {\n",
       "        text-align: right;\n",
       "    }\n",
       "</style>\n",
       "<table border=\"1\" class=\"dataframe\">\n",
       "  <thead>\n",
       "    <tr style=\"text-align: right;\">\n",
       "      <th></th>\n",
       "      <th>MAE</th>\n",
       "      <th>RMSE</th>\n",
       "      <th>Fit Time</th>\n",
       "      <th>Test Time</th>\n",
       "    </tr>\n",
       "  </thead>\n",
       "  <tbody>\n",
       "    <tr>\n",
       "      <th>matrix_factorization.SVD</th>\n",
       "      <td>1.122313</td>\n",
       "      <td>1.486714</td>\n",
       "      <td>0.035870</td>\n",
       "      <td>0.045012</td>\n",
       "    </tr>\n",
       "    <tr>\n",
       "      <th>knns.KNNWithMeans</th>\n",
       "      <td>1.291420</td>\n",
       "      <td>1.648116</td>\n",
       "      <td>0.002606</td>\n",
       "      <td>0.021491</td>\n",
       "    </tr>\n",
       "    <tr>\n",
       "      <th>knns.KNNBaseline</th>\n",
       "      <td>1.297644</td>\n",
       "      <td>1.654446</td>\n",
       "      <td>0.005007</td>\n",
       "      <td>0.067526</td>\n",
       "    </tr>\n",
       "    <tr>\n",
       "      <th>knns.KNNWithZScore</th>\n",
       "      <td>1.312072</td>\n",
       "      <td>1.678644</td>\n",
       "      <td>0.006025</td>\n",
       "      <td>0.030138</td>\n",
       "    </tr>\n",
       "    <tr>\n",
       "      <th>knns.KNNBasic</th>\n",
       "      <td>1.327783</td>\n",
       "      <td>1.680552</td>\n",
       "      <td>0.002173</td>\n",
       "      <td>0.057098</td>\n",
       "    </tr>\n",
       "  </tbody>\n",
       "</table>\n",
       "</div>"
      ],
      "text/plain": [
       "                                MAE      RMSE  Fit Time  Test Time\n",
       "matrix_factorization.SVD   1.122313  1.486714  0.035870   0.045012\n",
       "knns.KNNWithMeans          1.291420  1.648116  0.002606   0.021491\n",
       "knns.KNNBaseline           1.297644  1.654446  0.005007   0.067526\n",
       "knns.KNNWithZScore         1.312072  1.678644  0.006025   0.030138\n",
       "knns.KNNBasic              1.327783  1.680552  0.002173   0.057098"
      ]
     },
     "execution_count": 27,
     "metadata": {},
     "output_type": "execute_result"
    }
   ],
   "source": [
    "#using surprise\n",
    "reader = Reader(rating_scale=(0, 5))\n",
    "data = Dataset.load_from_df(ratings_df[['user_id','course_id','rating']], reader)\n",
    "\n",
    "#split into training and test sets using 80:20 ratio\n",
    "raw_ratings = data.raw_ratings\n",
    "random.shuffle(raw_ratings)                \n",
    "\n",
    "ratio = int(len(raw_ratings)*0.8)\n",
    "train_raw = raw_ratings[:ratio] \n",
    "test_raw = raw_ratings[ratio:] \n",
    "\n",
    "data.raw_ratings = train_raw       \n",
    "trainset = data.build_full_trainset() \n",
    "testset = data.construct_testset(test_raw)\n",
    "\n",
    "#create dict for different models \n",
    "models=[SVD(), KNNBasic(), KNNBaseline(), KNNWithMeans(), KNNWithZScore()] \n",
    "results = {} #to store the scores\n",
    "\n",
    "#perform cross validation of MAE and RMSE for all models\n",
    "for model in models:\n",
    "    #kfold set to 5\n",
    "    crossval_scores = cross_validate(model, data, measures=[\"MAE\",\"RMSE\"], cv=5, n_jobs=-1)  \n",
    "    \n",
    "    #saving and renaming appropraitely\n",
    "    result = pd.DataFrame.from_dict(crossval_scores).mean(axis=0).\\\n",
    "             rename({'test_mae':'MAE', 'test_rmse': 'RMSE', 'fit_time': 'Fit Time', 'test_time': 'Test Time'})\n",
    "    results[str(model).split(\"algorithms.\")[1].split(\"object \")[0]] = result\n",
    "    \n",
    "#printing all models results\n",
    "all_models = pd.DataFrame.from_dict(results)\n",
    "all_models.T.sort_values(by='RMSE') #models sorted by RMSE"
   ]
  },
  {
   "cell_type": "markdown",
   "id": "a618fbfc",
   "metadata": {},
   "source": [
    "####  Using the SVD model to generate collaborative filtering recommendations since it has the least MAE and RMSE results"
   ]
  },
  {
   "cell_type": "code",
   "execution_count": 28,
   "id": "89f1dedc",
   "metadata": {},
   "outputs": [],
   "source": [
    "def svd_cf_recommendations(user):\n",
    "    \n",
    "    ''' This function generates \"get_recommend\" number of book recommendations \n",
    "        using Singular value decomposition. The function needs as input two \n",
    "        different parameters:\n",
    "        (1) user i.e., user for which recommendations need to be generated \n",
    "        (2) get_recommend i.e., number of recommendations to generate for the user\n",
    "        Default values are: user=13552, get_recommend=10\n",
    "    '''\n",
    "    \n",
    "    #usisng the \"best\" parameters found using the gridsearchcv method from experiments notebook \n",
    "    model = SVD(n_factors = 90, n_epochs = 20, lr_all = 0.005, reg_all = 0.2)\n",
    "    model.fit(trainset)\n",
    "    \n",
    "    #building test set and predict the ratings\n",
    "    testset = trainset.build_anti_testset()\n",
    "    predictions = model.test(testset)\n",
    "    \n",
    "    #save into dataframe\n",
    "    rating_predictions = pd.DataFrame(predictions)\n",
    "    \n",
    "    #find the top 30 predictions for given user\n",
    "    user_predictions = rating_predictions[rating_predictions['uid'] == user].\\\n",
    "                         sort_values(by=\"est\", ascending = False).head(30)\n",
    "    \n",
    "    #create recommendations array and append user predictions as recommendations\n",
    "    recommendations = []\n",
    "    recommendations.append(list(user_predictions['iid']))\n",
    "    recommendations = recommendations[0]\n",
    "    \n",
    "    return(recommendations)"
   ]
  },
  {
   "cell_type": "code",
   "execution_count": 53,
   "id": "d070e1bd",
   "metadata": {},
   "outputs": [
    {
     "data": {
      "text/plain": [
       "[2200,\n",
       " 2110,\n",
       " 2279,\n",
       " 2155,\n",
       " 2230,\n",
       " 2402,\n",
       " 2277,\n",
       " 2114,\n",
       " 2202,\n",
       " 2274,\n",
       " 2088,\n",
       " 2246,\n",
       " 2403,\n",
       " 2097,\n",
       " 2145,\n",
       " 2026,\n",
       " 2122,\n",
       " 2299,\n",
       " 2212,\n",
       " 2293,\n",
       " 2224,\n",
       " 2377,\n",
       " 2314,\n",
       " 2352,\n",
       " 2339,\n",
       " 2162,\n",
       " 2347,\n",
       " 2033,\n",
       " 2015,\n",
       " 2095]"
      ]
     },
     "execution_count": 53,
     "metadata": {},
     "output_type": "execute_result"
    }
   ],
   "source": [
    "svd_cf_recommendations(1001)"
   ]
  },
  {
   "cell_type": "code",
   "execution_count": 57,
   "id": "ad2f0693",
   "metadata": {},
   "outputs": [
    {
     "data": {
      "text/plain": [
       "[]"
      ]
     },
     "execution_count": 57,
     "metadata": {},
     "output_type": "execute_result"
    }
   ],
   "source": [
    "svd_cf_recommendations(1200)"
   ]
  },
  {
   "cell_type": "markdown",
   "id": "c2af655b",
   "metadata": {},
   "source": [
    "## Content Based Filtering"
   ]
  },
  {
   "cell_type": "code",
   "execution_count": 30,
   "id": "106939c2",
   "metadata": {},
   "outputs": [],
   "source": [
    "#https://github.com/ry05/couReco/blob/master/recommender.py\n",
    "#https://github.com/jalajthanaki/Movie_recommendation_engine/blob/master/Movie_recommendation_engine.ipynb"
   ]
  },
  {
   "cell_type": "markdown",
   "id": "03562ce7",
   "metadata": {},
   "source": [
    "### User Dataset - Based on Career Objective and Key Skills"
   ]
  },
  {
   "cell_type": "code",
   "execution_count": 31,
   "id": "a3b75be0",
   "metadata": {},
   "outputs": [
    {
     "data": {
      "text/html": [
       "<div>\n",
       "<style scoped>\n",
       "    .dataframe tbody tr th:only-of-type {\n",
       "        vertical-align: middle;\n",
       "    }\n",
       "\n",
       "    .dataframe tbody tr th {\n",
       "        vertical-align: top;\n",
       "    }\n",
       "\n",
       "    .dataframe thead th {\n",
       "        text-align: right;\n",
       "    }\n",
       "</style>\n",
       "<table border=\"1\" class=\"dataframe\">\n",
       "  <thead>\n",
       "    <tr style=\"text-align: right;\">\n",
       "      <th></th>\n",
       "      <th>Unnamed: 0</th>\n",
       "      <th>userid</th>\n",
       "      <th>degree_1</th>\n",
       "      <th>degree_1_specializations</th>\n",
       "      <th>known_languages</th>\n",
       "      <th>key_skills</th>\n",
       "      <th>career_objective</th>\n",
       "      <th>key_skills_str</th>\n",
       "      <th>cluster</th>\n",
       "    </tr>\n",
       "  </thead>\n",
       "  <tbody>\n",
       "    <tr>\n",
       "      <th>0</th>\n",
       "      <td>0</td>\n",
       "      <td>1001</td>\n",
       "      <td>B.E.</td>\n",
       "      <td>Computer Science &amp; Engineering</td>\n",
       "      <td>['English', ' Marathi', ' Hindi']</td>\n",
       "      <td>['C', ' Java', ' Keras', ' Flask', ' Deep Lear...</td>\n",
       "      <td>Computer Engineering student with good technic...</td>\n",
       "      <td>C,  Java,  Keras,  Flask,  Deep Learning,  Sel...</td>\n",
       "      <td>8</td>\n",
       "    </tr>\n",
       "    <tr>\n",
       "      <th>1</th>\n",
       "      <td>1</td>\n",
       "      <td>1002</td>\n",
       "      <td>B.E.</td>\n",
       "      <td>Computer Science &amp; Engineering</td>\n",
       "      <td>['Hindi English']</td>\n",
       "      <td>['Java', ' Neural Networks', ' AI', ' Python',...</td>\n",
       "      <td>Interested in working under company offering A...</td>\n",
       "      <td>Java,  Neural Networks,  AI,  Python,  Html5, ...</td>\n",
       "      <td>9</td>\n",
       "    </tr>\n",
       "  </tbody>\n",
       "</table>\n",
       "</div>"
      ],
      "text/plain": [
       "  Unnamed: 0 userid degree_1        degree_1_specializations  \\\n",
       "0          0   1001     B.E.  Computer Science & Engineering   \n",
       "1          1   1002     B.E.  Computer Science & Engineering   \n",
       "\n",
       "                     known_languages  \\\n",
       "0  ['English', ' Marathi', ' Hindi']   \n",
       "1                  ['Hindi English']   \n",
       "\n",
       "                                          key_skills  \\\n",
       "0  ['C', ' Java', ' Keras', ' Flask', ' Deep Lear...   \n",
       "1  ['Java', ' Neural Networks', ' AI', ' Python',...   \n",
       "\n",
       "                                    career_objective  \\\n",
       "0  Computer Engineering student with good technic...   \n",
       "1  Interested in working under company offering A...   \n",
       "\n",
       "                                      key_skills_str  cluster  \n",
       "0  C,  Java,  Keras,  Flask,  Deep Learning,  Sel...        8  \n",
       "1  Java,  Neural Networks,  AI,  Python,  Html5, ...        9  "
      ]
     },
     "execution_count": 31,
     "metadata": {},
     "output_type": "execute_result"
    }
   ],
   "source": [
    "user_dataset.head(2)"
   ]
  },
  {
   "cell_type": "code",
   "execution_count": 39,
   "id": "24b0fe32",
   "metadata": {},
   "outputs": [
    {
     "data": {
      "text/html": [
       "<div>\n",
       "<style scoped>\n",
       "    .dataframe tbody tr th:only-of-type {\n",
       "        vertical-align: middle;\n",
       "    }\n",
       "\n",
       "    .dataframe tbody tr th {\n",
       "        vertical-align: top;\n",
       "    }\n",
       "\n",
       "    .dataframe thead th {\n",
       "        text-align: right;\n",
       "    }\n",
       "</style>\n",
       "<table border=\"1\" class=\"dataframe\">\n",
       "  <thead>\n",
       "    <tr style=\"text-align: right;\">\n",
       "      <th></th>\n",
       "      <th>userid</th>\n",
       "      <th>career_objective</th>\n",
       "      <th>key_skills_str</th>\n",
       "      <th>description</th>\n",
       "    </tr>\n",
       "  </thead>\n",
       "  <tbody>\n",
       "    <tr>\n",
       "      <th>0</th>\n",
       "      <td>1001</td>\n",
       "      <td>Computer Engineering student with good technic...</td>\n",
       "      <td>C,  Java,  Keras,  Flask,  Deep Learning,  Sel...</td>\n",
       "      <td>Computer Engineering student with good technic...</td>\n",
       "    </tr>\n",
       "    <tr>\n",
       "      <th>1</th>\n",
       "      <td>1002</td>\n",
       "      <td>Interested in working under company offering A...</td>\n",
       "      <td>Java,  Neural Networks,  AI,  Python,  Html5, ...</td>\n",
       "      <td>Interested in working under company offering A...</td>\n",
       "    </tr>\n",
       "    <tr>\n",
       "      <th>2</th>\n",
       "      <td>1003</td>\n",
       "      <td>Missing</td>\n",
       "      <td>Missing</td>\n",
       "      <td>MissingMissing</td>\n",
       "    </tr>\n",
       "    <tr>\n",
       "      <th>3</th>\n",
       "      <td>1004</td>\n",
       "      <td>Currently a final year student of Computer Eng...</td>\n",
       "      <td>XML,  C,  Java,  Data Structures,  Python,  Mo...</td>\n",
       "      <td>Currently a final year student of Computer Eng...</td>\n",
       "    </tr>\n",
       "    <tr>\n",
       "      <th>4</th>\n",
       "      <td>1005</td>\n",
       "      <td>To have a growth oriented and challenging care...</td>\n",
       "      <td>XML,  Word,  Data Structures,  Communication, ...</td>\n",
       "      <td>To have a growth oriented and challenging care...</td>\n",
       "    </tr>\n",
       "  </tbody>\n",
       "</table>\n",
       "</div>"
      ],
      "text/plain": [
       "  userid                                   career_objective  \\\n",
       "0   1001  Computer Engineering student with good technic...   \n",
       "1   1002  Interested in working under company offering A...   \n",
       "2   1003                                            Missing   \n",
       "3   1004  Currently a final year student of Computer Eng...   \n",
       "4   1005  To have a growth oriented and challenging care...   \n",
       "\n",
       "                                      key_skills_str  \\\n",
       "0  C,  Java,  Keras,  Flask,  Deep Learning,  Sel...   \n",
       "1  Java,  Neural Networks,  AI,  Python,  Html5, ...   \n",
       "2                                            Missing   \n",
       "3  XML,  C,  Java,  Data Structures,  Python,  Mo...   \n",
       "4  XML,  Word,  Data Structures,  Communication, ...   \n",
       "\n",
       "                                         description  \n",
       "0  Computer Engineering student with good technic...  \n",
       "1  Interested in working under company offering A...  \n",
       "2                                     MissingMissing  \n",
       "3  Currently a final year student of Computer Eng...  \n",
       "4  To have a growth oriented and challenging care...  "
      ]
     },
     "execution_count": 39,
     "metadata": {},
     "output_type": "execute_result"
    }
   ],
   "source": [
    "#creating a new dataset dataset using the career objetcive, key skills and their user id\n",
    "cf_user_dataset = pd.DataFrame()\n",
    "cf_user_dataset['userid'] = user_dataset['userid']\n",
    "cf_user_dataset['career_objective'] = user_dataset['career_objective']\n",
    "cf_user_dataset['key_skills_str'] = user_dataset['key_skills_str']\n",
    "cf_user_dataset.head(5)\n",
    "\n",
    "#store the career objective and key skills in description\n",
    "cf_user_dataset['description'] = cf_user_dataset['career_objective'] + cf_user_dataset['key_skills_str']\n",
    "cf_user_dataset.head(5)"
   ]
  },
  {
   "cell_type": "code",
   "execution_count": 40,
   "id": "1c01f732",
   "metadata": {},
   "outputs": [],
   "source": [
    "#vectorize using countvectorize that converts into a matrix of token counts\n",
    "user_count = CountVectorizer(stop_words='english', analyzer='word', ngram_range=(1, 2), min_df=0)\n",
    "user_count_matrix = user_count.fit_transform(cf_user_dataset['description'].values.astype('U'))\n",
    "\n",
    "#cosine similarity between the the matrix itself (normalized dot product of X and Y)\n",
    "user_cosine_sim = cosine_similarity(user_count_matrix, user_count_matrix)\n",
    "\n",
    "#create indices for the user is using series\n",
    "cf_user_dataset = cf_user_dataset.reset_index()\n",
    "user_ids = cf_user_dataset['userid']\n",
    "indices = pd.Series(cf_user_dataset.index, index=cf_user_dataset['userid'])\n",
    "\n",
    "\n",
    "#function to get content-filtered recommendations\n",
    "def get_user_cf_recommendations(user):\n",
    "    \n",
    "    #get index of user\n",
    "    user_id = indices[user]\n",
    "    \n",
    "    #find the most similar 30 users using cosine_sim and sorting with highest similarity\n",
    "    sim_scores = list(enumerate(user_cosine_sim[user_id]))\n",
    "    sim_scores = sorted(sim_scores, key=lambda x: x[1], reverse=True)\n",
    "    sim_scores = sim_scores[1:31]\n",
    "    user_indices = [i[0] for i in sim_scores]\n",
    "    \n",
    "    return user_ids.iloc[user_indices]"
   ]
  },
  {
   "cell_type": "code",
   "execution_count": 41,
   "id": "9f3d3ae0",
   "metadata": {},
   "outputs": [
    {
     "data": {
      "text/plain": [
       "894     1847\n",
       "996     1946\n",
       "93      1087\n",
       "256     1231\n",
       "201     1182\n",
       "180     1161\n",
       "91      1085\n",
       "464     1416\n",
       "981     1931\n",
       "165     1146\n",
       "457     1411\n",
       "376     1338\n",
       "868     1821\n",
       "970     1920\n",
       "1089    2039\n",
       "653     1606\n",
       "387     1349\n",
       "212     1189\n",
       "210     1187\n",
       "110     1102\n",
       "277     1252\n",
       "47      1045\n",
       "334     1304\n",
       "941     1891\n",
       "521     1473\n",
       "123     1115\n",
       "163     1144\n",
       "536     1488\n",
       "512     1464\n",
       "267     1242\n",
       "Name: userid, dtype: object"
      ]
     },
     "execution_count": 41,
     "metadata": {},
     "output_type": "execute_result"
    }
   ],
   "source": [
    "#getting the similar users recs for user 1001\n",
    "get_user_cf_recommendations(\"1001\")"
   ]
  },
  {
   "cell_type": "code",
   "execution_count": 48,
   "id": "8f0f70a5",
   "metadata": {},
   "outputs": [
    {
     "data": {
      "text/plain": [
       "996    1946\n",
       "0      1001\n",
       "93     1087\n",
       "981    1931\n",
       "110    1102\n",
       "256    1231\n",
       "180    1161\n",
       "91     1085\n",
       "165    1146\n",
       "201    1182\n",
       "Name: userid, dtype: object"
      ]
     },
     "execution_count": 48,
     "metadata": {},
     "output_type": "execute_result"
    }
   ],
   "source": [
    "get_user_cf_recommendations(\"1847\").head(10)"
   ]
  },
  {
   "cell_type": "markdown",
   "id": "ca99e61a",
   "metadata": {},
   "source": [
    "### Course Dataset - Based on Degree 1, Degree 1 Specialization and Key Skills"
   ]
  },
  {
   "cell_type": "code",
   "execution_count": 43,
   "id": "7519b572",
   "metadata": {},
   "outputs": [
    {
     "data": {
      "text/html": [
       "<div>\n",
       "<style scoped>\n",
       "    .dataframe tbody tr th:only-of-type {\n",
       "        vertical-align: middle;\n",
       "    }\n",
       "\n",
       "    .dataframe tbody tr th {\n",
       "        vertical-align: top;\n",
       "    }\n",
       "\n",
       "    .dataframe thead th {\n",
       "        text-align: right;\n",
       "    }\n",
       "</style>\n",
       "<table border=\"1\" class=\"dataframe\">\n",
       "  <thead>\n",
       "    <tr style=\"text-align: right;\">\n",
       "      <th></th>\n",
       "      <th>Unnamed: 0</th>\n",
       "      <th>sr_</th>\n",
       "      <th>degree_1</th>\n",
       "      <th>degree_1_specializations</th>\n",
       "      <th>campus</th>\n",
       "      <th>key_skills</th>\n",
       "      <th>key_skills_str</th>\n",
       "      <th>cluster</th>\n",
       "    </tr>\n",
       "  </thead>\n",
       "  <tbody>\n",
       "    <tr>\n",
       "      <th>0</th>\n",
       "      <td>0</td>\n",
       "      <td>1001</td>\n",
       "      <td>B.E.</td>\n",
       "      <td>Mechanical</td>\n",
       "      <td>MITCOE</td>\n",
       "      <td>['CATIA']</td>\n",
       "      <td>CATIA</td>\n",
       "      <td>16</td>\n",
       "    </tr>\n",
       "    <tr>\n",
       "      <th>1</th>\n",
       "      <td>1</td>\n",
       "      <td>1002</td>\n",
       "      <td>B.E.</td>\n",
       "      <td>Mechanical</td>\n",
       "      <td>MITCOE</td>\n",
       "      <td>['CATIA']</td>\n",
       "      <td>CATIA</td>\n",
       "      <td>16</td>\n",
       "    </tr>\n",
       "  </tbody>\n",
       "</table>\n",
       "</div>"
      ],
      "text/plain": [
       "   Unnamed: 0   sr_ degree_1 degree_1_specializations  campus key_skills  \\\n",
       "0           0  1001     B.E.               Mechanical  MITCOE  ['CATIA']   \n",
       "1           1  1002     B.E.               Mechanical  MITCOE  ['CATIA']   \n",
       "\n",
       "  key_skills_str  cluster  \n",
       "0          CATIA       16  \n",
       "1          CATIA       16  "
      ]
     },
     "execution_count": 43,
     "metadata": {},
     "output_type": "execute_result"
    }
   ],
   "source": [
    "course_dataset.head(2)"
   ]
  },
  {
   "cell_type": "code",
   "execution_count": 44,
   "id": "383851da",
   "metadata": {},
   "outputs": [
    {
     "data": {
      "text/html": [
       "<div>\n",
       "<style scoped>\n",
       "    .dataframe tbody tr th:only-of-type {\n",
       "        vertical-align: middle;\n",
       "    }\n",
       "\n",
       "    .dataframe tbody tr th {\n",
       "        vertical-align: top;\n",
       "    }\n",
       "\n",
       "    .dataframe thead th {\n",
       "        text-align: right;\n",
       "    }\n",
       "</style>\n",
       "<table border=\"1\" class=\"dataframe\">\n",
       "  <thead>\n",
       "    <tr style=\"text-align: right;\">\n",
       "      <th></th>\n",
       "      <th>sr_</th>\n",
       "      <th>degree_1</th>\n",
       "      <th>degree_1_specializations</th>\n",
       "      <th>key_skills_str</th>\n",
       "      <th>description</th>\n",
       "    </tr>\n",
       "  </thead>\n",
       "  <tbody>\n",
       "    <tr>\n",
       "      <th>0</th>\n",
       "      <td>1001</td>\n",
       "      <td>B.E.</td>\n",
       "      <td>Mechanical</td>\n",
       "      <td>CATIA</td>\n",
       "      <td>B.E.MechanicalCATIA</td>\n",
       "    </tr>\n",
       "    <tr>\n",
       "      <th>1</th>\n",
       "      <td>1002</td>\n",
       "      <td>B.E.</td>\n",
       "      <td>Mechanical</td>\n",
       "      <td>CATIA</td>\n",
       "      <td>B.E.MechanicalCATIA</td>\n",
       "    </tr>\n",
       "    <tr>\n",
       "      <th>2</th>\n",
       "      <td>1003</td>\n",
       "      <td>B.E.</td>\n",
       "      <td>Mechanical</td>\n",
       "      <td>CATIA</td>\n",
       "      <td>B.E.MechanicalCATIA</td>\n",
       "    </tr>\n",
       "    <tr>\n",
       "      <th>3</th>\n",
       "      <td>1004</td>\n",
       "      <td>B.E.</td>\n",
       "      <td>Mechanical</td>\n",
       "      <td>CATIA</td>\n",
       "      <td>B.E.MechanicalCATIA</td>\n",
       "    </tr>\n",
       "    <tr>\n",
       "      <th>4</th>\n",
       "      <td>1005</td>\n",
       "      <td>B.E.</td>\n",
       "      <td>Mechanical</td>\n",
       "      <td>CATIA</td>\n",
       "      <td>B.E.MechanicalCATIA</td>\n",
       "    </tr>\n",
       "  </tbody>\n",
       "</table>\n",
       "</div>"
      ],
      "text/plain": [
       "    sr_ degree_1 degree_1_specializations key_skills_str          description\n",
       "0  1001     B.E.               Mechanical          CATIA  B.E.MechanicalCATIA\n",
       "1  1002     B.E.               Mechanical          CATIA  B.E.MechanicalCATIA\n",
       "2  1003     B.E.               Mechanical          CATIA  B.E.MechanicalCATIA\n",
       "3  1004     B.E.               Mechanical          CATIA  B.E.MechanicalCATIA\n",
       "4  1005     B.E.               Mechanical          CATIA  B.E.MechanicalCATIA"
      ]
     },
     "execution_count": 44,
     "metadata": {},
     "output_type": "execute_result"
    }
   ],
   "source": [
    "#creating a new dataset dataset using the degree1, degree1specializations and key skills and the course id\n",
    "cf_course_dataset = pd.DataFrame()\n",
    "cf_course_dataset['sr_'] = course_dataset['sr_']\n",
    "cf_course_dataset['degree_1'] = course_dataset['degree_1']\n",
    "cf_course_dataset['degree_1_specializations'] = course_dataset['degree_1_specializations']\n",
    "cf_course_dataset['key_skills_str'] = course_dataset['key_skills_str']\n",
    "cf_course_dataset.head(5)\n",
    "\n",
    "#store the career objective and key skills in description\n",
    "cf_course_dataset['description'] = cf_course_dataset['degree_1'] + cf_course_dataset['degree_1_specializations'] + cf_course_dataset['key_skills_str']\n",
    "cf_course_dataset.head(5)"
   ]
  },
  {
   "cell_type": "code",
   "execution_count": 49,
   "id": "5c0d3cde",
   "metadata": {},
   "outputs": [],
   "source": [
    "#vectorize using countvectorize that converts into a matrix of token counts\n",
    "course_count = CountVectorizer(stop_words='english', analyzer='word', ngram_range=(1, 2), min_df=0)\n",
    "course_count_matrix = course_count.fit_transform(cf_course_dataset['description'].values.astype('U'))\n",
    "\n",
    "#cosine similarity between the the matrix itself (normalized dot product of X and Y)\n",
    "course_cosine_sim = cosine_similarity(course_count_matrix, course_count_matrix)\n",
    "\n",
    "#create indices for the courses is using series\n",
    "cf_course_dataset = cf_course_dataset.reset_index()\n",
    "courses = cf_course_dataset['sr_']\n",
    "indices = pd.Series(cf_course_dataset.index, index=cf_course_dataset['sr_'])\n",
    "\n",
    "#function to get content-filtered recommendations\n",
    "def get_course_cf_recommendations(course): \n",
    "    \n",
    "    #get index of course\n",
    "    course_id = indices[course]\n",
    "    \n",
    "    #find the most similar 30 courses using cosine_sim and sorting with highest similarity\n",
    "    sim_scores = list(enumerate(course_cosine_sim[course_id]))\n",
    "    sim_scores = sorted(sim_scores, key=lambda x: x[1], reverse=True)\n",
    "    sim_scores = sim_scores[1:31]\n",
    "    course_indices = [i[0] for i in sim_scores]\n",
    "    \n",
    "    return courses.iloc[course_indices]"
   ]
  },
  {
   "cell_type": "code",
   "execution_count": 50,
   "id": "0b54938b",
   "metadata": {},
   "outputs": [
    {
     "data": {
      "text/plain": [
       "1     1002\n",
       "2     1003\n",
       "3     1004\n",
       "4     1005\n",
       "5     1006\n",
       "6     1007\n",
       "7     1008\n",
       "8     1009\n",
       "9     1010\n",
       "10    1011\n",
       "Name: sr_, dtype: int64"
      ]
     },
     "execution_count": 50,
     "metadata": {},
     "output_type": "execute_result"
    }
   ],
   "source": [
    "#getting the similar course recs for course 1001\n",
    "get_course_cf_recommendations(1001).head(10)"
   ]
  },
  {
   "cell_type": "code",
   "execution_count": 51,
   "id": "956afbba",
   "metadata": {},
   "outputs": [
    {
     "data": {
      "text/plain": [
       "1     1002\n",
       "2     1003\n",
       "3     1004\n",
       "4     1005\n",
       "5     1006\n",
       "6     1007\n",
       "7     1008\n",
       "8     1009\n",
       "9     1010\n",
       "10    1011\n",
       "Name: sr_, dtype: int64"
      ]
     },
     "execution_count": 51,
     "metadata": {},
     "output_type": "execute_result"
    }
   ],
   "source": [
    "get_course_cf_recommendations(1003).head(10)"
   ]
  },
  {
   "cell_type": "markdown",
   "id": "7fdea148",
   "metadata": {},
   "source": [
    "## The Hybrid Recommender "
   ]
  },
  {
   "cell_type": "markdown",
   "id": "0c56f592",
   "metadata": {},
   "source": [
    "This recommender will take as input the user and output a number of course recommendations for the user using a hybrid approach. The Collaborative Filtering model will be SVD and the Content Filtering is done using a CountVectorizer and similarity matrix.\n",
    "\n",
    "To get the recommendations, courses that have been previously taken and considered completed by the user will be removed from the recommendations list.\n",
    "\n",
    "Furthermore, the predictor will be developed after this is complete. \n",
    "\n",
    "Finally, the cluster technique might not be used since collaborative filtering was implemented using surprise"
   ]
  },
  {
   "cell_type": "code",
   "execution_count": null,
   "id": "29bd89df",
   "metadata": {},
   "outputs": [],
   "source": [
    "#https://github.com/jalajthanaki/Movie_recommendation_engine/blob/master/Movie_recommendation_engine.ipynb"
   ]
  },
  {
   "cell_type": "code",
   "execution_count": null,
   "id": "5f25685f",
   "metadata": {},
   "outputs": [],
   "source": []
  },
  {
   "cell_type": "code",
   "execution_count": null,
   "id": "994a66ab",
   "metadata": {},
   "outputs": [],
   "source": []
  },
  {
   "cell_type": "code",
   "execution_count": null,
   "id": "c6c05d0a",
   "metadata": {},
   "outputs": [],
   "source": []
  },
  {
   "cell_type": "code",
   "execution_count": null,
   "id": "c68e1b65",
   "metadata": {},
   "outputs": [],
   "source": []
  },
  {
   "cell_type": "code",
   "execution_count": null,
   "id": "48799e88",
   "metadata": {},
   "outputs": [],
   "source": []
  },
  {
   "cell_type": "code",
   "execution_count": null,
   "id": "c7f6ffaa",
   "metadata": {},
   "outputs": [],
   "source": []
  },
  {
   "cell_type": "code",
   "execution_count": null,
   "id": "b88b621f",
   "metadata": {},
   "outputs": [],
   "source": []
  },
  {
   "cell_type": "code",
   "execution_count": null,
   "id": "17996f48",
   "metadata": {},
   "outputs": [],
   "source": []
  },
  {
   "cell_type": "code",
   "execution_count": null,
   "id": "c39fae0c",
   "metadata": {},
   "outputs": [],
   "source": []
  },
  {
   "cell_type": "markdown",
   "id": "d360252c",
   "metadata": {},
   "source": [
    "## Recommender"
   ]
  },
  {
   "cell_type": "code",
   "execution_count": null,
   "id": "f925f0dd",
   "metadata": {},
   "outputs": [],
   "source": [
    "#https://github.com/rochitasundar/Collaborative-Filtering-Book-Recommendation-System/blob/master/Book%20Recommendation%20Project.ipynb\n",
    "#where i got the collab-filter\n",
    "\n",
    "#https://github.com/SebastianRokholt/Hybrid-Recommender-System/blob/main/analysis-and-modelling.ipynb\n",
    "#hybrid recommender\n",
    "\n"
   ]
  }
 ],
 "metadata": {
  "kernelspec": {
   "display_name": "Python 3 (ipykernel)",
   "language": "python",
   "name": "python3"
  },
  "language_info": {
   "codemirror_mode": {
    "name": "ipython",
    "version": 3
   },
   "file_extension": ".py",
   "mimetype": "text/x-python",
   "name": "python",
   "nbconvert_exporter": "python",
   "pygments_lexer": "ipython3",
   "version": "3.9.7"
  }
 },
 "nbformat": 4,
 "nbformat_minor": 5
}
