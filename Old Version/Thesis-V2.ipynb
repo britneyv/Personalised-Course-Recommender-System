{
 "cells": [
  {
   "cell_type": "code",
   "execution_count": 1,
   "id": "e2eb375e",
   "metadata": {},
   "outputs": [],
   "source": [
    "import pandas as pd"
   ]
  },
  {
   "cell_type": "markdown",
   "id": "8ac6ce2b",
   "metadata": {},
   "source": [
    "## Processing & Filering the Dataset"
   ]
  },
  {
   "cell_type": "markdown",
   "id": "d4995c22",
   "metadata": {},
   "source": [
    "### Course Dataset "
   ]
  },
  {
   "cell_type": "code",
   "execution_count": 2,
   "id": "f895a121",
   "metadata": {},
   "outputs": [
    {
     "name": "stdout",
     "output_type": "stream",
     "text": [
      "(6410, 6)\n"
     ]
    },
    {
     "data": {
      "text/html": [
       "<div>\n",
       "<style scoped>\n",
       "    .dataframe tbody tr th:only-of-type {\n",
       "        vertical-align: middle;\n",
       "    }\n",
       "\n",
       "    .dataframe tbody tr th {\n",
       "        vertical-align: top;\n",
       "    }\n",
       "\n",
       "    .dataframe thead th {\n",
       "        text-align: right;\n",
       "    }\n",
       "</style>\n",
       "<table border=\"1\" class=\"dataframe\">\n",
       "  <thead>\n",
       "    <tr style=\"text-align: right;\">\n",
       "      <th></th>\n",
       "      <th>id</th>\n",
       "      <th>course_id</th>\n",
       "      <th>start</th>\n",
       "      <th>end</th>\n",
       "      <th>course_type</th>\n",
       "      <th>category</th>\n",
       "    </tr>\n",
       "  </thead>\n",
       "  <tbody>\n",
       "    <tr>\n",
       "      <th>0</th>\n",
       "      <td>6561</td>\n",
       "      <td>course-v1:CPVS+CPVS-HDLSC001+20160901</td>\n",
       "      <td>2016-11-16 08:00:00</td>\n",
       "      <td>2016-12-31 23:30:00</td>\n",
       "      <td>0</td>\n",
       "      <td>NaN</td>\n",
       "    </tr>\n",
       "    <tr>\n",
       "      <th>1</th>\n",
       "      <td>5557</td>\n",
       "      <td>course-v1:SCUT+144282+201709</td>\n",
       "      <td>2016-09-01 00:00:00</td>\n",
       "      <td>2017-02-28 00:00:00</td>\n",
       "      <td>0</td>\n",
       "      <td>NaN</td>\n",
       "    </tr>\n",
       "    <tr>\n",
       "      <th>2</th>\n",
       "      <td>9433</td>\n",
       "      <td>course-v1:ZK+06093+J</td>\n",
       "      <td>2018-01-01 08:00:00</td>\n",
       "      <td>2020-01-01 00:00:00</td>\n",
       "      <td>0</td>\n",
       "      <td>NaN</td>\n",
       "    </tr>\n",
       "    <tr>\n",
       "      <th>3</th>\n",
       "      <td>8320</td>\n",
       "      <td>course-v1:nuist+001+2016-T1</td>\n",
       "      <td>2017-03-01 18:30:00</td>\n",
       "      <td>2017-07-01 23:30:00</td>\n",
       "      <td>0</td>\n",
       "      <td>NaN</td>\n",
       "    </tr>\n",
       "    <tr>\n",
       "      <th>4</th>\n",
       "      <td>231</td>\n",
       "      <td>FUDAN/CFD004/2014.9-2015.1</td>\n",
       "      <td>2014-09-10 08:00:00</td>\n",
       "      <td>2015-09-10 00:00:00</td>\n",
       "      <td>0</td>\n",
       "      <td>NaN</td>\n",
       "    </tr>\n",
       "  </tbody>\n",
       "</table>\n",
       "</div>"
      ],
      "text/plain": [
       "     id                              course_id                start  \\\n",
       "0  6561  course-v1:CPVS+CPVS-HDLSC001+20160901  2016-11-16 08:00:00   \n",
       "1  5557           course-v1:SCUT+144282+201709  2016-09-01 00:00:00   \n",
       "2  9433                   course-v1:ZK+06093+J  2018-01-01 08:00:00   \n",
       "3  8320            course-v1:nuist+001+2016-T1  2017-03-01 18:30:00   \n",
       "4   231             FUDAN/CFD004/2014.9-2015.1  2014-09-10 08:00:00   \n",
       "\n",
       "                   end  course_type category  \n",
       "0  2016-12-31 23:30:00            0      NaN  \n",
       "1  2017-02-28 00:00:00            0      NaN  \n",
       "2  2020-01-01 00:00:00            0      NaN  \n",
       "3  2017-07-01 23:30:00            0      NaN  \n",
       "4  2015-09-10 00:00:00            0      NaN  "
      ]
     },
     "execution_count": 2,
     "metadata": {},
     "output_type": "execute_result"
    }
   ],
   "source": [
    "course_dataset = pd.read_csv(\"course_info.csv\")\n",
    "print(course_dataset.shape) #dataset contains 6410 courses with 6 columns each\n",
    "course_dataset.head()"
   ]
  },
  {
   "cell_type": "code",
   "execution_count": 3,
   "id": "383531d9",
   "metadata": {},
   "outputs": [
    {
     "data": {
      "text/plain": [
       "id                0\n",
       "course_id         0\n",
       "start             0\n",
       "end             533\n",
       "course_type       0\n",
       "category       4956\n",
       "dtype: int64"
      ]
     },
     "execution_count": 3,
     "metadata": {},
     "output_type": "execute_result"
    }
   ],
   "source": [
    "#check for null values \n",
    "course_dataset.isnull().sum() #there are some missing values in the end and category columns"
   ]
  },
  {
   "cell_type": "markdown",
   "id": "5e28ec66",
   "metadata": {},
   "source": [
    "### Analysing the dataset"
   ]
  },
  {
   "cell_type": "markdown",
   "id": "bac376ec",
   "metadata": {},
   "source": [
    "course_info has 6 columns names id, course_id, start, end, course_type and category.\n",
    "\n",
    "**id**: the id number of the course\n",
    "\n",
    "**course_id**: the id string\n",
    "\n",
    "**start**: course start time\n",
    "\n",
    "**end**: course end time\n",
    "\n",
    "**course_type**: course mode (0: instructor-paced course, 1: self-paced course)\n",
    "\n",
    "**category**: the category of course."
   ]
  },
  {
   "cell_type": "code",
   "execution_count": 7,
   "id": "e09604a0",
   "metadata": {},
   "outputs": [
    {
     "data": {
      "text/plain": [
       "0    5877\n",
       "1     533\n",
       "Name: course_type, dtype: int64"
      ]
     },
     "execution_count": 7,
     "metadata": {},
     "output_type": "execute_result"
    }
   ],
   "source": [
    "course_dataset[\"course_type\"].value_counts() #5877 courses are instructor paced and 533 are self-paced"
   ]
  },
  {
   "cell_type": "code",
   "execution_count": 8,
   "id": "5e07d153",
   "metadata": {},
   "outputs": [
    {
     "data": {
      "text/plain": [
       "computer            173\n",
       "economics           161\n",
       "engineering         112\n",
       "art                  95\n",
       "foreign language     89\n",
       "business             88\n",
       "social science       86\n",
       "history              84\n",
       "math                 82\n",
       "philosophy           80\n",
       "literature           80\n",
       "physics              72\n",
       "biology              55\n",
       "education            54\n",
       "medicine             52\n",
       "electrical           46\n",
       "environment          24\n",
       "chemistry            21\n",
       "Name: category, dtype: int64"
      ]
     },
     "execution_count": 8,
     "metadata": {},
     "output_type": "execute_result"
    }
   ],
   "source": [
    "course_dataset[\"category\"].value_counts()"
   ]
  },
  {
   "cell_type": "code",
   "execution_count": 6,
   "id": "e4256251",
   "metadata": {},
   "outputs": [
    {
     "data": {
      "text/plain": [
       "0              NaN\n",
       "1              NaN\n",
       "2              NaN\n",
       "3              NaN\n",
       "4              NaN\n",
       "           ...    \n",
       "6405           NaN\n",
       "6406           NaN\n",
       "6407           NaN\n",
       "6408    philosophy\n",
       "6409           NaN\n",
       "Name: category, Length: 6410, dtype: object"
      ]
     },
     "execution_count": 6,
     "metadata": {},
     "output_type": "execute_result"
    }
   ],
   "source": [
    "course_dataset[\"category\"]"
   ]
  },
  {
   "cell_type": "markdown",
   "id": "09312ca5",
   "metadata": {},
   "source": [
    "### User Dataset"
   ]
  },
  {
   "cell_type": "code",
   "execution_count": 9,
   "id": "e636e35a",
   "metadata": {},
   "outputs": [
    {
     "name": "stdout",
     "output_type": "stream",
     "text": [
      "(9627148, 4)\n"
     ]
    },
    {
     "data": {
      "text/html": [
       "<div>\n",
       "<style scoped>\n",
       "    .dataframe tbody tr th:only-of-type {\n",
       "        vertical-align: middle;\n",
       "    }\n",
       "\n",
       "    .dataframe tbody tr th {\n",
       "        vertical-align: top;\n",
       "    }\n",
       "\n",
       "    .dataframe thead th {\n",
       "        text-align: right;\n",
       "    }\n",
       "</style>\n",
       "<table border=\"1\" class=\"dataframe\">\n",
       "  <thead>\n",
       "    <tr style=\"text-align: right;\">\n",
       "      <th></th>\n",
       "      <th>user_id</th>\n",
       "      <th>gender</th>\n",
       "      <th>education</th>\n",
       "      <th>birth</th>\n",
       "    </tr>\n",
       "  </thead>\n",
       "  <tbody>\n",
       "    <tr>\n",
       "      <th>0</th>\n",
       "      <td>631</td>\n",
       "      <td>male</td>\n",
       "      <td>High</td>\n",
       "      <td>1997.0</td>\n",
       "    </tr>\n",
       "    <tr>\n",
       "      <th>1</th>\n",
       "      <td>2631</td>\n",
       "      <td>male</td>\n",
       "      <td>Bachelor's</td>\n",
       "      <td>1990.0</td>\n",
       "    </tr>\n",
       "    <tr>\n",
       "      <th>2</th>\n",
       "      <td>4231</td>\n",
       "      <td>male</td>\n",
       "      <td>Associate</td>\n",
       "      <td>1991.0</td>\n",
       "    </tr>\n",
       "    <tr>\n",
       "      <th>3</th>\n",
       "      <td>6031</td>\n",
       "      <td>male</td>\n",
       "      <td>Bachelor's</td>\n",
       "      <td>1988.0</td>\n",
       "    </tr>\n",
       "    <tr>\n",
       "      <th>4</th>\n",
       "      <td>7831</td>\n",
       "      <td>NaN</td>\n",
       "      <td>NaN</td>\n",
       "      <td>NaN</td>\n",
       "    </tr>\n",
       "  </tbody>\n",
       "</table>\n",
       "</div>"
      ],
      "text/plain": [
       "   user_id gender   education   birth\n",
       "0      631   male        High  1997.0\n",
       "1     2631   male  Bachelor's  1990.0\n",
       "2     4231   male   Associate  1991.0\n",
       "3     6031   male  Bachelor's  1988.0\n",
       "4     7831    NaN         NaN     NaN"
      ]
     },
     "execution_count": 9,
     "metadata": {},
     "output_type": "execute_result"
    }
   ],
   "source": [
    "user_dataset = pd.read_csv(\"user_info.csv\")\n",
    "print(user_dataset.shape) #dataset contains 9627148 users with 4 columns each\n",
    "user_dataset.head()"
   ]
  },
  {
   "cell_type": "code",
   "execution_count": 10,
   "id": "9f1f51eb",
   "metadata": {},
   "outputs": [
    {
     "data": {
      "text/plain": [
       "user_id            0\n",
       "gender       8420796\n",
       "education    9298955\n",
       "birth        9145726\n",
       "dtype: int64"
      ]
     },
     "execution_count": 10,
     "metadata": {},
     "output_type": "execute_result"
    }
   ],
   "source": [
    "#check for null values \n",
    "user_dataset.isnull().sum() #there are missing values in the gender, education and birth columns"
   ]
  },
  {
   "cell_type": "markdown",
   "id": "cc846e9d",
   "metadata": {},
   "source": [
    "### Analysing the dataset"
   ]
  },
  {
   "cell_type": "markdown",
   "id": "68ef86c2",
   "metadata": {},
   "source": [
    "user_info has 4 columns names usesr_id, gender, education and birth date.\n",
    "\n",
    "**user_id**: the id of user\n",
    "\n",
    "**gender**:the gender of user\n",
    "\n",
    "**education**: user's education level\n",
    "\n",
    "**birth**: user's birth year"
   ]
  },
  {
   "cell_type": "code",
   "execution_count": 12,
   "id": "aaf09d65",
   "metadata": {},
   "outputs": [
    {
     "data": {
      "text/plain": [
       "male      669707\n",
       "female    536645\n",
       "Name: gender, dtype: int64"
      ]
     },
     "execution_count": 12,
     "metadata": {},
     "output_type": "execute_result"
    }
   ],
   "source": [
    "user_dataset[\"gender\"].value_counts()"
   ]
  },
  {
   "cell_type": "code",
   "execution_count": 13,
   "id": "d908a514",
   "metadata": {},
   "outputs": [
    {
     "data": {
      "text/plain": [
       "Bachelor's    172616\n",
       "Master's       53988\n",
       "High           48637\n",
       "Associate      36955\n",
       "Doctorate       8252\n",
       "Middle          6308\n",
       "Primary         1437\n",
       "Name: education, dtype: int64"
      ]
     },
     "execution_count": 13,
     "metadata": {},
     "output_type": "execute_result"
    }
   ],
   "source": [
    "user_dataset[\"education\"].value_counts()"
   ]
  },
  {
   "cell_type": "markdown",
   "id": "868b239e",
   "metadata": {},
   "source": [
    "### Data Pre-Processing"
   ]
  },
  {
   "cell_type": "code",
   "execution_count": null,
   "id": "583cdbb7",
   "metadata": {},
   "outputs": [],
   "source": [
    "#check this\n",
    "#https://github.com/ry05/couReco/blob/master/data_preparation.py"
   ]
  },
  {
   "cell_type": "code",
   "execution_count": null,
   "id": "43c1360a",
   "metadata": {},
   "outputs": [],
   "source": [
    "#maybe the coursera data set would be more suitable than the course from this one? I think it could work. "
   ]
  },
  {
   "cell_type": "code",
   "execution_count": null,
   "id": "902d6cad",
   "metadata": {},
   "outputs": [],
   "source": []
  },
  {
   "cell_type": "code",
   "execution_count": null,
   "id": "3b4862da",
   "metadata": {},
   "outputs": [],
   "source": []
  }
 ],
 "metadata": {
  "kernelspec": {
   "display_name": "Python 3 (ipykernel)",
   "language": "python",
   "name": "python3"
  },
  "language_info": {
   "codemirror_mode": {
    "name": "ipython",
    "version": 3
   },
   "file_extension": ".py",
   "mimetype": "text/x-python",
   "name": "python",
   "nbconvert_exporter": "python",
   "pygments_lexer": "ipython3",
   "version": "3.9.7"
  }
 },
 "nbformat": 4,
 "nbformat_minor": 5
}
