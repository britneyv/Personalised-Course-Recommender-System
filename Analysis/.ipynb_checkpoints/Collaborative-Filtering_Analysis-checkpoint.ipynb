{
 "cells": [
  {
   "cell_type": "code",
   "execution_count": 1,
   "id": "e2eb375e",
   "metadata": {},
   "outputs": [],
   "source": [
    "import pandas as pd\n",
    "import warnings\n",
    "warnings.filterwarnings(\"ignore\")\n",
    "import numpy as np\n",
    "from surprise import accuracy\n",
    "from surprise.model_selection.validation import cross_validate\n",
    "from surprise.dataset import Dataset\n",
    "from surprise.reader import Reader\n",
    "from surprise import SVD, KNNBasic, KNNWithMeans, KNNWithZScore, KNNBaseline\n",
    "from surprise.model_selection import train_test_split, GridSearchCV\n",
    "import random"
   ]
  },
  {
   "cell_type": "markdown",
   "id": "8ac6ce2b",
   "metadata": {},
   "source": [
    "### Calling the Saved Dataset"
   ]
  },
  {
   "cell_type": "code",
   "execution_count": 2,
   "id": "0e51ebb2",
   "metadata": {},
   "outputs": [
    {
     "data": {
      "text/html": [
       "<div>\n",
       "<style scoped>\n",
       "    .dataframe tbody tr th:only-of-type {\n",
       "        vertical-align: middle;\n",
       "    }\n",
       "\n",
       "    .dataframe tbody tr th {\n",
       "        vertical-align: top;\n",
       "    }\n",
       "\n",
       "    .dataframe thead th {\n",
       "        text-align: right;\n",
       "    }\n",
       "</style>\n",
       "<table border=\"1\" class=\"dataframe\">\n",
       "  <thead>\n",
       "    <tr style=\"text-align: right;\">\n",
       "      <th></th>\n",
       "      <th>sr_</th>\n",
       "      <th>degree_1</th>\n",
       "      <th>degree_1_specializations</th>\n",
       "      <th>campus</th>\n",
       "      <th>key_skills</th>\n",
       "      <th>key_skills_str</th>\n",
       "    </tr>\n",
       "  </thead>\n",
       "  <tbody>\n",
       "    <tr>\n",
       "      <th>0</th>\n",
       "      <td>1001</td>\n",
       "      <td>B.E.</td>\n",
       "      <td>Mechanical</td>\n",
       "      <td>MITCOE</td>\n",
       "      <td>['CATIA']</td>\n",
       "      <td>CATIA</td>\n",
       "    </tr>\n",
       "    <tr>\n",
       "      <th>1</th>\n",
       "      <td>1002</td>\n",
       "      <td>B.E.</td>\n",
       "      <td>Mechanical</td>\n",
       "      <td>MITCOE</td>\n",
       "      <td>['CATIA']</td>\n",
       "      <td>CATIA</td>\n",
       "    </tr>\n",
       "    <tr>\n",
       "      <th>2</th>\n",
       "      <td>1003</td>\n",
       "      <td>B.E.</td>\n",
       "      <td>Mechanical</td>\n",
       "      <td>MITAOE</td>\n",
       "      <td>['CATIA']</td>\n",
       "      <td>CATIA</td>\n",
       "    </tr>\n",
       "    <tr>\n",
       "      <th>3</th>\n",
       "      <td>1004</td>\n",
       "      <td>B.E.</td>\n",
       "      <td>Mechanical</td>\n",
       "      <td>MITCOE</td>\n",
       "      <td>['CATIA']</td>\n",
       "      <td>CATIA</td>\n",
       "    </tr>\n",
       "    <tr>\n",
       "      <th>4</th>\n",
       "      <td>1005</td>\n",
       "      <td>B.E.</td>\n",
       "      <td>Mechanical</td>\n",
       "      <td>MITCOE</td>\n",
       "      <td>['CATIA']</td>\n",
       "      <td>CATIA</td>\n",
       "    </tr>\n",
       "  </tbody>\n",
       "</table>\n",
       "</div>"
      ],
      "text/plain": [
       "    sr_ degree_1 degree_1_specializations  campus key_skills key_skills_str\n",
       "0  1001     B.E.               Mechanical  MITCOE  ['CATIA']          CATIA\n",
       "1  1002     B.E.               Mechanical  MITCOE  ['CATIA']          CATIA\n",
       "2  1003     B.E.               Mechanical  MITAOE  ['CATIA']          CATIA\n",
       "3  1004     B.E.               Mechanical  MITCOE  ['CATIA']          CATIA\n",
       "4  1005     B.E.               Mechanical  MITCOE  ['CATIA']          CATIA"
      ]
     },
     "execution_count": 2,
     "metadata": {},
     "output_type": "execute_result"
    }
   ],
   "source": [
    "course_dataset = pd.read_csv(\"../data/courseData.csv\", encoding= 'unicode_escape')\n",
    "course_dataset.head()"
   ]
  },
  {
   "cell_type": "code",
   "execution_count": 3,
   "id": "30951d8d",
   "metadata": {},
   "outputs": [
    {
     "data": {
      "text/html": [
       "<div>\n",
       "<style scoped>\n",
       "    .dataframe tbody tr th:only-of-type {\n",
       "        vertical-align: middle;\n",
       "    }\n",
       "\n",
       "    .dataframe tbody tr th {\n",
       "        vertical-align: top;\n",
       "    }\n",
       "\n",
       "    .dataframe thead th {\n",
       "        text-align: right;\n",
       "    }\n",
       "</style>\n",
       "<table border=\"1\" class=\"dataframe\">\n",
       "  <thead>\n",
       "    <tr style=\"text-align: right;\">\n",
       "      <th></th>\n",
       "      <th>userid</th>\n",
       "      <th>degree_1</th>\n",
       "      <th>degree_1_specializations</th>\n",
       "      <th>known_languages</th>\n",
       "      <th>key_skills</th>\n",
       "      <th>career_objective</th>\n",
       "      <th>key_skills_str</th>\n",
       "    </tr>\n",
       "  </thead>\n",
       "  <tbody>\n",
       "    <tr>\n",
       "      <th>0</th>\n",
       "      <td>1001</td>\n",
       "      <td>B.E.</td>\n",
       "      <td>Computer Science &amp; Engineering</td>\n",
       "      <td>['English', ' Marathi', ' Hindi']</td>\n",
       "      <td>['C', ' Java', ' Keras', ' Flask', ' Deep Lear...</td>\n",
       "      <td>Computer Engineering student with good technic...</td>\n",
       "      <td>C,  Java,  Keras,  Flask,  Deep Learning,  Sel...</td>\n",
       "    </tr>\n",
       "    <tr>\n",
       "      <th>1</th>\n",
       "      <td>1002</td>\n",
       "      <td>B.E.</td>\n",
       "      <td>Computer Science &amp; Engineering</td>\n",
       "      <td>['Hindi English']</td>\n",
       "      <td>['Java', ' Neural Networks', ' AI', ' Python',...</td>\n",
       "      <td>Interested in working under company offering A...</td>\n",
       "      <td>Java,  Neural Networks,  AI,  Python,  Html5, ...</td>\n",
       "    </tr>\n",
       "    <tr>\n",
       "      <th>2</th>\n",
       "      <td>1003</td>\n",
       "      <td>B.E.</td>\n",
       "      <td>Computer Science &amp; Engineering</td>\n",
       "      <td>['Missing']</td>\n",
       "      <td>['Missing']</td>\n",
       "      <td>Missing</td>\n",
       "      <td>Missing</td>\n",
       "    </tr>\n",
       "    <tr>\n",
       "      <th>3</th>\n",
       "      <td>1004</td>\n",
       "      <td>B.E.</td>\n",
       "      <td>Computer Science &amp; Engineering</td>\n",
       "      <td>['English', ' Hindi', ' Marathi', ' Marwari']</td>\n",
       "      <td>['XML', ' C', ' Java', ' Data Structures', ' P...</td>\n",
       "      <td>Currently a final year student of Computer Eng...</td>\n",
       "      <td>XML,  C,  Java,  Data Structures,  Python,  Mo...</td>\n",
       "    </tr>\n",
       "    <tr>\n",
       "      <th>4</th>\n",
       "      <td>1005</td>\n",
       "      <td>B.E.</td>\n",
       "      <td>Computer Science &amp; Engineering</td>\n",
       "      <td>['English', 'Hindi  ', 'Kashmiri ', ' Urdu']</td>\n",
       "      <td>['XML', ' Word', ' Data Structures', ' Communi...</td>\n",
       "      <td>To have a growth oriented and challenging care...</td>\n",
       "      <td>XML,  Word,  Data Structures,  Communication, ...</td>\n",
       "    </tr>\n",
       "  </tbody>\n",
       "</table>\n",
       "</div>"
      ],
      "text/plain": [
       "  userid degree_1        degree_1_specializations  \\\n",
       "0   1001     B.E.  Computer Science & Engineering   \n",
       "1   1002     B.E.  Computer Science & Engineering   \n",
       "2   1003     B.E.  Computer Science & Engineering   \n",
       "3   1004     B.E.  Computer Science & Engineering   \n",
       "4   1005     B.E.  Computer Science & Engineering   \n",
       "\n",
       "                                 known_languages  \\\n",
       "0              ['English', ' Marathi', ' Hindi']   \n",
       "1                              ['Hindi English']   \n",
       "2                                    ['Missing']   \n",
       "3  ['English', ' Hindi', ' Marathi', ' Marwari']   \n",
       "4   ['English', 'Hindi  ', 'Kashmiri ', ' Urdu']   \n",
       "\n",
       "                                          key_skills  \\\n",
       "0  ['C', ' Java', ' Keras', ' Flask', ' Deep Lear...   \n",
       "1  ['Java', ' Neural Networks', ' AI', ' Python',...   \n",
       "2                                        ['Missing']   \n",
       "3  ['XML', ' C', ' Java', ' Data Structures', ' P...   \n",
       "4  ['XML', ' Word', ' Data Structures', ' Communi...   \n",
       "\n",
       "                                    career_objective  \\\n",
       "0  Computer Engineering student with good technic...   \n",
       "1  Interested in working under company offering A...   \n",
       "2                                            Missing   \n",
       "3  Currently a final year student of Computer Eng...   \n",
       "4  To have a growth oriented and challenging care...   \n",
       "\n",
       "                                      key_skills_str  \n",
       "0  C,  Java,  Keras,  Flask,  Deep Learning,  Sel...  \n",
       "1  Java,  Neural Networks,  AI,  Python,  Html5, ...  \n",
       "2                                            Missing  \n",
       "3  XML,  C,  Java,  Data Structures,  Python,  Mo...  \n",
       "4  XML,  Word,  Data Structures,  Communication, ...  "
      ]
     },
     "execution_count": 3,
     "metadata": {},
     "output_type": "execute_result"
    }
   ],
   "source": [
    "user_dataset = pd.read_csv(\"../data/userData.csv\", encoding= 'unicode_escape')\n",
    "user_dataset.head()"
   ]
  },
  {
   "cell_type": "code",
   "execution_count": 4,
   "id": "c5dedb3a",
   "metadata": {},
   "outputs": [
    {
     "data": {
      "text/html": [
       "<div>\n",
       "<style scoped>\n",
       "    .dataframe tbody tr th:only-of-type {\n",
       "        vertical-align: middle;\n",
       "    }\n",
       "\n",
       "    .dataframe tbody tr th {\n",
       "        vertical-align: top;\n",
       "    }\n",
       "\n",
       "    .dataframe thead th {\n",
       "        text-align: right;\n",
       "    }\n",
       "</style>\n",
       "<table border=\"1\" class=\"dataframe\">\n",
       "  <thead>\n",
       "    <tr style=\"text-align: right;\">\n",
       "      <th></th>\n",
       "      <th>course_id</th>\n",
       "      <th>user_id</th>\n",
       "      <th>rating</th>\n",
       "    </tr>\n",
       "  </thead>\n",
       "  <tbody>\n",
       "    <tr>\n",
       "      <th>0</th>\n",
       "      <td>2001</td>\n",
       "      <td>1001</td>\n",
       "      <td>5</td>\n",
       "    </tr>\n",
       "    <tr>\n",
       "      <th>1</th>\n",
       "      <td>2001</td>\n",
       "      <td>1002</td>\n",
       "      <td>3</td>\n",
       "    </tr>\n",
       "    <tr>\n",
       "      <th>2</th>\n",
       "      <td>2001</td>\n",
       "      <td>1003</td>\n",
       "      <td>1</td>\n",
       "    </tr>\n",
       "    <tr>\n",
       "      <th>3</th>\n",
       "      <td>2001</td>\n",
       "      <td>1004</td>\n",
       "      <td>0</td>\n",
       "    </tr>\n",
       "    <tr>\n",
       "      <th>4</th>\n",
       "      <td>2001</td>\n",
       "      <td>1005</td>\n",
       "      <td>2</td>\n",
       "    </tr>\n",
       "  </tbody>\n",
       "</table>\n",
       "</div>"
      ],
      "text/plain": [
       "   course_id  user_id  rating\n",
       "0       2001     1001       5\n",
       "1       2001     1002       3\n",
       "2       2001     1003       1\n",
       "3       2001     1004       0\n",
       "4       2001     1005       2"
      ]
     },
     "execution_count": 4,
     "metadata": {},
     "output_type": "execute_result"
    }
   ],
   "source": [
    "ratings_df = pd.read_csv(\"../data/ratingData.csv\", encoding= 'unicode_escape')\n",
    "ratings_df.head()"
   ]
  },
  {
   "cell_type": "markdown",
   "id": "62aad47b",
   "metadata": {},
   "source": [
    "### Metrics: RMSE, MSE & MAE"
   ]
  },
  {
   "cell_type": "code",
   "execution_count": 5,
   "id": "74cb6d81",
   "metadata": {},
   "outputs": [],
   "source": [
    "reader = Reader(rating_scale=(0, 5))\n",
    "data = Dataset.load_from_df(ratings_df[['user_id','course_id','rating']], reader)\n",
    "\n",
    "#split into training and test sets using 80:20 ratio\n",
    "raw_ratings = data.raw_ratings\n",
    "random.shuffle(raw_ratings)                \n",
    "\n",
    "ratio = int(len(raw_ratings)*0.8)\n",
    "train_raw = raw_ratings[:ratio] \n",
    "test_raw = raw_ratings[ratio:] \n",
    "\n",
    "#data is set to the training dataset\n",
    "data.raw_ratings = train_raw       \n",
    "trainset = data.build_full_trainset() \n",
    "testset = data.construct_testset(test_raw)\n"
   ]
  },
  {
   "cell_type": "code",
   "execution_count": 6,
   "id": "761ef537",
   "metadata": {},
   "outputs": [
    {
     "name": "stdout",
     "output_type": "stream",
     "text": [
      "Evaluating RMSE, MAE of algorithm SVD on 5 split(s).\n",
      "\n",
      "                  Fold 1  Fold 2  Fold 3  Fold 4  Fold 5  Mean    Std     \n",
      "RMSE (testset)    1.3450  1.3655  1.3350  1.3859  1.4045  1.3672  0.0256  \n",
      "MAE (testset)     1.0733  1.1215  1.0782  1.1261  1.1482  1.1095  0.0290  \n",
      "Fit time          0.03    0.03    0.03    0.04    0.03    0.03    0.00    \n",
      "Test time         0.01    0.01    0.00    0.10    0.00    0.02    0.04    \n",
      "\n",
      "Accuracy on the testset:\n",
      "RMSE: 1.2674\n",
      "MSE: 1.6063\n",
      "MAE:  0.9950\n",
      "\n",
      "Predict Tests: \n",
      "user: 1001       item: 2001       r_ui = None   est = 4.35   {'was_impossible': False}\n",
      "user: 2001       item: 1001       r_ui = None   est = 2.58   {'was_impossible': False}\n",
      "user: 1001       item: 88         r_ui = None   est = 2.41   {'was_impossible': False}\n",
      "user: 1001       item: 5          r_ui = None   est = 2.41   {'was_impossible': False}\n",
      "\n",
      "Predict Using TestSet list: \n"
     ]
    },
    {
     "data": {
      "text/plain": [
       "[Prediction(uid=1001, iid=2001, r_ui=5, est=4.3505108981606595, details={'was_impossible': False}),\n",
       " Prediction(uid=1002, iid=2001, r_ui=3, est=2.772439308595188, details={'was_impossible': False})]"
      ]
     },
     "execution_count": 6,
     "metadata": {},
     "output_type": "execute_result"
    }
   ],
   "source": [
    "#algo\n",
    "svd = SVD()\n",
    "\n",
    "#cross validate with kfold set to 5\n",
    "cross_validate(svd, data, measures = ['RMSE', 'MAE'], cv = 5, verbose = True)\n",
    "\n",
    "#build train and train train set\n",
    "trainset = data.build_full_trainset()\n",
    "svd.fit(trainset)\n",
    "\n",
    "#test the test set using .test() \n",
    "print('\\nAccuracy on the testset:')\n",
    "accuracy.rmse(svd.test(testset))\n",
    "accuracy.mse(svd.test(testset))\n",
    "accuracy.mae(svd.test(testset))\n",
    "\n",
    "print('\\nPredict Tests: ')\n",
    "print(svd.predict(1001, 2001))\n",
    "print(svd.predict(2001, 1001))\n",
    "print(svd.predict(1001, 88))\n",
    "print(svd.predict(1001, 5))\n",
    "\n",
    "print('\\nPredict Using TestSet list: ')\n",
    "testset = [data.df.loc[i].to_list() for i in range(len(data.df))]\n",
    "svd.test(testset)[:2]"
   ]
  },
  {
   "cell_type": "code",
   "execution_count": 7,
   "id": "f9c9fd30",
   "metadata": {},
   "outputs": [
    {
     "name": "stdout",
     "output_type": "stream",
     "text": [
      "\n",
      "RMSE Best Parameters: {'n_factors': 90, 'n_epochs': 20, 'lr_all': 0.005, 'reg_all': 0.2}\n",
      "RMSE Best Score: 1.4999093392883065\n",
      "MAE Best Parameters: {'n_factors': 90, 'n_epochs': 20, 'lr_all': 0.005, 'reg_all': 0.2}\n",
      "MAE Best Score: 1.2658359738788394\n"
     ]
    }
   ],
   "source": [
    "params = {\"n_factors\": range(10, 100, 20),\n",
    "         \"n_epochs\": [5, 10, 20],\n",
    "         \"lr_all\": [0.002, 0.005],\n",
    "         \"reg_all\": [0.2, 0.5]}\n",
    "\n",
    "gsSVD = GridSearchCV(SVD, params, measures = [\"RMSE\", \"MAE\"], cv = 5, n_jobs = -1)\n",
    "gsSVD.fit(data)\n",
    "\n",
    "print(f'\\nRMSE Best Parameters: {gsSVD.best_params[\"rmse\"]}')\n",
    "print(f'RMSE Best Score: {gsSVD.best_score[\"rmse\"]}')\n",
    "print(f'MAE Best Parameters: {gsSVD.best_params[\"mae\"]}')\n",
    "print(f'MAE Best Score: {gsSVD.best_score[\"mae\"]}')"
   ]
  },
  {
   "cell_type": "code",
   "execution_count": 8,
   "id": "72442ccf",
   "metadata": {},
   "outputs": [
    {
     "name": "stdout",
     "output_type": "stream",
     "text": [
      "\n",
      "Updated Accuracy: \n",
      "RMSE: 1.3034\n",
      "MSE: 1.6988\n",
      "MAE:  1.0938\n"
     ]
    },
    {
     "data": {
      "text/plain": [
       "1.0938094408567685"
      ]
     },
     "execution_count": 8,
     "metadata": {},
     "output_type": "execute_result"
    }
   ],
   "source": [
    "finalSVD = SVD(n_factors = 90, n_epochs = 20, lr_all = 0.005, reg_all = 0.2)\n",
    "predictions = finalSVD.fit(trainset).test(testset)\n",
    "\n",
    "print('\\nUpdated Accuracy: ')\n",
    "accuracy.rmse(predictions)\n",
    "accuracy.mse(predictions)\n",
    "accuracy.mae(predictions)"
   ]
  },
  {
   "cell_type": "markdown",
   "id": "c6b0b5f0",
   "metadata": {},
   "source": [
    "### Checking Course and User Details"
   ]
  },
  {
   "cell_type": "code",
   "execution_count": 9,
   "id": "1c87def2",
   "metadata": {},
   "outputs": [],
   "source": [
    "#using surprise\n",
    "reader = Reader(rating_scale=(0, 5))\n",
    "data = Dataset.load_from_df(ratings_df[['user_id','course_id','rating']], reader)\n",
    "\n",
    "#split into training and test sets using 80:20 ratio\n",
    "raw_ratings = data.raw_ratings\n",
    "random.shuffle(raw_ratings)                \n",
    "\n",
    "ratio = int(len(raw_ratings)*0.8)\n",
    "train_raw = raw_ratings[:ratio] \n",
    "test_raw = raw_ratings[ratio:] \n",
    "\n",
    "data.raw_ratings = train_raw       \n",
    "trainset = data.build_full_trainset() \n",
    "testset = data.construct_testset(test_raw)"
   ]
  },
  {
   "cell_type": "code",
   "execution_count": 10,
   "id": "89f1dedc",
   "metadata": {},
   "outputs": [],
   "source": [
    "#Since the svd recommender is making recommmendations from the ratings dataset, \n",
    "#its recommemnding courses the users have already done\n",
    "def svd_cf_recommendations(user):\n",
    "    \n",
    "    #using the \"best\" parameters found using the gridsearchcv method from experiments notebook \n",
    "    model = SVD(n_factors = 90, n_epochs = 20, lr_all = 0.005, reg_all = 0.2)\n",
    "    model.fit(trainset)\n",
    "    \n",
    "    #building test set and predict the ratings\n",
    "    testset = trainset.build_anti_testset()\n",
    "    predictions = model.test(testset)\n",
    "    \n",
    "    #save into dataframe\n",
    "    rating_predictions = pd.DataFrame(predictions)\n",
    "    #print(rating_predictions)\n",
    "    \n",
    "    #find the predictions for the given user\n",
    "    user_predictions = rating_predictions[rating_predictions['uid'] == user].\\\n",
    "                         sort_values(by=\"est\", ascending = False)\n",
    "        \n",
    "    #removing courses already done by user (assuming they are rated 1 to 5)  \n",
    "    finalcourserecs = [] #to store the final course recs\n",
    "    \n",
    "    #uid is the user and iid is the course id\n",
    "    for i, row in user_predictions.iterrows():\n",
    "        #get rating details\n",
    "        rating_dets = ratings_df[(ratings_df['course_id'] == row[1]) & (ratings_df['user_id'] == user)]\n",
    "        \n",
    "        if rating_dets[\"rating\"].values[0] == 0:\n",
    "            #print(\"Not rated!\")\n",
    "            finalcourserecs.append(row[1])\n",
    "    \n",
    "    return(finalcourserecs)"
   ]
  },
  {
   "cell_type": "code",
   "execution_count": 11,
   "id": "d070e1bd",
   "metadata": {},
   "outputs": [
    {
     "data": {
      "text/plain": [
       "[2274,\n",
       " 2266,\n",
       " 2133,\n",
       " 2176,\n",
       " 2385,\n",
       " 2407,\n",
       " 2172,\n",
       " 2355,\n",
       " 2215,\n",
       " 2245,\n",
       " 2281,\n",
       " 2316,\n",
       " 2286,\n",
       " 2197,\n",
       " 2186,\n",
       " 2424,\n",
       " 2343,\n",
       " 2226,\n",
       " 2221,\n",
       " 2350,\n",
       " 2106,\n",
       " 2420,\n",
       " 2178,\n",
       " 2157,\n",
       " 2275,\n",
       " 2297,\n",
       " 2129]"
      ]
     },
     "execution_count": 11,
     "metadata": {},
     "output_type": "execute_result"
    }
   ],
   "source": [
    "svd_cf_recommendations(1001) #input is a user and output is a course!svdrecs\n",
    "#1001 is a user (shown above no course is 1001)\n",
    "#2082 is course since no user rating is found (check above)"
   ]
  },
  {
   "cell_type": "code",
   "execution_count": 12,
   "id": "17996f48",
   "metadata": {},
   "outputs": [
    {
     "data": {
      "text/html": [
       "<div>\n",
       "<style scoped>\n",
       "    .dataframe tbody tr th:only-of-type {\n",
       "        vertical-align: middle;\n",
       "    }\n",
       "\n",
       "    .dataframe tbody tr th {\n",
       "        vertical-align: top;\n",
       "    }\n",
       "\n",
       "    .dataframe thead th {\n",
       "        text-align: right;\n",
       "    }\n",
       "</style>\n",
       "<table border=\"1\" class=\"dataframe\">\n",
       "  <thead>\n",
       "    <tr style=\"text-align: right;\">\n",
       "      <th></th>\n",
       "      <th>userid</th>\n",
       "      <th>degree_1</th>\n",
       "      <th>degree_1_specializations</th>\n",
       "      <th>known_languages</th>\n",
       "      <th>key_skills</th>\n",
       "      <th>career_objective</th>\n",
       "      <th>key_skills_str</th>\n",
       "    </tr>\n",
       "  </thead>\n",
       "  <tbody>\n",
       "    <tr>\n",
       "      <th>0</th>\n",
       "      <td>1001</td>\n",
       "      <td>B.E.</td>\n",
       "      <td>Computer Science &amp; Engineering</td>\n",
       "      <td>['English', ' Marathi', ' Hindi']</td>\n",
       "      <td>['C', ' Java', ' Keras', ' Flask', ' Deep Lear...</td>\n",
       "      <td>Computer Engineering student with good technic...</td>\n",
       "      <td>C,  Java,  Keras,  Flask,  Deep Learning,  Sel...</td>\n",
       "    </tr>\n",
       "  </tbody>\n",
       "</table>\n",
       "</div>"
      ],
      "text/plain": [
       "  userid degree_1        degree_1_specializations  \\\n",
       "0   1001     B.E.  Computer Science & Engineering   \n",
       "\n",
       "                     known_languages  \\\n",
       "0  ['English', ' Marathi', ' Hindi']   \n",
       "\n",
       "                                          key_skills  \\\n",
       "0  ['C', ' Java', ' Keras', ' Flask', ' Deep Lear...   \n",
       "\n",
       "                                    career_objective  \\\n",
       "0  Computer Engineering student with good technic...   \n",
       "\n",
       "                                      key_skills_str  \n",
       "0  C,  Java,  Keras,  Flask,  Deep Learning,  Sel...  "
      ]
     },
     "execution_count": 12,
     "metadata": {},
     "output_type": "execute_result"
    }
   ],
   "source": [
    "user_dataset[user_dataset[\"userid\"] == \"1001\"]"
   ]
  },
  {
   "cell_type": "code",
   "execution_count": 13,
   "id": "f2c39ded",
   "metadata": {},
   "outputs": [
    {
     "data": {
      "text/html": [
       "<div>\n",
       "<style scoped>\n",
       "    .dataframe tbody tr th:only-of-type {\n",
       "        vertical-align: middle;\n",
       "    }\n",
       "\n",
       "    .dataframe tbody tr th {\n",
       "        vertical-align: top;\n",
       "    }\n",
       "\n",
       "    .dataframe thead th {\n",
       "        text-align: right;\n",
       "    }\n",
       "</style>\n",
       "<table border=\"1\" class=\"dataframe\">\n",
       "  <thead>\n",
       "    <tr style=\"text-align: right;\">\n",
       "      <th></th>\n",
       "      <th>sr_</th>\n",
       "      <th>degree_1</th>\n",
       "      <th>degree_1_specializations</th>\n",
       "      <th>campus</th>\n",
       "      <th>key_skills</th>\n",
       "      <th>key_skills_str</th>\n",
       "    </tr>\n",
       "  </thead>\n",
       "  <tbody>\n",
       "    <tr>\n",
       "      <th>1273</th>\n",
       "      <td>2274</td>\n",
       "      <td>M TeCh</td>\n",
       "      <td>Electronics  Telecommunication Engineering</td>\n",
       "      <td>MIT  WPU</td>\n",
       "      <td>['LoRateChnology, C, MathematiCaltoolMATLAB, b...</td>\n",
       "      <td>LoRateChnology, C, MathematiCaltoolMATLAB, bas...</td>\n",
       "    </tr>\n",
       "  </tbody>\n",
       "</table>\n",
       "</div>"
      ],
      "text/plain": [
       "       sr_ degree_1                    degree_1_specializations    campus  \\\n",
       "1273  2274  M TeCh   Electronics  Telecommunication Engineering  MIT  WPU   \n",
       "\n",
       "                                             key_skills  \\\n",
       "1273  ['LoRateChnology, C, MathematiCaltoolMATLAB, b...   \n",
       "\n",
       "                                         key_skills_str  \n",
       "1273  LoRateChnology, C, MathematiCaltoolMATLAB, bas...  "
      ]
     },
     "execution_count": 13,
     "metadata": {},
     "output_type": "execute_result"
    }
   ],
   "source": [
    "course_dataset[course_dataset[\"sr_\"] == 2274]"
   ]
  },
  {
   "cell_type": "code",
   "execution_count": 14,
   "id": "84447c46",
   "metadata": {},
   "outputs": [
    {
     "data": {
      "text/html": [
       "<div>\n",
       "<style scoped>\n",
       "    .dataframe tbody tr th:only-of-type {\n",
       "        vertical-align: middle;\n",
       "    }\n",
       "\n",
       "    .dataframe tbody tr th {\n",
       "        vertical-align: top;\n",
       "    }\n",
       "\n",
       "    .dataframe thead th {\n",
       "        text-align: right;\n",
       "    }\n",
       "</style>\n",
       "<table border=\"1\" class=\"dataframe\">\n",
       "  <thead>\n",
       "    <tr style=\"text-align: right;\">\n",
       "      <th></th>\n",
       "      <th>sr_</th>\n",
       "      <th>degree_1</th>\n",
       "      <th>degree_1_specializations</th>\n",
       "      <th>campus</th>\n",
       "      <th>key_skills</th>\n",
       "      <th>key_skills_str</th>\n",
       "    </tr>\n",
       "  </thead>\n",
       "  <tbody>\n",
       "    <tr>\n",
       "      <th>1265</th>\n",
       "      <td>2266</td>\n",
       "      <td>B.E.</td>\n",
       "      <td>Electronics  Telecommunication Engineering</td>\n",
       "      <td>MITAOE</td>\n",
       "      <td>['AmazonWebServiCes, C CPP, Arduino, MongoDB, ...</td>\n",
       "      <td>AmazonWebServiCes, C CPP, Arduino, MongoDB, Li...</td>\n",
       "    </tr>\n",
       "  </tbody>\n",
       "</table>\n",
       "</div>"
      ],
      "text/plain": [
       "       sr_ degree_1                    degree_1_specializations  campus  \\\n",
       "1265  2266     B.E.  Electronics  Telecommunication Engineering  MITAOE   \n",
       "\n",
       "                                             key_skills  \\\n",
       "1265  ['AmazonWebServiCes, C CPP, Arduino, MongoDB, ...   \n",
       "\n",
       "                                         key_skills_str  \n",
       "1265  AmazonWebServiCes, C CPP, Arduino, MongoDB, Li...  "
      ]
     },
     "execution_count": 14,
     "metadata": {},
     "output_type": "execute_result"
    }
   ],
   "source": [
    "course_dataset[course_dataset[\"sr_\"] == 2266]"
   ]
  },
  {
   "cell_type": "code",
   "execution_count": 15,
   "id": "0f0fed33",
   "metadata": {},
   "outputs": [
    {
     "data": {
      "text/html": [
       "<div>\n",
       "<style scoped>\n",
       "    .dataframe tbody tr th:only-of-type {\n",
       "        vertical-align: middle;\n",
       "    }\n",
       "\n",
       "    .dataframe tbody tr th {\n",
       "        vertical-align: top;\n",
       "    }\n",
       "\n",
       "    .dataframe thead th {\n",
       "        text-align: right;\n",
       "    }\n",
       "</style>\n",
       "<table border=\"1\" class=\"dataframe\">\n",
       "  <thead>\n",
       "    <tr style=\"text-align: right;\">\n",
       "      <th></th>\n",
       "      <th>sr_</th>\n",
       "      <th>degree_1</th>\n",
       "      <th>degree_1_specializations</th>\n",
       "      <th>campus</th>\n",
       "      <th>key_skills</th>\n",
       "      <th>key_skills_str</th>\n",
       "    </tr>\n",
       "  </thead>\n",
       "  <tbody>\n",
       "    <tr>\n",
       "      <th>1132</th>\n",
       "      <td>2133</td>\n",
       "      <td>B.E.</td>\n",
       "      <td>Electronics  Telecommunication Engineering</td>\n",
       "      <td>MIT,Pune</td>\n",
       "      <td>['C,PCB design']</td>\n",
       "      <td>C,PCB design</td>\n",
       "    </tr>\n",
       "  </tbody>\n",
       "</table>\n",
       "</div>"
      ],
      "text/plain": [
       "       sr_ degree_1                    degree_1_specializations    campus  \\\n",
       "1132  2133     B.E.  Electronics  Telecommunication Engineering  MIT,Pune   \n",
       "\n",
       "            key_skills key_skills_str  \n",
       "1132  ['C,PCB design']   C,PCB design  "
      ]
     },
     "execution_count": 15,
     "metadata": {},
     "output_type": "execute_result"
    }
   ],
   "source": [
    "course_dataset[course_dataset[\"sr_\"] == 2133]"
   ]
  },
  {
   "cell_type": "code",
   "execution_count": 16,
   "id": "a3d6d900",
   "metadata": {},
   "outputs": [
    {
     "data": {
      "text/html": [
       "<div>\n",
       "<style scoped>\n",
       "    .dataframe tbody tr th:only-of-type {\n",
       "        vertical-align: middle;\n",
       "    }\n",
       "\n",
       "    .dataframe tbody tr th {\n",
       "        vertical-align: top;\n",
       "    }\n",
       "\n",
       "    .dataframe thead th {\n",
       "        text-align: right;\n",
       "    }\n",
       "</style>\n",
       "<table border=\"1\" class=\"dataframe\">\n",
       "  <thead>\n",
       "    <tr style=\"text-align: right;\">\n",
       "      <th></th>\n",
       "      <th>sr_</th>\n",
       "      <th>degree_1</th>\n",
       "      <th>degree_1_specializations</th>\n",
       "      <th>campus</th>\n",
       "      <th>key_skills</th>\n",
       "      <th>key_skills_str</th>\n",
       "    </tr>\n",
       "  </thead>\n",
       "  <tbody>\n",
       "    <tr>\n",
       "      <th>1175</th>\n",
       "      <td>2176</td>\n",
       "      <td>B.E.</td>\n",
       "      <td>Mechanical</td>\n",
       "      <td>MITAOE</td>\n",
       "      <td>['SOLIDWORKS, AUTOCAD, CREO']</td>\n",
       "      <td>SOLIDWORKS, AUTOCAD, CREO</td>\n",
       "    </tr>\n",
       "  </tbody>\n",
       "</table>\n",
       "</div>"
      ],
      "text/plain": [
       "       sr_ degree_1 degree_1_specializations  campus  \\\n",
       "1175  2176     B.E.               Mechanical  MITAOE   \n",
       "\n",
       "                         key_skills             key_skills_str  \n",
       "1175  ['SOLIDWORKS, AUTOCAD, CREO']  SOLIDWORKS, AUTOCAD, CREO  "
      ]
     },
     "execution_count": 16,
     "metadata": {},
     "output_type": "execute_result"
    }
   ],
   "source": [
    "course_dataset[course_dataset[\"sr_\"] == 2176]"
   ]
  },
  {
   "cell_type": "code",
   "execution_count": 17,
   "id": "8433e568",
   "metadata": {},
   "outputs": [
    {
     "data": {
      "text/html": [
       "<div>\n",
       "<style scoped>\n",
       "    .dataframe tbody tr th:only-of-type {\n",
       "        vertical-align: middle;\n",
       "    }\n",
       "\n",
       "    .dataframe tbody tr th {\n",
       "        vertical-align: top;\n",
       "    }\n",
       "\n",
       "    .dataframe thead th {\n",
       "        text-align: right;\n",
       "    }\n",
       "</style>\n",
       "<table border=\"1\" class=\"dataframe\">\n",
       "  <thead>\n",
       "    <tr style=\"text-align: right;\">\n",
       "      <th></th>\n",
       "      <th>sr_</th>\n",
       "      <th>degree_1</th>\n",
       "      <th>degree_1_specializations</th>\n",
       "      <th>campus</th>\n",
       "      <th>key_skills</th>\n",
       "      <th>key_skills_str</th>\n",
       "    </tr>\n",
       "  </thead>\n",
       "  <tbody>\n",
       "    <tr>\n",
       "      <th>1384</th>\n",
       "      <td>2385</td>\n",
       "      <td>B.E.</td>\n",
       "      <td>Computer Science &amp; Engineering</td>\n",
       "      <td>MITCOE</td>\n",
       "      <td>['C, Java, CPP, HTML, CMStool, MYSQL']</td>\n",
       "      <td>C, Java, CPP, HTML, CMStool, MYSQL</td>\n",
       "    </tr>\n",
       "  </tbody>\n",
       "</table>\n",
       "</div>"
      ],
      "text/plain": [
       "       sr_ degree_1        degree_1_specializations  campus  \\\n",
       "1384  2385     B.E.  Computer Science & Engineering  MITCOE   \n",
       "\n",
       "                                  key_skills  \\\n",
       "1384  ['C, Java, CPP, HTML, CMStool, MYSQL']   \n",
       "\n",
       "                          key_skills_str  \n",
       "1384  C, Java, CPP, HTML, CMStool, MYSQL  "
      ]
     },
     "execution_count": 17,
     "metadata": {},
     "output_type": "execute_result"
    }
   ],
   "source": [
    "course_dataset[course_dataset[\"sr_\"] == 2385]"
   ]
  },
  {
   "cell_type": "code",
   "execution_count": 18,
   "id": "0262bb2b",
   "metadata": {},
   "outputs": [
    {
     "data": {
      "text/html": [
       "<div>\n",
       "<style scoped>\n",
       "    .dataframe tbody tr th:only-of-type {\n",
       "        vertical-align: middle;\n",
       "    }\n",
       "\n",
       "    .dataframe tbody tr th {\n",
       "        vertical-align: top;\n",
       "    }\n",
       "\n",
       "    .dataframe thead th {\n",
       "        text-align: right;\n",
       "    }\n",
       "</style>\n",
       "<table border=\"1\" class=\"dataframe\">\n",
       "  <thead>\n",
       "    <tr style=\"text-align: right;\">\n",
       "      <th></th>\n",
       "      <th>sr_</th>\n",
       "      <th>degree_1</th>\n",
       "      <th>degree_1_specializations</th>\n",
       "      <th>campus</th>\n",
       "      <th>key_skills</th>\n",
       "      <th>key_skills_str</th>\n",
       "    </tr>\n",
       "  </thead>\n",
       "  <tbody>\n",
       "    <tr>\n",
       "      <th>1406</th>\n",
       "      <td>2407</td>\n",
       "      <td>B.E.</td>\n",
       "      <td>Computer Science &amp; Engineering</td>\n",
       "      <td>MITCOE</td>\n",
       "      <td>['CPPProgramming, Core JAVA, CProgramming, MyS...</td>\n",
       "      <td>CPPProgramming, Core JAVA, CProgramming, MySql</td>\n",
       "    </tr>\n",
       "  </tbody>\n",
       "</table>\n",
       "</div>"
      ],
      "text/plain": [
       "       sr_ degree_1        degree_1_specializations  campus  \\\n",
       "1406  2407     B.E.  Computer Science & Engineering  MITCOE   \n",
       "\n",
       "                                             key_skills  \\\n",
       "1406  ['CPPProgramming, Core JAVA, CProgramming, MyS...   \n",
       "\n",
       "                                      key_skills_str  \n",
       "1406  CPPProgramming, Core JAVA, CProgramming, MySql  "
      ]
     },
     "execution_count": 18,
     "metadata": {},
     "output_type": "execute_result"
    }
   ],
   "source": [
    "course_dataset[course_dataset[\"sr_\"] == 2407]"
   ]
  },
  {
   "cell_type": "code",
   "execution_count": 19,
   "id": "d059171e",
   "metadata": {},
   "outputs": [
    {
     "data": {
      "text/html": [
       "<div>\n",
       "<style scoped>\n",
       "    .dataframe tbody tr th:only-of-type {\n",
       "        vertical-align: middle;\n",
       "    }\n",
       "\n",
       "    .dataframe tbody tr th {\n",
       "        vertical-align: top;\n",
       "    }\n",
       "\n",
       "    .dataframe thead th {\n",
       "        text-align: right;\n",
       "    }\n",
       "</style>\n",
       "<table border=\"1\" class=\"dataframe\">\n",
       "  <thead>\n",
       "    <tr style=\"text-align: right;\">\n",
       "      <th></th>\n",
       "      <th>sr_</th>\n",
       "      <th>degree_1</th>\n",
       "      <th>degree_1_specializations</th>\n",
       "      <th>campus</th>\n",
       "      <th>key_skills</th>\n",
       "      <th>key_skills_str</th>\n",
       "    </tr>\n",
       "  </thead>\n",
       "  <tbody>\n",
       "    <tr>\n",
       "      <th>1171</th>\n",
       "      <td>2172</td>\n",
       "      <td>B.E.</td>\n",
       "      <td>Computer Science &amp; Engineering</td>\n",
       "      <td>MITCOE</td>\n",
       "      <td>['C, Java, CPP, HTML, CMStool, MYSQL']</td>\n",
       "      <td>C, Java, CPP, HTML, CMStool, MYSQL</td>\n",
       "    </tr>\n",
       "  </tbody>\n",
       "</table>\n",
       "</div>"
      ],
      "text/plain": [
       "       sr_ degree_1        degree_1_specializations  campus  \\\n",
       "1171  2172     B.E.  Computer Science & Engineering  MITCOE   \n",
       "\n",
       "                                  key_skills  \\\n",
       "1171  ['C, Java, CPP, HTML, CMStool, MYSQL']   \n",
       "\n",
       "                          key_skills_str  \n",
       "1171  C, Java, CPP, HTML, CMStool, MYSQL  "
      ]
     },
     "execution_count": 19,
     "metadata": {},
     "output_type": "execute_result"
    }
   ],
   "source": [
    "course_dataset[course_dataset[\"sr_\"] == 2172]"
   ]
  },
  {
   "cell_type": "code",
   "execution_count": null,
   "id": "bc3e891e",
   "metadata": {},
   "outputs": [],
   "source": []
  }
 ],
 "metadata": {
  "kernelspec": {
   "display_name": "Python 3 (ipykernel)",
   "language": "python",
   "name": "python3"
  },
  "language_info": {
   "codemirror_mode": {
    "name": "ipython",
    "version": 3
   },
   "file_extension": ".py",
   "mimetype": "text/x-python",
   "name": "python",
   "nbconvert_exporter": "python",
   "pygments_lexer": "ipython3",
   "version": "3.9.7"
  }
 },
 "nbformat": 4,
 "nbformat_minor": 5
}
