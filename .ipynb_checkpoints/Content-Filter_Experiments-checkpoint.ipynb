{
 "cells": [
  {
   "cell_type": "code",
   "execution_count": 1,
   "id": "e2eb375e",
   "metadata": {},
   "outputs": [],
   "source": [
    "import pandas as pd\n",
    "from sklearn.feature_extraction.text import TfidfVectorizer\n",
    "from sklearn.metrics.pairwise import linear_kernel, cosine_similarity\n",
    "from sklearn.cluster import KMeans\n",
    "from sklearn.decomposition import PCA\n",
    "import warnings\n",
    "warnings.filterwarnings(\"ignore\")\n",
    "import matplotlib.pyplot as plt\n",
    "import matplotlib\n",
    "import numpy as np\n",
    "from nltk.stem import SnowballStemmer\n",
    "from nltk.tokenize import word_tokenize\n",
    "import squarify\n",
    "import seaborn as sns\n",
    "from surprise import accuracy\n",
    "from surprise.model_selection.validation import cross_validate\n",
    "from surprise.dataset import Dataset\n",
    "from surprise.reader import Reader\n",
    "from surprise import SVD, KNNBasic, KNNWithMeans, KNNWithZScore, KNNBaseline\n",
    "from surprise.model_selection import train_test_split\n",
    "import random"
   ]
  },
  {
   "cell_type": "markdown",
   "id": "8ac6ce2b",
   "metadata": {},
   "source": [
    "## Calling the Saved Dataset"
   ]
  },
  {
   "cell_type": "code",
   "execution_count": 2,
   "id": "0e51ebb2",
   "metadata": {},
   "outputs": [
    {
     "data": {
      "text/html": [
       "<div>\n",
       "<style scoped>\n",
       "    .dataframe tbody tr th:only-of-type {\n",
       "        vertical-align: middle;\n",
       "    }\n",
       "\n",
       "    .dataframe tbody tr th {\n",
       "        vertical-align: top;\n",
       "    }\n",
       "\n",
       "    .dataframe thead th {\n",
       "        text-align: right;\n",
       "    }\n",
       "</style>\n",
       "<table border=\"1\" class=\"dataframe\">\n",
       "  <thead>\n",
       "    <tr style=\"text-align: right;\">\n",
       "      <th></th>\n",
       "      <th>Unnamed: 0</th>\n",
       "      <th>sr_</th>\n",
       "      <th>degree_1</th>\n",
       "      <th>degree_1_specializations</th>\n",
       "      <th>campus</th>\n",
       "      <th>key_skills</th>\n",
       "      <th>key_skills_str</th>\n",
       "    </tr>\n",
       "  </thead>\n",
       "  <tbody>\n",
       "    <tr>\n",
       "      <th>0</th>\n",
       "      <td>0</td>\n",
       "      <td>1001</td>\n",
       "      <td>B.E.</td>\n",
       "      <td>Mechanical</td>\n",
       "      <td>MITCOE</td>\n",
       "      <td>['CATIA']</td>\n",
       "      <td>CATIA</td>\n",
       "    </tr>\n",
       "    <tr>\n",
       "      <th>1</th>\n",
       "      <td>1</td>\n",
       "      <td>1002</td>\n",
       "      <td>B.E.</td>\n",
       "      <td>Mechanical</td>\n",
       "      <td>MITCOE</td>\n",
       "      <td>['CATIA']</td>\n",
       "      <td>CATIA</td>\n",
       "    </tr>\n",
       "    <tr>\n",
       "      <th>2</th>\n",
       "      <td>2</td>\n",
       "      <td>1003</td>\n",
       "      <td>B.E.</td>\n",
       "      <td>Mechanical</td>\n",
       "      <td>MITAOE</td>\n",
       "      <td>['CATIA']</td>\n",
       "      <td>CATIA</td>\n",
       "    </tr>\n",
       "    <tr>\n",
       "      <th>3</th>\n",
       "      <td>3</td>\n",
       "      <td>1004</td>\n",
       "      <td>B.E.</td>\n",
       "      <td>Mechanical</td>\n",
       "      <td>MITCOE</td>\n",
       "      <td>['CATIA']</td>\n",
       "      <td>CATIA</td>\n",
       "    </tr>\n",
       "    <tr>\n",
       "      <th>4</th>\n",
       "      <td>4</td>\n",
       "      <td>1005</td>\n",
       "      <td>B.E.</td>\n",
       "      <td>Mechanical</td>\n",
       "      <td>MITCOE</td>\n",
       "      <td>['CATIA']</td>\n",
       "      <td>CATIA</td>\n",
       "    </tr>\n",
       "  </tbody>\n",
       "</table>\n",
       "</div>"
      ],
      "text/plain": [
       "   Unnamed: 0   sr_ degree_1 degree_1_specializations  campus key_skills  \\\n",
       "0           0  1001     B.E.               Mechanical  MITCOE  ['CATIA']   \n",
       "1           1  1002     B.E.               Mechanical  MITCOE  ['CATIA']   \n",
       "2           2  1003     B.E.               Mechanical  MITAOE  ['CATIA']   \n",
       "3           3  1004     B.E.               Mechanical  MITCOE  ['CATIA']   \n",
       "4           4  1005     B.E.               Mechanical  MITCOE  ['CATIA']   \n",
       "\n",
       "  key_skills_str  \n",
       "0          CATIA  \n",
       "1          CATIA  \n",
       "2          CATIA  \n",
       "3          CATIA  \n",
       "4          CATIA  "
      ]
     },
     "execution_count": 2,
     "metadata": {},
     "output_type": "execute_result"
    }
   ],
   "source": [
    "course_dataset = pd.read_csv(\"data/courseData.csv\", encoding= 'unicode_escape')\n",
    "course_dataset.head()"
   ]
  },
  {
   "cell_type": "code",
   "execution_count": 3,
   "id": "30951d8d",
   "metadata": {},
   "outputs": [
    {
     "data": {
      "text/html": [
       "<div>\n",
       "<style scoped>\n",
       "    .dataframe tbody tr th:only-of-type {\n",
       "        vertical-align: middle;\n",
       "    }\n",
       "\n",
       "    .dataframe tbody tr th {\n",
       "        vertical-align: top;\n",
       "    }\n",
       "\n",
       "    .dataframe thead th {\n",
       "        text-align: right;\n",
       "    }\n",
       "</style>\n",
       "<table border=\"1\" class=\"dataframe\">\n",
       "  <thead>\n",
       "    <tr style=\"text-align: right;\">\n",
       "      <th></th>\n",
       "      <th>Unnamed: 0</th>\n",
       "      <th>userid</th>\n",
       "      <th>degree_1</th>\n",
       "      <th>degree_1_specializations</th>\n",
       "      <th>known_languages</th>\n",
       "      <th>key_skills</th>\n",
       "      <th>career_objective</th>\n",
       "      <th>key_skills_str</th>\n",
       "    </tr>\n",
       "  </thead>\n",
       "  <tbody>\n",
       "    <tr>\n",
       "      <th>0</th>\n",
       "      <td>0</td>\n",
       "      <td>1001</td>\n",
       "      <td>B.E.</td>\n",
       "      <td>Computer Science &amp; Engineering</td>\n",
       "      <td>['English', ' Marathi', ' Hindi']</td>\n",
       "      <td>['C', ' Java', ' Keras', ' Flask', ' Deep Lear...</td>\n",
       "      <td>Computer Engineering student with good technic...</td>\n",
       "      <td>C,  Java,  Keras,  Flask,  Deep Learning,  Sel...</td>\n",
       "    </tr>\n",
       "    <tr>\n",
       "      <th>1</th>\n",
       "      <td>1</td>\n",
       "      <td>1002</td>\n",
       "      <td>B.E.</td>\n",
       "      <td>Computer Science &amp; Engineering</td>\n",
       "      <td>['Hindi English']</td>\n",
       "      <td>['Java', ' Neural Networks', ' AI', ' Python',...</td>\n",
       "      <td>Interested in working under company offering A...</td>\n",
       "      <td>Java,  Neural Networks,  AI,  Python,  Html5, ...</td>\n",
       "    </tr>\n",
       "    <tr>\n",
       "      <th>2</th>\n",
       "      <td>2</td>\n",
       "      <td>1003</td>\n",
       "      <td>B.E.</td>\n",
       "      <td>Computer Science &amp; Engineering</td>\n",
       "      <td>['Missing']</td>\n",
       "      <td>['Missing']</td>\n",
       "      <td>Missing</td>\n",
       "      <td>Missing</td>\n",
       "    </tr>\n",
       "    <tr>\n",
       "      <th>3</th>\n",
       "      <td>3</td>\n",
       "      <td>1004</td>\n",
       "      <td>B.E.</td>\n",
       "      <td>Computer Science &amp; Engineering</td>\n",
       "      <td>['English', ' Hindi', ' Marathi', ' Marwari']</td>\n",
       "      <td>['XML', ' C', ' Java', ' Data Structures', ' P...</td>\n",
       "      <td>Currently a final year student of Computer Eng...</td>\n",
       "      <td>XML,  C,  Java,  Data Structures,  Python,  Mo...</td>\n",
       "    </tr>\n",
       "    <tr>\n",
       "      <th>4</th>\n",
       "      <td>4</td>\n",
       "      <td>1005</td>\n",
       "      <td>B.E.</td>\n",
       "      <td>Computer Science &amp; Engineering</td>\n",
       "      <td>['English', 'Hindi  ', 'Kashmiri ', ' Urdu']</td>\n",
       "      <td>['XML', ' Word', ' Data Structures', ' Communi...</td>\n",
       "      <td>To have a growth oriented and challenging care...</td>\n",
       "      <td>XML,  Word,  Data Structures,  Communication, ...</td>\n",
       "    </tr>\n",
       "  </tbody>\n",
       "</table>\n",
       "</div>"
      ],
      "text/plain": [
       "  Unnamed: 0 userid degree_1        degree_1_specializations  \\\n",
       "0          0   1001     B.E.  Computer Science & Engineering   \n",
       "1          1   1002     B.E.  Computer Science & Engineering   \n",
       "2          2   1003     B.E.  Computer Science & Engineering   \n",
       "3          3   1004     B.E.  Computer Science & Engineering   \n",
       "4          4   1005     B.E.  Computer Science & Engineering   \n",
       "\n",
       "                                 known_languages  \\\n",
       "0              ['English', ' Marathi', ' Hindi']   \n",
       "1                              ['Hindi English']   \n",
       "2                                    ['Missing']   \n",
       "3  ['English', ' Hindi', ' Marathi', ' Marwari']   \n",
       "4   ['English', 'Hindi  ', 'Kashmiri ', ' Urdu']   \n",
       "\n",
       "                                          key_skills  \\\n",
       "0  ['C', ' Java', ' Keras', ' Flask', ' Deep Lear...   \n",
       "1  ['Java', ' Neural Networks', ' AI', ' Python',...   \n",
       "2                                        ['Missing']   \n",
       "3  ['XML', ' C', ' Java', ' Data Structures', ' P...   \n",
       "4  ['XML', ' Word', ' Data Structures', ' Communi...   \n",
       "\n",
       "                                    career_objective  \\\n",
       "0  Computer Engineering student with good technic...   \n",
       "1  Interested in working under company offering A...   \n",
       "2                                            Missing   \n",
       "3  Currently a final year student of Computer Eng...   \n",
       "4  To have a growth oriented and challenging care...   \n",
       "\n",
       "                                      key_skills_str  \n",
       "0  C,  Java,  Keras,  Flask,  Deep Learning,  Sel...  \n",
       "1  Java,  Neural Networks,  AI,  Python,  Html5, ...  \n",
       "2                                            Missing  \n",
       "3  XML,  C,  Java,  Data Structures,  Python,  Mo...  \n",
       "4  XML,  Word,  Data Structures,  Communication, ...  "
      ]
     },
     "execution_count": 3,
     "metadata": {},
     "output_type": "execute_result"
    }
   ],
   "source": [
    "user_dataset = pd.read_csv(\"data/userData.csv\", encoding= 'unicode_escape')\n",
    "user_dataset.head()"
   ]
  },
  {
   "cell_type": "code",
   "execution_count": 4,
   "id": "c5dedb3a",
   "metadata": {},
   "outputs": [
    {
     "data": {
      "text/html": [
       "<div>\n",
       "<style scoped>\n",
       "    .dataframe tbody tr th:only-of-type {\n",
       "        vertical-align: middle;\n",
       "    }\n",
       "\n",
       "    .dataframe tbody tr th {\n",
       "        vertical-align: top;\n",
       "    }\n",
       "\n",
       "    .dataframe thead th {\n",
       "        text-align: right;\n",
       "    }\n",
       "</style>\n",
       "<table border=\"1\" class=\"dataframe\">\n",
       "  <thead>\n",
       "    <tr style=\"text-align: right;\">\n",
       "      <th></th>\n",
       "      <th>course_id</th>\n",
       "      <th>user_id</th>\n",
       "      <th>rating</th>\n",
       "    </tr>\n",
       "  </thead>\n",
       "  <tbody>\n",
       "    <tr>\n",
       "      <th>0</th>\n",
       "      <td>2001</td>\n",
       "      <td>1001</td>\n",
       "      <td>5</td>\n",
       "    </tr>\n",
       "    <tr>\n",
       "      <th>1</th>\n",
       "      <td>2001</td>\n",
       "      <td>1002</td>\n",
       "      <td>3</td>\n",
       "    </tr>\n",
       "    <tr>\n",
       "      <th>2</th>\n",
       "      <td>2001</td>\n",
       "      <td>1003</td>\n",
       "      <td>1</td>\n",
       "    </tr>\n",
       "    <tr>\n",
       "      <th>3</th>\n",
       "      <td>2001</td>\n",
       "      <td>1004</td>\n",
       "      <td>0</td>\n",
       "    </tr>\n",
       "    <tr>\n",
       "      <th>4</th>\n",
       "      <td>2001</td>\n",
       "      <td>1005</td>\n",
       "      <td>2</td>\n",
       "    </tr>\n",
       "  </tbody>\n",
       "</table>\n",
       "</div>"
      ],
      "text/plain": [
       "   course_id  user_id  rating\n",
       "0       2001     1001       5\n",
       "1       2001     1002       3\n",
       "2       2001     1003       1\n",
       "3       2001     1004       0\n",
       "4       2001     1005       2"
      ]
     },
     "execution_count": 4,
     "metadata": {},
     "output_type": "execute_result"
    }
   ],
   "source": [
    "ratings_df = pd.read_csv(\"data/ratingData.csv\", encoding= 'unicode_escape')\n",
    "ratings_df.head()"
   ]
  },
  {
   "cell_type": "markdown",
   "id": "c2af655b",
   "metadata": {},
   "source": [
    "## Content Based Filtering"
   ]
  },
  {
   "cell_type": "code",
   "execution_count": 5,
   "id": "106939c2",
   "metadata": {},
   "outputs": [],
   "source": [
    "#https://github.com/ry05/couReco/blob/master/recommender.py\n",
    "#https://github.com/jalajthanaki/Movie_recommendation_engine/blob/master/Movie_recommendation_engine.ipynb"
   ]
  },
  {
   "cell_type": "markdown",
   "id": "2b5e75c7",
   "metadata": {},
   "source": [
    "### Based on Description and Taglines\n",
    "### https://github.com/jalajthanaki/Movie_recommendation_engine/blob/master/Movie_recommendation_engine.ipynb"
   ]
  },
  {
   "cell_type": "code",
   "execution_count": 6,
   "id": "fd5389cd",
   "metadata": {},
   "outputs": [
    {
     "data": {
      "text/html": [
       "<div>\n",
       "<style scoped>\n",
       "    .dataframe tbody tr th:only-of-type {\n",
       "        vertical-align: middle;\n",
       "    }\n",
       "\n",
       "    .dataframe tbody tr th {\n",
       "        vertical-align: top;\n",
       "    }\n",
       "\n",
       "    .dataframe thead th {\n",
       "        text-align: right;\n",
       "    }\n",
       "</style>\n",
       "<table border=\"1\" class=\"dataframe\">\n",
       "  <thead>\n",
       "    <tr style=\"text-align: right;\">\n",
       "      <th></th>\n",
       "      <th>Unnamed: 0</th>\n",
       "      <th>sr_</th>\n",
       "      <th>degree_1</th>\n",
       "      <th>degree_1_specializations</th>\n",
       "      <th>campus</th>\n",
       "      <th>key_skills</th>\n",
       "      <th>key_skills_str</th>\n",
       "    </tr>\n",
       "  </thead>\n",
       "  <tbody>\n",
       "    <tr>\n",
       "      <th>0</th>\n",
       "      <td>0</td>\n",
       "      <td>1001</td>\n",
       "      <td>B.E.</td>\n",
       "      <td>Mechanical</td>\n",
       "      <td>MITCOE</td>\n",
       "      <td>['CATIA']</td>\n",
       "      <td>CATIA</td>\n",
       "    </tr>\n",
       "    <tr>\n",
       "      <th>1</th>\n",
       "      <td>1</td>\n",
       "      <td>1002</td>\n",
       "      <td>B.E.</td>\n",
       "      <td>Mechanical</td>\n",
       "      <td>MITCOE</td>\n",
       "      <td>['CATIA']</td>\n",
       "      <td>CATIA</td>\n",
       "    </tr>\n",
       "  </tbody>\n",
       "</table>\n",
       "</div>"
      ],
      "text/plain": [
       "   Unnamed: 0   sr_ degree_1 degree_1_specializations  campus key_skills  \\\n",
       "0           0  1001     B.E.               Mechanical  MITCOE  ['CATIA']   \n",
       "1           1  1002     B.E.               Mechanical  MITCOE  ['CATIA']   \n",
       "\n",
       "  key_skills_str  \n",
       "0          CATIA  \n",
       "1          CATIA  "
      ]
     },
     "execution_count": 6,
     "metadata": {},
     "output_type": "execute_result"
    }
   ],
   "source": [
    "course_dataset.head(2)"
   ]
  },
  {
   "cell_type": "code",
   "execution_count": 7,
   "id": "ef098b7d",
   "metadata": {},
   "outputs": [
    {
     "data": {
      "text/html": [
       "<div>\n",
       "<style scoped>\n",
       "    .dataframe tbody tr th:only-of-type {\n",
       "        vertical-align: middle;\n",
       "    }\n",
       "\n",
       "    .dataframe tbody tr th {\n",
       "        vertical-align: top;\n",
       "    }\n",
       "\n",
       "    .dataframe thead th {\n",
       "        text-align: right;\n",
       "    }\n",
       "</style>\n",
       "<table border=\"1\" class=\"dataframe\">\n",
       "  <thead>\n",
       "    <tr style=\"text-align: right;\">\n",
       "      <th></th>\n",
       "      <th>Unnamed: 0</th>\n",
       "      <th>userid</th>\n",
       "      <th>degree_1</th>\n",
       "      <th>degree_1_specializations</th>\n",
       "      <th>known_languages</th>\n",
       "      <th>key_skills</th>\n",
       "      <th>career_objective</th>\n",
       "      <th>key_skills_str</th>\n",
       "    </tr>\n",
       "  </thead>\n",
       "  <tbody>\n",
       "    <tr>\n",
       "      <th>0</th>\n",
       "      <td>0</td>\n",
       "      <td>1001</td>\n",
       "      <td>B.E.</td>\n",
       "      <td>Computer Science &amp; Engineering</td>\n",
       "      <td>['English', ' Marathi', ' Hindi']</td>\n",
       "      <td>['C', ' Java', ' Keras', ' Flask', ' Deep Lear...</td>\n",
       "      <td>Computer Engineering student with good technic...</td>\n",
       "      <td>C,  Java,  Keras,  Flask,  Deep Learning,  Sel...</td>\n",
       "    </tr>\n",
       "    <tr>\n",
       "      <th>1</th>\n",
       "      <td>1</td>\n",
       "      <td>1002</td>\n",
       "      <td>B.E.</td>\n",
       "      <td>Computer Science &amp; Engineering</td>\n",
       "      <td>['Hindi English']</td>\n",
       "      <td>['Java', ' Neural Networks', ' AI', ' Python',...</td>\n",
       "      <td>Interested in working under company offering A...</td>\n",
       "      <td>Java,  Neural Networks,  AI,  Python,  Html5, ...</td>\n",
       "    </tr>\n",
       "  </tbody>\n",
       "</table>\n",
       "</div>"
      ],
      "text/plain": [
       "  Unnamed: 0 userid degree_1        degree_1_specializations  \\\n",
       "0          0   1001     B.E.  Computer Science & Engineering   \n",
       "1          1   1002     B.E.  Computer Science & Engineering   \n",
       "\n",
       "                     known_languages  \\\n",
       "0  ['English', ' Marathi', ' Hindi']   \n",
       "1                  ['Hindi English']   \n",
       "\n",
       "                                          key_skills  \\\n",
       "0  ['C', ' Java', ' Keras', ' Flask', ' Deep Lear...   \n",
       "1  ['Java', ' Neural Networks', ' AI', ' Python',...   \n",
       "\n",
       "                                    career_objective  \\\n",
       "0  Computer Engineering student with good technic...   \n",
       "1  Interested in working under company offering A...   \n",
       "\n",
       "                                      key_skills_str  \n",
       "0  C,  Java,  Keras,  Flask,  Deep Learning,  Sel...  \n",
       "1  Java,  Neural Networks,  AI,  Python,  Html5, ...  "
      ]
     },
     "execution_count": 7,
     "metadata": {},
     "output_type": "execute_result"
    }
   ],
   "source": [
    "user_dataset.head(2)"
   ]
  },
  {
   "cell_type": "markdown",
   "id": "ec68ddd4",
   "metadata": {},
   "source": [
    "### User Dataset - Key Skills "
   ]
  },
  {
   "cell_type": "code",
   "execution_count": 8,
   "id": "9aaa05e0",
   "metadata": {},
   "outputs": [
    {
     "data": {
      "text/plain": [
       "(1097, 2065)"
      ]
     },
     "execution_count": 8,
     "metadata": {},
     "output_type": "execute_result"
    }
   ],
   "source": [
    "\n",
    "tf = TfidfVectorizer(analyzer='word',ngram_range=(1, 2),min_df=0, stop_words='english')\n",
    "tfidf_matrix = tf.fit_transform(user_dataset['key_skills_str'].values.astype('U'))\n",
    "tfidf_matrix.shape\n"
   ]
  },
  {
   "cell_type": "code",
   "execution_count": 9,
   "id": "7fdcc567",
   "metadata": {},
   "outputs": [
    {
     "data": {
      "text/plain": [
       "array([1.        , 0.02408797, 0.        , ..., 0.06121443, 0.01629229,\n",
       "       0.007909  ])"
      ]
     },
     "execution_count": 9,
     "metadata": {},
     "output_type": "execute_result"
    }
   ],
   "source": [
    "cosine_sim = linear_kernel(tfidf_matrix, tfidf_matrix)\n",
    "cosine_sim[0]\n"
   ]
  },
  {
   "cell_type": "code",
   "execution_count": 10,
   "id": "684d917e",
   "metadata": {},
   "outputs": [
    {
     "data": {
      "text/plain": [
       "userid\n",
       "1001    0\n",
       "1002    1\n",
       "dtype: int64"
      ]
     },
     "execution_count": 10,
     "metadata": {},
     "output_type": "execute_result"
    }
   ],
   "source": [
    "user_dataset = user_dataset.reset_index()\n",
    "titles = user_dataset['userid']\n",
    "indices = pd.Series(user_dataset.index, index=user_dataset['userid'])\n",
    "indices.head(2)"
   ]
  },
  {
   "cell_type": "code",
   "execution_count": 11,
   "id": "a8cc4a8c",
   "metadata": {},
   "outputs": [
    {
     "data": {
      "text/plain": [
       "894     1847\n",
       "996     1946\n",
       "981     1931\n",
       "256     1231\n",
       "868     1821\n",
       "970     1920\n",
       "1089    2039\n",
       "714     1667\n",
       "417     1375\n",
       "493     1444\n",
       "Name: userid, dtype: object"
      ]
     },
     "execution_count": 11,
     "metadata": {},
     "output_type": "execute_result"
    }
   ],
   "source": [
    "def get_recommendations(title): #this is getting similar users based on their career objectives???\n",
    "    idx = indices[title]\n",
    "    sim_scores = list(enumerate(cosine_sim[idx]))\n",
    "    sim_scores = sorted(sim_scores, key=lambda x: x[1], reverse=True)\n",
    "    sim_scores = sim_scores[1:31]\n",
    "    movie_indices = [i[0] for i in sim_scores]\n",
    "    return titles.iloc[movie_indices]\n",
    "\n",
    "get_recommendations(\"1001\").head(10)"
   ]
  },
  {
   "cell_type": "code",
   "execution_count": 12,
   "id": "8c692e3a",
   "metadata": {},
   "outputs": [
    {
     "data": {
      "text/plain": [
       "996    1946\n",
       "981    1931\n",
       "0      1001\n",
       "417    1375\n",
       "256    1231\n",
       "322    1292\n",
       "714    1667\n",
       "112    1104\n",
       "201    1182\n",
       "521    1473\n",
       "Name: userid, dtype: object"
      ]
     },
     "execution_count": 12,
     "metadata": {},
     "output_type": "execute_result"
    }
   ],
   "source": [
    "get_recommendations(\"1847\").head(10)"
   ]
  },
  {
   "cell_type": "code",
   "execution_count": 13,
   "id": "ce1369d2",
   "metadata": {},
   "outputs": [
    {
     "data": {
      "text/plain": [
       "996    1946\n",
       "981    1931\n",
       "0      1001\n",
       "417    1375\n",
       "256    1231\n",
       "322    1292\n",
       "714    1667\n",
       "112    1104\n",
       "201    1182\n",
       "521    1473\n",
       "Name: userid, dtype: object"
      ]
     },
     "execution_count": 13,
     "metadata": {},
     "output_type": "execute_result"
    }
   ],
   "source": [
    "get_recommendations(\"1946\").head(10)"
   ]
  },
  {
   "cell_type": "markdown",
   "id": "741a2deb",
   "metadata": {},
   "source": [
    "###  User Dataset - Career Objective"
   ]
  },
  {
   "cell_type": "code",
   "execution_count": 14,
   "id": "69d77967",
   "metadata": {},
   "outputs": [
    {
     "data": {
      "text/plain": [
       "(1097, 4673)"
      ]
     },
     "execution_count": 14,
     "metadata": {},
     "output_type": "execute_result"
    }
   ],
   "source": [
    "tf = TfidfVectorizer(analyzer='word',ngram_range=(1, 2),min_df=0, stop_words='english')\n",
    "tfidf_matrix = tf.fit_transform(user_dataset['career_objective'].values.astype('U'))\n",
    "tfidf_matrix.shape"
   ]
  },
  {
   "cell_type": "code",
   "execution_count": 15,
   "id": "0640a5ea",
   "metadata": {},
   "outputs": [
    {
     "data": {
      "text/plain": [
       "array([1.        , 0.        , 0.        , ..., 0.00592012, 0.        ,\n",
       "       0.0596521 ])"
      ]
     },
     "execution_count": 15,
     "metadata": {},
     "output_type": "execute_result"
    }
   ],
   "source": [
    "cosine_sim = linear_kernel(tfidf_matrix, tfidf_matrix)\n",
    "cosine_sim[0]\n"
   ]
  },
  {
   "cell_type": "code",
   "execution_count": 16,
   "id": "ea5cacd1",
   "metadata": {},
   "outputs": [
    {
     "data": {
      "text/plain": [
       "userid\n",
       "1001    0\n",
       "1002    1\n",
       "dtype: int64"
      ]
     },
     "execution_count": 16,
     "metadata": {},
     "output_type": "execute_result"
    }
   ],
   "source": [
    "user_dataset = user_dataset.reset_index()\n",
    "titles = user_dataset['userid']\n",
    "indices = pd.Series(user_dataset.index, index=user_dataset['userid'])\n",
    "indices.head(2)"
   ]
  },
  {
   "cell_type": "code",
   "execution_count": 17,
   "id": "a18494f7",
   "metadata": {},
   "outputs": [
    {
     "data": {
      "text/plain": [
       "894     1847\n",
       "996     1946\n",
       "93      1087\n",
       "110     1102\n",
       "180     1161\n",
       "20      1021\n",
       "914     1867\n",
       "602     1555\n",
       "801     1754\n",
       "1022    1972\n",
       "Name: userid, dtype: object"
      ]
     },
     "execution_count": 17,
     "metadata": {},
     "output_type": "execute_result"
    }
   ],
   "source": [
    "def get_recommendations(title): #this is getting similar users based on their career objectives???\n",
    "    idx = indices[title]\n",
    "    sim_scores = list(enumerate(cosine_sim[idx]))\n",
    "    sim_scores = sorted(sim_scores, key=lambda x: x[1], reverse=True)\n",
    "    sim_scores = sim_scores[1:31]\n",
    "    movie_indices = [i[0] for i in sim_scores]\n",
    "    return titles.iloc[movie_indices]\n",
    "\n",
    "get_recommendations(\"1001\").head(10)"
   ]
  },
  {
   "cell_type": "code",
   "execution_count": 37,
   "id": "0c8997f8",
   "metadata": {},
   "outputs": [
    {
     "data": {
      "text/plain": [
       "0    Computer Engineering student with good technic...\n",
       "Name: career_objective, dtype: object"
      ]
     },
     "execution_count": 37,
     "metadata": {},
     "output_type": "execute_result"
    }
   ],
   "source": [
    "user_dataset[\"career_objective\"].loc[user_dataset['userid'] == '1001']"
   ]
  },
  {
   "cell_type": "code",
   "execution_count": 32,
   "id": "b98858ea",
   "metadata": {},
   "outputs": [
    {
     "data": {
      "text/html": [
       "<div>\n",
       "<style scoped>\n",
       "    .dataframe tbody tr th:only-of-type {\n",
       "        vertical-align: middle;\n",
       "    }\n",
       "\n",
       "    .dataframe tbody tr th {\n",
       "        vertical-align: top;\n",
       "    }\n",
       "\n",
       "    .dataframe thead th {\n",
       "        text-align: right;\n",
       "    }\n",
       "</style>\n",
       "<table border=\"1\" class=\"dataframe\">\n",
       "  <thead>\n",
       "    <tr style=\"text-align: right;\">\n",
       "      <th></th>\n",
       "      <th>level_0</th>\n",
       "      <th>index</th>\n",
       "      <th>Unnamed: 0</th>\n",
       "      <th>userid</th>\n",
       "      <th>degree_1</th>\n",
       "      <th>degree_1_specializations</th>\n",
       "      <th>known_languages</th>\n",
       "      <th>key_skills</th>\n",
       "      <th>career_objective</th>\n",
       "      <th>key_skills_str</th>\n",
       "    </tr>\n",
       "  </thead>\n",
       "  <tbody>\n",
       "    <tr>\n",
       "      <th>894</th>\n",
       "      <td>894</td>\n",
       "      <td>894</td>\n",
       "      <td>842</td>\n",
       "      <td>1847</td>\n",
       "      <td>B.E.</td>\n",
       "      <td>Computer Science &amp; Engineering</td>\n",
       "      <td>['English', ' Marathi', ' Hindi']</td>\n",
       "      <td>['C', ' Java', ' Keras', ' Flask', ' Deep Lear...</td>\n",
       "      <td>Computer Engineering student with good technic...</td>\n",
       "      <td>C,  Java,  Keras,  Flask,  Deep Learning,  Sel...</td>\n",
       "    </tr>\n",
       "  </tbody>\n",
       "</table>\n",
       "</div>"
      ],
      "text/plain": [
       "     level_0  index Unnamed: 0 userid degree_1  \\\n",
       "894      894    894        842   1847     B.E.   \n",
       "\n",
       "           degree_1_specializations                    known_languages  \\\n",
       "894  Computer Science & Engineering  ['English', ' Marathi', ' Hindi']   \n",
       "\n",
       "                                            key_skills  \\\n",
       "894  ['C', ' Java', ' Keras', ' Flask', ' Deep Lear...   \n",
       "\n",
       "                                      career_objective  \\\n",
       "894  Computer Engineering student with good technic...   \n",
       "\n",
       "                                        key_skills_str  \n",
       "894  C,  Java,  Keras,  Flask,  Deep Learning,  Sel...  "
      ]
     },
     "execution_count": 32,
     "metadata": {},
     "output_type": "execute_result"
    }
   ],
   "source": [
    "user_dataset.loc[user_dataset['userid'] == '1847']"
   ]
  },
  {
   "cell_type": "code",
   "execution_count": 41,
   "id": "d4c6344b",
   "metadata": {},
   "outputs": [
    {
     "data": {
      "text/html": [
       "<div>\n",
       "<style scoped>\n",
       "    .dataframe tbody tr th:only-of-type {\n",
       "        vertical-align: middle;\n",
       "    }\n",
       "\n",
       "    .dataframe tbody tr th {\n",
       "        vertical-align: top;\n",
       "    }\n",
       "\n",
       "    .dataframe thead th {\n",
       "        text-align: right;\n",
       "    }\n",
       "</style>\n",
       "<table border=\"1\" class=\"dataframe\">\n",
       "  <thead>\n",
       "    <tr style=\"text-align: right;\">\n",
       "      <th></th>\n",
       "      <th>level_0</th>\n",
       "      <th>index</th>\n",
       "      <th>Unnamed: 0</th>\n",
       "      <th>userid</th>\n",
       "      <th>degree_1</th>\n",
       "      <th>degree_1_specializations</th>\n",
       "      <th>known_languages</th>\n",
       "      <th>key_skills</th>\n",
       "      <th>career_objective</th>\n",
       "      <th>key_skills_str</th>\n",
       "    </tr>\n",
       "  </thead>\n",
       "  <tbody>\n",
       "    <tr>\n",
       "      <th>93</th>\n",
       "      <td>93</td>\n",
       "      <td>93</td>\n",
       "      <td>86</td>\n",
       "      <td>1087</td>\n",
       "      <td>B.E.</td>\n",
       "      <td>Computer Science &amp; Engineering</td>\n",
       "      <td>['English', ' Marathi ', ' Hindi']</td>\n",
       "      <td>['Java', ' Python', ' Machine Learning', ' CPP...</td>\n",
       "      <td>Dedicated and passionate computer engineering ...</td>\n",
       "      <td>Java,  Python,  Machine Learning,  CPP,  Andro...</td>\n",
       "    </tr>\n",
       "  </tbody>\n",
       "</table>\n",
       "</div>"
      ],
      "text/plain": [
       "    level_0  index Unnamed: 0 userid degree_1        degree_1_specializations  \\\n",
       "93       93     93         86   1087     B.E.  Computer Science & Engineering   \n",
       "\n",
       "                       known_languages  \\\n",
       "93  ['English', ' Marathi ', ' Hindi']   \n",
       "\n",
       "                                           key_skills  \\\n",
       "93  ['Java', ' Python', ' Machine Learning', ' CPP...   \n",
       "\n",
       "                                     career_objective  \\\n",
       "93  Dedicated and passionate computer engineering ...   \n",
       "\n",
       "                                       key_skills_str  \n",
       "93  Java,  Python,  Machine Learning,  CPP,  Andro...  "
      ]
     },
     "execution_count": 41,
     "metadata": {},
     "output_type": "execute_result"
    }
   ],
   "source": [
    "user_dataset.loc[user_dataset['userid'] == '1087']"
   ]
  },
  {
   "cell_type": "markdown",
   "id": "5955f95c",
   "metadata": {},
   "source": [
    "### Course Dataset - degree 1, degree 1 specialization and key skills"
   ]
  },
  {
   "cell_type": "code",
   "execution_count": 44,
   "id": "530a1c8f",
   "metadata": {},
   "outputs": [
    {
     "data": {
      "text/html": [
       "<div>\n",
       "<style scoped>\n",
       "    .dataframe tbody tr th:only-of-type {\n",
       "        vertical-align: middle;\n",
       "    }\n",
       "\n",
       "    .dataframe tbody tr th {\n",
       "        vertical-align: top;\n",
       "    }\n",
       "\n",
       "    .dataframe thead th {\n",
       "        text-align: right;\n",
       "    }\n",
       "</style>\n",
       "<table border=\"1\" class=\"dataframe\">\n",
       "  <thead>\n",
       "    <tr style=\"text-align: right;\">\n",
       "      <th></th>\n",
       "      <th>Unnamed: 0</th>\n",
       "      <th>sr_</th>\n",
       "      <th>degree_1</th>\n",
       "      <th>degree_1_specializations</th>\n",
       "      <th>campus</th>\n",
       "      <th>key_skills</th>\n",
       "      <th>key_skills_str</th>\n",
       "    </tr>\n",
       "  </thead>\n",
       "  <tbody>\n",
       "    <tr>\n",
       "      <th>0</th>\n",
       "      <td>0</td>\n",
       "      <td>1001</td>\n",
       "      <td>B.E.</td>\n",
       "      <td>Mechanical</td>\n",
       "      <td>MITCOE</td>\n",
       "      <td>['CATIA']</td>\n",
       "      <td>CATIA</td>\n",
       "    </tr>\n",
       "    <tr>\n",
       "      <th>1</th>\n",
       "      <td>1</td>\n",
       "      <td>1002</td>\n",
       "      <td>B.E.</td>\n",
       "      <td>Mechanical</td>\n",
       "      <td>MITCOE</td>\n",
       "      <td>['CATIA']</td>\n",
       "      <td>CATIA</td>\n",
       "    </tr>\n",
       "  </tbody>\n",
       "</table>\n",
       "</div>"
      ],
      "text/plain": [
       "   Unnamed: 0   sr_ degree_1 degree_1_specializations  campus key_skills  \\\n",
       "0           0  1001     B.E.               Mechanical  MITCOE  ['CATIA']   \n",
       "1           1  1002     B.E.               Mechanical  MITCOE  ['CATIA']   \n",
       "\n",
       "  key_skills_str  \n",
       "0          CATIA  \n",
       "1          CATIA  "
      ]
     },
     "execution_count": 44,
     "metadata": {},
     "output_type": "execute_result"
    }
   ],
   "source": [
    "course_dataset.head(2)"
   ]
  },
  {
   "cell_type": "code",
   "execution_count": 43,
   "id": "f8cdfcc0",
   "metadata": {},
   "outputs": [],
   "source": [
    "df = pd.DataFrame()\n",
    "df[\"details\"] = course_dataset[\"degree_1\"] + course_dataset[\"degree_1_specializations\"] + course_dataset[\"key_skills_str\"]"
   ]
  },
  {
   "cell_type": "code",
   "execution_count": 50,
   "id": "5c8dfbb7",
   "metadata": {},
   "outputs": [
    {
     "data": {
      "text/plain": [
       "sr_\n",
       "1001    0\n",
       "1002    1\n",
       "dtype: int64"
      ]
     },
     "execution_count": 50,
     "metadata": {},
     "output_type": "execute_result"
    }
   ],
   "source": [
    "tf = TfidfVectorizer(analyzer='word',ngram_range=(1, 2),min_df=0, stop_words='english')\n",
    "tfidf_matrix = tf.fit_transform(df['details'].values.astype('U'))\n",
    "\n",
    "cosine_sim = linear_kernel(tfidf_matrix, tfidf_matrix)\n",
    "\n",
    "df = df.reset_index()\n",
    "titles = course_dataset['sr_']\n",
    "indices = pd.Series(course_dataset.index, index=course_dataset['sr_'])\n",
    "indices.head(2)"
   ]
  },
  {
   "cell_type": "code",
   "execution_count": 51,
   "id": "99d03c4e",
   "metadata": {},
   "outputs": [
    {
     "ename": "KeyError",
     "evalue": "'1002'",
     "output_type": "error",
     "traceback": [
      "\u001b[1;31m---------------------------------------------------------------------------\u001b[0m",
      "\u001b[1;31mKeyError\u001b[0m                                  Traceback (most recent call last)",
      "File \u001b[1;32m~\\anaconda3\\lib\\site-packages\\pandas\\core\\indexes\\base.py:3361\u001b[0m, in \u001b[0;36mIndex.get_loc\u001b[1;34m(self, key, method, tolerance)\u001b[0m\n\u001b[0;32m   3360\u001b[0m \u001b[38;5;28;01mtry\u001b[39;00m:\n\u001b[1;32m-> 3361\u001b[0m     \u001b[38;5;28;01mreturn\u001b[39;00m \u001b[38;5;28;43mself\u001b[39;49m\u001b[38;5;241;43m.\u001b[39;49m\u001b[43m_engine\u001b[49m\u001b[38;5;241;43m.\u001b[39;49m\u001b[43mget_loc\u001b[49m\u001b[43m(\u001b[49m\u001b[43mcasted_key\u001b[49m\u001b[43m)\u001b[49m\n\u001b[0;32m   3362\u001b[0m \u001b[38;5;28;01mexcept\u001b[39;00m \u001b[38;5;167;01mKeyError\u001b[39;00m \u001b[38;5;28;01mas\u001b[39;00m err:\n",
      "File \u001b[1;32m~\\anaconda3\\lib\\site-packages\\pandas\\_libs\\index.pyx:76\u001b[0m, in \u001b[0;36mpandas._libs.index.IndexEngine.get_loc\u001b[1;34m()\u001b[0m\n",
      "File \u001b[1;32mpandas\\_libs\\index_class_helper.pxi:105\u001b[0m, in \u001b[0;36mpandas._libs.index.Int64Engine._check_type\u001b[1;34m()\u001b[0m\n",
      "File \u001b[1;32mpandas\\_libs\\index_class_helper.pxi:105\u001b[0m, in \u001b[0;36mpandas._libs.index.Int64Engine._check_type\u001b[1;34m()\u001b[0m\n",
      "\u001b[1;31mKeyError\u001b[0m: '1002'",
      "\nThe above exception was the direct cause of the following exception:\n",
      "\u001b[1;31mKeyError\u001b[0m                                  Traceback (most recent call last)",
      "Cell \u001b[1;32mIn[51], line 9\u001b[0m\n\u001b[0;32m      6\u001b[0m     movie_indices \u001b[38;5;241m=\u001b[39m [i[\u001b[38;5;241m0\u001b[39m] \u001b[38;5;28;01mfor\u001b[39;00m i \u001b[38;5;129;01min\u001b[39;00m sim_scores]\n\u001b[0;32m      7\u001b[0m     \u001b[38;5;28;01mreturn\u001b[39;00m titles\u001b[38;5;241m.\u001b[39miloc[movie_indices]\n\u001b[1;32m----> 9\u001b[0m \u001b[43mget_recommendations\u001b[49m\u001b[43m(\u001b[49m\u001b[38;5;124;43m\"\u001b[39;49m\u001b[38;5;124;43m1002\u001b[39;49m\u001b[38;5;124;43m\"\u001b[39;49m\u001b[43m)\u001b[49m\u001b[38;5;241m.\u001b[39mhead(\u001b[38;5;241m10\u001b[39m)\n",
      "Cell \u001b[1;32mIn[51], line 2\u001b[0m, in \u001b[0;36mget_recommendations\u001b[1;34m(title)\u001b[0m\n\u001b[0;32m      1\u001b[0m \u001b[38;5;28;01mdef\u001b[39;00m \u001b[38;5;21mget_recommendations\u001b[39m(title): \u001b[38;5;66;03m#this is getting similar users based on their career objectives???\u001b[39;00m\n\u001b[1;32m----> 2\u001b[0m     idx \u001b[38;5;241m=\u001b[39m \u001b[43mindices\u001b[49m\u001b[43m[\u001b[49m\u001b[43mtitle\u001b[49m\u001b[43m]\u001b[49m\n\u001b[0;32m      3\u001b[0m     sim_scores \u001b[38;5;241m=\u001b[39m \u001b[38;5;28mlist\u001b[39m(\u001b[38;5;28menumerate\u001b[39m(cosine_sim[idx]))\n\u001b[0;32m      4\u001b[0m     sim_scores \u001b[38;5;241m=\u001b[39m \u001b[38;5;28msorted\u001b[39m(sim_scores, key\u001b[38;5;241m=\u001b[39m\u001b[38;5;28;01mlambda\u001b[39;00m x: x[\u001b[38;5;241m1\u001b[39m], reverse\u001b[38;5;241m=\u001b[39m\u001b[38;5;28;01mTrue\u001b[39;00m)\n",
      "File \u001b[1;32m~\\anaconda3\\lib\\site-packages\\pandas\\core\\series.py:942\u001b[0m, in \u001b[0;36mSeries.__getitem__\u001b[1;34m(self, key)\u001b[0m\n\u001b[0;32m    939\u001b[0m     \u001b[38;5;28;01mreturn\u001b[39;00m \u001b[38;5;28mself\u001b[39m\u001b[38;5;241m.\u001b[39m_values[key]\n\u001b[0;32m    941\u001b[0m \u001b[38;5;28;01melif\u001b[39;00m key_is_scalar:\n\u001b[1;32m--> 942\u001b[0m     \u001b[38;5;28;01mreturn\u001b[39;00m \u001b[38;5;28;43mself\u001b[39;49m\u001b[38;5;241;43m.\u001b[39;49m\u001b[43m_get_value\u001b[49m\u001b[43m(\u001b[49m\u001b[43mkey\u001b[49m\u001b[43m)\u001b[49m\n\u001b[0;32m    944\u001b[0m \u001b[38;5;28;01mif\u001b[39;00m is_hashable(key):\n\u001b[0;32m    945\u001b[0m     \u001b[38;5;66;03m# Otherwise index.get_value will raise InvalidIndexError\u001b[39;00m\n\u001b[0;32m    946\u001b[0m     \u001b[38;5;28;01mtry\u001b[39;00m:\n\u001b[0;32m    947\u001b[0m         \u001b[38;5;66;03m# For labels that don't resolve as scalars like tuples and frozensets\u001b[39;00m\n",
      "File \u001b[1;32m~\\anaconda3\\lib\\site-packages\\pandas\\core\\series.py:1051\u001b[0m, in \u001b[0;36mSeries._get_value\u001b[1;34m(self, label, takeable)\u001b[0m\n\u001b[0;32m   1048\u001b[0m     \u001b[38;5;28;01mreturn\u001b[39;00m \u001b[38;5;28mself\u001b[39m\u001b[38;5;241m.\u001b[39m_values[label]\n\u001b[0;32m   1050\u001b[0m \u001b[38;5;66;03m# Similar to Index.get_value, but we do not fall back to positional\u001b[39;00m\n\u001b[1;32m-> 1051\u001b[0m loc \u001b[38;5;241m=\u001b[39m \u001b[38;5;28;43mself\u001b[39;49m\u001b[38;5;241;43m.\u001b[39;49m\u001b[43mindex\u001b[49m\u001b[38;5;241;43m.\u001b[39;49m\u001b[43mget_loc\u001b[49m\u001b[43m(\u001b[49m\u001b[43mlabel\u001b[49m\u001b[43m)\u001b[49m\n\u001b[0;32m   1052\u001b[0m \u001b[38;5;28;01mreturn\u001b[39;00m \u001b[38;5;28mself\u001b[39m\u001b[38;5;241m.\u001b[39mindex\u001b[38;5;241m.\u001b[39m_get_values_for_loc(\u001b[38;5;28mself\u001b[39m, loc, label)\n",
      "File \u001b[1;32m~\\anaconda3\\lib\\site-packages\\pandas\\core\\indexes\\base.py:3363\u001b[0m, in \u001b[0;36mIndex.get_loc\u001b[1;34m(self, key, method, tolerance)\u001b[0m\n\u001b[0;32m   3361\u001b[0m         \u001b[38;5;28;01mreturn\u001b[39;00m \u001b[38;5;28mself\u001b[39m\u001b[38;5;241m.\u001b[39m_engine\u001b[38;5;241m.\u001b[39mget_loc(casted_key)\n\u001b[0;32m   3362\u001b[0m     \u001b[38;5;28;01mexcept\u001b[39;00m \u001b[38;5;167;01mKeyError\u001b[39;00m \u001b[38;5;28;01mas\u001b[39;00m err:\n\u001b[1;32m-> 3363\u001b[0m         \u001b[38;5;28;01mraise\u001b[39;00m \u001b[38;5;167;01mKeyError\u001b[39;00m(key) \u001b[38;5;28;01mfrom\u001b[39;00m \u001b[38;5;21;01merr\u001b[39;00m\n\u001b[0;32m   3365\u001b[0m \u001b[38;5;28;01mif\u001b[39;00m is_scalar(key) \u001b[38;5;129;01mand\u001b[39;00m isna(key) \u001b[38;5;129;01mand\u001b[39;00m \u001b[38;5;129;01mnot\u001b[39;00m \u001b[38;5;28mself\u001b[39m\u001b[38;5;241m.\u001b[39mhasnans:\n\u001b[0;32m   3366\u001b[0m     \u001b[38;5;28;01mraise\u001b[39;00m \u001b[38;5;167;01mKeyError\u001b[39;00m(key)\n",
      "\u001b[1;31mKeyError\u001b[0m: '1002'"
     ]
    }
   ],
   "source": [
    "def get_recommendations(title): #this is getting similar users based on their career objectives???\n",
    "    idx = indices[title]\n",
    "    sim_scores = list(enumerate(cosine_sim[idx]))\n",
    "    sim_scores = sorted(sim_scores, key=lambda x: x[1], reverse=True)\n",
    "    sim_scores = sim_scores[1:31]\n",
    "    movie_indices = [i[0] for i in sim_scores]\n",
    "    return titles.iloc[movie_indices]\n",
    "\n",
    "get_recommendations(\"1002\").head(10)"
   ]
  },
  {
   "cell_type": "code",
   "execution_count": null,
   "id": "e4e27c2d",
   "metadata": {},
   "outputs": [],
   "source": []
  },
  {
   "cell_type": "code",
   "execution_count": null,
   "id": "40c0eec5",
   "metadata": {},
   "outputs": [],
   "source": []
  },
  {
   "cell_type": "code",
   "execution_count": null,
   "id": "6be42336",
   "metadata": {},
   "outputs": [],
   "source": []
  },
  {
   "cell_type": "code",
   "execution_count": null,
   "id": "865ee3f9",
   "metadata": {},
   "outputs": [],
   "source": []
  },
  {
   "cell_type": "code",
   "execution_count": null,
   "id": "82c49085",
   "metadata": {},
   "outputs": [],
   "source": []
  },
  {
   "cell_type": "code",
   "execution_count": null,
   "id": "b8ea5d11",
   "metadata": {},
   "outputs": [],
   "source": []
  },
  {
   "cell_type": "code",
   "execution_count": null,
   "id": "572c192e",
   "metadata": {},
   "outputs": [],
   "source": []
  },
  {
   "cell_type": "code",
   "execution_count": null,
   "id": "628ea363",
   "metadata": {},
   "outputs": [],
   "source": []
  },
  {
   "cell_type": "code",
   "execution_count": null,
   "id": "53ac60c3",
   "metadata": {},
   "outputs": [],
   "source": []
  },
  {
   "cell_type": "code",
   "execution_count": null,
   "id": "41e2ab97",
   "metadata": {},
   "outputs": [],
   "source": []
  },
  {
   "cell_type": "code",
   "execution_count": null,
   "id": "df7a7d8e",
   "metadata": {},
   "outputs": [],
   "source": []
  },
  {
   "cell_type": "code",
   "execution_count": null,
   "id": "a95cf7f4",
   "metadata": {},
   "outputs": [],
   "source": []
  },
  {
   "cell_type": "code",
   "execution_count": null,
   "id": "9670dcc1",
   "metadata": {},
   "outputs": [],
   "source": []
  }
 ],
 "metadata": {
  "kernelspec": {
   "display_name": "Python 3 (ipykernel)",
   "language": "python",
   "name": "python3"
  },
  "language_info": {
   "codemirror_mode": {
    "name": "ipython",
    "version": 3
   },
   "file_extension": ".py",
   "mimetype": "text/x-python",
   "name": "python",
   "nbconvert_exporter": "python",
   "pygments_lexer": "ipython3",
   "version": "3.9.7"
  }
 },
 "nbformat": 4,
 "nbformat_minor": 5
}
