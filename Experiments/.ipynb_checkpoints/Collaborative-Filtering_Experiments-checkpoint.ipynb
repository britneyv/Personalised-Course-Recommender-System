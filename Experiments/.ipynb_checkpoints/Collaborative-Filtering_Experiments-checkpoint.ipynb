{
 "cells": [
  {
   "cell_type": "code",
   "execution_count": 1,
   "id": "e2eb375e",
   "metadata": {},
   "outputs": [],
   "source": [
    "import pandas as pd\n",
    "import warnings\n",
    "warnings.filterwarnings(\"ignore\")\n",
    "import numpy as np\n",
    "from surprise import accuracy\n",
    "from surprise.model_selection.validation import cross_validate\n",
    "from surprise.dataset import Dataset\n",
    "from surprise.reader import Reader\n",
    "from surprise import SVD, KNNBasic, KNNWithMeans, KNNWithZScore, KNNBaseline\n",
    "from surprise.model_selection import train_test_split, GridSearchCV\n",
    "import random"
   ]
  },
  {
   "cell_type": "markdown",
   "id": "8ac6ce2b",
   "metadata": {},
   "source": [
    "### Calling the Saved Dataset"
   ]
  },
  {
   "cell_type": "code",
   "execution_count": 2,
   "id": "6aba25fe",
   "metadata": {},
   "outputs": [
    {
     "data": {
      "text/html": [
       "<div>\n",
       "<style scoped>\n",
       "    .dataframe tbody tr th:only-of-type {\n",
       "        vertical-align: middle;\n",
       "    }\n",
       "\n",
       "    .dataframe tbody tr th {\n",
       "        vertical-align: top;\n",
       "    }\n",
       "\n",
       "    .dataframe thead th {\n",
       "        text-align: right;\n",
       "    }\n",
       "</style>\n",
       "<table border=\"1\" class=\"dataframe\">\n",
       "  <thead>\n",
       "    <tr style=\"text-align: right;\">\n",
       "      <th></th>\n",
       "      <th>course_id</th>\n",
       "      <th>user_id</th>\n",
       "      <th>rating</th>\n",
       "    </tr>\n",
       "  </thead>\n",
       "  <tbody>\n",
       "    <tr>\n",
       "      <th>0</th>\n",
       "      <td>2001</td>\n",
       "      <td>1001</td>\n",
       "      <td>5</td>\n",
       "    </tr>\n",
       "    <tr>\n",
       "      <th>1</th>\n",
       "      <td>2001</td>\n",
       "      <td>1002</td>\n",
       "      <td>3</td>\n",
       "    </tr>\n",
       "    <tr>\n",
       "      <th>2</th>\n",
       "      <td>2001</td>\n",
       "      <td>1003</td>\n",
       "      <td>1</td>\n",
       "    </tr>\n",
       "    <tr>\n",
       "      <th>3</th>\n",
       "      <td>2001</td>\n",
       "      <td>1004</td>\n",
       "      <td>0</td>\n",
       "    </tr>\n",
       "    <tr>\n",
       "      <th>4</th>\n",
       "      <td>2001</td>\n",
       "      <td>1005</td>\n",
       "      <td>2</td>\n",
       "    </tr>\n",
       "  </tbody>\n",
       "</table>\n",
       "</div>"
      ],
      "text/plain": [
       "   course_id  user_id  rating\n",
       "0       2001     1001       5\n",
       "1       2001     1002       3\n",
       "2       2001     1003       1\n",
       "3       2001     1004       0\n",
       "4       2001     1005       2"
      ]
     },
     "execution_count": 2,
     "metadata": {},
     "output_type": "execute_result"
    }
   ],
   "source": [
    "ratings_df = pd.read_csv(\"../data/ratingData.csv\", encoding= 'unicode_escape')\n",
    "ratings_df.head()"
   ]
  },
  {
   "cell_type": "markdown",
   "id": "02fb7d57",
   "metadata": {},
   "source": [
    "### Using Surprise and testing with different algorithms (SVD, KnnBasic, KnnBaseline, KnnWithMeans, KnnWithZScore) to find the best model to use based on MAE, MSE and RMSE scores. "
   ]
  },
  {
   "cell_type": "code",
   "execution_count": 3,
   "id": "1c87def2",
   "metadata": {},
   "outputs": [
    {
     "data": {
      "text/html": [
       "<div>\n",
       "<style scoped>\n",
       "    .dataframe tbody tr th:only-of-type {\n",
       "        vertical-align: middle;\n",
       "    }\n",
       "\n",
       "    .dataframe tbody tr th {\n",
       "        vertical-align: top;\n",
       "    }\n",
       "\n",
       "    .dataframe thead th {\n",
       "        text-align: right;\n",
       "    }\n",
       "</style>\n",
       "<table border=\"1\" class=\"dataframe\">\n",
       "  <thead>\n",
       "    <tr style=\"text-align: right;\">\n",
       "      <th></th>\n",
       "      <th>MAE</th>\n",
       "      <th>MSE</th>\n",
       "      <th>RMSE</th>\n",
       "      <th>Fit Time</th>\n",
       "      <th>Test Time</th>\n",
       "    </tr>\n",
       "  </thead>\n",
       "  <tbody>\n",
       "    <tr>\n",
       "      <th>matrix_factorization.SVD</th>\n",
       "      <td>1.095831</td>\n",
       "      <td>1.838189</td>\n",
       "      <td>1.355601</td>\n",
       "      <td>0.052512</td>\n",
       "      <td>0.042773</td>\n",
       "    </tr>\n",
       "    <tr>\n",
       "      <th>knns.KNNWithZScore</th>\n",
       "      <td>1.288861</td>\n",
       "      <td>2.437361</td>\n",
       "      <td>1.561071</td>\n",
       "      <td>0.008011</td>\n",
       "      <td>0.037642</td>\n",
       "    </tr>\n",
       "    <tr>\n",
       "      <th>knns.KNNWithMeans</th>\n",
       "      <td>1.289591</td>\n",
       "      <td>2.444511</td>\n",
       "      <td>1.563372</td>\n",
       "      <td>0.005192</td>\n",
       "      <td>0.035532</td>\n",
       "    </tr>\n",
       "    <tr>\n",
       "      <th>knns.KNNBaseline</th>\n",
       "      <td>1.289648</td>\n",
       "      <td>2.445601</td>\n",
       "      <td>1.563634</td>\n",
       "      <td>0.007668</td>\n",
       "      <td>0.075572</td>\n",
       "    </tr>\n",
       "    <tr>\n",
       "      <th>knns.KNNBasic</th>\n",
       "      <td>1.326404</td>\n",
       "      <td>2.547307</td>\n",
       "      <td>1.595991</td>\n",
       "      <td>0.003122</td>\n",
       "      <td>0.059240</td>\n",
       "    </tr>\n",
       "  </tbody>\n",
       "</table>\n",
       "</div>"
      ],
      "text/plain": [
       "                                MAE       MSE      RMSE  Fit Time  Test Time\n",
       "matrix_factorization.SVD   1.095831  1.838189  1.355601  0.052512   0.042773\n",
       "knns.KNNWithZScore         1.288861  2.437361  1.561071  0.008011   0.037642\n",
       "knns.KNNWithMeans          1.289591  2.444511  1.563372  0.005192   0.035532\n",
       "knns.KNNBaseline           1.289648  2.445601  1.563634  0.007668   0.075572\n",
       "knns.KNNBasic              1.326404  2.547307  1.595991  0.003122   0.059240"
      ]
     },
     "execution_count": 3,
     "metadata": {},
     "output_type": "execute_result"
    }
   ],
   "source": [
    "reader = Reader(rating_scale=(0, 5))\n",
    "data = Dataset.load_from_df(ratings_df[['user_id','course_id','rating']], reader)\n",
    "\n",
    "#split into training and test sets using 80:20 ratio\n",
    "raw_ratings = data.raw_ratings\n",
    "random.shuffle(raw_ratings)                \n",
    "\n",
    "ratio = int(len(raw_ratings)*0.8)\n",
    "train_raw = raw_ratings[:ratio] \n",
    "test_raw = raw_ratings[ratio:] \n",
    "\n",
    "#data is set to the training dataset\n",
    "data.raw_ratings = train_raw       \n",
    "trainset = data.build_full_trainset() \n",
    "testset = data.construct_testset(test_raw)\n",
    "\n",
    "#create dict for different models \n",
    "models=[SVD(), KNNBasic(), KNNBaseline(), KNNWithMeans(), KNNWithZScore()] \n",
    "results = {} #to store the scores\n",
    "\n",
    "#perform cross validation of MAE and RMSE for all models\n",
    "for model in models:\n",
    "    #kfold set to 5\n",
    "    crossval_scores = cross_validate(model, data, measures=[\"MAE\", \"MSE\", \"RMSE\"], cv=5, n_jobs=-1)  \n",
    "    \n",
    "    #saving and renaming appropraitely\n",
    "    result = pd.DataFrame.from_dict(crossval_scores).mean(axis=0).\\\n",
    "             rename({'test_mae':'MAE', 'test_mse': 'MSE', 'test_rmse': 'RMSE', 'fit_time': 'Fit Time', 'test_time': 'Test Time'})\n",
    "    results[str(model).split(\"algorithms.\")[1].split(\"object \")[0]] = result\n",
    "    \n",
    "#printing all models results\n",
    "all_models = pd.DataFrame.from_dict(results)\n",
    "all_models.T.sort_values(by='RMSE') #models sorted by RMSE"
   ]
  },
  {
   "cell_type": "markdown",
   "id": "2d863a9d",
   "metadata": {},
   "source": [
    "## Testing with Different Parameters \n",
    "### SVD"
   ]
  },
  {
   "cell_type": "markdown",
   "id": "842299c4",
   "metadata": {},
   "source": [
    "####  SVD - Normal"
   ]
  },
  {
   "cell_type": "code",
   "execution_count": 4,
   "id": "40c80e45",
   "metadata": {},
   "outputs": [
    {
     "name": "stdout",
     "output_type": "stream",
     "text": [
      "Evaluating RMSE, MAE of algorithm SVD on 5 split(s).\n",
      "\n",
      "                  Fold 1  Fold 2  Fold 3  Fold 4  Fold 5  Mean    Std     \n",
      "RMSE (testset)    1.3504  1.3860  1.3919  1.3797  1.3247  1.3665  0.0253  \n",
      "MAE (testset)     1.0979  1.1282  1.1315  1.1171  1.0834  1.1116  0.0184  \n",
      "Fit time          0.04    0.04    0.03    0.03    0.03    0.03    0.00    \n",
      "Test time         0.01    0.01    0.01    0.01    0.01    0.01    0.00    \n",
      "\n",
      "Accuracy on the testset:\n",
      "RMSE: 1.2891\n",
      "MSE: 1.6618\n",
      "MAE:  1.0225\n",
      "\n",
      "Predict Tests: \n",
      "user: 1001       item: 2001       r_ui = None   est = 4.35   {'was_impossible': False}\n",
      "user: 2001       item: 1001       r_ui = None   est = 2.59   {'was_impossible': False}\n",
      "user: 1001       item: 88         r_ui = None   est = 2.45   {'was_impossible': False}\n",
      "user: 1001       item: 5          r_ui = None   est = 2.45   {'was_impossible': False}\n",
      "\n",
      "Predict Using TestSet list: \n"
     ]
    },
    {
     "data": {
      "text/plain": [
       "[Prediction(uid=1001, iid=2001, r_ui=5, est=4.353560016318715, details={'was_impossible': False}),\n",
       " Prediction(uid=1002, iid=2001, r_ui=3, est=2.446839209306194, details={'was_impossible': False})]"
      ]
     },
     "execution_count": 4,
     "metadata": {},
     "output_type": "execute_result"
    }
   ],
   "source": [
    "#algo\n",
    "svd = SVD()\n",
    "\n",
    "#cross validate with kfold set to 5\n",
    "cross_validate(svd, data, measures = ['RMSE', 'MAE'], cv = 5, verbose = True)\n",
    "\n",
    "#build train and train train set\n",
    "trainset = data.build_full_trainset()\n",
    "svd.fit(trainset)\n",
    "\n",
    "#test the test set using .test() \n",
    "print('\\nAccuracy on the testset:')\n",
    "accuracy.rmse(svd.test(testset))\n",
    "accuracy.mse(svd.test(testset))\n",
    "accuracy.mae(svd.test(testset))\n",
    "\n",
    "print('\\nPredict Tests: ')\n",
    "print(svd.predict(1001, 2001))\n",
    "print(svd.predict(2001, 1001))\n",
    "print(svd.predict(1001, 88))\n",
    "print(svd.predict(1001, 5))\n",
    "\n",
    "print('\\nPredict Using TestSet list: ')\n",
    "testset = [data.df.loc[i].to_list() for i in range(len(data.df))]\n",
    "svd.test(testset)[:2]"
   ]
  },
  {
   "cell_type": "markdown",
   "id": "6ed120f3",
   "metadata": {},
   "source": [
    "#### SVD - Using GridSearchCV "
   ]
  },
  {
   "cell_type": "code",
   "execution_count": 5,
   "id": "d070e1bd",
   "metadata": {},
   "outputs": [
    {
     "name": "stdout",
     "output_type": "stream",
     "text": [
      "\n",
      "RMSE Best Parameters: {'n_factors': 90, 'n_epochs': 20, 'lr_all': 0.005, 'reg_all': 0.2}\n",
      "RMSE Best Score: 1.4934298075625496\n",
      "MAE Best Parameters: {'n_factors': 90, 'n_epochs': 20, 'lr_all': 0.005, 'reg_all': 0.2}\n",
      "MAE Best Score: 1.2601665019592034\n"
     ]
    }
   ],
   "source": [
    "params = {\"n_factors\": range(10, 100, 20),\n",
    "         \"n_epochs\": [5, 10, 20],\n",
    "         \"lr_all\": [0.002, 0.005],\n",
    "         \"reg_all\": [0.2, 0.5]}\n",
    "\n",
    "gsSVD = GridSearchCV(SVD, params, measures = [\"RMSE\", \"MAE\"], cv = 5, n_jobs = -1)\n",
    "gsSVD.fit(data)\n",
    "\n",
    "print(f'\\nRMSE Best Parameters: {gsSVD.best_params[\"rmse\"]}')\n",
    "print(f'RMSE Best Score: {gsSVD.best_score[\"rmse\"]}')\n",
    "print(f'MAE Best Parameters: {gsSVD.best_params[\"mae\"]}')\n",
    "print(f'MAE Best Score: {gsSVD.best_score[\"mae\"]}')"
   ]
  },
  {
   "cell_type": "markdown",
   "id": "256f26c5",
   "metadata": {},
   "source": [
    "##### Using the Best Hyperparameters found above: "
   ]
  },
  {
   "cell_type": "code",
   "execution_count": 6,
   "id": "ad2f0693",
   "metadata": {},
   "outputs": [
    {
     "name": "stdout",
     "output_type": "stream",
     "text": [
      "\n",
      "Updated Accuracy: \n",
      "RMSE: 1.3031\n",
      "MSE: 1.6981\n",
      "MAE:  1.0905\n"
     ]
    },
    {
     "data": {
      "text/plain": [
       "1.0904704727314765"
      ]
     },
     "execution_count": 6,
     "metadata": {},
     "output_type": "execute_result"
    }
   ],
   "source": [
    "finalSVD = SVD(n_factors = 90, n_epochs = 20, lr_all = 0.005, reg_all = 0.2)\n",
    "predictions = finalSVD.fit(trainset).test(testset)\n",
    "\n",
    "print('\\nUpdated Accuracy: ')\n",
    "accuracy.rmse(predictions)\n",
    "accuracy.mse(predictions)\n",
    "accuracy.mae(predictions)"
   ]
  },
  {
   "cell_type": "markdown",
   "id": "49a0dfce",
   "metadata": {},
   "source": [
    "### KNNBasic"
   ]
  },
  {
   "cell_type": "markdown",
   "id": "adb4a4b3",
   "metadata": {},
   "source": [
    "##### KNNBasic - user-based cosine "
   ]
  },
  {
   "cell_type": "code",
   "execution_count": 7,
   "id": "b891b95f",
   "metadata": {},
   "outputs": [
    {
     "name": "stdout",
     "output_type": "stream",
     "text": [
      "Computing the cosine similarity matrix...\n",
      "Done computing similarity matrix.\n",
      "\n",
      "Accuracy on the testset:\n",
      "RMSE: 1.5182\n",
      "MSE: 2.3048\n",
      "MAE:  1.2637\n",
      "\n",
      "Predict Tests: \n",
      "user: 1001       item: 2001       r_ui = None   est = 1.61   {'actual_k': 13, 'was_impossible': False}\n",
      "user: 2001       item: 1001       r_ui = None   est = 2.59   {'was_impossible': True, 'reason': 'User and/or item is unknown.'}\n",
      "user: 1001       item: 88         r_ui = None   est = 2.59   {'was_impossible': True, 'reason': 'User and/or item is unknown.'}\n",
      "user: 1001       item: 5          r_ui = None   est = 2.59   {'was_impossible': True, 'reason': 'User and/or item is unknown.'}\n",
      "\n",
      "Predict Using TestSet list: \n"
     ]
    },
    {
     "data": {
      "text/plain": [
       "[Prediction(uid=1001, iid=2001, r_ui=5, est=1.611605676774573, details={'actual_k': 13, 'was_impossible': False}),\n",
       " Prediction(uid=1002, iid=2001, r_ui=3, est=1.5289737132318595, details={'actual_k': 13, 'was_impossible': False})]"
      ]
     },
     "execution_count": 7,
     "metadata": {},
     "output_type": "execute_result"
    }
   ],
   "source": [
    "#build train and train train set\n",
    "trainset = data.build_full_trainset()\n",
    "\n",
    "#fitting\n",
    "#using user-based cosine similarity\n",
    "params = {\n",
    "    \"name\": \"cosine\",\n",
    "    \"user_based\": True,  # Compute  similarities between users\n",
    "}\n",
    "algo = KNNBasic(sim_options = params)\n",
    "algo.fit(trainset)\n",
    "\n",
    "#test the test set using .test() \n",
    "print('\\nAccuracy on the testset:')\n",
    "accuracy.rmse(algo.test(testset))\n",
    "accuracy.mse(algo.test(testset))\n",
    "accuracy.mae(algo.test(testset))\n",
    "\n",
    "print('\\nPredict Tests: ')\n",
    "print(algo.predict(1001, 2001))\n",
    "print(algo.predict(2001, 1001))\n",
    "print(algo.predict(1001, 88))\n",
    "print(algo.predict(1001, 5))\n",
    "\n",
    "print('\\nPredict Using TestSet list: ')\n",
    "testset = [data.df.loc[i].to_list() for i in range(len(data.df))]\n",
    "algo.test(testset)[:2]"
   ]
  },
  {
   "cell_type": "markdown",
   "id": "2639617a",
   "metadata": {},
   "source": [
    "#### KNNBasic - item-based cosine "
   ]
  },
  {
   "cell_type": "code",
   "execution_count": 8,
   "id": "2da0787e",
   "metadata": {},
   "outputs": [],
   "source": [
    "# #build train and train train set\n",
    "# trainset = data.build_full_trainset()\n",
    "\n",
    "# #fitting\n",
    "# #using user-based cosine similarity\n",
    "# params = {\n",
    "#     \"name\": \"cosine\",\n",
    "#     \"user_based\": False,  # Compute  similarities between users\n",
    "# }\n",
    "# algo = KNNBasic(sim_options = params)\n",
    "# algo.fit(trainset)\n",
    "\n",
    "# #test the test set using .test() \n",
    "# print('\\nAccuracy on the testset:')\n",
    "# accuracy.rmse(algo.test(testset))\n",
    "# accuracy.mse(algo.test(testset))\n",
    "# accuracy.mae(algo.test(testset))\n",
    "\n",
    "# print('\\nPredict Tests: ')\n",
    "# print(algo.predict(1001, 2001))\n",
    "# print(algo.predict(2001, 1001))\n",
    "# print(algo.predict(1001, 88))\n",
    "# print(algo.predict(1001, 5))\n",
    "\n",
    "# print('\\nPredict Using TestSet list: ')\n",
    "# testset = [data.df.loc[i].to_list() for i in range(len(data.df))]\n",
    "# algo.test(testset)[:2]"
   ]
  },
  {
   "cell_type": "markdown",
   "id": "d5efc100",
   "metadata": {},
   "source": [
    "#### KNNBasic - user-based msd "
   ]
  },
  {
   "cell_type": "code",
   "execution_count": 9,
   "id": "27b223a5",
   "metadata": {},
   "outputs": [
    {
     "name": "stdout",
     "output_type": "stream",
     "text": [
      "Computing the msd similarity matrix...\n",
      "Done computing similarity matrix.\n",
      "\n",
      "Accuracy on the testset:\n",
      "RMSE: 1.2310\n",
      "MSE: 1.5153\n",
      "MAE:  1.0143\n",
      "\n",
      "Predict Tests: \n",
      "user: 1001       item: 2001       r_ui = None   est = 2.58   {'actual_k': 13, 'was_impossible': False}\n",
      "user: 2001       item: 1001       r_ui = None   est = 2.59   {'was_impossible': True, 'reason': 'User and/or item is unknown.'}\n",
      "user: 1001       item: 88         r_ui = None   est = 2.59   {'was_impossible': True, 'reason': 'User and/or item is unknown.'}\n",
      "user: 1001       item: 5          r_ui = None   est = 2.59   {'was_impossible': True, 'reason': 'User and/or item is unknown.'}\n",
      "\n",
      "Predict Using TestSet list: \n"
     ]
    },
    {
     "data": {
      "text/plain": [
       "[Prediction(uid=1001, iid=2001, r_ui=5, est=2.581927554427891, details={'actual_k': 13, 'was_impossible': False}),\n",
       " Prediction(uid=1002, iid=2001, r_ui=3, est=1.9306927428442013, details={'actual_k': 13, 'was_impossible': False})]"
      ]
     },
     "execution_count": 9,
     "metadata": {},
     "output_type": "execute_result"
    }
   ],
   "source": [
    "#build train and train train set\n",
    "trainset = data.build_full_trainset()\n",
    "\n",
    "#fitting\n",
    "#using user-based cosine similarity\n",
    "params = {\n",
    "    \"name\": \"msd\",\n",
    "    \"user_based\": True,  # Compute  similarities between users\n",
    "}\n",
    "algo = KNNBasic(sim_options = params)\n",
    "algo.fit(trainset)\n",
    "\n",
    "#test the test set using .test() \n",
    "print('\\nAccuracy on the testset:')\n",
    "accuracy.rmse(algo.test(testset))\n",
    "accuracy.mse(algo.test(testset))\n",
    "accuracy.mae(algo.test(testset))\n",
    "\n",
    "print('\\nPredict Tests: ')\n",
    "print(algo.predict(1001, 2001))\n",
    "print(algo.predict(2001, 1001))\n",
    "print(algo.predict(1001, 88))\n",
    "print(algo.predict(1001, 5))\n",
    "\n",
    "print('\\nPredict Using TestSet list: ')\n",
    "testset = [data.df.loc[i].to_list() for i in range(len(data.df))]\n",
    "algo.test(testset)[:2]"
   ]
  },
  {
   "cell_type": "markdown",
   "id": "f575bff2",
   "metadata": {},
   "source": [
    "#### KNNBasic - item-based msd "
   ]
  },
  {
   "cell_type": "code",
   "execution_count": 10,
   "id": "7d8062ae",
   "metadata": {},
   "outputs": [
    {
     "name": "stdout",
     "output_type": "stream",
     "text": [
      "Computing the msd similarity matrix...\n",
      "Done computing similarity matrix.\n",
      "\n",
      "Accuracy on the testset:\n",
      "RMSE: 0.7233\n",
      "MSE: 0.5232\n",
      "MAE:  0.4594\n",
      "\n",
      "Predict Tests: \n",
      "user: 1001       item: 2001       r_ui = None   est = 3.73   {'actual_k': 40, 'was_impossible': False}\n",
      "user: 2001       item: 1001       r_ui = None   est = 2.59   {'was_impossible': True, 'reason': 'User and/or item is unknown.'}\n",
      "user: 1001       item: 88         r_ui = None   est = 2.59   {'was_impossible': True, 'reason': 'User and/or item is unknown.'}\n",
      "user: 1001       item: 5          r_ui = None   est = 2.59   {'was_impossible': True, 'reason': 'User and/or item is unknown.'}\n",
      "\n",
      "Predict Using TestSet list: \n"
     ]
    },
    {
     "data": {
      "text/plain": [
       "[Prediction(uid=1001, iid=2001, r_ui=5, est=3.732994515075002, details={'actual_k': 40, 'was_impossible': False}),\n",
       " Prediction(uid=1002, iid=2001, r_ui=3, est=2.8066892628359166, details={'actual_k': 40, 'was_impossible': False})]"
      ]
     },
     "execution_count": 10,
     "metadata": {},
     "output_type": "execute_result"
    }
   ],
   "source": [
    "#build train and train train set\n",
    "trainset = data.build_full_trainset()\n",
    "\n",
    "#fitting\n",
    "#using user-based cosine similarity\n",
    "params = {\n",
    "    \"name\": \"msd\",\n",
    "    \"user_based\": False,  # Compute  similarities between users\n",
    "}\n",
    "algo = KNNBasic(sim_options = params)\n",
    "algo.fit(trainset)\n",
    "\n",
    "#test the test set using .test() \n",
    "print('\\nAccuracy on the testset:')\n",
    "accuracy.rmse(algo.test(testset))\n",
    "accuracy.mse(algo.test(testset))\n",
    "accuracy.mae(algo.test(testset))\n",
    "\n",
    "print('\\nPredict Tests: ')\n",
    "print(algo.predict(1001, 2001))\n",
    "print(algo.predict(2001, 1001))\n",
    "print(algo.predict(1001, 88))\n",
    "print(algo.predict(1001, 5))\n",
    "\n",
    "print('\\nPredict Using TestSet list: ')\n",
    "testset = [data.df.loc[i].to_list() for i in range(len(data.df))]\n",
    "algo.test(testset)[:2]"
   ]
  },
  {
   "cell_type": "markdown",
   "id": "248ba303",
   "metadata": {},
   "source": [
    "#### KNNBasic - cosine, user, shrinkage"
   ]
  },
  {
   "cell_type": "code",
   "execution_count": 11,
   "id": "098feed2",
   "metadata": {},
   "outputs": [
    {
     "name": "stdout",
     "output_type": "stream",
     "text": [
      "Computing the msd similarity matrix...\n",
      "Done computing similarity matrix.\n",
      "\n",
      "Accuracy on the testset:\n",
      "RMSE: 1.2310\n",
      "MSE: 1.5153\n",
      "MAE:  1.0143\n",
      "\n",
      "Predict Tests: \n",
      "user: 1001       item: 2001       r_ui = None   est = 2.58   {'actual_k': 13, 'was_impossible': False}\n",
      "user: 2001       item: 1001       r_ui = None   est = 2.59   {'was_impossible': True, 'reason': 'User and/or item is unknown.'}\n",
      "user: 1001       item: 88         r_ui = None   est = 2.59   {'was_impossible': True, 'reason': 'User and/or item is unknown.'}\n",
      "user: 1001       item: 5          r_ui = None   est = 2.59   {'was_impossible': True, 'reason': 'User and/or item is unknown.'}\n",
      "\n",
      "Predict Using TestSet list: \n"
     ]
    },
    {
     "data": {
      "text/plain": [
       "[Prediction(uid=1001, iid=2001, r_ui=5, est=2.581927554427891, details={'actual_k': 13, 'was_impossible': False}),\n",
       " Prediction(uid=1002, iid=2001, r_ui=3, est=1.9306927428442013, details={'actual_k': 13, 'was_impossible': False})]"
      ]
     },
     "execution_count": 11,
     "metadata": {},
     "output_type": "execute_result"
    }
   ],
   "source": [
    "#build train and train train set\n",
    "trainset = data.build_full_trainset()\n",
    "\n",
    "#fitting\n",
    "#using user-based cosine similarity\n",
    "params = {\n",
    "    \"name\": \"msd\",\n",
    "    \"user_based\": True,\n",
    "    \"shrinkage\": 0 #no shrinkage\n",
    "}\n",
    "algo = KNNBasic(sim_options = params)\n",
    "algo.fit(trainset)\n",
    "\n",
    "#test the test set using .test() \n",
    "print('\\nAccuracy on the testset:')\n",
    "accuracy.rmse(algo.test(testset))\n",
    "accuracy.mse(algo.test(testset))\n",
    "accuracy.mae(algo.test(testset))\n",
    "\n",
    "print('\\nPredict Tests: ')\n",
    "print(algo.predict(1001, 2001))\n",
    "print(algo.predict(2001, 1001))\n",
    "print(algo.predict(1001, 88))\n",
    "print(algo.predict(1001, 5))\n",
    "\n",
    "print('\\nPredict Using TestSet list: ')\n",
    "testset = [data.df.loc[i].to_list() for i in range(len(data.df))]\n",
    "algo.test(testset)[:2]"
   ]
  },
  {
   "cell_type": "markdown",
   "id": "f9585cb1",
   "metadata": {},
   "source": [
    "#### KNNBasic - msd, user, shrinkage"
   ]
  },
  {
   "cell_type": "code",
   "execution_count": 12,
   "id": "89ee3594",
   "metadata": {},
   "outputs": [
    {
     "name": "stdout",
     "output_type": "stream",
     "text": [
      "Computing the msd similarity matrix...\n",
      "Done computing similarity matrix.\n",
      "\n",
      "Accuracy on the testset:\n",
      "RMSE: 0.7233\n",
      "MSE: 0.5232\n",
      "MAE:  0.4594\n",
      "\n",
      "Predict Tests: \n",
      "user: 1001       item: 2001       r_ui = None   est = 3.73   {'actual_k': 40, 'was_impossible': False}\n",
      "user: 2001       item: 1001       r_ui = None   est = 2.59   {'was_impossible': True, 'reason': 'User and/or item is unknown.'}\n",
      "user: 1001       item: 88         r_ui = None   est = 2.59   {'was_impossible': True, 'reason': 'User and/or item is unknown.'}\n",
      "user: 1001       item: 5          r_ui = None   est = 2.59   {'was_impossible': True, 'reason': 'User and/or item is unknown.'}\n",
      "\n",
      "Predict Using TestSet list: \n"
     ]
    },
    {
     "data": {
      "text/plain": [
       "[Prediction(uid=1001, iid=2001, r_ui=5, est=3.732994515075002, details={'actual_k': 40, 'was_impossible': False}),\n",
       " Prediction(uid=1002, iid=2001, r_ui=3, est=2.8066892628359166, details={'actual_k': 40, 'was_impossible': False})]"
      ]
     },
     "execution_count": 12,
     "metadata": {},
     "output_type": "execute_result"
    }
   ],
   "source": [
    "#build train and train train set\n",
    "trainset = data.build_full_trainset()\n",
    "\n",
    "#fitting\n",
    "#using user-based cosine similarity\n",
    "params = {\n",
    "    \"name\": \"msd\",\n",
    "    \"user_based\": False,\n",
    "    \"shrinkage\": 0 #shrinkage is 0\n",
    "}\n",
    "\n",
    "algo = KNNBasic(sim_options = params)\n",
    "algo.fit(trainset)\n",
    "\n",
    "#test the test set using .test() \n",
    "print('\\nAccuracy on the testset:')\n",
    "accuracy.rmse(algo.test(testset))\n",
    "accuracy.mse(algo.test(testset))\n",
    "accuracy.mae(algo.test(testset))\n",
    "\n",
    "print('\\nPredict Tests: ')\n",
    "print(algo.predict(1001, 2001))\n",
    "print(algo.predict(2001, 1001))\n",
    "print(algo.predict(1001, 88))\n",
    "print(algo.predict(1001, 5))\n",
    "\n",
    "print('\\nPredict Using TestSet list: ')\n",
    "testset = [data.df.loc[i].to_list() for i in range(len(data.df))]\n",
    "algo.test(testset)[:2]"
   ]
  },
  {
   "cell_type": "markdown",
   "id": "fb62c4f2",
   "metadata": {},
   "source": [
    "#### KNNBasic - Using GridSearchCV "
   ]
  },
  {
   "cell_type": "code",
   "execution_count": 13,
   "id": "9aa015fd",
   "metadata": {},
   "outputs": [
    {
     "name": "stdout",
     "output_type": "stream",
     "text": [
      "\n",
      "RMSE Best Parameters: {'sim_options': {'method': 'als', 'n_epochs': 5, 'user_based': False, 'min_support': 3}}\n",
      "RMSE Best Score: 1.1075416632105777\n",
      "MAE Best Parameters: {'sim_options': {'method': 'als', 'n_epochs': 5, 'user_based': False, 'min_support': 3}}\n",
      "MAE Best Score: 0.7969604131264807\n"
     ]
    }
   ],
   "source": [
    "#doing this with name is msd or cosine causes float or zero division error\n",
    "params = {'sim_options' : {'method': ['als','sgd'],\n",
    "                            \"n_epochs\" : [5, 10, 20],\n",
    "                            \"user_based\": [True, False],\n",
    "                            \"min_support\": [3, 5, 8],\n",
    "                          \"user_based\": [True, False]}}\n",
    "\n",
    "gsKB = GridSearchCV(KNNBasic, params, measures=['mae', 'rmse'], cv=5, n_jobs=-1)                               \n",
    "gsKB.fit(data)\n",
    "\n",
    "print(f'\\nRMSE Best Parameters: {gsKB.best_params[\"rmse\"]}')\n",
    "print(f'RMSE Best Score: {gsKB.best_score[\"rmse\"]}')\n",
    "print(f'MAE Best Parameters: {gsKB.best_params[\"mae\"]}')\n",
    "print(f'MAE Best Score: {gsKB.best_score[\"mae\"]}')"
   ]
  },
  {
   "cell_type": "markdown",
   "id": "3e59860c",
   "metadata": {},
   "source": [
    "#### Using the Best Hyperparameters found above: "
   ]
  },
  {
   "cell_type": "code",
   "execution_count": 14,
   "id": "4e34f8fb",
   "metadata": {},
   "outputs": [
    {
     "name": "stdout",
     "output_type": "stream",
     "text": [
      "Computing the msd similarity matrix...\n",
      "Done computing similarity matrix.\n",
      "\n",
      "Updated Accuracy: \n",
      "RMSE: 1.2310\n",
      "MSE: 1.5153\n",
      "MAE:  1.0143\n"
     ]
    },
    {
     "data": {
      "text/plain": [
       "1.0143496611571836"
      ]
     },
     "execution_count": 14,
     "metadata": {},
     "output_type": "execute_result"
    }
   ],
   "source": [
    "finalKB = KNNBasic(method = \"als\", n_epochs = 5, user_based = False, min_support = 3)\n",
    "predictions = finalKB.fit(trainset).test(testset)\n",
    "\n",
    "print('\\nUpdated Accuracy: ')\n",
    "accuracy.rmse(predictions)\n",
    "accuracy.mse(predictions)\n",
    "accuracy.mae(predictions)"
   ]
  },
  {
   "cell_type": "markdown",
   "id": "a5f2e0a5",
   "metadata": {},
   "source": [
    "### KNNBaseline"
   ]
  },
  {
   "cell_type": "markdown",
   "id": "70f0d69d",
   "metadata": {},
   "source": [
    "#### KNNBaseline - Using GridSearchCV"
   ]
  },
  {
   "cell_type": "code",
   "execution_count": 15,
   "id": "058d22b6",
   "metadata": {},
   "outputs": [
    {
     "name": "stdout",
     "output_type": "stream",
     "text": [
      "\n",
      "RMSE Best Parameters: {'sim_options': {'method': 'als', 'n_epochs': 5, 'user_based': False, 'reg_u': 10, 'reg_i': 8, 'learning_rate': 5e-05}}\n",
      "RMSE Best Score: 1.109026431602136\n",
      "MAE Best Parameters: {'sim_options': {'method': 'als', 'n_epochs': 5, 'user_based': False, 'reg_u': 10, 'reg_i': 8, 'learning_rate': 5e-05}}\n",
      "MAE Best Score: 0.8163136378518405\n"
     ]
    }
   ],
   "source": [
    "params = { 'sim_options' : {'method': ['als','sgd'],\n",
    "                            \"n_epochs\" : [5, 10, 20],\n",
    "                            \"user_based\": [True, False],\n",
    "                            \"reg_u\": [10, 12, 15, 18],\n",
    "                            \"reg_i\": [8, 10, 12, 15],\n",
    "                            \"learning_rate\": [0.00005, 0.05]}}\n",
    "\n",
    "gsKBL = GridSearchCV(KNNBaseline, params, measures=['mae', 'rmse'], cv=5, n_jobs=-1)                               \n",
    "gsKBL.fit(data)\n",
    "\n",
    "print(f'\\nRMSE Best Parameters: {gsKBL.best_params[\"rmse\"]}')\n",
    "print(f'RMSE Best Score: {gsKBL.best_score[\"rmse\"]}')\n",
    "print(f'MAE Best Parameters: {gsKBL.best_params[\"mae\"]}')\n",
    "print(f'MAE Best Score: {gsKBL.best_score[\"mae\"]}')"
   ]
  },
  {
   "cell_type": "markdown",
   "id": "9dc9405a",
   "metadata": {},
   "source": [
    "#### Using the Best Hyperparameters found above: "
   ]
  },
  {
   "cell_type": "code",
   "execution_count": 16,
   "id": "ec67bf0c",
   "metadata": {},
   "outputs": [
    {
     "name": "stdout",
     "output_type": "stream",
     "text": [
      "Estimating biases using als...\n",
      "Computing the msd similarity matrix...\n",
      "Done computing similarity matrix.\n",
      "\n",
      "Updated Accuracy: \n",
      "RMSE: 1.2027\n",
      "MSE: 1.4464\n",
      "MAE:  0.9871\n"
     ]
    },
    {
     "data": {
      "text/plain": [
       "0.9870788643440845"
      ]
     },
     "execution_count": 16,
     "metadata": {},
     "output_type": "execute_result"
    }
   ],
   "source": [
    "finalKBL = KNNBaseline(method = \"als\", n_epochs = 5, user_based = False, reg_u = 10, reg_i = 8)\n",
    "predictions = finalKBL.fit(trainset).test(testset)\n",
    "\n",
    "print('\\nUpdated Accuracy: ')\n",
    "accuracy.rmse(predictions)\n",
    "accuracy.mse(predictions)\n",
    "accuracy.mae(predictions)"
   ]
  },
  {
   "cell_type": "markdown",
   "id": "7bdb59fb",
   "metadata": {},
   "source": [
    "### KNNWithMeans "
   ]
  },
  {
   "cell_type": "markdown",
   "id": "35e75b1c",
   "metadata": {},
   "source": [
    "#### KNNWithMeans - Normal "
   ]
  },
  {
   "cell_type": "code",
   "execution_count": 17,
   "id": "01a23ef4",
   "metadata": {},
   "outputs": [
    {
     "name": "stdout",
     "output_type": "stream",
     "text": [
      "Computing the msd similarity matrix...\n",
      "Done computing similarity matrix.\n",
      "Computing the msd similarity matrix...\n",
      "Done computing similarity matrix.\n",
      "Computing the msd similarity matrix...\n",
      "Done computing similarity matrix.\n",
      "Computing the msd similarity matrix...\n",
      "Done computing similarity matrix.\n",
      "Computing the msd similarity matrix...\n",
      "Done computing similarity matrix.\n",
      "Evaluating RMSE, MAE of algorithm KNNWithMeans on 5 split(s).\n",
      "\n",
      "                  Fold 1  Fold 2  Fold 3  Fold 4  Fold 5  Mean    Std     \n",
      "RMSE (testset)    1.5800  1.5612  1.5394  1.5538  1.5862  1.5641  0.0171  \n",
      "MAE (testset)     1.3137  1.2816  1.2699  1.2746  1.3206  1.2921  0.0209  \n",
      "Fit time          0.01    0.01    0.01    0.00    0.00    0.01    0.00    \n",
      "Test time         0.03    0.02    0.03    0.02    0.02    0.02    0.00    \n",
      "Computing the msd similarity matrix...\n",
      "Done computing similarity matrix.\n",
      "\n",
      "Accuracy on the testset:\n",
      "RMSE: 1.2026\n",
      "MSE: 1.4462\n",
      "MAE:  0.9866\n",
      "\n",
      "Predict Tests: \n",
      "user: 1001       item: 2001       r_ui = None   est = 2.55   {'actual_k': 13, 'was_impossible': False}\n",
      "user: 2001       item: 1001       r_ui = None   est = 2.59   {'was_impossible': True, 'reason': 'User and/or item is unknown.'}\n",
      "user: 1001       item: 88         r_ui = None   est = 2.59   {'was_impossible': True, 'reason': 'User and/or item is unknown.'}\n",
      "user: 1001       item: 5          r_ui = None   est = 2.59   {'was_impossible': True, 'reason': 'User and/or item is unknown.'}\n",
      "\n",
      "Predict Using TestSet list: \n"
     ]
    },
    {
     "data": {
      "text/plain": [
       "[Prediction(uid=1001, iid=2001, r_ui=5, est=2.5475672227773507, details={'actual_k': 13, 'was_impossible': False}),\n",
       " Prediction(uid=1002, iid=2001, r_ui=3, est=2.1378665113491957, details={'actual_k': 13, 'was_impossible': False})]"
      ]
     },
     "execution_count": 17,
     "metadata": {},
     "output_type": "execute_result"
    }
   ],
   "source": [
    "#algo\n",
    "algo = KNNWithMeans()\n",
    "\n",
    "#cross validate with kfold set to 5\n",
    "cross_validate(algo, data, measures = ['RMSE', 'MAE'], cv = 5, verbose = True)\n",
    "\n",
    "#build train and train train set\n",
    "trainset = data.build_full_trainset()\n",
    "algo.fit(trainset)\n",
    "\n",
    "#test the test set using .test() \n",
    "print('\\nAccuracy on the testset:')\n",
    "accuracy.rmse(algo.test(testset))\n",
    "accuracy.mse(algo.test(testset))\n",
    "accuracy.mae(algo.test(testset))\n",
    "\n",
    "print('\\nPredict Tests: ')\n",
    "print(algo.predict(1001, 2001))\n",
    "print(algo.predict(2001, 1001))\n",
    "print(algo.predict(1001, 88))\n",
    "print(algo.predict(1001, 5))\n",
    "\n",
    "print('\\nPredict Using TestSet list: ')\n",
    "testset = [data.df.loc[i].to_list() for i in range(len(data.df))]\n",
    "algo.test(testset)[:2]"
   ]
  },
  {
   "cell_type": "markdown",
   "id": "e9cd9ca9",
   "metadata": {},
   "source": [
    "##### KNNWithMeans - user-based cosine "
   ]
  },
  {
   "cell_type": "code",
   "execution_count": 18,
   "id": "465e8ccb",
   "metadata": {},
   "outputs": [
    {
     "name": "stdout",
     "output_type": "stream",
     "text": [
      "Computing the msd similarity matrix...\n",
      "Done computing similarity matrix.\n",
      "\n",
      "Accuracy on the testset:\n",
      "RMSE: 1.2026\n",
      "MSE: 1.4462\n",
      "MAE:  0.9866\n",
      "\n",
      "Predict Tests: \n",
      "user: 1001       item: 2001       r_ui = None   est = 2.55   {'actual_k': 13, 'was_impossible': False}\n",
      "user: 2001       item: 1001       r_ui = None   est = 2.59   {'was_impossible': True, 'reason': 'User and/or item is unknown.'}\n",
      "user: 1001       item: 88         r_ui = None   est = 2.59   {'was_impossible': True, 'reason': 'User and/or item is unknown.'}\n",
      "user: 1001       item: 5          r_ui = None   est = 2.59   {'was_impossible': True, 'reason': 'User and/or item is unknown.'}\n",
      "\n",
      "Predict Using TestSet list: \n"
     ]
    },
    {
     "data": {
      "text/plain": [
       "[Prediction(uid=1001, iid=2001, r_ui=5, est=2.5475672227773507, details={'actual_k': 13, 'was_impossible': False}),\n",
       " Prediction(uid=1002, iid=2001, r_ui=3, est=2.1378665113491957, details={'actual_k': 13, 'was_impossible': False})]"
      ]
     },
     "execution_count": 18,
     "metadata": {},
     "output_type": "execute_result"
    }
   ],
   "source": [
    "#build train and train train set\n",
    "trainset = data.build_full_trainset()\n",
    "\n",
    "#fitting\n",
    "#using user-based cosine similarity\n",
    "parans = {\n",
    "    \"name\": \"cosine\",\n",
    "    \"user_based\": True,  # Compute  similarities between users\n",
    "}\n",
    "algo = KNNWithMeans(sim_options = params)\n",
    "algo.fit(trainset)\n",
    "\n",
    "#test the test set using .test() \n",
    "print('\\nAccuracy on the testset:')\n",
    "accuracy.rmse(algo.test(testset))\n",
    "accuracy.mse(algo.test(testset))\n",
    "accuracy.mae(algo.test(testset))\n",
    "\n",
    "print('\\nPredict Tests: ')\n",
    "print(algo.predict(1001, 2001))\n",
    "print(algo.predict(2001, 1001))\n",
    "print(algo.predict(1001, 88))\n",
    "print(algo.predict(1001, 5))\n",
    "\n",
    "print('\\nPredict Using TestSet list: ')\n",
    "testset = [data.df.loc[i].to_list() for i in range(len(data.df))]\n",
    "algo.test(testset)[:2]"
   ]
  },
  {
   "cell_type": "markdown",
   "id": "b32f1de9",
   "metadata": {},
   "source": [
    "##### KNNWithMeans - item-based cosine "
   ]
  },
  {
   "cell_type": "code",
   "execution_count": 19,
   "id": "3bbecff2",
   "metadata": {},
   "outputs": [
    {
     "name": "stdout",
     "output_type": "stream",
     "text": [
      "Computing the msd similarity matrix...\n",
      "Done computing similarity matrix.\n",
      "\n",
      "Accuracy on the testset:\n",
      "RMSE: 1.2026\n",
      "MSE: 1.4462\n",
      "MAE:  0.9866\n",
      "\n",
      "Predict Tests: \n",
      "user: 1001       item: 2001       r_ui = None   est = 2.55   {'actual_k': 13, 'was_impossible': False}\n",
      "user: 2001       item: 1001       r_ui = None   est = 2.59   {'was_impossible': True, 'reason': 'User and/or item is unknown.'}\n",
      "user: 1001       item: 88         r_ui = None   est = 2.59   {'was_impossible': True, 'reason': 'User and/or item is unknown.'}\n",
      "user: 1001       item: 5          r_ui = None   est = 2.59   {'was_impossible': True, 'reason': 'User and/or item is unknown.'}\n",
      "\n",
      "Predict Using TestSet list: \n"
     ]
    },
    {
     "data": {
      "text/plain": [
       "[Prediction(uid=1001, iid=2001, r_ui=5, est=2.5475672227773507, details={'actual_k': 13, 'was_impossible': False}),\n",
       " Prediction(uid=1002, iid=2001, r_ui=3, est=2.1378665113491957, details={'actual_k': 13, 'was_impossible': False})]"
      ]
     },
     "execution_count": 19,
     "metadata": {},
     "output_type": "execute_result"
    }
   ],
   "source": [
    "#build train and train train set\n",
    "trainset = data.build_full_trainset()\n",
    "\n",
    "#fitting\n",
    "#using user-based cosine similarity\n",
    "parans = {\n",
    "    \"name\": \"cosine\",\n",
    "    \"user_based\": False,  # Compute  similarities between items\n",
    "}\n",
    "algo = KNNWithMeans(sim_options = params)\n",
    "algo.fit(trainset)\n",
    "\n",
    "#test the test set using .test() \n",
    "print('\\nAccuracy on the testset:')\n",
    "accuracy.rmse(algo.test(testset))\n",
    "accuracy.mse(algo.test(testset))\n",
    "accuracy.mae(algo.test(testset))\n",
    "\n",
    "print('\\nPredict Tests: ')\n",
    "print(algo.predict(1001, 2001))\n",
    "print(algo.predict(2001, 1001))\n",
    "print(algo.predict(1001, 88))\n",
    "print(algo.predict(1001, 5))\n",
    "\n",
    "print('\\nPredict Using TestSet list: ')\n",
    "testset = [data.df.loc[i].to_list() for i in range(len(data.df))]\n",
    "algo.test(testset)[:2]"
   ]
  },
  {
   "cell_type": "markdown",
   "id": "40087e74",
   "metadata": {},
   "source": [
    "##### KNNWithMeans - user-based MSD "
   ]
  },
  {
   "cell_type": "code",
   "execution_count": 20,
   "id": "f9831cd9",
   "metadata": {},
   "outputs": [
    {
     "name": "stdout",
     "output_type": "stream",
     "text": [
      "Computing the msd similarity matrix...\n",
      "Done computing similarity matrix.\n",
      "\n",
      "Accuracy on the testset:\n",
      "RMSE: 1.2026\n",
      "MSE: 1.4462\n",
      "MAE:  0.9866\n",
      "\n",
      "Predict Tests: \n",
      "user: 1001       item: 2001       r_ui = None   est = 2.55   {'actual_k': 13, 'was_impossible': False}\n",
      "user: 2001       item: 1001       r_ui = None   est = 2.59   {'was_impossible': True, 'reason': 'User and/or item is unknown.'}\n",
      "user: 1001       item: 88         r_ui = None   est = 2.59   {'was_impossible': True, 'reason': 'User and/or item is unknown.'}\n",
      "user: 1001       item: 5          r_ui = None   est = 2.59   {'was_impossible': True, 'reason': 'User and/or item is unknown.'}\n",
      "\n",
      "Predict Using TestSet list: \n"
     ]
    },
    {
     "data": {
      "text/plain": [
       "[Prediction(uid=1001, iid=2001, r_ui=5, est=2.5475672227773507, details={'actual_k': 13, 'was_impossible': False}),\n",
       " Prediction(uid=1002, iid=2001, r_ui=3, est=2.1378665113491957, details={'actual_k': 13, 'was_impossible': False})]"
      ]
     },
     "execution_count": 20,
     "metadata": {},
     "output_type": "execute_result"
    }
   ],
   "source": [
    "#build train and train train set\n",
    "trainset = data.build_full_trainset()\n",
    "\n",
    "#fitting\n",
    "#using user-based msd similarity\n",
    "parans = {\n",
    "    \"name\": \"msd\",\n",
    "    \"user_based\": True,  # Compute similarities between users\n",
    "}\n",
    "algo = KNNWithMeans(sim_options = params)\n",
    "algo.fit(trainset)\n",
    "\n",
    "#test the test set using .test() \n",
    "print('\\nAccuracy on the testset:')\n",
    "accuracy.rmse(algo.test(testset))\n",
    "accuracy.mse(algo.test(testset))\n",
    "accuracy.mae(algo.test(testset))\n",
    "\n",
    "print('\\nPredict Tests: ')\n",
    "print(algo.predict(1001, 2001))\n",
    "print(algo.predict(2001, 1001))\n",
    "print(algo.predict(1001, 88))\n",
    "print(algo.predict(1001, 5))\n",
    "\n",
    "print('\\nPredict Using TestSet list: ')\n",
    "testset = [data.df.loc[i].to_list() for i in range(len(data.df))]\n",
    "algo.test(testset)[:2]"
   ]
  },
  {
   "cell_type": "markdown",
   "id": "7cfa2659",
   "metadata": {},
   "source": [
    "##### KNNWithMeans - item-based MSD "
   ]
  },
  {
   "cell_type": "code",
   "execution_count": 21,
   "id": "d6b3e551",
   "metadata": {},
   "outputs": [
    {
     "name": "stdout",
     "output_type": "stream",
     "text": [
      "Computing the msd similarity matrix...\n",
      "Done computing similarity matrix.\n",
      "\n",
      "Accuracy on the testset:\n",
      "RMSE: 1.2026\n",
      "MSE: 1.4462\n",
      "MAE:  0.9866\n",
      "\n",
      "Predict Tests: \n",
      "user: 1001       item: 2001       r_ui = None   est = 2.55   {'actual_k': 13, 'was_impossible': False}\n",
      "user: 2001       item: 1001       r_ui = None   est = 2.59   {'was_impossible': True, 'reason': 'User and/or item is unknown.'}\n",
      "user: 1001       item: 88         r_ui = None   est = 2.59   {'was_impossible': True, 'reason': 'User and/or item is unknown.'}\n",
      "user: 1001       item: 5          r_ui = None   est = 2.59   {'was_impossible': True, 'reason': 'User and/or item is unknown.'}\n",
      "\n",
      "Predict Using TestSet list: \n"
     ]
    },
    {
     "data": {
      "text/plain": [
       "[Prediction(uid=1001, iid=2001, r_ui=5, est=2.5475672227773507, details={'actual_k': 13, 'was_impossible': False}),\n",
       " Prediction(uid=1002, iid=2001, r_ui=3, est=2.1378665113491957, details={'actual_k': 13, 'was_impossible': False})]"
      ]
     },
     "execution_count": 21,
     "metadata": {},
     "output_type": "execute_result"
    }
   ],
   "source": [
    "#build train and train train set\n",
    "trainset = data.build_full_trainset()\n",
    "\n",
    "#fitting\n",
    "#using item-based msd similarity\n",
    "parans = {\n",
    "    \"name\": \"msd\",\n",
    "    \"user_based\": False,  # Compute similarities between items\n",
    "}\n",
    "algo = KNNWithMeans(sim_options = params)\n",
    "algo.fit(trainset)\n",
    "\n",
    "#test the test set using .test() \n",
    "print('\\nAccuracy on the testset:')\n",
    "accuracy.rmse(algo.test(testset))\n",
    "accuracy.mse(algo.test(testset))\n",
    "accuracy.mae(algo.test(testset))\n",
    "\n",
    "print('\\nPredict Tests: ')\n",
    "print(algo.predict(1001, 2001))\n",
    "print(algo.predict(2001, 1001))\n",
    "print(algo.predict(1001, 88))\n",
    "print(algo.predict(1001, 5))\n",
    "\n",
    "print('\\nPredict Using TestSet list: ')\n",
    "testset = [data.df.loc[i].to_list() for i in range(len(data.df))]\n",
    "algo.test(testset)[:2]"
   ]
  },
  {
   "cell_type": "markdown",
   "id": "951e1877",
   "metadata": {},
   "source": [
    "#### KNNWithMeans - Using GridSearchCV"
   ]
  },
  {
   "cell_type": "code",
   "execution_count": 22,
   "id": "55f6e8be",
   "metadata": {},
   "outputs": [
    {
     "name": "stdout",
     "output_type": "stream",
     "text": [
      "\n",
      "RMSE Best Parameters: {'sim_options': {'method': 'als', 'n_epochs': 5, 'user_based': False, 'min_support': 3}}\n",
      "RMSE Best Score: 1.116860717933178\n",
      "MAE Best Parameters: {'sim_options': {'method': 'als', 'n_epochs': 5, 'user_based': False, 'min_support': 3}}\n",
      "MAE Best Score: 0.8366732758334721\n"
     ]
    }
   ],
   "source": [
    "#doing this with name is msd or cosine causes float or zero division error\n",
    "params = {'sim_options' : {'method': ['als','sgd'],\n",
    "                            \"n_epochs\" : [5, 10, 20],\n",
    "                            \"user_based\": [True, False],\n",
    "                            \"min_support\": [3, 5, 8],\n",
    "                          \"user_based\": [True, False]}}\n",
    "\n",
    "gsKWM = GridSearchCV(KNNWithMeans, params, measures=['mae', 'rmse'], cv=5, n_jobs=-1)                               \n",
    "gsKWM.fit(data)\n",
    "\n",
    "print(f'\\nRMSE Best Parameters: {gsKWM.best_params[\"rmse\"]}')\n",
    "print(f'RMSE Best Score: {gsKWM.best_score[\"rmse\"]}')\n",
    "print(f'MAE Best Parameters: {gsKWM.best_params[\"mae\"]}')\n",
    "print(f'MAE Best Score: {gsKWM.best_score[\"mae\"]}')"
   ]
  },
  {
   "cell_type": "markdown",
   "id": "9f43cfca",
   "metadata": {},
   "source": [
    "#### Using the Best Hyperparameters found above: "
   ]
  },
  {
   "cell_type": "code",
   "execution_count": 23,
   "id": "834eaf85",
   "metadata": {},
   "outputs": [
    {
     "name": "stdout",
     "output_type": "stream",
     "text": [
      "Computing the msd similarity matrix...\n",
      "Done computing similarity matrix.\n",
      "\n",
      "Updated Accuracy: \n",
      "RMSE: 1.2026\n",
      "MSE: 1.4462\n",
      "MAE:  0.9866\n"
     ]
    },
    {
     "data": {
      "text/plain": [
       "0.9866269845228031"
      ]
     },
     "execution_count": 23,
     "metadata": {},
     "output_type": "execute_result"
    }
   ],
   "source": [
    "finalKWM = KNNWithMeans(method = \"als\", n_epochs = 5, user_based = False, min_support = 3)\n",
    "predictions = finalKWM.fit(trainset).test(testset)\n",
    "\n",
    "print('\\nUpdated Accuracy: ')\n",
    "accuracy.rmse(predictions)\n",
    "accuracy.mse(predictions)\n",
    "accuracy.mae(predictions)"
   ]
  },
  {
   "cell_type": "markdown",
   "id": "7db308e0",
   "metadata": {},
   "source": [
    "### KNNWithZScore "
   ]
  },
  {
   "cell_type": "markdown",
   "id": "69c168f5",
   "metadata": {},
   "source": [
    "#### KNNWithZScore - Using GridSearchCV"
   ]
  },
  {
   "cell_type": "code",
   "execution_count": 24,
   "id": "2805c5ee",
   "metadata": {},
   "outputs": [
    {
     "name": "stdout",
     "output_type": "stream",
     "text": [
      "\n",
      "RMSE Best Parameters: {'sim_options': {'method': 'als', 'n_epochs': 5, 'user_based': False, 'reg_u': 10, 'reg_i': 8, 'learning_rate': 0.0005}}\n",
      "RMSE Best Score: 1.1440461127218748\n",
      "MAE Best Parameters: {'sim_options': {'method': 'als', 'n_epochs': 5, 'user_based': False, 'reg_u': 10, 'reg_i': 8, 'learning_rate': 0.0005}}\n",
      "MAE Best Score: 0.8554530139413365\n"
     ]
    }
   ],
   "source": [
    "params = {'sim_options' : {'method': ['als','sgd'],\n",
    "                            \"n_epochs\" : [5, 10, 20],\n",
    "                            \"user_based\": [True, False],\n",
    "                            \"reg_u\": [10, 12, 15],\n",
    "                            \"reg_i\": [8, 10, 12],\n",
    "                            \"learning_rate\": [0.0005, 0.05]}}\n",
    "\n",
    "gsKZS = GridSearchCV(KNNWithZScore, params, measures=['mae', 'rmse'], cv=5, n_jobs=-1)                               \n",
    "gsKZS.fit(data)\n",
    "\n",
    "print(f'\\nRMSE Best Parameters: {gsKZS.best_params[\"rmse\"]}')\n",
    "print(f'RMSE Best Score: {gsKZS.best_score[\"rmse\"]}')\n",
    "print(f'MAE Best Parameters: {gsKZS.best_params[\"mae\"]}')\n",
    "print(f'MAE Best Score: {gsKZS.best_score[\"mae\"]}')"
   ]
  },
  {
   "cell_type": "markdown",
   "id": "6657ca2d",
   "metadata": {},
   "source": [
    "#### Using the Best Hyperparameters found above: "
   ]
  },
  {
   "cell_type": "code",
   "execution_count": 25,
   "id": "4bb5cfad",
   "metadata": {},
   "outputs": [
    {
     "name": "stdout",
     "output_type": "stream",
     "text": [
      "Computing the msd similarity matrix...\n",
      "Done computing similarity matrix.\n",
      "\n",
      "Updated Accuracy: \n",
      "RMSE: 1.2044\n",
      "MSE: 1.4506\n",
      "MAE:  0.9866\n"
     ]
    },
    {
     "data": {
      "text/plain": [
       "0.9865817610999927"
      ]
     },
     "execution_count": 25,
     "metadata": {},
     "output_type": "execute_result"
    }
   ],
   "source": [
    "finalKZS = KNNWithZScore(method = \"als\", n_epochs = 5, user_based = False, reg_u = 10, reg_i = 8, learning_rate = 0.0005)\n",
    "predictions = finalKZS.fit(trainset).test(testset)\n",
    "\n",
    "print('\\nUpdated Accuracy: ')\n",
    "accuracy.rmse(predictions)\n",
    "accuracy.mse(predictions)\n",
    "accuracy.mae(predictions)"
   ]
  },
  {
   "cell_type": "code",
   "execution_count": null,
   "id": "d83607ab",
   "metadata": {},
   "outputs": [],
   "source": []
  }
 ],
 "metadata": {
  "kernelspec": {
   "display_name": "Python 3 (ipykernel)",
   "language": "python",
   "name": "python3"
  },
  "language_info": {
   "codemirror_mode": {
    "name": "ipython",
    "version": 3
   },
   "file_extension": ".py",
   "mimetype": "text/x-python",
   "name": "python",
   "nbconvert_exporter": "python",
   "pygments_lexer": "ipython3",
   "version": "3.9.7"
  }
 },
 "nbformat": 4,
 "nbformat_minor": 5
}
