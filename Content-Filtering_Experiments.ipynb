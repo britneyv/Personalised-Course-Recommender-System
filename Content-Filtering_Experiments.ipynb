{
 "cells": [
  {
   "cell_type": "code",
   "execution_count": 32,
   "id": "e2eb375e",
   "metadata": {},
   "outputs": [],
   "source": [
    "import pandas as pd\n",
    "from sklearn.feature_extraction.text import TfidfVectorizer, CountVectorizer\n",
    "from sklearn.metrics.pairwise import linear_kernel, cosine_similarity\n",
    "from sklearn.cluster import KMeans\n",
    "from sklearn.decomposition import PCA\n",
    "import warnings\n",
    "warnings.filterwarnings(\"ignore\")\n",
    "import matplotlib.pyplot as plt\n",
    "import matplotlib\n",
    "import numpy as np\n",
    "from nltk.stem import SnowballStemmer\n",
    "from nltk.tokenize import word_tokenize\n",
    "import squarify\n",
    "import seaborn as sns\n",
    "from surprise import accuracy\n",
    "from surprise.model_selection.validation import cross_validate\n",
    "from surprise.dataset import Dataset\n",
    "from surprise.reader import Reader\n",
    "from surprise import SVD, KNNBasic, KNNWithMeans, KNNWithZScore, KNNBaseline\n",
    "from surprise.model_selection import train_test_split\n",
    "import random"
   ]
  },
  {
   "cell_type": "markdown",
   "id": "8ac6ce2b",
   "metadata": {},
   "source": [
    "## Calling the Saved Dataset"
   ]
  },
  {
   "cell_type": "code",
   "execution_count": 2,
   "id": "0e51ebb2",
   "metadata": {},
   "outputs": [
    {
     "data": {
      "text/html": [
       "<div>\n",
       "<style scoped>\n",
       "    .dataframe tbody tr th:only-of-type {\n",
       "        vertical-align: middle;\n",
       "    }\n",
       "\n",
       "    .dataframe tbody tr th {\n",
       "        vertical-align: top;\n",
       "    }\n",
       "\n",
       "    .dataframe thead th {\n",
       "        text-align: right;\n",
       "    }\n",
       "</style>\n",
       "<table border=\"1\" class=\"dataframe\">\n",
       "  <thead>\n",
       "    <tr style=\"text-align: right;\">\n",
       "      <th></th>\n",
       "      <th>Unnamed: 0</th>\n",
       "      <th>sr_</th>\n",
       "      <th>degree_1</th>\n",
       "      <th>degree_1_specializations</th>\n",
       "      <th>campus</th>\n",
       "      <th>key_skills</th>\n",
       "      <th>key_skills_str</th>\n",
       "    </tr>\n",
       "  </thead>\n",
       "  <tbody>\n",
       "    <tr>\n",
       "      <th>0</th>\n",
       "      <td>0</td>\n",
       "      <td>1001</td>\n",
       "      <td>B.E.</td>\n",
       "      <td>Mechanical</td>\n",
       "      <td>MITCOE</td>\n",
       "      <td>['CATIA']</td>\n",
       "      <td>CATIA</td>\n",
       "    </tr>\n",
       "    <tr>\n",
       "      <th>1</th>\n",
       "      <td>1</td>\n",
       "      <td>1002</td>\n",
       "      <td>B.E.</td>\n",
       "      <td>Mechanical</td>\n",
       "      <td>MITCOE</td>\n",
       "      <td>['CATIA']</td>\n",
       "      <td>CATIA</td>\n",
       "    </tr>\n",
       "    <tr>\n",
       "      <th>2</th>\n",
       "      <td>2</td>\n",
       "      <td>1003</td>\n",
       "      <td>B.E.</td>\n",
       "      <td>Mechanical</td>\n",
       "      <td>MITAOE</td>\n",
       "      <td>['CATIA']</td>\n",
       "      <td>CATIA</td>\n",
       "    </tr>\n",
       "    <tr>\n",
       "      <th>3</th>\n",
       "      <td>3</td>\n",
       "      <td>1004</td>\n",
       "      <td>B.E.</td>\n",
       "      <td>Mechanical</td>\n",
       "      <td>MITCOE</td>\n",
       "      <td>['CATIA']</td>\n",
       "      <td>CATIA</td>\n",
       "    </tr>\n",
       "    <tr>\n",
       "      <th>4</th>\n",
       "      <td>4</td>\n",
       "      <td>1005</td>\n",
       "      <td>B.E.</td>\n",
       "      <td>Mechanical</td>\n",
       "      <td>MITCOE</td>\n",
       "      <td>['CATIA']</td>\n",
       "      <td>CATIA</td>\n",
       "    </tr>\n",
       "  </tbody>\n",
       "</table>\n",
       "</div>"
      ],
      "text/plain": [
       "   Unnamed: 0   sr_ degree_1 degree_1_specializations  campus key_skills  \\\n",
       "0           0  1001     B.E.               Mechanical  MITCOE  ['CATIA']   \n",
       "1           1  1002     B.E.               Mechanical  MITCOE  ['CATIA']   \n",
       "2           2  1003     B.E.               Mechanical  MITAOE  ['CATIA']   \n",
       "3           3  1004     B.E.               Mechanical  MITCOE  ['CATIA']   \n",
       "4           4  1005     B.E.               Mechanical  MITCOE  ['CATIA']   \n",
       "\n",
       "  key_skills_str  \n",
       "0          CATIA  \n",
       "1          CATIA  \n",
       "2          CATIA  \n",
       "3          CATIA  \n",
       "4          CATIA  "
      ]
     },
     "execution_count": 2,
     "metadata": {},
     "output_type": "execute_result"
    }
   ],
   "source": [
    "course_dataset = pd.read_csv(\"data/courseData.csv\", encoding= 'unicode_escape')\n",
    "course_dataset.head()"
   ]
  },
  {
   "cell_type": "code",
   "execution_count": 3,
   "id": "30951d8d",
   "metadata": {},
   "outputs": [
    {
     "data": {
      "text/html": [
       "<div>\n",
       "<style scoped>\n",
       "    .dataframe tbody tr th:only-of-type {\n",
       "        vertical-align: middle;\n",
       "    }\n",
       "\n",
       "    .dataframe tbody tr th {\n",
       "        vertical-align: top;\n",
       "    }\n",
       "\n",
       "    .dataframe thead th {\n",
       "        text-align: right;\n",
       "    }\n",
       "</style>\n",
       "<table border=\"1\" class=\"dataframe\">\n",
       "  <thead>\n",
       "    <tr style=\"text-align: right;\">\n",
       "      <th></th>\n",
       "      <th>Unnamed: 0</th>\n",
       "      <th>userid</th>\n",
       "      <th>degree_1</th>\n",
       "      <th>degree_1_specializations</th>\n",
       "      <th>known_languages</th>\n",
       "      <th>key_skills</th>\n",
       "      <th>career_objective</th>\n",
       "      <th>key_skills_str</th>\n",
       "    </tr>\n",
       "  </thead>\n",
       "  <tbody>\n",
       "    <tr>\n",
       "      <th>0</th>\n",
       "      <td>0</td>\n",
       "      <td>1001</td>\n",
       "      <td>B.E.</td>\n",
       "      <td>Computer Science &amp; Engineering</td>\n",
       "      <td>['English', ' Marathi', ' Hindi']</td>\n",
       "      <td>['C', ' Java', ' Keras', ' Flask', ' Deep Lear...</td>\n",
       "      <td>Computer Engineering student with good technic...</td>\n",
       "      <td>C,  Java,  Keras,  Flask,  Deep Learning,  Sel...</td>\n",
       "    </tr>\n",
       "    <tr>\n",
       "      <th>1</th>\n",
       "      <td>1</td>\n",
       "      <td>1002</td>\n",
       "      <td>B.E.</td>\n",
       "      <td>Computer Science &amp; Engineering</td>\n",
       "      <td>['Hindi English']</td>\n",
       "      <td>['Java', ' Neural Networks', ' AI', ' Python',...</td>\n",
       "      <td>Interested in working under company offering A...</td>\n",
       "      <td>Java,  Neural Networks,  AI,  Python,  Html5, ...</td>\n",
       "    </tr>\n",
       "    <tr>\n",
       "      <th>2</th>\n",
       "      <td>2</td>\n",
       "      <td>1003</td>\n",
       "      <td>B.E.</td>\n",
       "      <td>Computer Science &amp; Engineering</td>\n",
       "      <td>['Missing']</td>\n",
       "      <td>['Missing']</td>\n",
       "      <td>Missing</td>\n",
       "      <td>Missing</td>\n",
       "    </tr>\n",
       "    <tr>\n",
       "      <th>3</th>\n",
       "      <td>3</td>\n",
       "      <td>1004</td>\n",
       "      <td>B.E.</td>\n",
       "      <td>Computer Science &amp; Engineering</td>\n",
       "      <td>['English', ' Hindi', ' Marathi', ' Marwari']</td>\n",
       "      <td>['XML', ' C', ' Java', ' Data Structures', ' P...</td>\n",
       "      <td>Currently a final year student of Computer Eng...</td>\n",
       "      <td>XML,  C,  Java,  Data Structures,  Python,  Mo...</td>\n",
       "    </tr>\n",
       "    <tr>\n",
       "      <th>4</th>\n",
       "      <td>4</td>\n",
       "      <td>1005</td>\n",
       "      <td>B.E.</td>\n",
       "      <td>Computer Science &amp; Engineering</td>\n",
       "      <td>['English', 'Hindi  ', 'Kashmiri ', ' Urdu']</td>\n",
       "      <td>['XML', ' Word', ' Data Structures', ' Communi...</td>\n",
       "      <td>To have a growth oriented and challenging care...</td>\n",
       "      <td>XML,  Word,  Data Structures,  Communication, ...</td>\n",
       "    </tr>\n",
       "  </tbody>\n",
       "</table>\n",
       "</div>"
      ],
      "text/plain": [
       "  Unnamed: 0 userid degree_1        degree_1_specializations  \\\n",
       "0          0   1001     B.E.  Computer Science & Engineering   \n",
       "1          1   1002     B.E.  Computer Science & Engineering   \n",
       "2          2   1003     B.E.  Computer Science & Engineering   \n",
       "3          3   1004     B.E.  Computer Science & Engineering   \n",
       "4          4   1005     B.E.  Computer Science & Engineering   \n",
       "\n",
       "                                 known_languages  \\\n",
       "0              ['English', ' Marathi', ' Hindi']   \n",
       "1                              ['Hindi English']   \n",
       "2                                    ['Missing']   \n",
       "3  ['English', ' Hindi', ' Marathi', ' Marwari']   \n",
       "4   ['English', 'Hindi  ', 'Kashmiri ', ' Urdu']   \n",
       "\n",
       "                                          key_skills  \\\n",
       "0  ['C', ' Java', ' Keras', ' Flask', ' Deep Lear...   \n",
       "1  ['Java', ' Neural Networks', ' AI', ' Python',...   \n",
       "2                                        ['Missing']   \n",
       "3  ['XML', ' C', ' Java', ' Data Structures', ' P...   \n",
       "4  ['XML', ' Word', ' Data Structures', ' Communi...   \n",
       "\n",
       "                                    career_objective  \\\n",
       "0  Computer Engineering student with good technic...   \n",
       "1  Interested in working under company offering A...   \n",
       "2                                            Missing   \n",
       "3  Currently a final year student of Computer Eng...   \n",
       "4  To have a growth oriented and challenging care...   \n",
       "\n",
       "                                      key_skills_str  \n",
       "0  C,  Java,  Keras,  Flask,  Deep Learning,  Sel...  \n",
       "1  Java,  Neural Networks,  AI,  Python,  Html5, ...  \n",
       "2                                            Missing  \n",
       "3  XML,  C,  Java,  Data Structures,  Python,  Mo...  \n",
       "4  XML,  Word,  Data Structures,  Communication, ...  "
      ]
     },
     "execution_count": 3,
     "metadata": {},
     "output_type": "execute_result"
    }
   ],
   "source": [
    "user_dataset = pd.read_csv(\"data/userData.csv\", encoding= 'unicode_escape')\n",
    "user_dataset.head()"
   ]
  },
  {
   "cell_type": "code",
   "execution_count": 4,
   "id": "c5dedb3a",
   "metadata": {},
   "outputs": [
    {
     "data": {
      "text/html": [
       "<div>\n",
       "<style scoped>\n",
       "    .dataframe tbody tr th:only-of-type {\n",
       "        vertical-align: middle;\n",
       "    }\n",
       "\n",
       "    .dataframe tbody tr th {\n",
       "        vertical-align: top;\n",
       "    }\n",
       "\n",
       "    .dataframe thead th {\n",
       "        text-align: right;\n",
       "    }\n",
       "</style>\n",
       "<table border=\"1\" class=\"dataframe\">\n",
       "  <thead>\n",
       "    <tr style=\"text-align: right;\">\n",
       "      <th></th>\n",
       "      <th>course_id</th>\n",
       "      <th>user_id</th>\n",
       "      <th>rating</th>\n",
       "    </tr>\n",
       "  </thead>\n",
       "  <tbody>\n",
       "    <tr>\n",
       "      <th>0</th>\n",
       "      <td>2001</td>\n",
       "      <td>1001</td>\n",
       "      <td>5</td>\n",
       "    </tr>\n",
       "    <tr>\n",
       "      <th>1</th>\n",
       "      <td>2001</td>\n",
       "      <td>1002</td>\n",
       "      <td>3</td>\n",
       "    </tr>\n",
       "    <tr>\n",
       "      <th>2</th>\n",
       "      <td>2001</td>\n",
       "      <td>1003</td>\n",
       "      <td>1</td>\n",
       "    </tr>\n",
       "    <tr>\n",
       "      <th>3</th>\n",
       "      <td>2001</td>\n",
       "      <td>1004</td>\n",
       "      <td>0</td>\n",
       "    </tr>\n",
       "    <tr>\n",
       "      <th>4</th>\n",
       "      <td>2001</td>\n",
       "      <td>1005</td>\n",
       "      <td>2</td>\n",
       "    </tr>\n",
       "  </tbody>\n",
       "</table>\n",
       "</div>"
      ],
      "text/plain": [
       "   course_id  user_id  rating\n",
       "0       2001     1001       5\n",
       "1       2001     1002       3\n",
       "2       2001     1003       1\n",
       "3       2001     1004       0\n",
       "4       2001     1005       2"
      ]
     },
     "execution_count": 4,
     "metadata": {},
     "output_type": "execute_result"
    }
   ],
   "source": [
    "ratings_df = pd.read_csv(\"data/ratingData.csv\", encoding= 'unicode_escape')\n",
    "ratings_df.head()"
   ]
  },
  {
   "cell_type": "markdown",
   "id": "c2af655b",
   "metadata": {},
   "source": [
    "## Content Based Filtering"
   ]
  },
  {
   "cell_type": "code",
   "execution_count": 5,
   "id": "106939c2",
   "metadata": {},
   "outputs": [],
   "source": [
    "#https://github.com/ry05/couReco/blob/master/recommender.py\n",
    "#https://github.com/jalajthanaki/Movie_recommendation_engine/blob/master/Movie_recommendation_engine.ipynb"
   ]
  },
  {
   "cell_type": "markdown",
   "id": "2b5e75c7",
   "metadata": {},
   "source": [
    "### Based on Description and Taglines\n",
    "### https://github.com/jalajthanaki/Movie_recommendation_engine/blob/master/Movie_recommendation_engine.ipynb"
   ]
  },
  {
   "cell_type": "code",
   "execution_count": 6,
   "id": "fd5389cd",
   "metadata": {},
   "outputs": [
    {
     "data": {
      "text/html": [
       "<div>\n",
       "<style scoped>\n",
       "    .dataframe tbody tr th:only-of-type {\n",
       "        vertical-align: middle;\n",
       "    }\n",
       "\n",
       "    .dataframe tbody tr th {\n",
       "        vertical-align: top;\n",
       "    }\n",
       "\n",
       "    .dataframe thead th {\n",
       "        text-align: right;\n",
       "    }\n",
       "</style>\n",
       "<table border=\"1\" class=\"dataframe\">\n",
       "  <thead>\n",
       "    <tr style=\"text-align: right;\">\n",
       "      <th></th>\n",
       "      <th>Unnamed: 0</th>\n",
       "      <th>sr_</th>\n",
       "      <th>degree_1</th>\n",
       "      <th>degree_1_specializations</th>\n",
       "      <th>campus</th>\n",
       "      <th>key_skills</th>\n",
       "      <th>key_skills_str</th>\n",
       "    </tr>\n",
       "  </thead>\n",
       "  <tbody>\n",
       "    <tr>\n",
       "      <th>0</th>\n",
       "      <td>0</td>\n",
       "      <td>1001</td>\n",
       "      <td>B.E.</td>\n",
       "      <td>Mechanical</td>\n",
       "      <td>MITCOE</td>\n",
       "      <td>['CATIA']</td>\n",
       "      <td>CATIA</td>\n",
       "    </tr>\n",
       "    <tr>\n",
       "      <th>1</th>\n",
       "      <td>1</td>\n",
       "      <td>1002</td>\n",
       "      <td>B.E.</td>\n",
       "      <td>Mechanical</td>\n",
       "      <td>MITCOE</td>\n",
       "      <td>['CATIA']</td>\n",
       "      <td>CATIA</td>\n",
       "    </tr>\n",
       "  </tbody>\n",
       "</table>\n",
       "</div>"
      ],
      "text/plain": [
       "   Unnamed: 0   sr_ degree_1 degree_1_specializations  campus key_skills  \\\n",
       "0           0  1001     B.E.               Mechanical  MITCOE  ['CATIA']   \n",
       "1           1  1002     B.E.               Mechanical  MITCOE  ['CATIA']   \n",
       "\n",
       "  key_skills_str  \n",
       "0          CATIA  \n",
       "1          CATIA  "
      ]
     },
     "execution_count": 6,
     "metadata": {},
     "output_type": "execute_result"
    }
   ],
   "source": [
    "course_dataset.head(2)"
   ]
  },
  {
   "cell_type": "code",
   "execution_count": 7,
   "id": "ef098b7d",
   "metadata": {},
   "outputs": [
    {
     "data": {
      "text/html": [
       "<div>\n",
       "<style scoped>\n",
       "    .dataframe tbody tr th:only-of-type {\n",
       "        vertical-align: middle;\n",
       "    }\n",
       "\n",
       "    .dataframe tbody tr th {\n",
       "        vertical-align: top;\n",
       "    }\n",
       "\n",
       "    .dataframe thead th {\n",
       "        text-align: right;\n",
       "    }\n",
       "</style>\n",
       "<table border=\"1\" class=\"dataframe\">\n",
       "  <thead>\n",
       "    <tr style=\"text-align: right;\">\n",
       "      <th></th>\n",
       "      <th>Unnamed: 0</th>\n",
       "      <th>userid</th>\n",
       "      <th>degree_1</th>\n",
       "      <th>degree_1_specializations</th>\n",
       "      <th>known_languages</th>\n",
       "      <th>key_skills</th>\n",
       "      <th>career_objective</th>\n",
       "      <th>key_skills_str</th>\n",
       "    </tr>\n",
       "  </thead>\n",
       "  <tbody>\n",
       "    <tr>\n",
       "      <th>0</th>\n",
       "      <td>0</td>\n",
       "      <td>1001</td>\n",
       "      <td>B.E.</td>\n",
       "      <td>Computer Science &amp; Engineering</td>\n",
       "      <td>['English', ' Marathi', ' Hindi']</td>\n",
       "      <td>['C', ' Java', ' Keras', ' Flask', ' Deep Lear...</td>\n",
       "      <td>Computer Engineering student with good technic...</td>\n",
       "      <td>C,  Java,  Keras,  Flask,  Deep Learning,  Sel...</td>\n",
       "    </tr>\n",
       "    <tr>\n",
       "      <th>1</th>\n",
       "      <td>1</td>\n",
       "      <td>1002</td>\n",
       "      <td>B.E.</td>\n",
       "      <td>Computer Science &amp; Engineering</td>\n",
       "      <td>['Hindi English']</td>\n",
       "      <td>['Java', ' Neural Networks', ' AI', ' Python',...</td>\n",
       "      <td>Interested in working under company offering A...</td>\n",
       "      <td>Java,  Neural Networks,  AI,  Python,  Html5, ...</td>\n",
       "    </tr>\n",
       "  </tbody>\n",
       "</table>\n",
       "</div>"
      ],
      "text/plain": [
       "  Unnamed: 0 userid degree_1        degree_1_specializations  \\\n",
       "0          0   1001     B.E.  Computer Science & Engineering   \n",
       "1          1   1002     B.E.  Computer Science & Engineering   \n",
       "\n",
       "                     known_languages  \\\n",
       "0  ['English', ' Marathi', ' Hindi']   \n",
       "1                  ['Hindi English']   \n",
       "\n",
       "                                          key_skills  \\\n",
       "0  ['C', ' Java', ' Keras', ' Flask', ' Deep Lear...   \n",
       "1  ['Java', ' Neural Networks', ' AI', ' Python',...   \n",
       "\n",
       "                                    career_objective  \\\n",
       "0  Computer Engineering student with good technic...   \n",
       "1  Interested in working under company offering A...   \n",
       "\n",
       "                                      key_skills_str  \n",
       "0  C,  Java,  Keras,  Flask,  Deep Learning,  Sel...  \n",
       "1  Java,  Neural Networks,  AI,  Python,  Html5, ...  "
      ]
     },
     "execution_count": 7,
     "metadata": {},
     "output_type": "execute_result"
    }
   ],
   "source": [
    "user_dataset.head(2)"
   ]
  },
  {
   "cell_type": "markdown",
   "id": "ec68ddd4",
   "metadata": {},
   "source": [
    "### User Dataset - Key Skills "
   ]
  },
  {
   "cell_type": "code",
   "execution_count": 8,
   "id": "9aaa05e0",
   "metadata": {},
   "outputs": [
    {
     "data": {
      "text/plain": [
       "(1097, 2065)"
      ]
     },
     "execution_count": 8,
     "metadata": {},
     "output_type": "execute_result"
    }
   ],
   "source": [
    "tf = TfidfVectorizer(analyzer='word',ngram_range=(1, 2),min_df=0, stop_words='english')\n",
    "tfidf_matrix = tf.fit_transform(user_dataset['key_skills_str'].values.astype('U'))\n",
    "tfidf_matrix.shape\n"
   ]
  },
  {
   "cell_type": "code",
   "execution_count": 9,
   "id": "7fdcc567",
   "metadata": {},
   "outputs": [
    {
     "data": {
      "text/plain": [
       "array([1.        , 0.02408797, 0.        , ..., 0.06121443, 0.01629229,\n",
       "       0.007909  ])"
      ]
     },
     "execution_count": 9,
     "metadata": {},
     "output_type": "execute_result"
    }
   ],
   "source": [
    "cosine_sim = linear_kernel(tfidf_matrix, tfidf_matrix)\n",
    "cosine_sim[0]"
   ]
  },
  {
   "cell_type": "code",
   "execution_count": 10,
   "id": "684d917e",
   "metadata": {},
   "outputs": [
    {
     "data": {
      "text/plain": [
       "userid\n",
       "1001    0\n",
       "1002    1\n",
       "dtype: int64"
      ]
     },
     "execution_count": 10,
     "metadata": {},
     "output_type": "execute_result"
    }
   ],
   "source": [
    "user_dataset = user_dataset.reset_index()\n",
    "titles = user_dataset['userid']\n",
    "indices = pd.Series(user_dataset.index, index=user_dataset['userid'])\n",
    "indices.head(2)"
   ]
  },
  {
   "cell_type": "code",
   "execution_count": 11,
   "id": "a8cc4a8c",
   "metadata": {},
   "outputs": [
    {
     "data": {
      "text/plain": [
       "894     1847\n",
       "996     1946\n",
       "981     1931\n",
       "256     1231\n",
       "868     1821\n",
       "970     1920\n",
       "1089    2039\n",
       "714     1667\n",
       "417     1375\n",
       "493     1444\n",
       "Name: userid, dtype: object"
      ]
     },
     "execution_count": 11,
     "metadata": {},
     "output_type": "execute_result"
    }
   ],
   "source": [
    "def get_recommendations(title): #this is getting similar users based on their career objectives???\n",
    "    idx = indices[title]\n",
    "    sim_scores = list(enumerate(cosine_sim[idx]))\n",
    "    sim_scores = sorted(sim_scores, key=lambda x: x[1], reverse=True)\n",
    "    sim_scores = sim_scores[1:31]\n",
    "    movie_indices = [i[0] for i in sim_scores]\n",
    "    return titles.iloc[movie_indices]\n",
    "\n",
    "get_recommendations(\"1001\").head(10)"
   ]
  },
  {
   "cell_type": "code",
   "execution_count": 12,
   "id": "8c692e3a",
   "metadata": {},
   "outputs": [
    {
     "data": {
      "text/plain": [
       "996    1946\n",
       "981    1931\n",
       "0      1001\n",
       "417    1375\n",
       "256    1231\n",
       "322    1292\n",
       "714    1667\n",
       "112    1104\n",
       "201    1182\n",
       "521    1473\n",
       "Name: userid, dtype: object"
      ]
     },
     "execution_count": 12,
     "metadata": {},
     "output_type": "execute_result"
    }
   ],
   "source": [
    "get_recommendations(\"1847\").head(10)"
   ]
  },
  {
   "cell_type": "code",
   "execution_count": 13,
   "id": "ce1369d2",
   "metadata": {},
   "outputs": [
    {
     "data": {
      "text/plain": [
       "996    1946\n",
       "981    1931\n",
       "0      1001\n",
       "417    1375\n",
       "256    1231\n",
       "322    1292\n",
       "714    1667\n",
       "112    1104\n",
       "201    1182\n",
       "521    1473\n",
       "Name: userid, dtype: object"
      ]
     },
     "execution_count": 13,
     "metadata": {},
     "output_type": "execute_result"
    }
   ],
   "source": [
    "get_recommendations(\"1946\").head(10)"
   ]
  },
  {
   "cell_type": "markdown",
   "id": "741a2deb",
   "metadata": {},
   "source": [
    "###  User Dataset - Career Objective"
   ]
  },
  {
   "cell_type": "code",
   "execution_count": 14,
   "id": "69d77967",
   "metadata": {},
   "outputs": [
    {
     "data": {
      "text/plain": [
       "(1097, 4673)"
      ]
     },
     "execution_count": 14,
     "metadata": {},
     "output_type": "execute_result"
    }
   ],
   "source": [
    "tf = TfidfVectorizer(analyzer='word',ngram_range=(1, 2),min_df=0, stop_words='english')\n",
    "tfidf_matrix = tf.fit_transform(user_dataset['career_objective'].values.astype('U'))\n",
    "tfidf_matrix.shape"
   ]
  },
  {
   "cell_type": "code",
   "execution_count": 15,
   "id": "0640a5ea",
   "metadata": {},
   "outputs": [
    {
     "data": {
      "text/plain": [
       "array([1.        , 0.        , 0.        , ..., 0.00592012, 0.        ,\n",
       "       0.0596521 ])"
      ]
     },
     "execution_count": 15,
     "metadata": {},
     "output_type": "execute_result"
    }
   ],
   "source": [
    "cosine_sim = linear_kernel(tfidf_matrix, tfidf_matrix)\n",
    "cosine_sim[0]\n"
   ]
  },
  {
   "cell_type": "code",
   "execution_count": 16,
   "id": "ea5cacd1",
   "metadata": {},
   "outputs": [
    {
     "data": {
      "text/plain": [
       "userid\n",
       "1001    0\n",
       "1002    1\n",
       "dtype: int64"
      ]
     },
     "execution_count": 16,
     "metadata": {},
     "output_type": "execute_result"
    }
   ],
   "source": [
    "user_dataset = user_dataset.reset_index()\n",
    "titles = user_dataset['userid']\n",
    "indices = pd.Series(user_dataset.index, index=user_dataset['userid'])\n",
    "indices.head(2)"
   ]
  },
  {
   "cell_type": "code",
   "execution_count": 17,
   "id": "a18494f7",
   "metadata": {},
   "outputs": [
    {
     "data": {
      "text/plain": [
       "894     1847\n",
       "996     1946\n",
       "93      1087\n",
       "110     1102\n",
       "180     1161\n",
       "20      1021\n",
       "914     1867\n",
       "602     1555\n",
       "801     1754\n",
       "1022    1972\n",
       "Name: userid, dtype: object"
      ]
     },
     "execution_count": 17,
     "metadata": {},
     "output_type": "execute_result"
    }
   ],
   "source": [
    "def get_recommendations(title): #this is getting similar users based on their career objectives???\n",
    "    idx = indices[title]\n",
    "    sim_scores = list(enumerate(cosine_sim[idx]))\n",
    "    sim_scores = sorted(sim_scores, key=lambda x: x[1], reverse=True)\n",
    "    sim_scores = sim_scores[1:31]\n",
    "    movie_indices = [i[0] for i in sim_scores]\n",
    "    return titles.iloc[movie_indices]\n",
    "\n",
    "get_recommendations(\"1001\").head(10)"
   ]
  },
  {
   "cell_type": "code",
   "execution_count": 18,
   "id": "0c8997f8",
   "metadata": {},
   "outputs": [
    {
     "data": {
      "text/plain": [
       "0    Computer Engineering student with good technic...\n",
       "Name: career_objective, dtype: object"
      ]
     },
     "execution_count": 18,
     "metadata": {},
     "output_type": "execute_result"
    }
   ],
   "source": [
    "user_dataset[\"career_objective\"].loc[user_dataset['userid'] == '1001']"
   ]
  },
  {
   "cell_type": "code",
   "execution_count": 19,
   "id": "b98858ea",
   "metadata": {},
   "outputs": [
    {
     "data": {
      "text/html": [
       "<div>\n",
       "<style scoped>\n",
       "    .dataframe tbody tr th:only-of-type {\n",
       "        vertical-align: middle;\n",
       "    }\n",
       "\n",
       "    .dataframe tbody tr th {\n",
       "        vertical-align: top;\n",
       "    }\n",
       "\n",
       "    .dataframe thead th {\n",
       "        text-align: right;\n",
       "    }\n",
       "</style>\n",
       "<table border=\"1\" class=\"dataframe\">\n",
       "  <thead>\n",
       "    <tr style=\"text-align: right;\">\n",
       "      <th></th>\n",
       "      <th>level_0</th>\n",
       "      <th>index</th>\n",
       "      <th>Unnamed: 0</th>\n",
       "      <th>userid</th>\n",
       "      <th>degree_1</th>\n",
       "      <th>degree_1_specializations</th>\n",
       "      <th>known_languages</th>\n",
       "      <th>key_skills</th>\n",
       "      <th>career_objective</th>\n",
       "      <th>key_skills_str</th>\n",
       "    </tr>\n",
       "  </thead>\n",
       "  <tbody>\n",
       "    <tr>\n",
       "      <th>894</th>\n",
       "      <td>894</td>\n",
       "      <td>894</td>\n",
       "      <td>842</td>\n",
       "      <td>1847</td>\n",
       "      <td>B.E.</td>\n",
       "      <td>Computer Science &amp; Engineering</td>\n",
       "      <td>['English', ' Marathi', ' Hindi']</td>\n",
       "      <td>['C', ' Java', ' Keras', ' Flask', ' Deep Lear...</td>\n",
       "      <td>Computer Engineering student with good technic...</td>\n",
       "      <td>C,  Java,  Keras,  Flask,  Deep Learning,  Sel...</td>\n",
       "    </tr>\n",
       "  </tbody>\n",
       "</table>\n",
       "</div>"
      ],
      "text/plain": [
       "     level_0  index Unnamed: 0 userid degree_1  \\\n",
       "894      894    894        842   1847     B.E.   \n",
       "\n",
       "           degree_1_specializations                    known_languages  \\\n",
       "894  Computer Science & Engineering  ['English', ' Marathi', ' Hindi']   \n",
       "\n",
       "                                            key_skills  \\\n",
       "894  ['C', ' Java', ' Keras', ' Flask', ' Deep Lear...   \n",
       "\n",
       "                                      career_objective  \\\n",
       "894  Computer Engineering student with good technic...   \n",
       "\n",
       "                                        key_skills_str  \n",
       "894  C,  Java,  Keras,  Flask,  Deep Learning,  Sel...  "
      ]
     },
     "execution_count": 19,
     "metadata": {},
     "output_type": "execute_result"
    }
   ],
   "source": [
    "user_dataset.loc[user_dataset['userid'] == '1847']"
   ]
  },
  {
   "cell_type": "code",
   "execution_count": 20,
   "id": "d4c6344b",
   "metadata": {},
   "outputs": [
    {
     "data": {
      "text/html": [
       "<div>\n",
       "<style scoped>\n",
       "    .dataframe tbody tr th:only-of-type {\n",
       "        vertical-align: middle;\n",
       "    }\n",
       "\n",
       "    .dataframe tbody tr th {\n",
       "        vertical-align: top;\n",
       "    }\n",
       "\n",
       "    .dataframe thead th {\n",
       "        text-align: right;\n",
       "    }\n",
       "</style>\n",
       "<table border=\"1\" class=\"dataframe\">\n",
       "  <thead>\n",
       "    <tr style=\"text-align: right;\">\n",
       "      <th></th>\n",
       "      <th>level_0</th>\n",
       "      <th>index</th>\n",
       "      <th>Unnamed: 0</th>\n",
       "      <th>userid</th>\n",
       "      <th>degree_1</th>\n",
       "      <th>degree_1_specializations</th>\n",
       "      <th>known_languages</th>\n",
       "      <th>key_skills</th>\n",
       "      <th>career_objective</th>\n",
       "      <th>key_skills_str</th>\n",
       "    </tr>\n",
       "  </thead>\n",
       "  <tbody>\n",
       "    <tr>\n",
       "      <th>93</th>\n",
       "      <td>93</td>\n",
       "      <td>93</td>\n",
       "      <td>86</td>\n",
       "      <td>1087</td>\n",
       "      <td>B.E.</td>\n",
       "      <td>Computer Science &amp; Engineering</td>\n",
       "      <td>['English', ' Marathi ', ' Hindi']</td>\n",
       "      <td>['Java', ' Python', ' Machine Learning', ' CPP...</td>\n",
       "      <td>Dedicated and passionate computer engineering ...</td>\n",
       "      <td>Java,  Python,  Machine Learning,  CPP,  Andro...</td>\n",
       "    </tr>\n",
       "  </tbody>\n",
       "</table>\n",
       "</div>"
      ],
      "text/plain": [
       "    level_0  index Unnamed: 0 userid degree_1        degree_1_specializations  \\\n",
       "93       93     93         86   1087     B.E.  Computer Science & Engineering   \n",
       "\n",
       "                       known_languages  \\\n",
       "93  ['English', ' Marathi ', ' Hindi']   \n",
       "\n",
       "                                           key_skills  \\\n",
       "93  ['Java', ' Python', ' Machine Learning', ' CPP...   \n",
       "\n",
       "                                     career_objective  \\\n",
       "93  Dedicated and passionate computer engineering ...   \n",
       "\n",
       "                                       key_skills_str  \n",
       "93  Java,  Python,  Machine Learning,  CPP,  Andro...  "
      ]
     },
     "execution_count": 20,
     "metadata": {},
     "output_type": "execute_result"
    }
   ],
   "source": [
    "user_dataset.loc[user_dataset['userid'] == '1087']"
   ]
  },
  {
   "cell_type": "markdown",
   "id": "c1e3bcae",
   "metadata": {},
   "source": [
    "### User Dataset - career objective and key skills\n"
   ]
  },
  {
   "cell_type": "code",
   "execution_count": 30,
   "id": "3b30b0a3",
   "metadata": {},
   "outputs": [
    {
     "data": {
      "text/html": [
       "<div>\n",
       "<style scoped>\n",
       "    .dataframe tbody tr th:only-of-type {\n",
       "        vertical-align: middle;\n",
       "    }\n",
       "\n",
       "    .dataframe tbody tr th {\n",
       "        vertical-align: top;\n",
       "    }\n",
       "\n",
       "    .dataframe thead th {\n",
       "        text-align: right;\n",
       "    }\n",
       "</style>\n",
       "<table border=\"1\" class=\"dataframe\">\n",
       "  <thead>\n",
       "    <tr style=\"text-align: right;\">\n",
       "      <th></th>\n",
       "      <th>userid</th>\n",
       "      <th>career_objective</th>\n",
       "      <th>key_skills_str</th>\n",
       "    </tr>\n",
       "  </thead>\n",
       "  <tbody>\n",
       "    <tr>\n",
       "      <th>0</th>\n",
       "      <td>1001</td>\n",
       "      <td>Computer Engineering student with good technic...</td>\n",
       "      <td>C,  Java,  Keras,  Flask,  Deep Learning,  Sel...</td>\n",
       "    </tr>\n",
       "    <tr>\n",
       "      <th>1</th>\n",
       "      <td>1002</td>\n",
       "      <td>Interested in working under company offering A...</td>\n",
       "      <td>Java,  Neural Networks,  AI,  Python,  Html5, ...</td>\n",
       "    </tr>\n",
       "    <tr>\n",
       "      <th>2</th>\n",
       "      <td>1003</td>\n",
       "      <td>Missing</td>\n",
       "      <td>Missing</td>\n",
       "    </tr>\n",
       "    <tr>\n",
       "      <th>3</th>\n",
       "      <td>1004</td>\n",
       "      <td>Currently a final year student of Computer Eng...</td>\n",
       "      <td>XML,  C,  Java,  Data Structures,  Python,  Mo...</td>\n",
       "    </tr>\n",
       "    <tr>\n",
       "      <th>4</th>\n",
       "      <td>1005</td>\n",
       "      <td>To have a growth oriented and challenging care...</td>\n",
       "      <td>XML,  Word,  Data Structures,  Communication, ...</td>\n",
       "    </tr>\n",
       "  </tbody>\n",
       "</table>\n",
       "</div>"
      ],
      "text/plain": [
       "  userid                                   career_objective  \\\n",
       "0   1001  Computer Engineering student with good technic...   \n",
       "1   1002  Interested in working under company offering A...   \n",
       "2   1003                                            Missing   \n",
       "3   1004  Currently a final year student of Computer Eng...   \n",
       "4   1005  To have a growth oriented and challenging care...   \n",
       "\n",
       "                                      key_skills_str  \n",
       "0  C,  Java,  Keras,  Flask,  Deep Learning,  Sel...  \n",
       "1  Java,  Neural Networks,  AI,  Python,  Html5, ...  \n",
       "2                                            Missing  \n",
       "3  XML,  C,  Java,  Data Structures,  Python,  Mo...  \n",
       "4  XML,  Word,  Data Structures,  Communication, ...  "
      ]
     },
     "execution_count": 30,
     "metadata": {},
     "output_type": "execute_result"
    }
   ],
   "source": [
    "#creating the dataset\n",
    "\n",
    "cf_dataset = pd.DataFrame()\n",
    "cf_dataset['userid'] = user_dataset['userid']\n",
    "cf_dataset['career_objective'] = user_dataset['career_objective']\n",
    "cf_dataset['key_skills_str'] = user_dataset['key_skills_str']\n",
    "cf_dataset.head(5)"
   ]
  },
  {
   "cell_type": "code",
   "execution_count": 29,
   "id": "9c830ac4",
   "metadata": {},
   "outputs": [
    {
     "data": {
      "text/plain": [
       "Missing                                                                                                                                                                                                                                      570\n",
       "To secure a position where I can efficiently contribute my skills and abilities to the growth of the organization and build my professional career.                                                                                            7\n",
       "To pursue a challenging career and be a part of progressive organization that gives a scope to enhance my knowledge and utilizing my skills towards the growth of the organization.                                                            5\n",
       "Looking for a challenging role in a reputable organization to utilize my technical, database, and management skills for the growth of the organization as well as to enhance my knowledge about new and emerging trends in the IT sector.      4\n",
       "Computer Engineering student with good technical skills and problem solving abilities. Areas of interest include Computer Vision, Deep Learning, Machine Learning, and Research.                                                               3\n",
       "Name: career_objective, dtype: int64"
      ]
     },
     "execution_count": 29,
     "metadata": {},
     "output_type": "execute_result"
    }
   ],
   "source": [
    "s = cf_dataset.apply(lambda x: pd.Series(x['career_objective']),axis=1).stack().reset_index(level=1, drop=True)\n",
    "s.name = 'career_objective'\n",
    "s = s.value_counts()\n",
    "s[:5]"
   ]
  },
  {
   "cell_type": "code",
   "execution_count": 34,
   "id": "2f18ec81",
   "metadata": {},
   "outputs": [
    {
     "data": {
      "text/html": [
       "<div>\n",
       "<style scoped>\n",
       "    .dataframe tbody tr th:only-of-type {\n",
       "        vertical-align: middle;\n",
       "    }\n",
       "\n",
       "    .dataframe tbody tr th {\n",
       "        vertical-align: top;\n",
       "    }\n",
       "\n",
       "    .dataframe thead th {\n",
       "        text-align: right;\n",
       "    }\n",
       "</style>\n",
       "<table border=\"1\" class=\"dataframe\">\n",
       "  <thead>\n",
       "    <tr style=\"text-align: right;\">\n",
       "      <th></th>\n",
       "      <th>userid</th>\n",
       "      <th>career_objective</th>\n",
       "      <th>key_skills_str</th>\n",
       "      <th>all</th>\n",
       "    </tr>\n",
       "  </thead>\n",
       "  <tbody>\n",
       "    <tr>\n",
       "      <th>0</th>\n",
       "      <td>1001</td>\n",
       "      <td>Computer Engineering student with good technic...</td>\n",
       "      <td>C,  Java,  Keras,  Flask,  Deep Learning,  Sel...</td>\n",
       "      <td>Computer Engineering student with good technic...</td>\n",
       "    </tr>\n",
       "    <tr>\n",
       "      <th>1</th>\n",
       "      <td>1002</td>\n",
       "      <td>Interested in working under company offering A...</td>\n",
       "      <td>Java,  Neural Networks,  AI,  Python,  Html5, ...</td>\n",
       "      <td>Interested in working under company offering A...</td>\n",
       "    </tr>\n",
       "    <tr>\n",
       "      <th>2</th>\n",
       "      <td>1003</td>\n",
       "      <td>Missing</td>\n",
       "      <td>Missing</td>\n",
       "      <td>MissingMissing</td>\n",
       "    </tr>\n",
       "    <tr>\n",
       "      <th>3</th>\n",
       "      <td>1004</td>\n",
       "      <td>Currently a final year student of Computer Eng...</td>\n",
       "      <td>XML,  C,  Java,  Data Structures,  Python,  Mo...</td>\n",
       "      <td>Currently a final year student of Computer Eng...</td>\n",
       "    </tr>\n",
       "    <tr>\n",
       "      <th>4</th>\n",
       "      <td>1005</td>\n",
       "      <td>To have a growth oriented and challenging care...</td>\n",
       "      <td>XML,  Word,  Data Structures,  Communication, ...</td>\n",
       "      <td>To have a growth oriented and challenging care...</td>\n",
       "    </tr>\n",
       "    <tr>\n",
       "      <th>...</th>\n",
       "      <td>...</td>\n",
       "      <td>...</td>\n",
       "      <td>...</td>\n",
       "      <td>...</td>\n",
       "    </tr>\n",
       "    <tr>\n",
       "      <th>1092</th>\n",
       "      <td>2042</td>\n",
       "      <td>i have to be carrer in programming and after t...</td>\n",
       "      <td>java,  database,  html,  OOPs,  Core Java,  MySQL</td>\n",
       "      <td>i have to be carrer in programming and after t...</td>\n",
       "    </tr>\n",
       "    <tr>\n",
       "      <th>1093</th>\n",
       "      <td>2043</td>\n",
       "      <td>To work in an Industry with a professional wor...</td>\n",
       "      <td>Ability-to-cope-up-with-different-situation., ...</td>\n",
       "      <td>To work in an Industry with a professional wor...</td>\n",
       "    </tr>\n",
       "    <tr>\n",
       "      <th>1094</th>\n",
       "      <td>2044</td>\n",
       "      <td>To pursue a highly challenging and creative ca...</td>\n",
       "      <td>C,  Java,  cpp,  HTML,  Basic-Python,  MySQL</td>\n",
       "      <td>To pursue a highly challenging and creative ca...</td>\n",
       "    </tr>\n",
       "    <tr>\n",
       "      <th>1095</th>\n",
       "      <td>2045</td>\n",
       "      <td>To prove myself dedicated worthful and energet...</td>\n",
       "      <td>C,  Drupal-(CMS),  Bootstrap,  Wordpress-(CMS)...</td>\n",
       "      <td>To prove myself dedicated worthful and energet...</td>\n",
       "    </tr>\n",
       "    <tr>\n",
       "      <th>1096</th>\n",
       "      <td>2046</td>\n",
       "      <td>To secure a challenging position where I can e...</td>\n",
       "      <td>Win32-Sdk,  JAVA,  Operating-System</td>\n",
       "      <td>To secure a challenging position where I can e...</td>\n",
       "    </tr>\n",
       "  </tbody>\n",
       "</table>\n",
       "<p>1097 rows × 4 columns</p>\n",
       "</div>"
      ],
      "text/plain": [
       "     userid                                   career_objective  \\\n",
       "0      1001  Computer Engineering student with good technic...   \n",
       "1      1002  Interested in working under company offering A...   \n",
       "2      1003                                            Missing   \n",
       "3      1004  Currently a final year student of Computer Eng...   \n",
       "4      1005  To have a growth oriented and challenging care...   \n",
       "...     ...                                                ...   \n",
       "1092   2042  i have to be carrer in programming and after t...   \n",
       "1093   2043  To work in an Industry with a professional wor...   \n",
       "1094   2044  To pursue a highly challenging and creative ca...   \n",
       "1095   2045  To prove myself dedicated worthful and energet...   \n",
       "1096   2046  To secure a challenging position where I can e...   \n",
       "\n",
       "                                         key_skills_str  \\\n",
       "0     C,  Java,  Keras,  Flask,  Deep Learning,  Sel...   \n",
       "1     Java,  Neural Networks,  AI,  Python,  Html5, ...   \n",
       "2                                               Missing   \n",
       "3     XML,  C,  Java,  Data Structures,  Python,  Mo...   \n",
       "4     XML,  Word,  Data Structures,  Communication, ...   \n",
       "...                                                 ...   \n",
       "1092  java,  database,  html,  OOPs,  Core Java,  MySQL   \n",
       "1093  Ability-to-cope-up-with-different-situation., ...   \n",
       "1094       C,  Java,  cpp,  HTML,  Basic-Python,  MySQL   \n",
       "1095  C,  Drupal-(CMS),  Bootstrap,  Wordpress-(CMS)...   \n",
       "1096                Win32-Sdk,  JAVA,  Operating-System   \n",
       "\n",
       "                                                    all  \n",
       "0     Computer Engineering student with good technic...  \n",
       "1     Interested in working under company offering A...  \n",
       "2                                        MissingMissing  \n",
       "3     Currently a final year student of Computer Eng...  \n",
       "4     To have a growth oriented and challenging care...  \n",
       "...                                                 ...  \n",
       "1092  i have to be carrer in programming and after t...  \n",
       "1093  To work in an Industry with a professional wor...  \n",
       "1094  To pursue a highly challenging and creative ca...  \n",
       "1095  To prove myself dedicated worthful and energet...  \n",
       "1096  To secure a challenging position where I can e...  \n",
       "\n",
       "[1097 rows x 4 columns]"
      ]
     },
     "execution_count": 34,
     "metadata": {},
     "output_type": "execute_result"
    }
   ],
   "source": [
    "cf_dataset['all'] = cf_dataset['career_objective'] + cf_dataset['key_skills_str']\n",
    "cf_dataset"
   ]
  },
  {
   "cell_type": "code",
   "execution_count": 45,
   "id": "89ede4c9",
   "metadata": {},
   "outputs": [],
   "source": [
    "#vectorize \n",
    "count = CountVectorizer(analyzer='word',ngram_range=(1, 2),min_df=0, stop_words='english')\n",
    "count_matrix = count.fit_transform(cf_dataset['all'].values.astype('U'))\n",
    "\n",
    "#cosine similarity using linear kernel\n",
    "cosine_sim = cosine_similarity(count_matrix, count_matrix)\n",
    "\n",
    "#\n",
    "cf_dataset = cf_dataset.reset_index()\n",
    "users = cf_dataset['userid']\n",
    "indices = pd.Series(cf_dataset.index, index=cf_dataset['userid'])\n",
    "\n",
    "\n",
    "#function to get recommendations\n",
    "def get_recommendations(user): #this is getting similar users based on their career objectives???\n",
    "    idx = indices[user]\n",
    "    sim_scores = list(enumerate(cosine_sim[idx]))\n",
    "    sim_scores = sorted(sim_scores, key=lambda x: x[1], reverse=True)\n",
    "    sim_scores = sim_scores[1:31]\n",
    "    user_indices = [i[0] for i in sim_scores]\n",
    "    return users.iloc[user_indices]"
   ]
  },
  {
   "cell_type": "code",
   "execution_count": 46,
   "id": "c057d766",
   "metadata": {},
   "outputs": [
    {
     "data": {
      "text/plain": [
       "894    1847\n",
       "996    1946\n",
       "93     1087\n",
       "256    1231\n",
       "201    1182\n",
       "180    1161\n",
       "91     1085\n",
       "464    1416\n",
       "981    1931\n",
       "165    1146\n",
       "Name: userid, dtype: object"
      ]
     },
     "execution_count": 46,
     "metadata": {},
     "output_type": "execute_result"
    }
   ],
   "source": [
    "get_recommendations(\"1001\").head(10)"
   ]
  },
  {
   "cell_type": "code",
   "execution_count": 49,
   "id": "f5335116",
   "metadata": {},
   "outputs": [
    {
     "data": {
      "text/plain": [
       "996    1946\n",
       "0      1001\n",
       "93     1087\n",
       "981    1931\n",
       "110    1102\n",
       "256    1231\n",
       "180    1161\n",
       "91     1085\n",
       "165    1146\n",
       "201    1182\n",
       "Name: userid, dtype: object"
      ]
     },
     "execution_count": 49,
     "metadata": {},
     "output_type": "execute_result"
    }
   ],
   "source": [
    "get_recommendations(\"1847\").head(10)"
   ]
  },
  {
   "cell_type": "code",
   "execution_count": 50,
   "id": "f39ea462",
   "metadata": {},
   "outputs": [
    {
     "data": {
      "text/plain": [
       "996    1946\n",
       "0      1001\n",
       "93     1087\n",
       "981    1931\n",
       "110    1102\n",
       "256    1231\n",
       "180    1161\n",
       "91     1085\n",
       "165    1146\n",
       "201    1182\n",
       "Name: userid, dtype: object"
      ]
     },
     "execution_count": 50,
     "metadata": {},
     "output_type": "execute_result"
    }
   ],
   "source": [
    "get_recommendations(\"1946\").head(10)"
   ]
  },
  {
   "cell_type": "code",
   "execution_count": 52,
   "id": "035bf0cd",
   "metadata": {},
   "outputs": [
    {
     "data": {
      "text/plain": [
       "0    C,  Java,  Keras,  Flask,  Deep Learning,  Sel...\n",
       "Name: key_skills_str, dtype: object"
      ]
     },
     "execution_count": 52,
     "metadata": {},
     "output_type": "execute_result"
    }
   ],
   "source": [
    "cf_dataset[\"key_skills_str\"].loc[cf_dataset['userid'] == '1001']"
   ]
  },
  {
   "cell_type": "code",
   "execution_count": 57,
   "id": "1229e6ff",
   "metadata": {},
   "outputs": [
    {
     "data": {
      "text/plain": [
       "894    Computer Engineering student with good technic...\n",
       "Name: all, dtype: object"
      ]
     },
     "execution_count": 57,
     "metadata": {},
     "output_type": "execute_result"
    }
   ],
   "source": [
    "cf_dataset[\"all\"].loc[cf_dataset['userid'] == '1847']"
   ]
  },
  {
   "cell_type": "code",
   "execution_count": 58,
   "id": "2f5cae36",
   "metadata": {},
   "outputs": [
    {
     "data": {
      "text/plain": [
       "996    Computer Engineering student with good technic...\n",
       "Name: all, dtype: object"
      ]
     },
     "execution_count": 58,
     "metadata": {},
     "output_type": "execute_result"
    }
   ],
   "source": [
    "cf_dataset[\"all\"].loc[cf_dataset['userid'] == '1946']"
   ]
  },
  {
   "cell_type": "code",
   "execution_count": 62,
   "id": "4005231d",
   "metadata": {},
   "outputs": [
    {
     "data": {
      "text/plain": [
       "256    To enhance my expertise in the field of softwa...\n",
       "Name: all, dtype: object"
      ]
     },
     "execution_count": 62,
     "metadata": {},
     "output_type": "execute_result"
    }
   ],
   "source": [
    "cf_dataset[\"all\"].loc[cf_dataset['userid'] == '1231']"
   ]
  },
  {
   "cell_type": "markdown",
   "id": "977dc766",
   "metadata": {},
   "source": [
    "Upon checking the above, the filter is checking all the users' career objectives and key skill. And returns similar users. \n",
    "\n",
    "User 1001 has career objective a and key skills list b. \n",
    "\n",
    "User 1847 (the first recommendation for user 1001) has career objective a and key skills list b.\n",
    "\n",
    "User 1847 (the second recommendation for user 1001) has career objective a and key skills list b.\n",
    "\n",
    "User 1231 (the fourth recommendation for user 1001) has career objective NEW and key skills list NEW with some matches like Keras."
   ]
  },
  {
   "cell_type": "markdown",
   "id": "2c4098fa",
   "metadata": {},
   "source": [
    "### Course Dataset -  degree 1, degree 1 specialization and key skills"
   ]
  },
  {
   "cell_type": "code",
   "execution_count": 64,
   "id": "b62ee279",
   "metadata": {},
   "outputs": [
    {
     "data": {
      "text/html": [
       "<div>\n",
       "<style scoped>\n",
       "    .dataframe tbody tr th:only-of-type {\n",
       "        vertical-align: middle;\n",
       "    }\n",
       "\n",
       "    .dataframe tbody tr th {\n",
       "        vertical-align: top;\n",
       "    }\n",
       "\n",
       "    .dataframe thead th {\n",
       "        text-align: right;\n",
       "    }\n",
       "</style>\n",
       "<table border=\"1\" class=\"dataframe\">\n",
       "  <thead>\n",
       "    <tr style=\"text-align: right;\">\n",
       "      <th></th>\n",
       "      <th>sr_</th>\n",
       "      <th>degree_1</th>\n",
       "      <th>degree_1_specializations</th>\n",
       "      <th>key_skills_str</th>\n",
       "    </tr>\n",
       "  </thead>\n",
       "  <tbody>\n",
       "    <tr>\n",
       "      <th>0</th>\n",
       "      <td>1001</td>\n",
       "      <td>B.E.</td>\n",
       "      <td>Mechanical</td>\n",
       "      <td>CATIA</td>\n",
       "    </tr>\n",
       "    <tr>\n",
       "      <th>1</th>\n",
       "      <td>1002</td>\n",
       "      <td>B.E.</td>\n",
       "      <td>Mechanical</td>\n",
       "      <td>CATIA</td>\n",
       "    </tr>\n",
       "    <tr>\n",
       "      <th>2</th>\n",
       "      <td>1003</td>\n",
       "      <td>B.E.</td>\n",
       "      <td>Mechanical</td>\n",
       "      <td>CATIA</td>\n",
       "    </tr>\n",
       "    <tr>\n",
       "      <th>3</th>\n",
       "      <td>1004</td>\n",
       "      <td>B.E.</td>\n",
       "      <td>Mechanical</td>\n",
       "      <td>CATIA</td>\n",
       "    </tr>\n",
       "    <tr>\n",
       "      <th>4</th>\n",
       "      <td>1005</td>\n",
       "      <td>B.E.</td>\n",
       "      <td>Mechanical</td>\n",
       "      <td>CATIA</td>\n",
       "    </tr>\n",
       "  </tbody>\n",
       "</table>\n",
       "</div>"
      ],
      "text/plain": [
       "    sr_ degree_1 degree_1_specializations key_skills_str\n",
       "0  1001     B.E.               Mechanical          CATIA\n",
       "1  1002     B.E.               Mechanical          CATIA\n",
       "2  1003     B.E.               Mechanical          CATIA\n",
       "3  1004     B.E.               Mechanical          CATIA\n",
       "4  1005     B.E.               Mechanical          CATIA"
      ]
     },
     "execution_count": 64,
     "metadata": {},
     "output_type": "execute_result"
    }
   ],
   "source": [
    "#creating the dataset\n",
    "\n",
    "cf_dataset2 = pd.DataFrame()\n",
    "cf_dataset2['sr_'] = course_dataset['sr_']\n",
    "cf_dataset2['degree_1'] = course_dataset['degree_1']\n",
    "cf_dataset2['degree_1_specializations'] = course_dataset['degree_1_specializations']\n",
    "cf_dataset2['key_skills_str'] = course_dataset['key_skills_str']\n",
    "cf_dataset2.head(5)"
   ]
  },
  {
   "cell_type": "code",
   "execution_count": 65,
   "id": "16274838",
   "metadata": {},
   "outputs": [
    {
     "data": {
      "text/html": [
       "<div>\n",
       "<style scoped>\n",
       "    .dataframe tbody tr th:only-of-type {\n",
       "        vertical-align: middle;\n",
       "    }\n",
       "\n",
       "    .dataframe tbody tr th {\n",
       "        vertical-align: top;\n",
       "    }\n",
       "\n",
       "    .dataframe thead th {\n",
       "        text-align: right;\n",
       "    }\n",
       "</style>\n",
       "<table border=\"1\" class=\"dataframe\">\n",
       "  <thead>\n",
       "    <tr style=\"text-align: right;\">\n",
       "      <th></th>\n",
       "      <th>sr_</th>\n",
       "      <th>degree_1</th>\n",
       "      <th>degree_1_specializations</th>\n",
       "      <th>key_skills_str</th>\n",
       "      <th>all</th>\n",
       "    </tr>\n",
       "  </thead>\n",
       "  <tbody>\n",
       "    <tr>\n",
       "      <th>0</th>\n",
       "      <td>1001</td>\n",
       "      <td>B.E.</td>\n",
       "      <td>Mechanical</td>\n",
       "      <td>CATIA</td>\n",
       "      <td>B.E.MechanicalCATIA</td>\n",
       "    </tr>\n",
       "    <tr>\n",
       "      <th>1</th>\n",
       "      <td>1002</td>\n",
       "      <td>B.E.</td>\n",
       "      <td>Mechanical</td>\n",
       "      <td>CATIA</td>\n",
       "      <td>B.E.MechanicalCATIA</td>\n",
       "    </tr>\n",
       "    <tr>\n",
       "      <th>2</th>\n",
       "      <td>1003</td>\n",
       "      <td>B.E.</td>\n",
       "      <td>Mechanical</td>\n",
       "      <td>CATIA</td>\n",
       "      <td>B.E.MechanicalCATIA</td>\n",
       "    </tr>\n",
       "    <tr>\n",
       "      <th>3</th>\n",
       "      <td>1004</td>\n",
       "      <td>B.E.</td>\n",
       "      <td>Mechanical</td>\n",
       "      <td>CATIA</td>\n",
       "      <td>B.E.MechanicalCATIA</td>\n",
       "    </tr>\n",
       "    <tr>\n",
       "      <th>4</th>\n",
       "      <td>1005</td>\n",
       "      <td>B.E.</td>\n",
       "      <td>Mechanical</td>\n",
       "      <td>CATIA</td>\n",
       "      <td>B.E.MechanicalCATIA</td>\n",
       "    </tr>\n",
       "    <tr>\n",
       "      <th>...</th>\n",
       "      <td>...</td>\n",
       "      <td>...</td>\n",
       "      <td>...</td>\n",
       "      <td>...</td>\n",
       "      <td>...</td>\n",
       "    </tr>\n",
       "    <tr>\n",
       "      <th>9995</th>\n",
       "      <td>10996</td>\n",
       "      <td>B.E.</td>\n",
       "      <td>Electronics  Telecommunication Engineering</td>\n",
       "      <td>EmbeddedC, MATLAB, Cprogramming, Keil</td>\n",
       "      <td>B.E.Electronics  Telecommunication Engineering...</td>\n",
       "    </tr>\n",
       "    <tr>\n",
       "      <th>9996</th>\n",
       "      <td>10997</td>\n",
       "      <td>B.E.</td>\n",
       "      <td>Electronics  Telecommunication Engineering</td>\n",
       "      <td>EmbeddedC, MATLAB, Cprogramming, Keil</td>\n",
       "      <td>B.E.Electronics  Telecommunication Engineering...</td>\n",
       "    </tr>\n",
       "    <tr>\n",
       "      <th>9997</th>\n",
       "      <td>10998</td>\n",
       "      <td>M TeCh</td>\n",
       "      <td>Electronics  Telecommunication Engineering</td>\n",
       "      <td>EmbeddedC, MATLAB, Cprogramming, Keil</td>\n",
       "      <td>M TeCh Electronics  Telecommunication Engineer...</td>\n",
       "    </tr>\n",
       "    <tr>\n",
       "      <th>9998</th>\n",
       "      <td>10999</td>\n",
       "      <td>B.E.</td>\n",
       "      <td>Electronics  Telecommunication Engineering</td>\n",
       "      <td>AmazonWebServiCes, C CPP, Arduino, MongoDB, Li...</td>\n",
       "      <td>B.E.Electronics  Telecommunication Engineering...</td>\n",
       "    </tr>\n",
       "    <tr>\n",
       "      <th>9999</th>\n",
       "      <td>11000</td>\n",
       "      <td>B.E.</td>\n",
       "      <td>Electronics  Telecommunication Engineering</td>\n",
       "      <td>AmazonWebServiCes, C CPP, Arduino, MongoDB, Li...</td>\n",
       "      <td>B.E.Electronics  Telecommunication Engineering...</td>\n",
       "    </tr>\n",
       "  </tbody>\n",
       "</table>\n",
       "<p>10000 rows × 5 columns</p>\n",
       "</div>"
      ],
      "text/plain": [
       "        sr_ degree_1                    degree_1_specializations  \\\n",
       "0      1001     B.E.                                  Mechanical   \n",
       "1      1002     B.E.                                  Mechanical   \n",
       "2      1003     B.E.                                  Mechanical   \n",
       "3      1004     B.E.                                  Mechanical   \n",
       "4      1005     B.E.                                  Mechanical   \n",
       "...     ...      ...                                         ...   \n",
       "9995  10996     B.E.  Electronics  Telecommunication Engineering   \n",
       "9996  10997     B.E.  Electronics  Telecommunication Engineering   \n",
       "9997  10998  M TeCh   Electronics  Telecommunication Engineering   \n",
       "9998  10999     B.E.  Electronics  Telecommunication Engineering   \n",
       "9999  11000     B.E.  Electronics  Telecommunication Engineering   \n",
       "\n",
       "                                         key_skills_str  \\\n",
       "0                                                 CATIA   \n",
       "1                                                 CATIA   \n",
       "2                                                 CATIA   \n",
       "3                                                 CATIA   \n",
       "4                                                 CATIA   \n",
       "...                                                 ...   \n",
       "9995              EmbeddedC, MATLAB, Cprogramming, Keil   \n",
       "9996              EmbeddedC, MATLAB, Cprogramming, Keil   \n",
       "9997              EmbeddedC, MATLAB, Cprogramming, Keil   \n",
       "9998  AmazonWebServiCes, C CPP, Arduino, MongoDB, Li...   \n",
       "9999  AmazonWebServiCes, C CPP, Arduino, MongoDB, Li...   \n",
       "\n",
       "                                                    all  \n",
       "0                                   B.E.MechanicalCATIA  \n",
       "1                                   B.E.MechanicalCATIA  \n",
       "2                                   B.E.MechanicalCATIA  \n",
       "3                                   B.E.MechanicalCATIA  \n",
       "4                                   B.E.MechanicalCATIA  \n",
       "...                                                 ...  \n",
       "9995  B.E.Electronics  Telecommunication Engineering...  \n",
       "9996  B.E.Electronics  Telecommunication Engineering...  \n",
       "9997  M TeCh Electronics  Telecommunication Engineer...  \n",
       "9998  B.E.Electronics  Telecommunication Engineering...  \n",
       "9999  B.E.Electronics  Telecommunication Engineering...  \n",
       "\n",
       "[10000 rows x 5 columns]"
      ]
     },
     "execution_count": 65,
     "metadata": {},
     "output_type": "execute_result"
    }
   ],
   "source": [
    "cf_dataset2['all'] = cf_dataset2['degree_1'] + cf_dataset2['degree_1_specializations'] + cf_dataset2['key_skills_str']\n",
    "cf_dataset2"
   ]
  },
  {
   "cell_type": "code",
   "execution_count": 66,
   "id": "8b2cca9c",
   "metadata": {},
   "outputs": [],
   "source": [
    "#vectorize \n",
    "count = CountVectorizer(analyzer='word',ngram_range=(1, 2),min_df=0, stop_words='english')\n",
    "count_matrix = count.fit_transform(cf_dataset2['all'].values.astype('U'))\n",
    "\n",
    "#cosine similarity using linear kernel\n",
    "cosine_sim = cosine_similarity(count_matrix, count_matrix)\n",
    "\n",
    "#\n",
    "cf_dataset2 = cf_dataset2.reset_index()\n",
    "courses = cf_dataset2['sr_']\n",
    "indices = pd.Series(cf_dataset2.index, index=cf_dataset2['sr_'])\n",
    "\n",
    "\n",
    "#function to get recommendations\n",
    "def get_recommendations(course): \n",
    "    idx = indices[course]\n",
    "    sim_scores = list(enumerate(cosine_sim[idx]))\n",
    "    sim_scores = sorted(sim_scores, key=lambda x: x[1], reverse=True)\n",
    "    sim_scores = sim_scores[1:31]\n",
    "    course_indices = [i[0] for i in sim_scores]\n",
    "    return courses.iloc[course_indices]"
   ]
  },
  {
   "cell_type": "code",
   "execution_count": 68,
   "id": "8dc0c8d9",
   "metadata": {},
   "outputs": [
    {
     "data": {
      "text/plain": [
       "1     1002\n",
       "2     1003\n",
       "3     1004\n",
       "4     1005\n",
       "5     1006\n",
       "6     1007\n",
       "7     1008\n",
       "8     1009\n",
       "9     1010\n",
       "10    1011\n",
       "Name: sr_, dtype: int64"
      ]
     },
     "execution_count": 68,
     "metadata": {},
     "output_type": "execute_result"
    }
   ],
   "source": [
    "get_recommendations(1001).head(10)"
   ]
  },
  {
   "cell_type": "code",
   "execution_count": 77,
   "id": "a4f78384",
   "metadata": {},
   "outputs": [
    {
     "data": {
      "text/plain": [
       "1     1002\n",
       "2     1003\n",
       "3     1004\n",
       "4     1005\n",
       "5     1006\n",
       "6     1007\n",
       "7     1008\n",
       "8     1009\n",
       "9     1010\n",
       "10    1011\n",
       "Name: sr_, dtype: int64"
      ]
     },
     "execution_count": 77,
     "metadata": {},
     "output_type": "execute_result"
    }
   ],
   "source": [
    "get_recommendations(1003).head(10)"
   ]
  },
  {
   "cell_type": "code",
   "execution_count": 72,
   "id": "c40c50ed",
   "metadata": {},
   "outputs": [
    {
     "name": "stdout",
     "output_type": "stream",
     "text": [
      "0    B.E.MechanicalCATIA\n",
      "Name: all, dtype: object\n",
      "0    CATIA\n",
      "Name: key_skills_str, dtype: object\n"
     ]
    }
   ],
   "source": [
    "print(cf_dataset2[\"all\"].loc[cf_dataset2['sr_'] == 1001])  #key_skills_str"
   ]
  },
  {
   "cell_type": "code",
   "execution_count": 75,
   "id": "4d415bd9",
   "metadata": {},
   "outputs": [
    {
     "name": "stdout",
     "output_type": "stream",
     "text": [
      "1    B.E.MechanicalCATIA\n",
      "Name: all, dtype: object\n",
      "2    B.E.MechanicalCATIA\n",
      "Name: all, dtype: object\n"
     ]
    }
   ],
   "source": [
    "print(cf_dataset2[\"all\"].loc[cf_dataset2['sr_'] == 1002])\n",
    "print(cf_dataset2[\"all\"].loc[cf_dataset2['sr_'] == 1003])"
   ]
  },
  {
   "cell_type": "code",
   "execution_count": 78,
   "id": "38d25f01",
   "metadata": {},
   "outputs": [
    {
     "data": {
      "text/plain": [
       "172    1173\n",
       "209    1210\n",
       "212    1213\n",
       "213    1214\n",
       "214    1215\n",
       "225    1226\n",
       "226    1227\n",
       "230    1231\n",
       "231    1232\n",
       "435    1436\n",
       "Name: sr_, dtype: int64"
      ]
     },
     "execution_count": 78,
     "metadata": {},
     "output_type": "execute_result"
    }
   ],
   "source": [
    "#trying a different course\n",
    "get_recommendations(10996).head(10)"
   ]
  },
  {
   "cell_type": "code",
   "execution_count": 82,
   "id": "a4814059",
   "metadata": {},
   "outputs": [
    {
     "name": "stdout",
     "output_type": "stream",
     "text": [
      "9995    B.E.Electronics  Telecommunication Engineering...\n",
      "Name: all, dtype: object\n",
      "172    EmbeddedC, MATLAB, Cprogramming, Keil\n",
      "Name: key_skills_str, dtype: object\n",
      "209    EmbeddedC, MATLAB, Cprogramming, Keil\n",
      "Name: key_skills_str, dtype: object\n"
     ]
    }
   ],
   "source": [
    "print(cf_dataset2[\"all\"].loc[cf_dataset2['sr_'] == 10996])\n",
    "print(cf_dataset2[\"key_skills_str\"].loc[cf_dataset2['sr_'] == 1173])\n",
    "print(cf_dataset2[\"key_skills_str\"].loc[cf_dataset2['sr_'] == 1210])"
   ]
  },
  {
   "cell_type": "markdown",
   "id": "a001ce27",
   "metadata": {},
   "source": [
    "They are also accurate in the course dataset. Only the degree, degree specializations and key skils are basically the same.\n",
    "\n",
    "Try to implement the removal of the course we are looking for from the recommendations. As seen above in the 1003 course search, the thing we search for is sometimes given back"
   ]
  },
  {
   "cell_type": "markdown",
   "id": "5955f95c",
   "metadata": {},
   "source": [
    "### Course Dataset - degree 1, degree 1 specialization and key skills"
   ]
  },
  {
   "cell_type": "code",
   "execution_count": 21,
   "id": "530a1c8f",
   "metadata": {},
   "outputs": [
    {
     "data": {
      "text/html": [
       "<div>\n",
       "<style scoped>\n",
       "    .dataframe tbody tr th:only-of-type {\n",
       "        vertical-align: middle;\n",
       "    }\n",
       "\n",
       "    .dataframe tbody tr th {\n",
       "        vertical-align: top;\n",
       "    }\n",
       "\n",
       "    .dataframe thead th {\n",
       "        text-align: right;\n",
       "    }\n",
       "</style>\n",
       "<table border=\"1\" class=\"dataframe\">\n",
       "  <thead>\n",
       "    <tr style=\"text-align: right;\">\n",
       "      <th></th>\n",
       "      <th>Unnamed: 0</th>\n",
       "      <th>sr_</th>\n",
       "      <th>degree_1</th>\n",
       "      <th>degree_1_specializations</th>\n",
       "      <th>campus</th>\n",
       "      <th>key_skills</th>\n",
       "      <th>key_skills_str</th>\n",
       "    </tr>\n",
       "  </thead>\n",
       "  <tbody>\n",
       "    <tr>\n",
       "      <th>0</th>\n",
       "      <td>0</td>\n",
       "      <td>1001</td>\n",
       "      <td>B.E.</td>\n",
       "      <td>Mechanical</td>\n",
       "      <td>MITCOE</td>\n",
       "      <td>['CATIA']</td>\n",
       "      <td>CATIA</td>\n",
       "    </tr>\n",
       "    <tr>\n",
       "      <th>1</th>\n",
       "      <td>1</td>\n",
       "      <td>1002</td>\n",
       "      <td>B.E.</td>\n",
       "      <td>Mechanical</td>\n",
       "      <td>MITCOE</td>\n",
       "      <td>['CATIA']</td>\n",
       "      <td>CATIA</td>\n",
       "    </tr>\n",
       "  </tbody>\n",
       "</table>\n",
       "</div>"
      ],
      "text/plain": [
       "   Unnamed: 0   sr_ degree_1 degree_1_specializations  campus key_skills  \\\n",
       "0           0  1001     B.E.               Mechanical  MITCOE  ['CATIA']   \n",
       "1           1  1002     B.E.               Mechanical  MITCOE  ['CATIA']   \n",
       "\n",
       "  key_skills_str  \n",
       "0          CATIA  \n",
       "1          CATIA  "
      ]
     },
     "execution_count": 21,
     "metadata": {},
     "output_type": "execute_result"
    }
   ],
   "source": [
    "course_dataset.head(2)"
   ]
  },
  {
   "cell_type": "code",
   "execution_count": 22,
   "id": "f8cdfcc0",
   "metadata": {},
   "outputs": [],
   "source": [
    "df = pd.DataFrame()\n",
    "df[\"details\"] = course_dataset[\"degree_1\"] + course_dataset[\"degree_1_specializations\"] + course_dataset[\"key_skills_str\"]"
   ]
  },
  {
   "cell_type": "code",
   "execution_count": 23,
   "id": "5c8dfbb7",
   "metadata": {},
   "outputs": [
    {
     "data": {
      "text/plain": [
       "sr_\n",
       "1001    0\n",
       "1002    1\n",
       "dtype: int64"
      ]
     },
     "execution_count": 23,
     "metadata": {},
     "output_type": "execute_result"
    }
   ],
   "source": [
    "tf = TfidfVectorizer(analyzer='word',ngram_range=(1, 2),min_df=0, stop_words='english')\n",
    "tfidf_matrix = tf.fit_transform(df['details'].values.astype('U'))\n",
    "\n",
    "cosine_sim = linear_kernel(tfidf_matrix, tfidf_matrix)\n",
    "\n",
    "df = df.reset_index()\n",
    "titles = course_dataset['sr_']\n",
    "indices = pd.Series(course_dataset.index, index=course_dataset['sr_'])\n",
    "indices.head(2)"
   ]
  },
  {
   "cell_type": "code",
   "execution_count": 24,
   "id": "99d03c4e",
   "metadata": {},
   "outputs": [
    {
     "ename": "KeyError",
     "evalue": "'1002'",
     "output_type": "error",
     "traceback": [
      "\u001b[1;31m---------------------------------------------------------------------------\u001b[0m",
      "\u001b[1;31mKeyError\u001b[0m                                  Traceback (most recent call last)",
      "File \u001b[1;32m~\\anaconda3\\lib\\site-packages\\pandas\\core\\indexes\\base.py:3361\u001b[0m, in \u001b[0;36mIndex.get_loc\u001b[1;34m(self, key, method, tolerance)\u001b[0m\n\u001b[0;32m   3360\u001b[0m \u001b[38;5;28;01mtry\u001b[39;00m:\n\u001b[1;32m-> 3361\u001b[0m     \u001b[38;5;28;01mreturn\u001b[39;00m \u001b[38;5;28;43mself\u001b[39;49m\u001b[38;5;241;43m.\u001b[39;49m\u001b[43m_engine\u001b[49m\u001b[38;5;241;43m.\u001b[39;49m\u001b[43mget_loc\u001b[49m\u001b[43m(\u001b[49m\u001b[43mcasted_key\u001b[49m\u001b[43m)\u001b[49m\n\u001b[0;32m   3362\u001b[0m \u001b[38;5;28;01mexcept\u001b[39;00m \u001b[38;5;167;01mKeyError\u001b[39;00m \u001b[38;5;28;01mas\u001b[39;00m err:\n",
      "File \u001b[1;32m~\\anaconda3\\lib\\site-packages\\pandas\\_libs\\index.pyx:76\u001b[0m, in \u001b[0;36mpandas._libs.index.IndexEngine.get_loc\u001b[1;34m()\u001b[0m\n",
      "File \u001b[1;32mpandas\\_libs\\index_class_helper.pxi:105\u001b[0m, in \u001b[0;36mpandas._libs.index.Int64Engine._check_type\u001b[1;34m()\u001b[0m\n",
      "File \u001b[1;32mpandas\\_libs\\index_class_helper.pxi:105\u001b[0m, in \u001b[0;36mpandas._libs.index.Int64Engine._check_type\u001b[1;34m()\u001b[0m\n",
      "\u001b[1;31mKeyError\u001b[0m: '1002'",
      "\nThe above exception was the direct cause of the following exception:\n",
      "\u001b[1;31mKeyError\u001b[0m                                  Traceback (most recent call last)",
      "Cell \u001b[1;32mIn[24], line 9\u001b[0m\n\u001b[0;32m      6\u001b[0m     movie_indices \u001b[38;5;241m=\u001b[39m [i[\u001b[38;5;241m0\u001b[39m] \u001b[38;5;28;01mfor\u001b[39;00m i \u001b[38;5;129;01min\u001b[39;00m sim_scores]\n\u001b[0;32m      7\u001b[0m     \u001b[38;5;28;01mreturn\u001b[39;00m titles\u001b[38;5;241m.\u001b[39miloc[movie_indices]\n\u001b[1;32m----> 9\u001b[0m \u001b[43mget_recommendations\u001b[49m\u001b[43m(\u001b[49m\u001b[38;5;124;43m\"\u001b[39;49m\u001b[38;5;124;43m1002\u001b[39;49m\u001b[38;5;124;43m\"\u001b[39;49m\u001b[43m)\u001b[49m\u001b[38;5;241m.\u001b[39mhead(\u001b[38;5;241m10\u001b[39m)\n",
      "Cell \u001b[1;32mIn[24], line 2\u001b[0m, in \u001b[0;36mget_recommendations\u001b[1;34m(title)\u001b[0m\n\u001b[0;32m      1\u001b[0m \u001b[38;5;28;01mdef\u001b[39;00m \u001b[38;5;21mget_recommendations\u001b[39m(title): \u001b[38;5;66;03m#this is getting similar users based on their career objectives???\u001b[39;00m\n\u001b[1;32m----> 2\u001b[0m     idx \u001b[38;5;241m=\u001b[39m \u001b[43mindices\u001b[49m\u001b[43m[\u001b[49m\u001b[43mtitle\u001b[49m\u001b[43m]\u001b[49m\n\u001b[0;32m      3\u001b[0m     sim_scores \u001b[38;5;241m=\u001b[39m \u001b[38;5;28mlist\u001b[39m(\u001b[38;5;28menumerate\u001b[39m(cosine_sim[idx]))\n\u001b[0;32m      4\u001b[0m     sim_scores \u001b[38;5;241m=\u001b[39m \u001b[38;5;28msorted\u001b[39m(sim_scores, key\u001b[38;5;241m=\u001b[39m\u001b[38;5;28;01mlambda\u001b[39;00m x: x[\u001b[38;5;241m1\u001b[39m], reverse\u001b[38;5;241m=\u001b[39m\u001b[38;5;28;01mTrue\u001b[39;00m)\n",
      "File \u001b[1;32m~\\anaconda3\\lib\\site-packages\\pandas\\core\\series.py:942\u001b[0m, in \u001b[0;36mSeries.__getitem__\u001b[1;34m(self, key)\u001b[0m\n\u001b[0;32m    939\u001b[0m     \u001b[38;5;28;01mreturn\u001b[39;00m \u001b[38;5;28mself\u001b[39m\u001b[38;5;241m.\u001b[39m_values[key]\n\u001b[0;32m    941\u001b[0m \u001b[38;5;28;01melif\u001b[39;00m key_is_scalar:\n\u001b[1;32m--> 942\u001b[0m     \u001b[38;5;28;01mreturn\u001b[39;00m \u001b[38;5;28;43mself\u001b[39;49m\u001b[38;5;241;43m.\u001b[39;49m\u001b[43m_get_value\u001b[49m\u001b[43m(\u001b[49m\u001b[43mkey\u001b[49m\u001b[43m)\u001b[49m\n\u001b[0;32m    944\u001b[0m \u001b[38;5;28;01mif\u001b[39;00m is_hashable(key):\n\u001b[0;32m    945\u001b[0m     \u001b[38;5;66;03m# Otherwise index.get_value will raise InvalidIndexError\u001b[39;00m\n\u001b[0;32m    946\u001b[0m     \u001b[38;5;28;01mtry\u001b[39;00m:\n\u001b[0;32m    947\u001b[0m         \u001b[38;5;66;03m# For labels that don't resolve as scalars like tuples and frozensets\u001b[39;00m\n",
      "File \u001b[1;32m~\\anaconda3\\lib\\site-packages\\pandas\\core\\series.py:1051\u001b[0m, in \u001b[0;36mSeries._get_value\u001b[1;34m(self, label, takeable)\u001b[0m\n\u001b[0;32m   1048\u001b[0m     \u001b[38;5;28;01mreturn\u001b[39;00m \u001b[38;5;28mself\u001b[39m\u001b[38;5;241m.\u001b[39m_values[label]\n\u001b[0;32m   1050\u001b[0m \u001b[38;5;66;03m# Similar to Index.get_value, but we do not fall back to positional\u001b[39;00m\n\u001b[1;32m-> 1051\u001b[0m loc \u001b[38;5;241m=\u001b[39m \u001b[38;5;28;43mself\u001b[39;49m\u001b[38;5;241;43m.\u001b[39;49m\u001b[43mindex\u001b[49m\u001b[38;5;241;43m.\u001b[39;49m\u001b[43mget_loc\u001b[49m\u001b[43m(\u001b[49m\u001b[43mlabel\u001b[49m\u001b[43m)\u001b[49m\n\u001b[0;32m   1052\u001b[0m \u001b[38;5;28;01mreturn\u001b[39;00m \u001b[38;5;28mself\u001b[39m\u001b[38;5;241m.\u001b[39mindex\u001b[38;5;241m.\u001b[39m_get_values_for_loc(\u001b[38;5;28mself\u001b[39m, loc, label)\n",
      "File \u001b[1;32m~\\anaconda3\\lib\\site-packages\\pandas\\core\\indexes\\base.py:3363\u001b[0m, in \u001b[0;36mIndex.get_loc\u001b[1;34m(self, key, method, tolerance)\u001b[0m\n\u001b[0;32m   3361\u001b[0m         \u001b[38;5;28;01mreturn\u001b[39;00m \u001b[38;5;28mself\u001b[39m\u001b[38;5;241m.\u001b[39m_engine\u001b[38;5;241m.\u001b[39mget_loc(casted_key)\n\u001b[0;32m   3362\u001b[0m     \u001b[38;5;28;01mexcept\u001b[39;00m \u001b[38;5;167;01mKeyError\u001b[39;00m \u001b[38;5;28;01mas\u001b[39;00m err:\n\u001b[1;32m-> 3363\u001b[0m         \u001b[38;5;28;01mraise\u001b[39;00m \u001b[38;5;167;01mKeyError\u001b[39;00m(key) \u001b[38;5;28;01mfrom\u001b[39;00m \u001b[38;5;21;01merr\u001b[39;00m\n\u001b[0;32m   3365\u001b[0m \u001b[38;5;28;01mif\u001b[39;00m is_scalar(key) \u001b[38;5;129;01mand\u001b[39;00m isna(key) \u001b[38;5;129;01mand\u001b[39;00m \u001b[38;5;129;01mnot\u001b[39;00m \u001b[38;5;28mself\u001b[39m\u001b[38;5;241m.\u001b[39mhasnans:\n\u001b[0;32m   3366\u001b[0m     \u001b[38;5;28;01mraise\u001b[39;00m \u001b[38;5;167;01mKeyError\u001b[39;00m(key)\n",
      "\u001b[1;31mKeyError\u001b[0m: '1002'"
     ]
    }
   ],
   "source": [
    "def get_recommendations(title): #this is getting similar users based on their career objectives???\n",
    "    idx = indices[title]\n",
    "    sim_scores = list(enumerate(cosine_sim[idx]))\n",
    "    sim_scores = sorted(sim_scores, key=lambda x: x[1], reverse=True)\n",
    "    sim_scores = sim_scores[1:31]\n",
    "    movie_indices = [i[0] for i in sim_scores]\n",
    "    return titles.iloc[movie_indices]\n",
    "\n",
    "get_recommendations(\"1002\").head(10)"
   ]
  },
  {
   "cell_type": "code",
   "execution_count": null,
   "id": "e4e27c2d",
   "metadata": {},
   "outputs": [],
   "source": []
  },
  {
   "cell_type": "code",
   "execution_count": null,
   "id": "d591f903",
   "metadata": {},
   "outputs": [],
   "source": []
  },
  {
   "cell_type": "code",
   "execution_count": null,
   "id": "e19534f9",
   "metadata": {},
   "outputs": [],
   "source": []
  },
  {
   "cell_type": "code",
   "execution_count": null,
   "id": "f8d14ad4",
   "metadata": {},
   "outputs": [],
   "source": []
  },
  {
   "cell_type": "code",
   "execution_count": null,
   "id": "cfe7b5db",
   "metadata": {},
   "outputs": [],
   "source": []
  },
  {
   "cell_type": "code",
   "execution_count": null,
   "id": "e2a9b148",
   "metadata": {},
   "outputs": [],
   "source": []
  },
  {
   "cell_type": "code",
   "execution_count": null,
   "id": "e8330555",
   "metadata": {},
   "outputs": [],
   "source": []
  },
  {
   "cell_type": "code",
   "execution_count": null,
   "id": "1ae7a9d6",
   "metadata": {},
   "outputs": [],
   "source": []
  },
  {
   "cell_type": "code",
   "execution_count": null,
   "id": "2655049e",
   "metadata": {},
   "outputs": [],
   "source": []
  },
  {
   "cell_type": "code",
   "execution_count": null,
   "id": "797b270e",
   "metadata": {},
   "outputs": [],
   "source": []
  },
  {
   "cell_type": "code",
   "execution_count": null,
   "id": "6ecdc90c",
   "metadata": {},
   "outputs": [],
   "source": []
  },
  {
   "cell_type": "code",
   "execution_count": null,
   "id": "0f252432",
   "metadata": {},
   "outputs": [],
   "source": []
  },
  {
   "cell_type": "code",
   "execution_count": null,
   "id": "232102e6",
   "metadata": {},
   "outputs": [],
   "source": []
  },
  {
   "cell_type": "code",
   "execution_count": null,
   "id": "2651566b",
   "metadata": {},
   "outputs": [],
   "source": []
  },
  {
   "cell_type": "code",
   "execution_count": null,
   "id": "40c0eec5",
   "metadata": {},
   "outputs": [],
   "source": []
  },
  {
   "cell_type": "markdown",
   "id": "cc1f75b3",
   "metadata": {},
   "source": [
    "## Another Methodology"
   ]
  },
  {
   "cell_type": "code",
   "execution_count": 25,
   "id": "29ee0992",
   "metadata": {},
   "outputs": [],
   "source": [
    "from sklearn.linear_model import LinearRegression, Lasso\n",
    "from sklearn.neighbors import KNeighborsClassifier, KNeighborsRegressor\n",
    "from sklearn.ensemble import RandomForestClassifier, RandomForestRegressor\n",
    "from sklearn.svm import SVR"
   ]
  },
  {
   "cell_type": "code",
   "execution_count": null,
   "id": "c24742f2",
   "metadata": {},
   "outputs": [],
   "source": [
    "# Splitting the ratings dataset into the feature set (X) and target labels (y)\n",
    "X = ratings_df.drop(columns='Rangering')\n",
    "y = ratings_df[\"Rangering\"].values  # The movie ratings are the target variables we want to predict\n",
    "\n",
    "# Preparing train, validation and test datasets.\n",
    "# I have chosen a split ratio of 70%, 15%, 15%, because I want a somewhat large training set at the cost of a\n",
    "# smaller validation and test set. I do not think that a smaller validation (or test) dataset will negatively\n",
    "# impact the generalization ability of the chosen models, because I am only using rather simple ML models\n",
    "# with few hyperparamaters.\n",
    "X_train, X_val_and_test, y_train, y_val_and_test = train_test_split(X, y, test_size=0.3, random_state=101)\n",
    "X_val, X_test, y_val, y_test = train_test_split(X_val_and_test, y_val_and_test, test_size=0.5, random_state=101)\n",
    "\n",
    "# Creating a complete training dataset with X_train and y_train\n",
    "train_df = X_train.copy()\n",
    "train_df[\"Rangering\"] = y_train\n",
    "\n",
    "train_df"
   ]
  },
  {
   "cell_type": "code",
   "execution_count": 26,
   "id": "865ee3f9",
   "metadata": {},
   "outputs": [
    {
     "ename": "NameError",
     "evalue": "name 'x_train_listed' is not defined",
     "output_type": "error",
     "traceback": [
      "\u001b[1;31m---------------------------------------------------------------------------\u001b[0m",
      "\u001b[1;31mNameError\u001b[0m                                 Traceback (most recent call last)",
      "Cell \u001b[1;32mIn[26], line 19\u001b[0m\n\u001b[0;32m     16\u001b[0m CBF_predictions \u001b[38;5;241m=\u001b[39m []\n\u001b[0;32m     18\u001b[0m \u001b[38;5;66;03m# For each user in the training dataset:\u001b[39;00m\n\u001b[1;32m---> 19\u001b[0m \u001b[38;5;28;01mfor\u001b[39;00m i, x \u001b[38;5;129;01min\u001b[39;00m \u001b[38;5;28menumerate\u001b[39m(\u001b[43mx_train_listed\u001b[49m):\n\u001b[0;32m     20\u001b[0m     \u001b[38;5;66;03m# Fit a machine learning model\u001b[39;00m\n\u001b[0;32m     21\u001b[0m     ml_alg\u001b[38;5;241m.\u001b[39mfit(x_train_listed[i], y_train_listed[i])\n\u001b[0;32m     22\u001b[0m     \u001b[38;5;66;03m# Predict all the ratings for this user for all movies\u001b[39;00m\n",
      "\u001b[1;31mNameError\u001b[0m: name 'x_train_listed' is not defined"
     ]
    }
   ],
   "source": [
    "# ----------- CREATING THE DIFFERENT CONTENT-BASED FILTERING MODELS ----------- #\n",
    "# Assigning the different machine learning algorithms to be implemented in the models (incl. hyperparameters) to a dictionary\n",
    "ml_algorithms = {\"Linear regression\": LinearRegression(), \n",
    "                 \"Lasso\": Lasso(alpha=1.0, max_iter=10000), \n",
    "                 \"KNN_7\": KNeighborsRegressor(n_neighbors=7),\n",
    "                 \"RFR\": RandomForestRegressor(n_estimators=1000, n_jobs=3, max_features=\"auto\", random_state=0),\n",
    "                 \"SVR\": SVR(C=1.0)}\n",
    "\n",
    "# Saving lists that I later use to construct a dataframe containing the performances of the models\n",
    "CBF_models_listed = []\n",
    "RMSE_CBF_listed = []\n",
    "\n",
    "# For every machine learning algorithm in the dictionary:\n",
    "for name, ml_alg in ml_algorithms.items():\n",
    "    # Create an empty list for predictions\n",
    "    CBF_predictions = []\n",
    "\n",
    "    # For each user in the training dataset:\n",
    "    for i, x in enumerate(x_train_listed):\n",
    "        # Fit a machine learning model\n",
    "        ml_alg.fit(x_train_listed[i], y_train_listed[i])\n",
    "        # Predict all the ratings for this user for all movies\n",
    "        prediction = ml_alg.predict(all_movies)\n",
    "        prediction = np.clip(prediction, 1, 5)  # Predictions must be minimum 1, maximum 5\n",
    "        # Append all the predictions to the predictions list\n",
    "        CBF_predictions.append(prediction)\n",
    "\n",
    "    # Create a dataframe with the predictions\n",
    "    df_predict = pd.DataFrame(CBF_predictions, index=user_ids, columns=movie_ids)\n",
    "\n",
    "    # Create a dataframe with only the predictions for the movies-user combinations that appear in the validation set\n",
    "    num_actual = validation_matrix.to_numpy().flatten()[validation_matrix.notna().to_numpy().flatten()]\n",
    "    num_predict = df_predict.to_numpy().flatten()[validation_matrix.notna().to_numpy().flatten()]\n",
    "\n",
    "    # Calculate the RMSE for the content-based filtering model and add the result to the lists\n",
    "    RMSE_CBF_listed.append(sqrt(mean_squared_error(num_predict, num_actual)))\n",
    "    CBF_models_listed.append(name)\n",
    "\n",
    "\n",
    "# Printing the results\n",
    "RMSE_CBF_df = pd.DataFrame({\"Model\": CBF_models_listed, \"RMSE\": RMSE_CBF_listed})\n",
    "print(\"RMSE of different content-based filtering models without the year of release feature:\")\n",
    "RMSE_CBF_df"
   ]
  },
  {
   "cell_type": "code",
   "execution_count": null,
   "id": "82c49085",
   "metadata": {},
   "outputs": [],
   "source": []
  },
  {
   "cell_type": "code",
   "execution_count": null,
   "id": "b8ea5d11",
   "metadata": {},
   "outputs": [],
   "source": []
  },
  {
   "cell_type": "code",
   "execution_count": null,
   "id": "572c192e",
   "metadata": {},
   "outputs": [],
   "source": []
  },
  {
   "cell_type": "code",
   "execution_count": null,
   "id": "628ea363",
   "metadata": {},
   "outputs": [],
   "source": []
  },
  {
   "cell_type": "code",
   "execution_count": null,
   "id": "53ac60c3",
   "metadata": {},
   "outputs": [],
   "source": []
  },
  {
   "cell_type": "code",
   "execution_count": null,
   "id": "41e2ab97",
   "metadata": {},
   "outputs": [],
   "source": []
  },
  {
   "cell_type": "code",
   "execution_count": null,
   "id": "df7a7d8e",
   "metadata": {},
   "outputs": [],
   "source": []
  },
  {
   "cell_type": "code",
   "execution_count": null,
   "id": "a95cf7f4",
   "metadata": {},
   "outputs": [],
   "source": []
  },
  {
   "cell_type": "code",
   "execution_count": null,
   "id": "9670dcc1",
   "metadata": {},
   "outputs": [],
   "source": []
  }
 ],
 "metadata": {
  "kernelspec": {
   "display_name": "Python 3 (ipykernel)",
   "language": "python",
   "name": "python3"
  },
  "language_info": {
   "codemirror_mode": {
    "name": "ipython",
    "version": 3
   },
   "file_extension": ".py",
   "mimetype": "text/x-python",
   "name": "python",
   "nbconvert_exporter": "python",
   "pygments_lexer": "ipython3",
   "version": "3.9.7"
  }
 },
 "nbformat": 4,
 "nbformat_minor": 5
}
