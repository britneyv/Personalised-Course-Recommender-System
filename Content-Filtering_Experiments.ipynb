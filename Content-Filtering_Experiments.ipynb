{
 "cells": [
  {
   "cell_type": "code",
   "execution_count": 1,
   "id": "e2eb375e",
   "metadata": {},
   "outputs": [],
   "source": [
    "import pandas as pd\n",
    "from sklearn.feature_extraction.text import TfidfVectorizer, CountVectorizer\n",
    "from sklearn.metrics.pairwise import linear_kernel, cosine_similarity"
   ]
  },
  {
   "cell_type": "markdown",
   "id": "8ac6ce2b",
   "metadata": {},
   "source": [
    "## Calling the Saved Dataset"
   ]
  },
  {
   "cell_type": "code",
   "execution_count": 2,
   "id": "0e51ebb2",
   "metadata": {},
   "outputs": [
    {
     "data": {
      "text/html": [
       "<div>\n",
       "<style scoped>\n",
       "    .dataframe tbody tr th:only-of-type {\n",
       "        vertical-align: middle;\n",
       "    }\n",
       "\n",
       "    .dataframe tbody tr th {\n",
       "        vertical-align: top;\n",
       "    }\n",
       "\n",
       "    .dataframe thead th {\n",
       "        text-align: right;\n",
       "    }\n",
       "</style>\n",
       "<table border=\"1\" class=\"dataframe\">\n",
       "  <thead>\n",
       "    <tr style=\"text-align: right;\">\n",
       "      <th></th>\n",
       "      <th>Unnamed: 0</th>\n",
       "      <th>sr_</th>\n",
       "      <th>degree_1</th>\n",
       "      <th>degree_1_specializations</th>\n",
       "      <th>campus</th>\n",
       "      <th>key_skills</th>\n",
       "      <th>key_skills_str</th>\n",
       "    </tr>\n",
       "  </thead>\n",
       "  <tbody>\n",
       "    <tr>\n",
       "      <th>0</th>\n",
       "      <td>0</td>\n",
       "      <td>1001</td>\n",
       "      <td>B.E.</td>\n",
       "      <td>Mechanical</td>\n",
       "      <td>MITCOE</td>\n",
       "      <td>['CATIA']</td>\n",
       "      <td>CATIA</td>\n",
       "    </tr>\n",
       "    <tr>\n",
       "      <th>1</th>\n",
       "      <td>1</td>\n",
       "      <td>1002</td>\n",
       "      <td>B.E.</td>\n",
       "      <td>Mechanical</td>\n",
       "      <td>MITCOE</td>\n",
       "      <td>['CATIA']</td>\n",
       "      <td>CATIA</td>\n",
       "    </tr>\n",
       "    <tr>\n",
       "      <th>2</th>\n",
       "      <td>2</td>\n",
       "      <td>1003</td>\n",
       "      <td>B.E.</td>\n",
       "      <td>Mechanical</td>\n",
       "      <td>MITAOE</td>\n",
       "      <td>['CATIA']</td>\n",
       "      <td>CATIA</td>\n",
       "    </tr>\n",
       "    <tr>\n",
       "      <th>3</th>\n",
       "      <td>3</td>\n",
       "      <td>1004</td>\n",
       "      <td>B.E.</td>\n",
       "      <td>Mechanical</td>\n",
       "      <td>MITCOE</td>\n",
       "      <td>['CATIA']</td>\n",
       "      <td>CATIA</td>\n",
       "    </tr>\n",
       "    <tr>\n",
       "      <th>4</th>\n",
       "      <td>4</td>\n",
       "      <td>1005</td>\n",
       "      <td>B.E.</td>\n",
       "      <td>Mechanical</td>\n",
       "      <td>MITCOE</td>\n",
       "      <td>['CATIA']</td>\n",
       "      <td>CATIA</td>\n",
       "    </tr>\n",
       "  </tbody>\n",
       "</table>\n",
       "</div>"
      ],
      "text/plain": [
       "   Unnamed: 0   sr_ degree_1 degree_1_specializations  campus key_skills  \\\n",
       "0           0  1001     B.E.               Mechanical  MITCOE  ['CATIA']   \n",
       "1           1  1002     B.E.               Mechanical  MITCOE  ['CATIA']   \n",
       "2           2  1003     B.E.               Mechanical  MITAOE  ['CATIA']   \n",
       "3           3  1004     B.E.               Mechanical  MITCOE  ['CATIA']   \n",
       "4           4  1005     B.E.               Mechanical  MITCOE  ['CATIA']   \n",
       "\n",
       "  key_skills_str  \n",
       "0          CATIA  \n",
       "1          CATIA  \n",
       "2          CATIA  \n",
       "3          CATIA  \n",
       "4          CATIA  "
      ]
     },
     "execution_count": 2,
     "metadata": {},
     "output_type": "execute_result"
    }
   ],
   "source": [
    "course_dataset = pd.read_csv(\"data/courseData.csv\", encoding= 'unicode_escape')\n",
    "course_dataset.head()"
   ]
  },
  {
   "cell_type": "code",
   "execution_count": 3,
   "id": "30951d8d",
   "metadata": {},
   "outputs": [
    {
     "data": {
      "text/html": [
       "<div>\n",
       "<style scoped>\n",
       "    .dataframe tbody tr th:only-of-type {\n",
       "        vertical-align: middle;\n",
       "    }\n",
       "\n",
       "    .dataframe tbody tr th {\n",
       "        vertical-align: top;\n",
       "    }\n",
       "\n",
       "    .dataframe thead th {\n",
       "        text-align: right;\n",
       "    }\n",
       "</style>\n",
       "<table border=\"1\" class=\"dataframe\">\n",
       "  <thead>\n",
       "    <tr style=\"text-align: right;\">\n",
       "      <th></th>\n",
       "      <th>Unnamed: 0</th>\n",
       "      <th>userid</th>\n",
       "      <th>degree_1</th>\n",
       "      <th>degree_1_specializations</th>\n",
       "      <th>known_languages</th>\n",
       "      <th>key_skills</th>\n",
       "      <th>career_objective</th>\n",
       "      <th>key_skills_str</th>\n",
       "    </tr>\n",
       "  </thead>\n",
       "  <tbody>\n",
       "    <tr>\n",
       "      <th>0</th>\n",
       "      <td>0</td>\n",
       "      <td>1001</td>\n",
       "      <td>B.E.</td>\n",
       "      <td>Computer Science &amp; Engineering</td>\n",
       "      <td>['English', ' Marathi', ' Hindi']</td>\n",
       "      <td>['C', ' Java', ' Keras', ' Flask', ' Deep Lear...</td>\n",
       "      <td>Computer Engineering student with good technic...</td>\n",
       "      <td>C,  Java,  Keras,  Flask,  Deep Learning,  Sel...</td>\n",
       "    </tr>\n",
       "    <tr>\n",
       "      <th>1</th>\n",
       "      <td>1</td>\n",
       "      <td>1002</td>\n",
       "      <td>B.E.</td>\n",
       "      <td>Computer Science &amp; Engineering</td>\n",
       "      <td>['Hindi English']</td>\n",
       "      <td>['Java', ' Neural Networks', ' AI', ' Python',...</td>\n",
       "      <td>Interested in working under company offering A...</td>\n",
       "      <td>Java,  Neural Networks,  AI,  Python,  Html5, ...</td>\n",
       "    </tr>\n",
       "    <tr>\n",
       "      <th>2</th>\n",
       "      <td>2</td>\n",
       "      <td>1003</td>\n",
       "      <td>B.E.</td>\n",
       "      <td>Computer Science &amp; Engineering</td>\n",
       "      <td>['Missing']</td>\n",
       "      <td>['Missing']</td>\n",
       "      <td>Missing</td>\n",
       "      <td>Missing</td>\n",
       "    </tr>\n",
       "    <tr>\n",
       "      <th>3</th>\n",
       "      <td>3</td>\n",
       "      <td>1004</td>\n",
       "      <td>B.E.</td>\n",
       "      <td>Computer Science &amp; Engineering</td>\n",
       "      <td>['English', ' Hindi', ' Marathi', ' Marwari']</td>\n",
       "      <td>['XML', ' C', ' Java', ' Data Structures', ' P...</td>\n",
       "      <td>Currently a final year student of Computer Eng...</td>\n",
       "      <td>XML,  C,  Java,  Data Structures,  Python,  Mo...</td>\n",
       "    </tr>\n",
       "    <tr>\n",
       "      <th>4</th>\n",
       "      <td>4</td>\n",
       "      <td>1005</td>\n",
       "      <td>B.E.</td>\n",
       "      <td>Computer Science &amp; Engineering</td>\n",
       "      <td>['English', 'Hindi  ', 'Kashmiri ', ' Urdu']</td>\n",
       "      <td>['XML', ' Word', ' Data Structures', ' Communi...</td>\n",
       "      <td>To have a growth oriented and challenging care...</td>\n",
       "      <td>XML,  Word,  Data Structures,  Communication, ...</td>\n",
       "    </tr>\n",
       "  </tbody>\n",
       "</table>\n",
       "</div>"
      ],
      "text/plain": [
       "  Unnamed: 0 userid degree_1        degree_1_specializations  \\\n",
       "0          0   1001     B.E.  Computer Science & Engineering   \n",
       "1          1   1002     B.E.  Computer Science & Engineering   \n",
       "2          2   1003     B.E.  Computer Science & Engineering   \n",
       "3          3   1004     B.E.  Computer Science & Engineering   \n",
       "4          4   1005     B.E.  Computer Science & Engineering   \n",
       "\n",
       "                                 known_languages  \\\n",
       "0              ['English', ' Marathi', ' Hindi']   \n",
       "1                              ['Hindi English']   \n",
       "2                                    ['Missing']   \n",
       "3  ['English', ' Hindi', ' Marathi', ' Marwari']   \n",
       "4   ['English', 'Hindi  ', 'Kashmiri ', ' Urdu']   \n",
       "\n",
       "                                          key_skills  \\\n",
       "0  ['C', ' Java', ' Keras', ' Flask', ' Deep Lear...   \n",
       "1  ['Java', ' Neural Networks', ' AI', ' Python',...   \n",
       "2                                        ['Missing']   \n",
       "3  ['XML', ' C', ' Java', ' Data Structures', ' P...   \n",
       "4  ['XML', ' Word', ' Data Structures', ' Communi...   \n",
       "\n",
       "                                    career_objective  \\\n",
       "0  Computer Engineering student with good technic...   \n",
       "1  Interested in working under company offering A...   \n",
       "2                                            Missing   \n",
       "3  Currently a final year student of Computer Eng...   \n",
       "4  To have a growth oriented and challenging care...   \n",
       "\n",
       "                                      key_skills_str  \n",
       "0  C,  Java,  Keras,  Flask,  Deep Learning,  Sel...  \n",
       "1  Java,  Neural Networks,  AI,  Python,  Html5, ...  \n",
       "2                                            Missing  \n",
       "3  XML,  C,  Java,  Data Structures,  Python,  Mo...  \n",
       "4  XML,  Word,  Data Structures,  Communication, ...  "
      ]
     },
     "execution_count": 3,
     "metadata": {},
     "output_type": "execute_result"
    }
   ],
   "source": [
    "user_dataset = pd.read_csv(\"data/userData.csv\", encoding= 'unicode_escape')\n",
    "user_dataset.head()"
   ]
  },
  {
   "cell_type": "code",
   "execution_count": 4,
   "id": "c5dedb3a",
   "metadata": {},
   "outputs": [
    {
     "data": {
      "text/html": [
       "<div>\n",
       "<style scoped>\n",
       "    .dataframe tbody tr th:only-of-type {\n",
       "        vertical-align: middle;\n",
       "    }\n",
       "\n",
       "    .dataframe tbody tr th {\n",
       "        vertical-align: top;\n",
       "    }\n",
       "\n",
       "    .dataframe thead th {\n",
       "        text-align: right;\n",
       "    }\n",
       "</style>\n",
       "<table border=\"1\" class=\"dataframe\">\n",
       "  <thead>\n",
       "    <tr style=\"text-align: right;\">\n",
       "      <th></th>\n",
       "      <th>course_id</th>\n",
       "      <th>user_id</th>\n",
       "      <th>rating</th>\n",
       "    </tr>\n",
       "  </thead>\n",
       "  <tbody>\n",
       "    <tr>\n",
       "      <th>0</th>\n",
       "      <td>2001</td>\n",
       "      <td>1001</td>\n",
       "      <td>5</td>\n",
       "    </tr>\n",
       "    <tr>\n",
       "      <th>1</th>\n",
       "      <td>2001</td>\n",
       "      <td>1002</td>\n",
       "      <td>3</td>\n",
       "    </tr>\n",
       "    <tr>\n",
       "      <th>2</th>\n",
       "      <td>2001</td>\n",
       "      <td>1003</td>\n",
       "      <td>1</td>\n",
       "    </tr>\n",
       "    <tr>\n",
       "      <th>3</th>\n",
       "      <td>2001</td>\n",
       "      <td>1004</td>\n",
       "      <td>0</td>\n",
       "    </tr>\n",
       "    <tr>\n",
       "      <th>4</th>\n",
       "      <td>2001</td>\n",
       "      <td>1005</td>\n",
       "      <td>2</td>\n",
       "    </tr>\n",
       "  </tbody>\n",
       "</table>\n",
       "</div>"
      ],
      "text/plain": [
       "   course_id  user_id  rating\n",
       "0       2001     1001       5\n",
       "1       2001     1002       3\n",
       "2       2001     1003       1\n",
       "3       2001     1004       0\n",
       "4       2001     1005       2"
      ]
     },
     "execution_count": 4,
     "metadata": {},
     "output_type": "execute_result"
    }
   ],
   "source": [
    "ratings_df = pd.read_csv(\"data/ratingData.csv\", encoding= 'unicode_escape')\n",
    "ratings_df.head()"
   ]
  },
  {
   "cell_type": "markdown",
   "id": "c2af655b",
   "metadata": {},
   "source": [
    "## Content Based Filtering"
   ]
  },
  {
   "cell_type": "code",
   "execution_count": 5,
   "id": "106939c2",
   "metadata": {},
   "outputs": [],
   "source": [
    "#https://github.com/ry05/couReco/blob/master/recommender.py\n",
    "#https://github.com/jalajthanaki/Movie_recommendation_engine/blob/master/Movie_recommendation_engine.ipynb"
   ]
  },
  {
   "cell_type": "markdown",
   "id": "2b5e75c7",
   "metadata": {},
   "source": [
    "### Based on Description and Taglines\n",
    "### https://github.com/jalajthanaki/Movie_recommendation_engine/blob/master/Movie_recommendation_engine.ipynb"
   ]
  },
  {
   "cell_type": "code",
   "execution_count": 6,
   "id": "fd5389cd",
   "metadata": {},
   "outputs": [
    {
     "data": {
      "text/html": [
       "<div>\n",
       "<style scoped>\n",
       "    .dataframe tbody tr th:only-of-type {\n",
       "        vertical-align: middle;\n",
       "    }\n",
       "\n",
       "    .dataframe tbody tr th {\n",
       "        vertical-align: top;\n",
       "    }\n",
       "\n",
       "    .dataframe thead th {\n",
       "        text-align: right;\n",
       "    }\n",
       "</style>\n",
       "<table border=\"1\" class=\"dataframe\">\n",
       "  <thead>\n",
       "    <tr style=\"text-align: right;\">\n",
       "      <th></th>\n",
       "      <th>Unnamed: 0</th>\n",
       "      <th>sr_</th>\n",
       "      <th>degree_1</th>\n",
       "      <th>degree_1_specializations</th>\n",
       "      <th>campus</th>\n",
       "      <th>key_skills</th>\n",
       "      <th>key_skills_str</th>\n",
       "    </tr>\n",
       "  </thead>\n",
       "  <tbody>\n",
       "    <tr>\n",
       "      <th>0</th>\n",
       "      <td>0</td>\n",
       "      <td>1001</td>\n",
       "      <td>B.E.</td>\n",
       "      <td>Mechanical</td>\n",
       "      <td>MITCOE</td>\n",
       "      <td>['CATIA']</td>\n",
       "      <td>CATIA</td>\n",
       "    </tr>\n",
       "    <tr>\n",
       "      <th>1</th>\n",
       "      <td>1</td>\n",
       "      <td>1002</td>\n",
       "      <td>B.E.</td>\n",
       "      <td>Mechanical</td>\n",
       "      <td>MITCOE</td>\n",
       "      <td>['CATIA']</td>\n",
       "      <td>CATIA</td>\n",
       "    </tr>\n",
       "  </tbody>\n",
       "</table>\n",
       "</div>"
      ],
      "text/plain": [
       "   Unnamed: 0   sr_ degree_1 degree_1_specializations  campus key_skills  \\\n",
       "0           0  1001     B.E.               Mechanical  MITCOE  ['CATIA']   \n",
       "1           1  1002     B.E.               Mechanical  MITCOE  ['CATIA']   \n",
       "\n",
       "  key_skills_str  \n",
       "0          CATIA  \n",
       "1          CATIA  "
      ]
     },
     "execution_count": 6,
     "metadata": {},
     "output_type": "execute_result"
    }
   ],
   "source": [
    "course_dataset.head(2)"
   ]
  },
  {
   "cell_type": "code",
   "execution_count": 7,
   "id": "ef098b7d",
   "metadata": {},
   "outputs": [
    {
     "data": {
      "text/html": [
       "<div>\n",
       "<style scoped>\n",
       "    .dataframe tbody tr th:only-of-type {\n",
       "        vertical-align: middle;\n",
       "    }\n",
       "\n",
       "    .dataframe tbody tr th {\n",
       "        vertical-align: top;\n",
       "    }\n",
       "\n",
       "    .dataframe thead th {\n",
       "        text-align: right;\n",
       "    }\n",
       "</style>\n",
       "<table border=\"1\" class=\"dataframe\">\n",
       "  <thead>\n",
       "    <tr style=\"text-align: right;\">\n",
       "      <th></th>\n",
       "      <th>Unnamed: 0</th>\n",
       "      <th>userid</th>\n",
       "      <th>degree_1</th>\n",
       "      <th>degree_1_specializations</th>\n",
       "      <th>known_languages</th>\n",
       "      <th>key_skills</th>\n",
       "      <th>career_objective</th>\n",
       "      <th>key_skills_str</th>\n",
       "    </tr>\n",
       "  </thead>\n",
       "  <tbody>\n",
       "    <tr>\n",
       "      <th>0</th>\n",
       "      <td>0</td>\n",
       "      <td>1001</td>\n",
       "      <td>B.E.</td>\n",
       "      <td>Computer Science &amp; Engineering</td>\n",
       "      <td>['English', ' Marathi', ' Hindi']</td>\n",
       "      <td>['C', ' Java', ' Keras', ' Flask', ' Deep Lear...</td>\n",
       "      <td>Computer Engineering student with good technic...</td>\n",
       "      <td>C,  Java,  Keras,  Flask,  Deep Learning,  Sel...</td>\n",
       "    </tr>\n",
       "    <tr>\n",
       "      <th>1</th>\n",
       "      <td>1</td>\n",
       "      <td>1002</td>\n",
       "      <td>B.E.</td>\n",
       "      <td>Computer Science &amp; Engineering</td>\n",
       "      <td>['Hindi English']</td>\n",
       "      <td>['Java', ' Neural Networks', ' AI', ' Python',...</td>\n",
       "      <td>Interested in working under company offering A...</td>\n",
       "      <td>Java,  Neural Networks,  AI,  Python,  Html5, ...</td>\n",
       "    </tr>\n",
       "  </tbody>\n",
       "</table>\n",
       "</div>"
      ],
      "text/plain": [
       "  Unnamed: 0 userid degree_1        degree_1_specializations  \\\n",
       "0          0   1001     B.E.  Computer Science & Engineering   \n",
       "1          1   1002     B.E.  Computer Science & Engineering   \n",
       "\n",
       "                     known_languages  \\\n",
       "0  ['English', ' Marathi', ' Hindi']   \n",
       "1                  ['Hindi English']   \n",
       "\n",
       "                                          key_skills  \\\n",
       "0  ['C', ' Java', ' Keras', ' Flask', ' Deep Lear...   \n",
       "1  ['Java', ' Neural Networks', ' AI', ' Python',...   \n",
       "\n",
       "                                    career_objective  \\\n",
       "0  Computer Engineering student with good technic...   \n",
       "1  Interested in working under company offering A...   \n",
       "\n",
       "                                      key_skills_str  \n",
       "0  C,  Java,  Keras,  Flask,  Deep Learning,  Sel...  \n",
       "1  Java,  Neural Networks,  AI,  Python,  Html5, ...  "
      ]
     },
     "execution_count": 7,
     "metadata": {},
     "output_type": "execute_result"
    }
   ],
   "source": [
    "user_dataset.head(2)"
   ]
  },
  {
   "cell_type": "markdown",
   "id": "ec68ddd4",
   "metadata": {},
   "source": [
    "### User Dataset - Key Skills "
   ]
  },
  {
   "cell_type": "code",
   "execution_count": 8,
   "id": "9aaa05e0",
   "metadata": {},
   "outputs": [
    {
     "data": {
      "text/plain": [
       "(1097, 2065)"
      ]
     },
     "execution_count": 8,
     "metadata": {},
     "output_type": "execute_result"
    }
   ],
   "source": [
    "tf = TfidfVectorizer(analyzer='word',ngram_range=(1, 2),min_df=0, stop_words='english')\n",
    "tfidf_matrix = tf.fit_transform(user_dataset['key_skills_str'].values.astype('U'))\n",
    "tfidf_matrix.shape\n"
   ]
  },
  {
   "cell_type": "code",
   "execution_count": 9,
   "id": "7fdcc567",
   "metadata": {},
   "outputs": [
    {
     "data": {
      "text/plain": [
       "array([1.        , 0.02408797, 0.        , ..., 0.06121443, 0.01629229,\n",
       "       0.007909  ])"
      ]
     },
     "execution_count": 9,
     "metadata": {},
     "output_type": "execute_result"
    }
   ],
   "source": [
    "cosine_sim = linear_kernel(tfidf_matrix, tfidf_matrix)\n",
    "cosine_sim[0]"
   ]
  },
  {
   "cell_type": "code",
   "execution_count": 10,
   "id": "684d917e",
   "metadata": {},
   "outputs": [
    {
     "data": {
      "text/plain": [
       "userid\n",
       "1001    0\n",
       "1002    1\n",
       "dtype: int64"
      ]
     },
     "execution_count": 10,
     "metadata": {},
     "output_type": "execute_result"
    }
   ],
   "source": [
    "user_dataset = user_dataset.reset_index()\n",
    "titles = user_dataset['userid']\n",
    "indices = pd.Series(user_dataset.index, index=user_dataset['userid'])\n",
    "indices.head(2)"
   ]
  },
  {
   "cell_type": "code",
   "execution_count": 11,
   "id": "a8cc4a8c",
   "metadata": {},
   "outputs": [
    {
     "data": {
      "text/plain": [
       "894     1847\n",
       "996     1946\n",
       "981     1931\n",
       "256     1231\n",
       "868     1821\n",
       "970     1920\n",
       "1089    2039\n",
       "714     1667\n",
       "417     1375\n",
       "493     1444\n",
       "Name: userid, dtype: object"
      ]
     },
     "execution_count": 11,
     "metadata": {},
     "output_type": "execute_result"
    }
   ],
   "source": [
    "def get_recommendations(title): #this is getting similar users based on their career objectives???\n",
    "    idx = indices[title]\n",
    "    sim_scores = list(enumerate(cosine_sim[idx]))\n",
    "    sim_scores = sorted(sim_scores, key=lambda x: x[1], reverse=True)\n",
    "    sim_scores = sim_scores[1:31]\n",
    "    movie_indices = [i[0] for i in sim_scores]\n",
    "    return titles.iloc[movie_indices]\n",
    "\n",
    "get_recommendations(\"1001\").head(10)"
   ]
  },
  {
   "cell_type": "code",
   "execution_count": 12,
   "id": "8c692e3a",
   "metadata": {},
   "outputs": [
    {
     "data": {
      "text/plain": [
       "996    1946\n",
       "981    1931\n",
       "0      1001\n",
       "417    1375\n",
       "256    1231\n",
       "322    1292\n",
       "714    1667\n",
       "112    1104\n",
       "201    1182\n",
       "521    1473\n",
       "Name: userid, dtype: object"
      ]
     },
     "execution_count": 12,
     "metadata": {},
     "output_type": "execute_result"
    }
   ],
   "source": [
    "get_recommendations(\"1847\").head(10)"
   ]
  },
  {
   "cell_type": "code",
   "execution_count": 13,
   "id": "ce1369d2",
   "metadata": {},
   "outputs": [
    {
     "data": {
      "text/plain": [
       "996    1946\n",
       "981    1931\n",
       "0      1001\n",
       "417    1375\n",
       "256    1231\n",
       "322    1292\n",
       "714    1667\n",
       "112    1104\n",
       "201    1182\n",
       "521    1473\n",
       "Name: userid, dtype: object"
      ]
     },
     "execution_count": 13,
     "metadata": {},
     "output_type": "execute_result"
    }
   ],
   "source": [
    "get_recommendations(\"1946\").head(10)"
   ]
  },
  {
   "cell_type": "markdown",
   "id": "741a2deb",
   "metadata": {},
   "source": [
    "###  User Dataset - Career Objective"
   ]
  },
  {
   "cell_type": "code",
   "execution_count": 14,
   "id": "69d77967",
   "metadata": {},
   "outputs": [
    {
     "data": {
      "text/plain": [
       "(1097, 4673)"
      ]
     },
     "execution_count": 14,
     "metadata": {},
     "output_type": "execute_result"
    }
   ],
   "source": [
    "tf = TfidfVectorizer(analyzer='word',ngram_range=(1, 2),min_df=0, stop_words='english')\n",
    "tfidf_matrix = tf.fit_transform(user_dataset['career_objective'].values.astype('U'))\n",
    "tfidf_matrix.shape"
   ]
  },
  {
   "cell_type": "code",
   "execution_count": 15,
   "id": "0640a5ea",
   "metadata": {},
   "outputs": [
    {
     "data": {
      "text/plain": [
       "array([1.        , 0.        , 0.        , ..., 0.00592012, 0.        ,\n",
       "       0.0596521 ])"
      ]
     },
     "execution_count": 15,
     "metadata": {},
     "output_type": "execute_result"
    }
   ],
   "source": [
    "cosine_sim = linear_kernel(tfidf_matrix, tfidf_matrix)\n",
    "cosine_sim[0]\n"
   ]
  },
  {
   "cell_type": "code",
   "execution_count": 16,
   "id": "ea5cacd1",
   "metadata": {},
   "outputs": [
    {
     "data": {
      "text/plain": [
       "userid\n",
       "1001    0\n",
       "1002    1\n",
       "dtype: int64"
      ]
     },
     "execution_count": 16,
     "metadata": {},
     "output_type": "execute_result"
    }
   ],
   "source": [
    "user_dataset = user_dataset.reset_index()\n",
    "titles = user_dataset['userid']\n",
    "indices = pd.Series(user_dataset.index, index=user_dataset['userid'])\n",
    "indices.head(2)"
   ]
  },
  {
   "cell_type": "code",
   "execution_count": 17,
   "id": "a18494f7",
   "metadata": {},
   "outputs": [
    {
     "data": {
      "text/plain": [
       "894     1847\n",
       "996     1946\n",
       "93      1087\n",
       "110     1102\n",
       "180     1161\n",
       "20      1021\n",
       "914     1867\n",
       "602     1555\n",
       "801     1754\n",
       "1022    1972\n",
       "Name: userid, dtype: object"
      ]
     },
     "execution_count": 17,
     "metadata": {},
     "output_type": "execute_result"
    }
   ],
   "source": [
    "def get_recommendations(title): #this is getting similar users based on their career objectives???\n",
    "    idx = indices[title]\n",
    "    sim_scores = list(enumerate(cosine_sim[idx]))\n",
    "    sim_scores = sorted(sim_scores, key=lambda x: x[1], reverse=True)\n",
    "    sim_scores = sim_scores[1:31]\n",
    "    movie_indices = [i[0] for i in sim_scores]\n",
    "    return titles.iloc[movie_indices]\n",
    "\n",
    "get_recommendations(\"1001\").head(10)"
   ]
  },
  {
   "cell_type": "code",
   "execution_count": 18,
   "id": "0c8997f8",
   "metadata": {},
   "outputs": [
    {
     "data": {
      "text/plain": [
       "0    Computer Engineering student with good technic...\n",
       "Name: career_objective, dtype: object"
      ]
     },
     "execution_count": 18,
     "metadata": {},
     "output_type": "execute_result"
    }
   ],
   "source": [
    "user_dataset[\"career_objective\"].loc[user_dataset['userid'] == '1001']"
   ]
  },
  {
   "cell_type": "code",
   "execution_count": 19,
   "id": "b98858ea",
   "metadata": {},
   "outputs": [
    {
     "data": {
      "text/html": [
       "<div>\n",
       "<style scoped>\n",
       "    .dataframe tbody tr th:only-of-type {\n",
       "        vertical-align: middle;\n",
       "    }\n",
       "\n",
       "    .dataframe tbody tr th {\n",
       "        vertical-align: top;\n",
       "    }\n",
       "\n",
       "    .dataframe thead th {\n",
       "        text-align: right;\n",
       "    }\n",
       "</style>\n",
       "<table border=\"1\" class=\"dataframe\">\n",
       "  <thead>\n",
       "    <tr style=\"text-align: right;\">\n",
       "      <th></th>\n",
       "      <th>level_0</th>\n",
       "      <th>index</th>\n",
       "      <th>Unnamed: 0</th>\n",
       "      <th>userid</th>\n",
       "      <th>degree_1</th>\n",
       "      <th>degree_1_specializations</th>\n",
       "      <th>known_languages</th>\n",
       "      <th>key_skills</th>\n",
       "      <th>career_objective</th>\n",
       "      <th>key_skills_str</th>\n",
       "    </tr>\n",
       "  </thead>\n",
       "  <tbody>\n",
       "    <tr>\n",
       "      <th>894</th>\n",
       "      <td>894</td>\n",
       "      <td>894</td>\n",
       "      <td>842</td>\n",
       "      <td>1847</td>\n",
       "      <td>B.E.</td>\n",
       "      <td>Computer Science &amp; Engineering</td>\n",
       "      <td>['English', ' Marathi', ' Hindi']</td>\n",
       "      <td>['C', ' Java', ' Keras', ' Flask', ' Deep Lear...</td>\n",
       "      <td>Computer Engineering student with good technic...</td>\n",
       "      <td>C,  Java,  Keras,  Flask,  Deep Learning,  Sel...</td>\n",
       "    </tr>\n",
       "  </tbody>\n",
       "</table>\n",
       "</div>"
      ],
      "text/plain": [
       "     level_0  index Unnamed: 0 userid degree_1  \\\n",
       "894      894    894        842   1847     B.E.   \n",
       "\n",
       "           degree_1_specializations                    known_languages  \\\n",
       "894  Computer Science & Engineering  ['English', ' Marathi', ' Hindi']   \n",
       "\n",
       "                                            key_skills  \\\n",
       "894  ['C', ' Java', ' Keras', ' Flask', ' Deep Lear...   \n",
       "\n",
       "                                      career_objective  \\\n",
       "894  Computer Engineering student with good technic...   \n",
       "\n",
       "                                        key_skills_str  \n",
       "894  C,  Java,  Keras,  Flask,  Deep Learning,  Sel...  "
      ]
     },
     "execution_count": 19,
     "metadata": {},
     "output_type": "execute_result"
    }
   ],
   "source": [
    "user_dataset.loc[user_dataset['userid'] == '1847']"
   ]
  },
  {
   "cell_type": "code",
   "execution_count": 20,
   "id": "d4c6344b",
   "metadata": {},
   "outputs": [
    {
     "data": {
      "text/html": [
       "<div>\n",
       "<style scoped>\n",
       "    .dataframe tbody tr th:only-of-type {\n",
       "        vertical-align: middle;\n",
       "    }\n",
       "\n",
       "    .dataframe tbody tr th {\n",
       "        vertical-align: top;\n",
       "    }\n",
       "\n",
       "    .dataframe thead th {\n",
       "        text-align: right;\n",
       "    }\n",
       "</style>\n",
       "<table border=\"1\" class=\"dataframe\">\n",
       "  <thead>\n",
       "    <tr style=\"text-align: right;\">\n",
       "      <th></th>\n",
       "      <th>level_0</th>\n",
       "      <th>index</th>\n",
       "      <th>Unnamed: 0</th>\n",
       "      <th>userid</th>\n",
       "      <th>degree_1</th>\n",
       "      <th>degree_1_specializations</th>\n",
       "      <th>known_languages</th>\n",
       "      <th>key_skills</th>\n",
       "      <th>career_objective</th>\n",
       "      <th>key_skills_str</th>\n",
       "    </tr>\n",
       "  </thead>\n",
       "  <tbody>\n",
       "    <tr>\n",
       "      <th>93</th>\n",
       "      <td>93</td>\n",
       "      <td>93</td>\n",
       "      <td>86</td>\n",
       "      <td>1087</td>\n",
       "      <td>B.E.</td>\n",
       "      <td>Computer Science &amp; Engineering</td>\n",
       "      <td>['English', ' Marathi ', ' Hindi']</td>\n",
       "      <td>['Java', ' Python', ' Machine Learning', ' CPP...</td>\n",
       "      <td>Dedicated and passionate computer engineering ...</td>\n",
       "      <td>Java,  Python,  Machine Learning,  CPP,  Andro...</td>\n",
       "    </tr>\n",
       "  </tbody>\n",
       "</table>\n",
       "</div>"
      ],
      "text/plain": [
       "    level_0  index Unnamed: 0 userid degree_1        degree_1_specializations  \\\n",
       "93       93     93         86   1087     B.E.  Computer Science & Engineering   \n",
       "\n",
       "                       known_languages  \\\n",
       "93  ['English', ' Marathi ', ' Hindi']   \n",
       "\n",
       "                                           key_skills  \\\n",
       "93  ['Java', ' Python', ' Machine Learning', ' CPP...   \n",
       "\n",
       "                                     career_objective  \\\n",
       "93  Dedicated and passionate computer engineering ...   \n",
       "\n",
       "                                       key_skills_str  \n",
       "93  Java,  Python,  Machine Learning,  CPP,  Andro...  "
      ]
     },
     "execution_count": 20,
     "metadata": {},
     "output_type": "execute_result"
    }
   ],
   "source": [
    "user_dataset.loc[user_dataset['userid'] == '1087']"
   ]
  },
  {
   "cell_type": "markdown",
   "id": "c1e3bcae",
   "metadata": {},
   "source": [
    "### User Dataset - career objective and key skills\n"
   ]
  },
  {
   "cell_type": "code",
   "execution_count": 21,
   "id": "3b30b0a3",
   "metadata": {},
   "outputs": [
    {
     "data": {
      "text/html": [
       "<div>\n",
       "<style scoped>\n",
       "    .dataframe tbody tr th:only-of-type {\n",
       "        vertical-align: middle;\n",
       "    }\n",
       "\n",
       "    .dataframe tbody tr th {\n",
       "        vertical-align: top;\n",
       "    }\n",
       "\n",
       "    .dataframe thead th {\n",
       "        text-align: right;\n",
       "    }\n",
       "</style>\n",
       "<table border=\"1\" class=\"dataframe\">\n",
       "  <thead>\n",
       "    <tr style=\"text-align: right;\">\n",
       "      <th></th>\n",
       "      <th>userid</th>\n",
       "      <th>career_objective</th>\n",
       "      <th>key_skills_str</th>\n",
       "    </tr>\n",
       "  </thead>\n",
       "  <tbody>\n",
       "    <tr>\n",
       "      <th>0</th>\n",
       "      <td>1001</td>\n",
       "      <td>Computer Engineering student with good technic...</td>\n",
       "      <td>C,  Java,  Keras,  Flask,  Deep Learning,  Sel...</td>\n",
       "    </tr>\n",
       "    <tr>\n",
       "      <th>1</th>\n",
       "      <td>1002</td>\n",
       "      <td>Interested in working under company offering A...</td>\n",
       "      <td>Java,  Neural Networks,  AI,  Python,  Html5, ...</td>\n",
       "    </tr>\n",
       "    <tr>\n",
       "      <th>2</th>\n",
       "      <td>1003</td>\n",
       "      <td>Missing</td>\n",
       "      <td>Missing</td>\n",
       "    </tr>\n",
       "    <tr>\n",
       "      <th>3</th>\n",
       "      <td>1004</td>\n",
       "      <td>Currently a final year student of Computer Eng...</td>\n",
       "      <td>XML,  C,  Java,  Data Structures,  Python,  Mo...</td>\n",
       "    </tr>\n",
       "    <tr>\n",
       "      <th>4</th>\n",
       "      <td>1005</td>\n",
       "      <td>To have a growth oriented and challenging care...</td>\n",
       "      <td>XML,  Word,  Data Structures,  Communication, ...</td>\n",
       "    </tr>\n",
       "  </tbody>\n",
       "</table>\n",
       "</div>"
      ],
      "text/plain": [
       "  userid                                   career_objective  \\\n",
       "0   1001  Computer Engineering student with good technic...   \n",
       "1   1002  Interested in working under company offering A...   \n",
       "2   1003                                            Missing   \n",
       "3   1004  Currently a final year student of Computer Eng...   \n",
       "4   1005  To have a growth oriented and challenging care...   \n",
       "\n",
       "                                      key_skills_str  \n",
       "0  C,  Java,  Keras,  Flask,  Deep Learning,  Sel...  \n",
       "1  Java,  Neural Networks,  AI,  Python,  Html5, ...  \n",
       "2                                            Missing  \n",
       "3  XML,  C,  Java,  Data Structures,  Python,  Mo...  \n",
       "4  XML,  Word,  Data Structures,  Communication, ...  "
      ]
     },
     "execution_count": 21,
     "metadata": {},
     "output_type": "execute_result"
    }
   ],
   "source": [
    "#creating the dataset\n",
    "\n",
    "cf_dataset = pd.DataFrame()\n",
    "cf_dataset['userid'] = user_dataset['userid']\n",
    "cf_dataset['career_objective'] = user_dataset['career_objective']\n",
    "cf_dataset['key_skills_str'] = user_dataset['key_skills_str']\n",
    "cf_dataset.head(5)"
   ]
  },
  {
   "cell_type": "code",
   "execution_count": 22,
   "id": "9c830ac4",
   "metadata": {},
   "outputs": [
    {
     "data": {
      "text/plain": [
       "Missing                                                                                                                                                                                                                                      570\n",
       "To secure a position where I can efficiently contribute my skills and abilities to the growth of the organization and build my professional career.                                                                                            7\n",
       "To pursue a challenging career and be a part of progressive organization that gives a scope to enhance my knowledge and utilizing my skills towards the growth of the organization.                                                            5\n",
       "Looking for a challenging role in a reputable organization to utilize my technical, database, and management skills for the growth of the organization as well as to enhance my knowledge about new and emerging trends in the IT sector.      4\n",
       "Computer Engineering student with good technical skills and problem solving abilities. Areas of interest include Computer Vision, Deep Learning, Machine Learning, and Research.                                                               3\n",
       "Name: career_objective, dtype: int64"
      ]
     },
     "execution_count": 22,
     "metadata": {},
     "output_type": "execute_result"
    }
   ],
   "source": [
    "s = cf_dataset.apply(lambda x: pd.Series(x['career_objective']),axis=1).stack().reset_index(level=1, drop=True)\n",
    "s.name = 'career_objective'\n",
    "s = s.value_counts()\n",
    "s[:5]"
   ]
  },
  {
   "cell_type": "code",
   "execution_count": 23,
   "id": "2f18ec81",
   "metadata": {},
   "outputs": [
    {
     "data": {
      "text/html": [
       "<div>\n",
       "<style scoped>\n",
       "    .dataframe tbody tr th:only-of-type {\n",
       "        vertical-align: middle;\n",
       "    }\n",
       "\n",
       "    .dataframe tbody tr th {\n",
       "        vertical-align: top;\n",
       "    }\n",
       "\n",
       "    .dataframe thead th {\n",
       "        text-align: right;\n",
       "    }\n",
       "</style>\n",
       "<table border=\"1\" class=\"dataframe\">\n",
       "  <thead>\n",
       "    <tr style=\"text-align: right;\">\n",
       "      <th></th>\n",
       "      <th>userid</th>\n",
       "      <th>career_objective</th>\n",
       "      <th>key_skills_str</th>\n",
       "      <th>all</th>\n",
       "    </tr>\n",
       "  </thead>\n",
       "  <tbody>\n",
       "    <tr>\n",
       "      <th>0</th>\n",
       "      <td>1001</td>\n",
       "      <td>Computer Engineering student with good technic...</td>\n",
       "      <td>C,  Java,  Keras,  Flask,  Deep Learning,  Sel...</td>\n",
       "      <td>Computer Engineering student with good technic...</td>\n",
       "    </tr>\n",
       "    <tr>\n",
       "      <th>1</th>\n",
       "      <td>1002</td>\n",
       "      <td>Interested in working under company offering A...</td>\n",
       "      <td>Java,  Neural Networks,  AI,  Python,  Html5, ...</td>\n",
       "      <td>Interested in working under company offering A...</td>\n",
       "    </tr>\n",
       "    <tr>\n",
       "      <th>2</th>\n",
       "      <td>1003</td>\n",
       "      <td>Missing</td>\n",
       "      <td>Missing</td>\n",
       "      <td>MissingMissing</td>\n",
       "    </tr>\n",
       "    <tr>\n",
       "      <th>3</th>\n",
       "      <td>1004</td>\n",
       "      <td>Currently a final year student of Computer Eng...</td>\n",
       "      <td>XML,  C,  Java,  Data Structures,  Python,  Mo...</td>\n",
       "      <td>Currently a final year student of Computer Eng...</td>\n",
       "    </tr>\n",
       "    <tr>\n",
       "      <th>4</th>\n",
       "      <td>1005</td>\n",
       "      <td>To have a growth oriented and challenging care...</td>\n",
       "      <td>XML,  Word,  Data Structures,  Communication, ...</td>\n",
       "      <td>To have a growth oriented and challenging care...</td>\n",
       "    </tr>\n",
       "    <tr>\n",
       "      <th>...</th>\n",
       "      <td>...</td>\n",
       "      <td>...</td>\n",
       "      <td>...</td>\n",
       "      <td>...</td>\n",
       "    </tr>\n",
       "    <tr>\n",
       "      <th>1092</th>\n",
       "      <td>2042</td>\n",
       "      <td>i have to be carrer in programming and after t...</td>\n",
       "      <td>java,  database,  html,  OOPs,  Core Java,  MySQL</td>\n",
       "      <td>i have to be carrer in programming and after t...</td>\n",
       "    </tr>\n",
       "    <tr>\n",
       "      <th>1093</th>\n",
       "      <td>2043</td>\n",
       "      <td>To work in an Industry with a professional wor...</td>\n",
       "      <td>Ability-to-cope-up-with-different-situation., ...</td>\n",
       "      <td>To work in an Industry with a professional wor...</td>\n",
       "    </tr>\n",
       "    <tr>\n",
       "      <th>1094</th>\n",
       "      <td>2044</td>\n",
       "      <td>To pursue a highly challenging and creative ca...</td>\n",
       "      <td>C,  Java,  cpp,  HTML,  Basic-Python,  MySQL</td>\n",
       "      <td>To pursue a highly challenging and creative ca...</td>\n",
       "    </tr>\n",
       "    <tr>\n",
       "      <th>1095</th>\n",
       "      <td>2045</td>\n",
       "      <td>To prove myself dedicated worthful and energet...</td>\n",
       "      <td>C,  Drupal-(CMS),  Bootstrap,  Wordpress-(CMS)...</td>\n",
       "      <td>To prove myself dedicated worthful and energet...</td>\n",
       "    </tr>\n",
       "    <tr>\n",
       "      <th>1096</th>\n",
       "      <td>2046</td>\n",
       "      <td>To secure a challenging position where I can e...</td>\n",
       "      <td>Win32-Sdk,  JAVA,  Operating-System</td>\n",
       "      <td>To secure a challenging position where I can e...</td>\n",
       "    </tr>\n",
       "  </tbody>\n",
       "</table>\n",
       "<p>1097 rows × 4 columns</p>\n",
       "</div>"
      ],
      "text/plain": [
       "     userid                                   career_objective  \\\n",
       "0      1001  Computer Engineering student with good technic...   \n",
       "1      1002  Interested in working under company offering A...   \n",
       "2      1003                                            Missing   \n",
       "3      1004  Currently a final year student of Computer Eng...   \n",
       "4      1005  To have a growth oriented and challenging care...   \n",
       "...     ...                                                ...   \n",
       "1092   2042  i have to be carrer in programming and after t...   \n",
       "1093   2043  To work in an Industry with a professional wor...   \n",
       "1094   2044  To pursue a highly challenging and creative ca...   \n",
       "1095   2045  To prove myself dedicated worthful and energet...   \n",
       "1096   2046  To secure a challenging position where I can e...   \n",
       "\n",
       "                                         key_skills_str  \\\n",
       "0     C,  Java,  Keras,  Flask,  Deep Learning,  Sel...   \n",
       "1     Java,  Neural Networks,  AI,  Python,  Html5, ...   \n",
       "2                                               Missing   \n",
       "3     XML,  C,  Java,  Data Structures,  Python,  Mo...   \n",
       "4     XML,  Word,  Data Structures,  Communication, ...   \n",
       "...                                                 ...   \n",
       "1092  java,  database,  html,  OOPs,  Core Java,  MySQL   \n",
       "1093  Ability-to-cope-up-with-different-situation., ...   \n",
       "1094       C,  Java,  cpp,  HTML,  Basic-Python,  MySQL   \n",
       "1095  C,  Drupal-(CMS),  Bootstrap,  Wordpress-(CMS)...   \n",
       "1096                Win32-Sdk,  JAVA,  Operating-System   \n",
       "\n",
       "                                                    all  \n",
       "0     Computer Engineering student with good technic...  \n",
       "1     Interested in working under company offering A...  \n",
       "2                                        MissingMissing  \n",
       "3     Currently a final year student of Computer Eng...  \n",
       "4     To have a growth oriented and challenging care...  \n",
       "...                                                 ...  \n",
       "1092  i have to be carrer in programming and after t...  \n",
       "1093  To work in an Industry with a professional wor...  \n",
       "1094  To pursue a highly challenging and creative ca...  \n",
       "1095  To prove myself dedicated worthful and energet...  \n",
       "1096  To secure a challenging position where I can e...  \n",
       "\n",
       "[1097 rows x 4 columns]"
      ]
     },
     "execution_count": 23,
     "metadata": {},
     "output_type": "execute_result"
    }
   ],
   "source": [
    "cf_dataset['all'] = cf_dataset['career_objective'] + cf_dataset['key_skills_str']\n",
    "cf_dataset"
   ]
  },
  {
   "cell_type": "code",
   "execution_count": 24,
   "id": "89ede4c9",
   "metadata": {},
   "outputs": [],
   "source": [
    "#vectorize \n",
    "count = CountVectorizer(analyzer='word',ngram_range=(1, 2),min_df=0, stop_words='english')\n",
    "count_matrix = count.fit_transform(cf_dataset['all'].values.astype('U'))\n",
    "\n",
    "#cosine similarity using linear kernel\n",
    "cosine_sim = cosine_similarity(count_matrix, count_matrix)\n",
    "\n",
    "#\n",
    "cf_dataset = cf_dataset.reset_index()\n",
    "users = cf_dataset['userid']\n",
    "#print(\"Users: \" + users)\n",
    "indices = pd.Series(cf_dataset.index, index=cf_dataset['userid'])\n",
    "indices.head(10)\n",
    "\n",
    "#function to get recommendations\n",
    "def get_recommendations(user): #this is getting similar users based on their career objectives???\n",
    "    idx = indices[user]\n",
    "    sim_scores = list(enumerate(cosine_sim[idx]))\n",
    "    sim_scores = sorted(sim_scores, key=lambda x: x[1], reverse=True)\n",
    "    sim_scores = sim_scores[1:31]\n",
    "    user_indices = [i[0] for i in sim_scores]\n",
    "    return users.iloc[user_indices]"
   ]
  },
  {
   "cell_type": "code",
   "execution_count": 25,
   "id": "e8e1ffe4",
   "metadata": {},
   "outputs": [
    {
     "data": {
      "text/plain": [
       "userid\n",
       "1001       0\n",
       "1002       1\n",
       "1003       2\n",
       "1004       3\n",
       "1005       4\n",
       "        ... \n",
       "2042    1092\n",
       "2043    1093\n",
       "2044    1094\n",
       "2045    1095\n",
       "2046    1096\n",
       "Length: 1097, dtype: int64"
      ]
     },
     "execution_count": 25,
     "metadata": {},
     "output_type": "execute_result"
    }
   ],
   "source": [
    "indices #gives an index to each id"
   ]
  },
  {
   "cell_type": "code",
   "execution_count": 26,
   "id": "9be4ccb2",
   "metadata": {},
   "outputs": [
    {
     "name": "stdout",
     "output_type": "stream",
     "text": [
      "userid\n",
      "1847    894\n",
      "dtype: int64\n"
     ]
    }
   ],
   "source": [
    "print(indices[indices == 894]) #checking the index and id to confirm it is the same as given in the recommendations below"
   ]
  },
  {
   "cell_type": "code",
   "execution_count": 27,
   "id": "c057d766",
   "metadata": {},
   "outputs": [
    {
     "data": {
      "text/plain": [
       "894    1847\n",
       "996    1946\n",
       "93     1087\n",
       "256    1231\n",
       "201    1182\n",
       "180    1161\n",
       "91     1085\n",
       "464    1416\n",
       "981    1931\n",
       "165    1146\n",
       "Name: userid, dtype: object"
      ]
     },
     "execution_count": 27,
     "metadata": {},
     "output_type": "execute_result"
    }
   ],
   "source": [
    "recs = get_recommendations(\"1001\")\n",
    "recs.head(10)"
   ]
  },
  {
   "cell_type": "code",
   "execution_count": 28,
   "id": "f5335116",
   "metadata": {},
   "outputs": [
    {
     "data": {
      "text/plain": [
       "996    1946\n",
       "0      1001\n",
       "93     1087\n",
       "981    1931\n",
       "110    1102\n",
       "256    1231\n",
       "180    1161\n",
       "91     1085\n",
       "165    1146\n",
       "201    1182\n",
       "Name: userid, dtype: object"
      ]
     },
     "execution_count": 28,
     "metadata": {},
     "output_type": "execute_result"
    }
   ],
   "source": [
    "get_recommendations(\"1847\").head(10)"
   ]
  },
  {
   "cell_type": "code",
   "execution_count": 29,
   "id": "f39ea462",
   "metadata": {},
   "outputs": [
    {
     "data": {
      "text/plain": [
       "996    1946\n",
       "0      1001\n",
       "93     1087\n",
       "981    1931\n",
       "110    1102\n",
       "256    1231\n",
       "180    1161\n",
       "91     1085\n",
       "165    1146\n",
       "201    1182\n",
       "Name: userid, dtype: object"
      ]
     },
     "execution_count": 29,
     "metadata": {},
     "output_type": "execute_result"
    }
   ],
   "source": [
    "get_recommendations(\"1946\").head(10)"
   ]
  },
  {
   "cell_type": "code",
   "execution_count": 30,
   "id": "035bf0cd",
   "metadata": {},
   "outputs": [
    {
     "data": {
      "text/plain": [
       "0    C,  Java,  Keras,  Flask,  Deep Learning,  Sel...\n",
       "Name: key_skills_str, dtype: object"
      ]
     },
     "execution_count": 30,
     "metadata": {},
     "output_type": "execute_result"
    }
   ],
   "source": [
    "cf_dataset[\"key_skills_str\"].loc[cf_dataset['userid'] == '1001']"
   ]
  },
  {
   "cell_type": "code",
   "execution_count": 31,
   "id": "1229e6ff",
   "metadata": {},
   "outputs": [
    {
     "data": {
      "text/plain": [
       "894    Computer Engineering student with good technic...\n",
       "Name: all, dtype: object"
      ]
     },
     "execution_count": 31,
     "metadata": {},
     "output_type": "execute_result"
    }
   ],
   "source": [
    "cf_dataset[\"all\"].loc[cf_dataset['userid'] == '1847']"
   ]
  },
  {
   "cell_type": "code",
   "execution_count": 32,
   "id": "2f5cae36",
   "metadata": {},
   "outputs": [
    {
     "data": {
      "text/plain": [
       "996    Computer Engineering student with good technic...\n",
       "Name: all, dtype: object"
      ]
     },
     "execution_count": 32,
     "metadata": {},
     "output_type": "execute_result"
    }
   ],
   "source": [
    "cf_dataset[\"all\"].loc[cf_dataset['userid'] == '1946']"
   ]
  },
  {
   "cell_type": "code",
   "execution_count": 33,
   "id": "4005231d",
   "metadata": {},
   "outputs": [
    {
     "data": {
      "text/plain": [
       "256    To enhance my expertise in the field of softwa...\n",
       "Name: all, dtype: object"
      ]
     },
     "execution_count": 33,
     "metadata": {},
     "output_type": "execute_result"
    }
   ],
   "source": [
    "cf_dataset[\"all\"].loc[cf_dataset['userid'] == '1231']"
   ]
  },
  {
   "cell_type": "markdown",
   "id": "977dc766",
   "metadata": {},
   "source": [
    "Upon checking the above, the filter is checking all the users' career objectives and key skill. And returns similar users. \n",
    "\n",
    "User 1001 has career objective a and key skills list b. \n",
    "\n",
    "User 1847 (the first recommendation for user 1001) has career objective a and key skills list b.\n",
    "\n",
    "User 1847 (the second recommendation for user 1001) has career objective a and key skills list b.\n",
    "\n",
    "User 1231 (the fourth recommendation for user 1001) has career objective NEW and key skills list NEW with some matches like Keras."
   ]
  },
  {
   "cell_type": "markdown",
   "id": "2c4098fa",
   "metadata": {},
   "source": [
    "### Course Dataset -  degree 1, degree 1 specialization and key skills"
   ]
  },
  {
   "cell_type": "code",
   "execution_count": 34,
   "id": "b62ee279",
   "metadata": {},
   "outputs": [
    {
     "data": {
      "text/html": [
       "<div>\n",
       "<style scoped>\n",
       "    .dataframe tbody tr th:only-of-type {\n",
       "        vertical-align: middle;\n",
       "    }\n",
       "\n",
       "    .dataframe tbody tr th {\n",
       "        vertical-align: top;\n",
       "    }\n",
       "\n",
       "    .dataframe thead th {\n",
       "        text-align: right;\n",
       "    }\n",
       "</style>\n",
       "<table border=\"1\" class=\"dataframe\">\n",
       "  <thead>\n",
       "    <tr style=\"text-align: right;\">\n",
       "      <th></th>\n",
       "      <th>sr_</th>\n",
       "      <th>degree_1</th>\n",
       "      <th>degree_1_specializations</th>\n",
       "      <th>key_skills_str</th>\n",
       "    </tr>\n",
       "  </thead>\n",
       "  <tbody>\n",
       "    <tr>\n",
       "      <th>0</th>\n",
       "      <td>1001</td>\n",
       "      <td>B.E.</td>\n",
       "      <td>Mechanical</td>\n",
       "      <td>CATIA</td>\n",
       "    </tr>\n",
       "    <tr>\n",
       "      <th>1</th>\n",
       "      <td>1002</td>\n",
       "      <td>B.E.</td>\n",
       "      <td>Mechanical</td>\n",
       "      <td>CATIA</td>\n",
       "    </tr>\n",
       "    <tr>\n",
       "      <th>2</th>\n",
       "      <td>1003</td>\n",
       "      <td>B.E.</td>\n",
       "      <td>Mechanical</td>\n",
       "      <td>CATIA</td>\n",
       "    </tr>\n",
       "    <tr>\n",
       "      <th>3</th>\n",
       "      <td>1004</td>\n",
       "      <td>B.E.</td>\n",
       "      <td>Mechanical</td>\n",
       "      <td>CATIA</td>\n",
       "    </tr>\n",
       "    <tr>\n",
       "      <th>4</th>\n",
       "      <td>1005</td>\n",
       "      <td>B.E.</td>\n",
       "      <td>Mechanical</td>\n",
       "      <td>CATIA</td>\n",
       "    </tr>\n",
       "  </tbody>\n",
       "</table>\n",
       "</div>"
      ],
      "text/plain": [
       "    sr_ degree_1 degree_1_specializations key_skills_str\n",
       "0  1001     B.E.               Mechanical          CATIA\n",
       "1  1002     B.E.               Mechanical          CATIA\n",
       "2  1003     B.E.               Mechanical          CATIA\n",
       "3  1004     B.E.               Mechanical          CATIA\n",
       "4  1005     B.E.               Mechanical          CATIA"
      ]
     },
     "execution_count": 34,
     "metadata": {},
     "output_type": "execute_result"
    }
   ],
   "source": [
    "#creating the dataset\n",
    "cf_dataset2 = pd.DataFrame()\n",
    "cf_dataset2['sr_'] = course_dataset['sr_']\n",
    "cf_dataset2['degree_1'] = course_dataset['degree_1']\n",
    "cf_dataset2['degree_1_specializations'] = course_dataset['degree_1_specializations']\n",
    "cf_dataset2['key_skills_str'] = course_dataset['key_skills_str']\n",
    "cf_dataset2.head(5)"
   ]
  },
  {
   "cell_type": "code",
   "execution_count": 35,
   "id": "16274838",
   "metadata": {},
   "outputs": [
    {
     "data": {
      "text/html": [
       "<div>\n",
       "<style scoped>\n",
       "    .dataframe tbody tr th:only-of-type {\n",
       "        vertical-align: middle;\n",
       "    }\n",
       "\n",
       "    .dataframe tbody tr th {\n",
       "        vertical-align: top;\n",
       "    }\n",
       "\n",
       "    .dataframe thead th {\n",
       "        text-align: right;\n",
       "    }\n",
       "</style>\n",
       "<table border=\"1\" class=\"dataframe\">\n",
       "  <thead>\n",
       "    <tr style=\"text-align: right;\">\n",
       "      <th></th>\n",
       "      <th>sr_</th>\n",
       "      <th>degree_1</th>\n",
       "      <th>degree_1_specializations</th>\n",
       "      <th>key_skills_str</th>\n",
       "      <th>all</th>\n",
       "    </tr>\n",
       "  </thead>\n",
       "  <tbody>\n",
       "    <tr>\n",
       "      <th>0</th>\n",
       "      <td>1001</td>\n",
       "      <td>B.E.</td>\n",
       "      <td>Mechanical</td>\n",
       "      <td>CATIA</td>\n",
       "      <td>B.E.MechanicalCATIA</td>\n",
       "    </tr>\n",
       "    <tr>\n",
       "      <th>1</th>\n",
       "      <td>1002</td>\n",
       "      <td>B.E.</td>\n",
       "      <td>Mechanical</td>\n",
       "      <td>CATIA</td>\n",
       "      <td>B.E.MechanicalCATIA</td>\n",
       "    </tr>\n",
       "    <tr>\n",
       "      <th>2</th>\n",
       "      <td>1003</td>\n",
       "      <td>B.E.</td>\n",
       "      <td>Mechanical</td>\n",
       "      <td>CATIA</td>\n",
       "      <td>B.E.MechanicalCATIA</td>\n",
       "    </tr>\n",
       "    <tr>\n",
       "      <th>3</th>\n",
       "      <td>1004</td>\n",
       "      <td>B.E.</td>\n",
       "      <td>Mechanical</td>\n",
       "      <td>CATIA</td>\n",
       "      <td>B.E.MechanicalCATIA</td>\n",
       "    </tr>\n",
       "    <tr>\n",
       "      <th>4</th>\n",
       "      <td>1005</td>\n",
       "      <td>B.E.</td>\n",
       "      <td>Mechanical</td>\n",
       "      <td>CATIA</td>\n",
       "      <td>B.E.MechanicalCATIA</td>\n",
       "    </tr>\n",
       "    <tr>\n",
       "      <th>...</th>\n",
       "      <td>...</td>\n",
       "      <td>...</td>\n",
       "      <td>...</td>\n",
       "      <td>...</td>\n",
       "      <td>...</td>\n",
       "    </tr>\n",
       "    <tr>\n",
       "      <th>9995</th>\n",
       "      <td>10996</td>\n",
       "      <td>B.E.</td>\n",
       "      <td>Electronics  Telecommunication Engineering</td>\n",
       "      <td>EmbeddedC, MATLAB, Cprogramming, Keil</td>\n",
       "      <td>B.E.Electronics  Telecommunication Engineering...</td>\n",
       "    </tr>\n",
       "    <tr>\n",
       "      <th>9996</th>\n",
       "      <td>10997</td>\n",
       "      <td>B.E.</td>\n",
       "      <td>Electronics  Telecommunication Engineering</td>\n",
       "      <td>EmbeddedC, MATLAB, Cprogramming, Keil</td>\n",
       "      <td>B.E.Electronics  Telecommunication Engineering...</td>\n",
       "    </tr>\n",
       "    <tr>\n",
       "      <th>9997</th>\n",
       "      <td>10998</td>\n",
       "      <td>M TeCh</td>\n",
       "      <td>Electronics  Telecommunication Engineering</td>\n",
       "      <td>EmbeddedC, MATLAB, Cprogramming, Keil</td>\n",
       "      <td>M TeCh Electronics  Telecommunication Engineer...</td>\n",
       "    </tr>\n",
       "    <tr>\n",
       "      <th>9998</th>\n",
       "      <td>10999</td>\n",
       "      <td>B.E.</td>\n",
       "      <td>Electronics  Telecommunication Engineering</td>\n",
       "      <td>AmazonWebServiCes, C CPP, Arduino, MongoDB, Li...</td>\n",
       "      <td>B.E.Electronics  Telecommunication Engineering...</td>\n",
       "    </tr>\n",
       "    <tr>\n",
       "      <th>9999</th>\n",
       "      <td>11000</td>\n",
       "      <td>B.E.</td>\n",
       "      <td>Electronics  Telecommunication Engineering</td>\n",
       "      <td>AmazonWebServiCes, C CPP, Arduino, MongoDB, Li...</td>\n",
       "      <td>B.E.Electronics  Telecommunication Engineering...</td>\n",
       "    </tr>\n",
       "  </tbody>\n",
       "</table>\n",
       "<p>10000 rows × 5 columns</p>\n",
       "</div>"
      ],
      "text/plain": [
       "        sr_ degree_1                    degree_1_specializations  \\\n",
       "0      1001     B.E.                                  Mechanical   \n",
       "1      1002     B.E.                                  Mechanical   \n",
       "2      1003     B.E.                                  Mechanical   \n",
       "3      1004     B.E.                                  Mechanical   \n",
       "4      1005     B.E.                                  Mechanical   \n",
       "...     ...      ...                                         ...   \n",
       "9995  10996     B.E.  Electronics  Telecommunication Engineering   \n",
       "9996  10997     B.E.  Electronics  Telecommunication Engineering   \n",
       "9997  10998  M TeCh   Electronics  Telecommunication Engineering   \n",
       "9998  10999     B.E.  Electronics  Telecommunication Engineering   \n",
       "9999  11000     B.E.  Electronics  Telecommunication Engineering   \n",
       "\n",
       "                                         key_skills_str  \\\n",
       "0                                                 CATIA   \n",
       "1                                                 CATIA   \n",
       "2                                                 CATIA   \n",
       "3                                                 CATIA   \n",
       "4                                                 CATIA   \n",
       "...                                                 ...   \n",
       "9995              EmbeddedC, MATLAB, Cprogramming, Keil   \n",
       "9996              EmbeddedC, MATLAB, Cprogramming, Keil   \n",
       "9997              EmbeddedC, MATLAB, Cprogramming, Keil   \n",
       "9998  AmazonWebServiCes, C CPP, Arduino, MongoDB, Li...   \n",
       "9999  AmazonWebServiCes, C CPP, Arduino, MongoDB, Li...   \n",
       "\n",
       "                                                    all  \n",
       "0                                   B.E.MechanicalCATIA  \n",
       "1                                   B.E.MechanicalCATIA  \n",
       "2                                   B.E.MechanicalCATIA  \n",
       "3                                   B.E.MechanicalCATIA  \n",
       "4                                   B.E.MechanicalCATIA  \n",
       "...                                                 ...  \n",
       "9995  B.E.Electronics  Telecommunication Engineering...  \n",
       "9996  B.E.Electronics  Telecommunication Engineering...  \n",
       "9997  M TeCh Electronics  Telecommunication Engineer...  \n",
       "9998  B.E.Electronics  Telecommunication Engineering...  \n",
       "9999  B.E.Electronics  Telecommunication Engineering...  \n",
       "\n",
       "[10000 rows x 5 columns]"
      ]
     },
     "execution_count": 35,
     "metadata": {},
     "output_type": "execute_result"
    }
   ],
   "source": [
    "cf_dataset2['all'] = cf_dataset2['degree_1'] + cf_dataset2['degree_1_specializations'] + cf_dataset2['key_skills_str']\n",
    "cf_dataset2"
   ]
  },
  {
   "cell_type": "code",
   "execution_count": 36,
   "id": "8b2cca9c",
   "metadata": {},
   "outputs": [],
   "source": [
    "#vectorize \n",
    "count = CountVectorizer(analyzer='word',ngram_range=(1, 2),min_df=0, stop_words='english')\n",
    "count_matrix = count.fit_transform(cf_dataset2['all'].values.astype('U'))\n",
    "\n",
    "#cosine similarity using linear kernel\n",
    "cosine_sim = cosine_similarity(count_matrix, count_matrix)\n",
    "\n",
    "#\n",
    "cf_dataset2 = cf_dataset2.reset_index()\n",
    "courses = cf_dataset2['sr_']\n",
    "indices = pd.Series(cf_dataset2.index, index=cf_dataset2['sr_'])\n",
    "\n",
    "\n",
    "#function to get recommendations\n",
    "def get_recommendations(course): \n",
    "    idx = indices[course]\n",
    "    sim_scores = list(enumerate(cosine_sim[idx]))\n",
    "    sim_scores = sorted(sim_scores, key=lambda x: x[1], reverse=True)\n",
    "    sim_scores = sim_scores[1:31]\n",
    "    course_indices = [i[0] for i in sim_scores]\n",
    "    return courses.iloc[course_indices]"
   ]
  },
  {
   "cell_type": "code",
   "execution_count": 37,
   "id": "8dc0c8d9",
   "metadata": {},
   "outputs": [
    {
     "data": {
      "text/plain": [
       "1     1002\n",
       "2     1003\n",
       "3     1004\n",
       "4     1005\n",
       "5     1006\n",
       "6     1007\n",
       "7     1008\n",
       "8     1009\n",
       "9     1010\n",
       "10    1011\n",
       "Name: sr_, dtype: int64"
      ]
     },
     "execution_count": 37,
     "metadata": {},
     "output_type": "execute_result"
    }
   ],
   "source": [
    "get_recommendations(1001).head(10)"
   ]
  },
  {
   "cell_type": "code",
   "execution_count": 38,
   "id": "a4f78384",
   "metadata": {},
   "outputs": [
    {
     "data": {
      "text/plain": [
       "1     1002\n",
       "2     1003\n",
       "3     1004\n",
       "4     1005\n",
       "5     1006\n",
       "6     1007\n",
       "7     1008\n",
       "8     1009\n",
       "9     1010\n",
       "10    1011\n",
       "Name: sr_, dtype: int64"
      ]
     },
     "execution_count": 38,
     "metadata": {},
     "output_type": "execute_result"
    }
   ],
   "source": [
    "get_recommendations(1003).head(10)"
   ]
  },
  {
   "cell_type": "code",
   "execution_count": 39,
   "id": "c40c50ed",
   "metadata": {},
   "outputs": [
    {
     "name": "stdout",
     "output_type": "stream",
     "text": [
      "0    B.E.MechanicalCATIA\n",
      "Name: all, dtype: object\n"
     ]
    }
   ],
   "source": [
    "print(cf_dataset2[\"all\"].loc[cf_dataset2['sr_'] == 1001])  #key_skills_str"
   ]
  },
  {
   "cell_type": "code",
   "execution_count": 40,
   "id": "4d415bd9",
   "metadata": {},
   "outputs": [
    {
     "name": "stdout",
     "output_type": "stream",
     "text": [
      "1    B.E.MechanicalCATIA\n",
      "Name: all, dtype: object\n",
      "2    B.E.MechanicalCATIA\n",
      "Name: all, dtype: object\n"
     ]
    }
   ],
   "source": [
    "print(cf_dataset2[\"all\"].loc[cf_dataset2['sr_'] == 1002])\n",
    "print(cf_dataset2[\"all\"].loc[cf_dataset2['sr_'] == 1003])"
   ]
  },
  {
   "cell_type": "code",
   "execution_count": 41,
   "id": "38d25f01",
   "metadata": {},
   "outputs": [
    {
     "data": {
      "text/plain": [
       "172    1173\n",
       "209    1210\n",
       "212    1213\n",
       "213    1214\n",
       "214    1215\n",
       "225    1226\n",
       "226    1227\n",
       "230    1231\n",
       "231    1232\n",
       "435    1436\n",
       "Name: sr_, dtype: int64"
      ]
     },
     "execution_count": 41,
     "metadata": {},
     "output_type": "execute_result"
    }
   ],
   "source": [
    "#trying a different course\n",
    "get_recommendations(10996).head(10)"
   ]
  },
  {
   "cell_type": "code",
   "execution_count": 42,
   "id": "a4814059",
   "metadata": {},
   "outputs": [
    {
     "name": "stdout",
     "output_type": "stream",
     "text": [
      "9995    B.E.Electronics  Telecommunication Engineering...\n",
      "Name: all, dtype: object\n",
      "172    EmbeddedC, MATLAB, Cprogramming, Keil\n",
      "Name: key_skills_str, dtype: object\n",
      "209    EmbeddedC, MATLAB, Cprogramming, Keil\n",
      "Name: key_skills_str, dtype: object\n"
     ]
    }
   ],
   "source": [
    "print(cf_dataset2[\"all\"].loc[cf_dataset2['sr_'] == 10996])\n",
    "print(cf_dataset2[\"key_skills_str\"].loc[cf_dataset2['sr_'] == 1173])\n",
    "print(cf_dataset2[\"key_skills_str\"].loc[cf_dataset2['sr_'] == 1210])"
   ]
  },
  {
   "cell_type": "markdown",
   "id": "a001ce27",
   "metadata": {},
   "source": [
    "They are also accurate in the course dataset. Only the degree, degree specializations and key skils are basically the same.\n",
    "\n",
    "Try to implement the removal of the course we are looking for from the recommendations. As seen above in the 1003 course search, the thing we search for is sometimes given back"
   ]
  },
  {
   "cell_type": "markdown",
   "id": "725f45e1",
   "metadata": {},
   "source": [
    "###  User Dataset but get Course Index"
   ]
  },
  {
   "cell_type": "code",
   "execution_count": 43,
   "id": "2655049e",
   "metadata": {},
   "outputs": [
    {
     "data": {
      "text/html": [
       "<div>\n",
       "<style scoped>\n",
       "    .dataframe tbody tr th:only-of-type {\n",
       "        vertical-align: middle;\n",
       "    }\n",
       "\n",
       "    .dataframe tbody tr th {\n",
       "        vertical-align: top;\n",
       "    }\n",
       "\n",
       "    .dataframe thead th {\n",
       "        text-align: right;\n",
       "    }\n",
       "</style>\n",
       "<table border=\"1\" class=\"dataframe\">\n",
       "  <thead>\n",
       "    <tr style=\"text-align: right;\">\n",
       "      <th></th>\n",
       "      <th>level_0</th>\n",
       "      <th>index</th>\n",
       "      <th>Unnamed: 0</th>\n",
       "      <th>userid</th>\n",
       "      <th>degree_1</th>\n",
       "      <th>degree_1_specializations</th>\n",
       "      <th>known_languages</th>\n",
       "      <th>key_skills</th>\n",
       "      <th>career_objective</th>\n",
       "      <th>key_skills_str</th>\n",
       "    </tr>\n",
       "  </thead>\n",
       "  <tbody>\n",
       "    <tr>\n",
       "      <th>0</th>\n",
       "      <td>0</td>\n",
       "      <td>0</td>\n",
       "      <td>0</td>\n",
       "      <td>1001</td>\n",
       "      <td>B.E.</td>\n",
       "      <td>Computer Science &amp; Engineering</td>\n",
       "      <td>['English', ' Marathi', ' Hindi']</td>\n",
       "      <td>['C', ' Java', ' Keras', ' Flask', ' Deep Lear...</td>\n",
       "      <td>Computer Engineering student with good technic...</td>\n",
       "      <td>C,  Java,  Keras,  Flask,  Deep Learning,  Sel...</td>\n",
       "    </tr>\n",
       "    <tr>\n",
       "      <th>1</th>\n",
       "      <td>1</td>\n",
       "      <td>1</td>\n",
       "      <td>1</td>\n",
       "      <td>1002</td>\n",
       "      <td>B.E.</td>\n",
       "      <td>Computer Science &amp; Engineering</td>\n",
       "      <td>['Hindi English']</td>\n",
       "      <td>['Java', ' Neural Networks', ' AI', ' Python',...</td>\n",
       "      <td>Interested in working under company offering A...</td>\n",
       "      <td>Java,  Neural Networks,  AI,  Python,  Html5, ...</td>\n",
       "    </tr>\n",
       "  </tbody>\n",
       "</table>\n",
       "</div>"
      ],
      "text/plain": [
       "   level_0  index Unnamed: 0 userid degree_1        degree_1_specializations  \\\n",
       "0        0      0          0   1001     B.E.  Computer Science & Engineering   \n",
       "1        1      1          1   1002     B.E.  Computer Science & Engineering   \n",
       "\n",
       "                     known_languages  \\\n",
       "0  ['English', ' Marathi', ' Hindi']   \n",
       "1                  ['Hindi English']   \n",
       "\n",
       "                                          key_skills  \\\n",
       "0  ['C', ' Java', ' Keras', ' Flask', ' Deep Lear...   \n",
       "1  ['Java', ' Neural Networks', ' AI', ' Python',...   \n",
       "\n",
       "                                    career_objective  \\\n",
       "0  Computer Engineering student with good technic...   \n",
       "1  Interested in working under company offering A...   \n",
       "\n",
       "                                      key_skills_str  \n",
       "0  C,  Java,  Keras,  Flask,  Deep Learning,  Sel...  \n",
       "1  Java,  Neural Networks,  AI,  Python,  Html5, ...  "
      ]
     },
     "execution_count": 43,
     "metadata": {},
     "output_type": "execute_result"
    }
   ],
   "source": [
    "user_dataset.head(2)"
   ]
  },
  {
   "cell_type": "code",
   "execution_count": 44,
   "id": "797b270e",
   "metadata": {},
   "outputs": [
    {
     "data": {
      "text/html": [
       "<div>\n",
       "<style scoped>\n",
       "    .dataframe tbody tr th:only-of-type {\n",
       "        vertical-align: middle;\n",
       "    }\n",
       "\n",
       "    .dataframe tbody tr th {\n",
       "        vertical-align: top;\n",
       "    }\n",
       "\n",
       "    .dataframe thead th {\n",
       "        text-align: right;\n",
       "    }\n",
       "</style>\n",
       "<table border=\"1\" class=\"dataframe\">\n",
       "  <thead>\n",
       "    <tr style=\"text-align: right;\">\n",
       "      <th></th>\n",
       "      <th>userid</th>\n",
       "      <th>career_objective</th>\n",
       "      <th>key_skills_str</th>\n",
       "      <th>description</th>\n",
       "    </tr>\n",
       "  </thead>\n",
       "  <tbody>\n",
       "    <tr>\n",
       "      <th>0</th>\n",
       "      <td>1001</td>\n",
       "      <td>Computer Engineering student with good technic...</td>\n",
       "      <td>C,  Java,  Keras,  Flask,  Deep Learning,  Sel...</td>\n",
       "      <td>Computer Engineering student with good technic...</td>\n",
       "    </tr>\n",
       "    <tr>\n",
       "      <th>1</th>\n",
       "      <td>1002</td>\n",
       "      <td>Interested in working under company offering A...</td>\n",
       "      <td>Java,  Neural Networks,  AI,  Python,  Html5, ...</td>\n",
       "      <td>Interested in working under company offering A...</td>\n",
       "    </tr>\n",
       "    <tr>\n",
       "      <th>2</th>\n",
       "      <td>1003</td>\n",
       "      <td>Missing</td>\n",
       "      <td>Missing</td>\n",
       "      <td>MissingMissing</td>\n",
       "    </tr>\n",
       "    <tr>\n",
       "      <th>3</th>\n",
       "      <td>1004</td>\n",
       "      <td>Currently a final year student of Computer Eng...</td>\n",
       "      <td>XML,  C,  Java,  Data Structures,  Python,  Mo...</td>\n",
       "      <td>Currently a final year student of Computer Eng...</td>\n",
       "    </tr>\n",
       "    <tr>\n",
       "      <th>4</th>\n",
       "      <td>1005</td>\n",
       "      <td>To have a growth oriented and challenging care...</td>\n",
       "      <td>XML,  Word,  Data Structures,  Communication, ...</td>\n",
       "      <td>To have a growth oriented and challenging care...</td>\n",
       "    </tr>\n",
       "  </tbody>\n",
       "</table>\n",
       "</div>"
      ],
      "text/plain": [
       "  userid                                   career_objective  \\\n",
       "0   1001  Computer Engineering student with good technic...   \n",
       "1   1002  Interested in working under company offering A...   \n",
       "2   1003                                            Missing   \n",
       "3   1004  Currently a final year student of Computer Eng...   \n",
       "4   1005  To have a growth oriented and challenging care...   \n",
       "\n",
       "                                      key_skills_str  \\\n",
       "0  C,  Java,  Keras,  Flask,  Deep Learning,  Sel...   \n",
       "1  Java,  Neural Networks,  AI,  Python,  Html5, ...   \n",
       "2                                            Missing   \n",
       "3  XML,  C,  Java,  Data Structures,  Python,  Mo...   \n",
       "4  XML,  Word,  Data Structures,  Communication, ...   \n",
       "\n",
       "                                         description  \n",
       "0  Computer Engineering student with good technic...  \n",
       "1  Interested in working under company offering A...  \n",
       "2                                     MissingMissing  \n",
       "3  Currently a final year student of Computer Eng...  \n",
       "4  To have a growth oriented and challenging care...  "
      ]
     },
     "execution_count": 44,
     "metadata": {},
     "output_type": "execute_result"
    }
   ],
   "source": [
    "#creating a new dataset dataset using the career objetcive, key skills and their user id\n",
    "cf_user_dataset = pd.DataFrame()\n",
    "cf_user_dataset['userid'] = user_dataset['userid']\n",
    "cf_user_dataset['career_objective'] = user_dataset['career_objective']\n",
    "cf_user_dataset['key_skills_str'] = user_dataset['key_skills_str']\n",
    "cf_user_dataset.head(5)\n",
    "\n",
    "#store the career objective and key skills in description\n",
    "cf_user_dataset['description'] = cf_user_dataset['career_objective'] + cf_user_dataset['key_skills_str']\n",
    "cf_user_dataset.head(5)"
   ]
  },
  {
   "cell_type": "code",
   "execution_count": 76,
   "id": "6ecdc90c",
   "metadata": {},
   "outputs": [],
   "source": [
    "#vectorize using countvectorize that converts into a matrix of token counts\n",
    "user_count = CountVectorizer(stop_words='english', analyzer='word', ngram_range=(1, 2), min_df=0)\n",
    "user_count_matrix = user_count.fit_transform(cf_user_dataset['description'].values.astype('U'))\n",
    "\n",
    "#cosine similarity between the the matrix itself (normalized dot product of X and Y)\n",
    "user_cosine_sim = cosine_similarity(user_count_matrix, user_count_matrix)\n",
    "\n",
    "#create indices for the user is using series\n",
    "#cf_user_dataset = cf_user_dataset.reset_index()\n",
    "user_ids = cf_user_dataset\n",
    "indices = pd.Series(course_dataset.index, index=course_dataset['sr_'])\n",
    "\n",
    "\n",
    "#function to get content-filtered recommendations\n",
    "def get_user_cf_recommendations(user):\n",
    "    \n",
    "    #get index of user\n",
    "    user_id = indices[user]\n",
    "    \n",
    "    #find the most similar 30 users using cosine_sim and sorting with highest similarity\n",
    "    sim_scores = list(enumerate(user_cosine_sim[user_id]))\n",
    "    sim_scores = sorted(sim_scores, key=lambda x: x[1], reverse=True)\n",
    "    sim_scores = sim_scores[1:31]\n",
    "    user_indices = [i[0] for i in sim_scores]\n",
    "    \n",
    "    return user_ids.iloc[user_indices]"
   ]
  },
  {
   "cell_type": "code",
   "execution_count": 77,
   "id": "0f252432",
   "metadata": {},
   "outputs": [
    {
     "data": {
      "text/html": [
       "<div>\n",
       "<style scoped>\n",
       "    .dataframe tbody tr th:only-of-type {\n",
       "        vertical-align: middle;\n",
       "    }\n",
       "\n",
       "    .dataframe tbody tr th {\n",
       "        vertical-align: top;\n",
       "    }\n",
       "\n",
       "    .dataframe thead th {\n",
       "        text-align: right;\n",
       "    }\n",
       "</style>\n",
       "<table border=\"1\" class=\"dataframe\">\n",
       "  <thead>\n",
       "    <tr style=\"text-align: right;\">\n",
       "      <th></th>\n",
       "      <th>level_0</th>\n",
       "      <th>index</th>\n",
       "      <th>userid</th>\n",
       "      <th>career_objective</th>\n",
       "      <th>key_skills_str</th>\n",
       "      <th>description</th>\n",
       "    </tr>\n",
       "  </thead>\n",
       "  <tbody>\n",
       "    <tr>\n",
       "      <th>894</th>\n",
       "      <td>894</td>\n",
       "      <td>894</td>\n",
       "      <td>1847</td>\n",
       "      <td>Computer Engineering student with good technic...</td>\n",
       "      <td>C,  Java,  Keras,  Flask,  Deep Learning,  Sel...</td>\n",
       "      <td>Computer Engineering student with good technic...</td>\n",
       "    </tr>\n",
       "    <tr>\n",
       "      <th>996</th>\n",
       "      <td>996</td>\n",
       "      <td>996</td>\n",
       "      <td>1946</td>\n",
       "      <td>Computer Engineering student with good technic...</td>\n",
       "      <td>C,  Java,  Keras,  Flask,  Deep Learning,  Sel...</td>\n",
       "      <td>Computer Engineering student with good technic...</td>\n",
       "    </tr>\n",
       "    <tr>\n",
       "      <th>93</th>\n",
       "      <td>93</td>\n",
       "      <td>93</td>\n",
       "      <td>1087</td>\n",
       "      <td>Dedicated and passionate computer engineering ...</td>\n",
       "      <td>Java,  Python,  Machine Learning,  CPP,  Andro...</td>\n",
       "      <td>Dedicated and passionate computer engineering ...</td>\n",
       "    </tr>\n",
       "    <tr>\n",
       "      <th>256</th>\n",
       "      <td>256</td>\n",
       "      <td>256</td>\n",
       "      <td>1231</td>\n",
       "      <td>To enhance my expertise in the field of softwa...</td>\n",
       "      <td>NLP,  Java,  Neural Networks,  Keras,  Python,...</td>\n",
       "      <td>To enhance my expertise in the field of softwa...</td>\n",
       "    </tr>\n",
       "    <tr>\n",
       "      <th>201</th>\n",
       "      <td>201</td>\n",
       "      <td>201</td>\n",
       "      <td>1182</td>\n",
       "      <td>Missing</td>\n",
       "      <td>C,  Data Analysis,  Java,  Neural Networks,  D...</td>\n",
       "      <td>MissingC,  Data Analysis,  Java,  Neural Netwo...</td>\n",
       "    </tr>\n",
       "    <tr>\n",
       "      <th>180</th>\n",
       "      <td>180</td>\n",
       "      <td>180</td>\n",
       "      <td>1161</td>\n",
       "      <td>I am a student programmer currently seeking ex...</td>\n",
       "      <td>Python,  Data Science,  Artificial Intelligenc...</td>\n",
       "      <td>I am a student programmer currently seeking ex...</td>\n",
       "    </tr>\n",
       "    <tr>\n",
       "      <th>91</th>\n",
       "      <td>91</td>\n",
       "      <td>91</td>\n",
       "      <td>1085</td>\n",
       "      <td>Team oriented individual with strong communica...</td>\n",
       "      <td>C,  Statistics,  Java,  MS Office,  Python,  D...</td>\n",
       "      <td>Team oriented individual with strong communica...</td>\n",
       "    </tr>\n",
       "    <tr>\n",
       "      <th>464</th>\n",
       "      <td>464</td>\n",
       "      <td>464</td>\n",
       "      <td>1416</td>\n",
       "      <td>Missing</td>\n",
       "      <td>Database,  Embedded C,  Machine Learning</td>\n",
       "      <td>MissingDatabase,  Embedded C,  Machine Learning</td>\n",
       "    </tr>\n",
       "    <tr>\n",
       "      <th>981</th>\n",
       "      <td>981</td>\n",
       "      <td>981</td>\n",
       "      <td>1931</td>\n",
       "      <td>Missing</td>\n",
       "      <td>Deep Learning,  Selenium,  Cpp</td>\n",
       "      <td>MissingDeep Learning,  Selenium,  Cpp</td>\n",
       "    </tr>\n",
       "    <tr>\n",
       "      <th>165</th>\n",
       "      <td>165</td>\n",
       "      <td>165</td>\n",
       "      <td>1146</td>\n",
       "      <td>Missing</td>\n",
       "      <td>Data Structures,  Android,  Algorithms,  Probl...</td>\n",
       "      <td>MissingData Structures,  Android,  Algorithms,...</td>\n",
       "    </tr>\n",
       "    <tr>\n",
       "      <th>457</th>\n",
       "      <td>457</td>\n",
       "      <td>457</td>\n",
       "      <td>1411</td>\n",
       "      <td>Missing</td>\n",
       "      <td>Data Analysis,  Java,  Robotics,  Machine Lear...</td>\n",
       "      <td>MissingData Analysis,  Java,  Robotics,  Machi...</td>\n",
       "    </tr>\n",
       "    <tr>\n",
       "      <th>376</th>\n",
       "      <td>376</td>\n",
       "      <td>376</td>\n",
       "      <td>1338</td>\n",
       "      <td>I'm a student of B.Tech (Computer Engineering)...</td>\n",
       "      <td>Python,  Data Structures,  Algorithms,  cpp,  ...</td>\n",
       "      <td>I'm a student of B.Tech (Computer Engineering)...</td>\n",
       "    </tr>\n",
       "    <tr>\n",
       "      <th>868</th>\n",
       "      <td>868</td>\n",
       "      <td>868</td>\n",
       "      <td>1821</td>\n",
       "      <td>Exploring through this chaotic world, curious ...</td>\n",
       "      <td>C,  Image-Processing,  Data-Structures,  Ardui...</td>\n",
       "      <td>Exploring through this chaotic world, curious ...</td>\n",
       "    </tr>\n",
       "    <tr>\n",
       "      <th>970</th>\n",
       "      <td>970</td>\n",
       "      <td>970</td>\n",
       "      <td>1920</td>\n",
       "      <td>Exploring through this chaotic world, curious ...</td>\n",
       "      <td>C,  Image-Processing,  Data-Structures,  Ardui...</td>\n",
       "      <td>Exploring through this chaotic world, curious ...</td>\n",
       "    </tr>\n",
       "    <tr>\n",
       "      <th>1089</th>\n",
       "      <td>1089</td>\n",
       "      <td>1089</td>\n",
       "      <td>2039</td>\n",
       "      <td>Exploring through this chaotic world, curious ...</td>\n",
       "      <td>C,  Image-Processing,  Data-Structures,  Ardui...</td>\n",
       "      <td>Exploring through this chaotic world, curious ...</td>\n",
       "    </tr>\n",
       "    <tr>\n",
       "      <th>653</th>\n",
       "      <td>653</td>\n",
       "      <td>653</td>\n",
       "      <td>1606</td>\n",
       "      <td>Missing</td>\n",
       "      <td>Python,  Team-Leader,  Machine-Learning,  CPP</td>\n",
       "      <td>MissingPython,  Team-Leader,  Machine-Learning...</td>\n",
       "    </tr>\n",
       "    <tr>\n",
       "      <th>387</th>\n",
       "      <td>387</td>\n",
       "      <td>387</td>\n",
       "      <td>1349</td>\n",
       "      <td>I have worked in web development and design. A...</td>\n",
       "      <td>DBMS,  Data Analysis,  MS Sql Server,  C#,  Vi...</td>\n",
       "      <td>I have worked in web development and design. A...</td>\n",
       "    </tr>\n",
       "    <tr>\n",
       "      <th>212</th>\n",
       "      <td>212</td>\n",
       "      <td>212</td>\n",
       "      <td>1189</td>\n",
       "      <td>Computer Science Student passionate about mach...</td>\n",
       "      <td>C,  Neural Networks,  Python,  DBMS,  cpp,  Ma...</td>\n",
       "      <td>Computer Science Student passionate about mach...</td>\n",
       "    </tr>\n",
       "    <tr>\n",
       "      <th>210</th>\n",
       "      <td>210</td>\n",
       "      <td>210</td>\n",
       "      <td>1187</td>\n",
       "      <td>Missing</td>\n",
       "      <td>Design thinking,  Database,  Machine Learning</td>\n",
       "      <td>MissingDesign thinking,  Database,  Machine Le...</td>\n",
       "    </tr>\n",
       "    <tr>\n",
       "      <th>110</th>\n",
       "      <td>110</td>\n",
       "      <td>110</td>\n",
       "      <td>1102</td>\n",
       "      <td>Dedicated and Passionate computer engineering ...</td>\n",
       "      <td>C,  Java,  Javascript,  cpp,  Object-Oriented ...</td>\n",
       "      <td>Dedicated and Passionate computer engineering ...</td>\n",
       "    </tr>\n",
       "    <tr>\n",
       "      <th>277</th>\n",
       "      <td>277</td>\n",
       "      <td>277</td>\n",
       "      <td>1252</td>\n",
       "      <td>Computer Science Student passionate about mach...</td>\n",
       "      <td>Java,  Neural Networks,  Artificial Intelligen...</td>\n",
       "      <td>Computer Science Student passionate about mach...</td>\n",
       "    </tr>\n",
       "    <tr>\n",
       "      <th>47</th>\n",
       "      <td>47</td>\n",
       "      <td>47</td>\n",
       "      <td>1045</td>\n",
       "      <td>Missing</td>\n",
       "      <td>Python,  cpp,  Machine Learning,  Data Structu...</td>\n",
       "      <td>MissingPython,  cpp,  Machine Learning,  Data ...</td>\n",
       "    </tr>\n",
       "    <tr>\n",
       "      <th>334</th>\n",
       "      <td>334</td>\n",
       "      <td>334</td>\n",
       "      <td>1304</td>\n",
       "      <td>Missing</td>\n",
       "      <td>C,  Database,  Python,  Javascript,  cpp,  Mac...</td>\n",
       "      <td>MissingC,  Database,  Python,  Javascript,  cp...</td>\n",
       "    </tr>\n",
       "    <tr>\n",
       "      <th>941</th>\n",
       "      <td>941</td>\n",
       "      <td>941</td>\n",
       "      <td>1891</td>\n",
       "      <td>Missing</td>\n",
       "      <td>Python,  cpp,  Machine Learning,  Data Structu...</td>\n",
       "      <td>MissingPython,  cpp,  Machine Learning,  Data ...</td>\n",
       "    </tr>\n",
       "    <tr>\n",
       "      <th>521</th>\n",
       "      <td>521</td>\n",
       "      <td>521</td>\n",
       "      <td>1473</td>\n",
       "      <td>Highly motivated, fast-paced  Computer Enginee...</td>\n",
       "      <td>Image-Procssing,  Data-Analysis,  Arduino,  Da...</td>\n",
       "      <td>Highly motivated, fast-paced  Computer Enginee...</td>\n",
       "    </tr>\n",
       "    <tr>\n",
       "      <th>123</th>\n",
       "      <td>123</td>\n",
       "      <td>123</td>\n",
       "      <td>1115</td>\n",
       "      <td>Missing</td>\n",
       "      <td>C,  NodeJS,  Python,  MongoDB,  Javascript,  M...</td>\n",
       "      <td>MissingC,  NodeJS,  Python,  MongoDB,  Javascr...</td>\n",
       "    </tr>\n",
       "    <tr>\n",
       "      <th>163</th>\n",
       "      <td>163</td>\n",
       "      <td>163</td>\n",
       "      <td>1144</td>\n",
       "      <td>Missing</td>\n",
       "      <td>C,  Python,  Machine Learning,  HTML,  Arduino...</td>\n",
       "      <td>MissingC,  Python,  Machine Learning,  HTML,  ...</td>\n",
       "    </tr>\n",
       "    <tr>\n",
       "      <th>536</th>\n",
       "      <td>536</td>\n",
       "      <td>536</td>\n",
       "      <td>1488</td>\n",
       "      <td>My objective is to accelerate my learning curv...</td>\n",
       "      <td>Python,  CPP,  Data-structures,  Leadership,  ...</td>\n",
       "      <td>My objective is to accelerate my learning curv...</td>\n",
       "    </tr>\n",
       "    <tr>\n",
       "      <th>512</th>\n",
       "      <td>512</td>\n",
       "      <td>512</td>\n",
       "      <td>1464</td>\n",
       "      <td>\\nI wish to give my best in development of org...</td>\n",
       "      <td>C,  Java,  Python,  MongoDB,  Javascript,  CPP...</td>\n",
       "      <td>\\nI wish to give my best in development of org...</td>\n",
       "    </tr>\n",
       "    <tr>\n",
       "      <th>267</th>\n",
       "      <td>267</td>\n",
       "      <td>267</td>\n",
       "      <td>1242</td>\n",
       "      <td>Missing</td>\n",
       "      <td>Java,  Python,  Javascript,  cpp,  Machine Lea...</td>\n",
       "      <td>MissingJava,  Python,  Javascript,  cpp,  Mach...</td>\n",
       "    </tr>\n",
       "  </tbody>\n",
       "</table>\n",
       "</div>"
      ],
      "text/plain": [
       "      level_0  index userid  \\\n",
       "894       894    894   1847   \n",
       "996       996    996   1946   \n",
       "93         93     93   1087   \n",
       "256       256    256   1231   \n",
       "201       201    201   1182   \n",
       "180       180    180   1161   \n",
       "91         91     91   1085   \n",
       "464       464    464   1416   \n",
       "981       981    981   1931   \n",
       "165       165    165   1146   \n",
       "457       457    457   1411   \n",
       "376       376    376   1338   \n",
       "868       868    868   1821   \n",
       "970       970    970   1920   \n",
       "1089     1089   1089   2039   \n",
       "653       653    653   1606   \n",
       "387       387    387   1349   \n",
       "212       212    212   1189   \n",
       "210       210    210   1187   \n",
       "110       110    110   1102   \n",
       "277       277    277   1252   \n",
       "47         47     47   1045   \n",
       "334       334    334   1304   \n",
       "941       941    941   1891   \n",
       "521       521    521   1473   \n",
       "123       123    123   1115   \n",
       "163       163    163   1144   \n",
       "536       536    536   1488   \n",
       "512       512    512   1464   \n",
       "267       267    267   1242   \n",
       "\n",
       "                                       career_objective  \\\n",
       "894   Computer Engineering student with good technic...   \n",
       "996   Computer Engineering student with good technic...   \n",
       "93    Dedicated and passionate computer engineering ...   \n",
       "256   To enhance my expertise in the field of softwa...   \n",
       "201                                             Missing   \n",
       "180   I am a student programmer currently seeking ex...   \n",
       "91    Team oriented individual with strong communica...   \n",
       "464                                             Missing   \n",
       "981                                             Missing   \n",
       "165                                             Missing   \n",
       "457                                             Missing   \n",
       "376   I'm a student of B.Tech (Computer Engineering)...   \n",
       "868   Exploring through this chaotic world, curious ...   \n",
       "970   Exploring through this chaotic world, curious ...   \n",
       "1089  Exploring through this chaotic world, curious ...   \n",
       "653                                             Missing   \n",
       "387   I have worked in web development and design. A...   \n",
       "212   Computer Science Student passionate about mach...   \n",
       "210                                             Missing   \n",
       "110   Dedicated and Passionate computer engineering ...   \n",
       "277   Computer Science Student passionate about mach...   \n",
       "47                                              Missing   \n",
       "334                                             Missing   \n",
       "941                                             Missing   \n",
       "521   Highly motivated, fast-paced  Computer Enginee...   \n",
       "123                                             Missing   \n",
       "163                                             Missing   \n",
       "536   My objective is to accelerate my learning curv...   \n",
       "512   \\nI wish to give my best in development of org...   \n",
       "267                                             Missing   \n",
       "\n",
       "                                         key_skills_str  \\\n",
       "894   C,  Java,  Keras,  Flask,  Deep Learning,  Sel...   \n",
       "996   C,  Java,  Keras,  Flask,  Deep Learning,  Sel...   \n",
       "93    Java,  Python,  Machine Learning,  CPP,  Andro...   \n",
       "256   NLP,  Java,  Neural Networks,  Keras,  Python,...   \n",
       "201   C,  Data Analysis,  Java,  Neural Networks,  D...   \n",
       "180   Python,  Data Science,  Artificial Intelligenc...   \n",
       "91    C,  Statistics,  Java,  MS Office,  Python,  D...   \n",
       "464            Database,  Embedded C,  Machine Learning   \n",
       "981                      Deep Learning,  Selenium,  Cpp   \n",
       "165   Data Structures,  Android,  Algorithms,  Probl...   \n",
       "457   Data Analysis,  Java,  Robotics,  Machine Lear...   \n",
       "376   Python,  Data Structures,  Algorithms,  cpp,  ...   \n",
       "868   C,  Image-Processing,  Data-Structures,  Ardui...   \n",
       "970   C,  Image-Processing,  Data-Structures,  Ardui...   \n",
       "1089  C,  Image-Processing,  Data-Structures,  Ardui...   \n",
       "653       Python,  Team-Leader,  Machine-Learning,  CPP   \n",
       "387   DBMS,  Data Analysis,  MS Sql Server,  C#,  Vi...   \n",
       "212   C,  Neural Networks,  Python,  DBMS,  cpp,  Ma...   \n",
       "210       Design thinking,  Database,  Machine Learning   \n",
       "110   C,  Java,  Javascript,  cpp,  Object-Oriented ...   \n",
       "277   Java,  Neural Networks,  Artificial Intelligen...   \n",
       "47    Python,  cpp,  Machine Learning,  Data Structu...   \n",
       "334   C,  Database,  Python,  Javascript,  cpp,  Mac...   \n",
       "941   Python,  cpp,  Machine Learning,  Data Structu...   \n",
       "521   Image-Procssing,  Data-Analysis,  Arduino,  Da...   \n",
       "123   C,  NodeJS,  Python,  MongoDB,  Javascript,  M...   \n",
       "163   C,  Python,  Machine Learning,  HTML,  Arduino...   \n",
       "536   Python,  CPP,  Data-structures,  Leadership,  ...   \n",
       "512   C,  Java,  Python,  MongoDB,  Javascript,  CPP...   \n",
       "267   Java,  Python,  Javascript,  cpp,  Machine Lea...   \n",
       "\n",
       "                                            description  \n",
       "894   Computer Engineering student with good technic...  \n",
       "996   Computer Engineering student with good technic...  \n",
       "93    Dedicated and passionate computer engineering ...  \n",
       "256   To enhance my expertise in the field of softwa...  \n",
       "201   MissingC,  Data Analysis,  Java,  Neural Netwo...  \n",
       "180   I am a student programmer currently seeking ex...  \n",
       "91    Team oriented individual with strong communica...  \n",
       "464     MissingDatabase,  Embedded C,  Machine Learning  \n",
       "981               MissingDeep Learning,  Selenium,  Cpp  \n",
       "165   MissingData Structures,  Android,  Algorithms,...  \n",
       "457   MissingData Analysis,  Java,  Robotics,  Machi...  \n",
       "376   I'm a student of B.Tech (Computer Engineering)...  \n",
       "868   Exploring through this chaotic world, curious ...  \n",
       "970   Exploring through this chaotic world, curious ...  \n",
       "1089  Exploring through this chaotic world, curious ...  \n",
       "653   MissingPython,  Team-Leader,  Machine-Learning...  \n",
       "387   I have worked in web development and design. A...  \n",
       "212   Computer Science Student passionate about mach...  \n",
       "210   MissingDesign thinking,  Database,  Machine Le...  \n",
       "110   Dedicated and Passionate computer engineering ...  \n",
       "277   Computer Science Student passionate about mach...  \n",
       "47    MissingPython,  cpp,  Machine Learning,  Data ...  \n",
       "334   MissingC,  Database,  Python,  Javascript,  cp...  \n",
       "941   MissingPython,  cpp,  Machine Learning,  Data ...  \n",
       "521   Highly motivated, fast-paced  Computer Enginee...  \n",
       "123   MissingC,  NodeJS,  Python,  MongoDB,  Javascr...  \n",
       "163   MissingC,  Python,  Machine Learning,  HTML,  ...  \n",
       "536   My objective is to accelerate my learning curv...  \n",
       "512   \\nI wish to give my best in development of org...  \n",
       "267   MissingJava,  Python,  Javascript,  cpp,  Mach...  "
      ]
     },
     "execution_count": 77,
     "metadata": {},
     "output_type": "execute_result"
    }
   ],
   "source": [
    "#getting the similar users recs for user 1001\n",
    "get_user_cf_recommendations(1001) #the input is a course, the output is similar users"
   ]
  },
  {
   "cell_type": "code",
   "execution_count": 47,
   "id": "232102e6",
   "metadata": {},
   "outputs": [
    {
     "name": "stdout",
     "output_type": "stream",
     "text": [
      "0    1001\n",
      "Name: userid, dtype: object\n"
     ]
    }
   ],
   "source": [
    "print(cf_user_dataset[\"userid\"].loc[course_dataset['sr_'] == 1001])\n",
    "#description, key_skills_str, career_objective, userid"
   ]
  },
  {
   "cell_type": "code",
   "execution_count": 48,
   "id": "2651566b",
   "metadata": {},
   "outputs": [
    {
     "name": "stdout",
     "output_type": "stream",
     "text": [
      "894    1847\n",
      "Name: userid, dtype: object\n"
     ]
    }
   ],
   "source": [
    "print(cf_user_dataset[\"userid\"].loc[course_dataset['sr_'] == 1895])\n"
   ]
  },
  {
   "cell_type": "code",
   "execution_count": 49,
   "id": "40c0eec5",
   "metadata": {},
   "outputs": [
    {
     "name": "stdout",
     "output_type": "stream",
     "text": [
      "996    1946\n",
      "Name: userid, dtype: object\n"
     ]
    }
   ],
   "source": [
    "print(cf_user_dataset[\"userid\"].loc[course_dataset['sr_'] == 1997])\n"
   ]
  },
  {
   "cell_type": "code",
   "execution_count": 50,
   "id": "9670dcc1",
   "metadata": {},
   "outputs": [
    {
     "name": "stdout",
     "output_type": "stream",
     "text": [
      "93    1087\n",
      "Name: userid, dtype: object\n"
     ]
    }
   ],
   "source": [
    "print(cf_user_dataset[\"userid\"].loc[course_dataset['sr_'] == 1094])\n"
   ]
  },
  {
   "cell_type": "markdown",
   "id": "c5ad2674",
   "metadata": {},
   "source": [
    "### Test "
   ]
  },
  {
   "cell_type": "code",
   "execution_count": 51,
   "id": "b0123570",
   "metadata": {},
   "outputs": [
    {
     "data": {
      "text/html": [
       "<div>\n",
       "<style scoped>\n",
       "    .dataframe tbody tr th:only-of-type {\n",
       "        vertical-align: middle;\n",
       "    }\n",
       "\n",
       "    .dataframe tbody tr th {\n",
       "        vertical-align: top;\n",
       "    }\n",
       "\n",
       "    .dataframe thead th {\n",
       "        text-align: right;\n",
       "    }\n",
       "</style>\n",
       "<table border=\"1\" class=\"dataframe\">\n",
       "  <thead>\n",
       "    <tr style=\"text-align: right;\">\n",
       "      <th></th>\n",
       "      <th>userid</th>\n",
       "      <th>career_objective</th>\n",
       "      <th>key_skills_str</th>\n",
       "      <th>sr_</th>\n",
       "      <th>degree_1</th>\n",
       "      <th>degree_1_specializations</th>\n",
       "      <th>course_key_skills_str</th>\n",
       "      <th>description</th>\n",
       "      <th>course_description</th>\n",
       "    </tr>\n",
       "  </thead>\n",
       "  <tbody>\n",
       "    <tr>\n",
       "      <th>0</th>\n",
       "      <td>1001</td>\n",
       "      <td>Computer Engineering student with good technic...</td>\n",
       "      <td>C,  Java,  Keras,  Flask,  Deep Learning,  Sel...</td>\n",
       "      <td>1001</td>\n",
       "      <td>B.E.</td>\n",
       "      <td>Mechanical</td>\n",
       "      <td>CATIA</td>\n",
       "      <td>Computer Engineering student with good technic...</td>\n",
       "      <td>B.E.MechanicalCATIA</td>\n",
       "    </tr>\n",
       "    <tr>\n",
       "      <th>1</th>\n",
       "      <td>1002</td>\n",
       "      <td>Interested in working under company offering A...</td>\n",
       "      <td>Java,  Neural Networks,  AI,  Python,  Html5, ...</td>\n",
       "      <td>1002</td>\n",
       "      <td>B.E.</td>\n",
       "      <td>Mechanical</td>\n",
       "      <td>CATIA</td>\n",
       "      <td>Interested in working under company offering A...</td>\n",
       "      <td>B.E.MechanicalCATIA</td>\n",
       "    </tr>\n",
       "    <tr>\n",
       "      <th>2</th>\n",
       "      <td>1003</td>\n",
       "      <td>Missing</td>\n",
       "      <td>Missing</td>\n",
       "      <td>1003</td>\n",
       "      <td>B.E.</td>\n",
       "      <td>Mechanical</td>\n",
       "      <td>CATIA</td>\n",
       "      <td>MissingMissing</td>\n",
       "      <td>B.E.MechanicalCATIA</td>\n",
       "    </tr>\n",
       "    <tr>\n",
       "      <th>3</th>\n",
       "      <td>1004</td>\n",
       "      <td>Currently a final year student of Computer Eng...</td>\n",
       "      <td>XML,  C,  Java,  Data Structures,  Python,  Mo...</td>\n",
       "      <td>1004</td>\n",
       "      <td>B.E.</td>\n",
       "      <td>Mechanical</td>\n",
       "      <td>CATIA</td>\n",
       "      <td>Currently a final year student of Computer Eng...</td>\n",
       "      <td>B.E.MechanicalCATIA</td>\n",
       "    </tr>\n",
       "    <tr>\n",
       "      <th>4</th>\n",
       "      <td>1005</td>\n",
       "      <td>To have a growth oriented and challenging care...</td>\n",
       "      <td>XML,  Word,  Data Structures,  Communication, ...</td>\n",
       "      <td>1005</td>\n",
       "      <td>B.E.</td>\n",
       "      <td>Mechanical</td>\n",
       "      <td>CATIA</td>\n",
       "      <td>To have a growth oriented and challenging care...</td>\n",
       "      <td>B.E.MechanicalCATIA</td>\n",
       "    </tr>\n",
       "  </tbody>\n",
       "</table>\n",
       "</div>"
      ],
      "text/plain": [
       "  userid                                   career_objective  \\\n",
       "0   1001  Computer Engineering student with good technic...   \n",
       "1   1002  Interested in working under company offering A...   \n",
       "2   1003                                            Missing   \n",
       "3   1004  Currently a final year student of Computer Eng...   \n",
       "4   1005  To have a growth oriented and challenging care...   \n",
       "\n",
       "                                      key_skills_str   sr_ degree_1  \\\n",
       "0  C,  Java,  Keras,  Flask,  Deep Learning,  Sel...  1001     B.E.   \n",
       "1  Java,  Neural Networks,  AI,  Python,  Html5, ...  1002     B.E.   \n",
       "2                                            Missing  1003     B.E.   \n",
       "3  XML,  C,  Java,  Data Structures,  Python,  Mo...  1004     B.E.   \n",
       "4  XML,  Word,  Data Structures,  Communication, ...  1005     B.E.   \n",
       "\n",
       "  degree_1_specializations course_key_skills_str  \\\n",
       "0               Mechanical                 CATIA   \n",
       "1               Mechanical                 CATIA   \n",
       "2               Mechanical                 CATIA   \n",
       "3               Mechanical                 CATIA   \n",
       "4               Mechanical                 CATIA   \n",
       "\n",
       "                                         description   course_description  \n",
       "0  Computer Engineering student with good technic...  B.E.MechanicalCATIA  \n",
       "1  Interested in working under company offering A...  B.E.MechanicalCATIA  \n",
       "2                                     MissingMissing  B.E.MechanicalCATIA  \n",
       "3  Currently a final year student of Computer Eng...  B.E.MechanicalCATIA  \n",
       "4  To have a growth oriented and challenging care...  B.E.MechanicalCATIA  "
      ]
     },
     "execution_count": 51,
     "metadata": {},
     "output_type": "execute_result"
    }
   ],
   "source": [
    "#creating a new dataset dataset using the career objetcive, key skills and their user id\n",
    "cf_dataset = pd.DataFrame()\n",
    "cf_dataset['userid'] = user_dataset['userid']\n",
    "cf_dataset['career_objective'] = user_dataset['career_objective']\n",
    "cf_dataset['key_skills_str'] = user_dataset['key_skills_str']\n",
    "\n",
    "cf_dataset['sr_'] = course_dataset['sr_']\n",
    "cf_dataset['degree_1'] = course_dataset['degree_1']\n",
    "cf_dataset['degree_1_specializations'] = course_dataset['degree_1_specializations']\n",
    "cf_dataset['course_key_skills_str'] = course_dataset['key_skills_str']\n",
    "cf_dataset.head(5)\n",
    "\n",
    "#store the career objective and key skills in description\n",
    "cf_dataset['description'] = cf_dataset['career_objective'] + cf_dataset['key_skills_str']\n",
    "cf_dataset['course_description'] = cf_dataset['degree_1'] + cf_dataset['degree_1_specializations'] + cf_dataset['course_key_skills_str']\n",
    "cf_dataset.head(5)"
   ]
  },
  {
   "cell_type": "code",
   "execution_count": 54,
   "id": "5e149dd4",
   "metadata": {},
   "outputs": [
    {
     "ename": "ValueError",
     "evalue": "Incompatible dimension for X and Y matrices: X.shape[1] == 135 while Y.shape[1] == 6920",
     "output_type": "error",
     "traceback": [
      "\u001b[1;31m---------------------------------------------------------------------------\u001b[0m",
      "\u001b[1;31mValueError\u001b[0m                                Traceback (most recent call last)",
      "Cell \u001b[1;32mIn[54], line 11\u001b[0m\n\u001b[0;32m      7\u001b[0m user_count_matrix \u001b[38;5;241m=\u001b[39m user_count\u001b[38;5;241m.\u001b[39mfit_transform(cf_dataset[\u001b[38;5;124m'\u001b[39m\u001b[38;5;124mdescription\u001b[39m\u001b[38;5;124m'\u001b[39m]\u001b[38;5;241m.\u001b[39mvalues\u001b[38;5;241m.\u001b[39mastype(\u001b[38;5;124m'\u001b[39m\u001b[38;5;124mU\u001b[39m\u001b[38;5;124m'\u001b[39m))\n\u001b[0;32m     10\u001b[0m \u001b[38;5;66;03m#cosine similarity between the the matrix itself (normalized dot product of X and Y)\u001b[39;00m\n\u001b[1;32m---> 11\u001b[0m course_cosine_sim \u001b[38;5;241m=\u001b[39m \u001b[43mcosine_similarity\u001b[49m\u001b[43m(\u001b[49m\u001b[43mcourse_count_matrix\u001b[49m\u001b[43m,\u001b[49m\u001b[43m \u001b[49m\u001b[43muser_count_matrix\u001b[49m\u001b[43m)\u001b[49m\n\u001b[0;32m     13\u001b[0m \u001b[38;5;66;03m#create indices for the courses is using series\u001b[39;00m\n\u001b[0;32m     14\u001b[0m cf_course_dataset \u001b[38;5;241m=\u001b[39m cf_course_dataset\u001b[38;5;241m.\u001b[39mreset_index()\n",
      "File \u001b[1;32m~\\anaconda3\\lib\\site-packages\\sklearn\\metrics\\pairwise.py:1180\u001b[0m, in \u001b[0;36mcosine_similarity\u001b[1;34m(X, Y, dense_output)\u001b[0m\n\u001b[0;32m   1146\u001b[0m \u001b[38;5;124;03m\"\"\"Compute cosine similarity between samples in X and Y.\u001b[39;00m\n\u001b[0;32m   1147\u001b[0m \n\u001b[0;32m   1148\u001b[0m \u001b[38;5;124;03mCosine similarity, or the cosine kernel, computes similarity as the\u001b[39;00m\n\u001b[1;32m   (...)\u001b[0m\n\u001b[0;32m   1176\u001b[0m \u001b[38;5;124;03mkernel matrix : ndarray of shape (n_samples_X, n_samples_Y)\u001b[39;00m\n\u001b[0;32m   1177\u001b[0m \u001b[38;5;124;03m\"\"\"\u001b[39;00m\n\u001b[0;32m   1178\u001b[0m \u001b[38;5;66;03m# to avoid recursive import\u001b[39;00m\n\u001b[1;32m-> 1180\u001b[0m X, Y \u001b[38;5;241m=\u001b[39m \u001b[43mcheck_pairwise_arrays\u001b[49m\u001b[43m(\u001b[49m\u001b[43mX\u001b[49m\u001b[43m,\u001b[49m\u001b[43m \u001b[49m\u001b[43mY\u001b[49m\u001b[43m)\u001b[49m\n\u001b[0;32m   1182\u001b[0m X_normalized \u001b[38;5;241m=\u001b[39m normalize(X, copy\u001b[38;5;241m=\u001b[39m\u001b[38;5;28;01mTrue\u001b[39;00m)\n\u001b[0;32m   1183\u001b[0m \u001b[38;5;28;01mif\u001b[39;00m X \u001b[38;5;129;01mis\u001b[39;00m Y:\n",
      "File \u001b[1;32m~\\anaconda3\\lib\\site-packages\\sklearn\\utils\\validation.py:63\u001b[0m, in \u001b[0;36m_deprecate_positional_args.<locals>._inner_deprecate_positional_args.<locals>.inner_f\u001b[1;34m(*args, **kwargs)\u001b[0m\n\u001b[0;32m     61\u001b[0m extra_args \u001b[38;5;241m=\u001b[39m \u001b[38;5;28mlen\u001b[39m(args) \u001b[38;5;241m-\u001b[39m \u001b[38;5;28mlen\u001b[39m(all_args)\n\u001b[0;32m     62\u001b[0m \u001b[38;5;28;01mif\u001b[39;00m extra_args \u001b[38;5;241m<\u001b[39m\u001b[38;5;241m=\u001b[39m \u001b[38;5;241m0\u001b[39m:\n\u001b[1;32m---> 63\u001b[0m     \u001b[38;5;28;01mreturn\u001b[39;00m f(\u001b[38;5;241m*\u001b[39margs, \u001b[38;5;241m*\u001b[39m\u001b[38;5;241m*\u001b[39mkwargs)\n\u001b[0;32m     65\u001b[0m \u001b[38;5;66;03m# extra_args > 0\u001b[39;00m\n\u001b[0;32m     66\u001b[0m args_msg \u001b[38;5;241m=\u001b[39m [\u001b[38;5;124m'\u001b[39m\u001b[38;5;132;01m{}\u001b[39;00m\u001b[38;5;124m=\u001b[39m\u001b[38;5;132;01m{}\u001b[39;00m\u001b[38;5;124m'\u001b[39m\u001b[38;5;241m.\u001b[39mformat(name, arg)\n\u001b[0;32m     67\u001b[0m             \u001b[38;5;28;01mfor\u001b[39;00m name, arg \u001b[38;5;129;01min\u001b[39;00m \u001b[38;5;28mzip\u001b[39m(kwonly_args[:extra_args],\n\u001b[0;32m     68\u001b[0m                                  args[\u001b[38;5;241m-\u001b[39mextra_args:])]\n",
      "File \u001b[1;32m~\\anaconda3\\lib\\site-packages\\sklearn\\metrics\\pairwise.py:160\u001b[0m, in \u001b[0;36mcheck_pairwise_arrays\u001b[1;34m(X, Y, precomputed, dtype, accept_sparse, force_all_finite, copy)\u001b[0m\n\u001b[0;32m    155\u001b[0m         \u001b[38;5;28;01mraise\u001b[39;00m \u001b[38;5;167;01mValueError\u001b[39;00m(\u001b[38;5;124m\"\u001b[39m\u001b[38;5;124mPrecomputed metric requires shape \u001b[39m\u001b[38;5;124m\"\u001b[39m\n\u001b[0;32m    156\u001b[0m                          \u001b[38;5;124m\"\u001b[39m\u001b[38;5;124m(n_queries, n_indexed). Got (\u001b[39m\u001b[38;5;132;01m%d\u001b[39;00m\u001b[38;5;124m, \u001b[39m\u001b[38;5;132;01m%d\u001b[39;00m\u001b[38;5;124m) \u001b[39m\u001b[38;5;124m\"\u001b[39m\n\u001b[0;32m    157\u001b[0m                          \u001b[38;5;124m\"\u001b[39m\u001b[38;5;124mfor \u001b[39m\u001b[38;5;132;01m%d\u001b[39;00m\u001b[38;5;124m indexed.\u001b[39m\u001b[38;5;124m\"\u001b[39m \u001b[38;5;241m%\u001b[39m\n\u001b[0;32m    158\u001b[0m                          (X\u001b[38;5;241m.\u001b[39mshape[\u001b[38;5;241m0\u001b[39m], X\u001b[38;5;241m.\u001b[39mshape[\u001b[38;5;241m1\u001b[39m], Y\u001b[38;5;241m.\u001b[39mshape[\u001b[38;5;241m0\u001b[39m]))\n\u001b[0;32m    159\u001b[0m \u001b[38;5;28;01melif\u001b[39;00m X\u001b[38;5;241m.\u001b[39mshape[\u001b[38;5;241m1\u001b[39m] \u001b[38;5;241m!=\u001b[39m Y\u001b[38;5;241m.\u001b[39mshape[\u001b[38;5;241m1\u001b[39m]:\n\u001b[1;32m--> 160\u001b[0m     \u001b[38;5;28;01mraise\u001b[39;00m \u001b[38;5;167;01mValueError\u001b[39;00m(\u001b[38;5;124m\"\u001b[39m\u001b[38;5;124mIncompatible dimension for X and Y matrices: \u001b[39m\u001b[38;5;124m\"\u001b[39m\n\u001b[0;32m    161\u001b[0m                      \u001b[38;5;124m\"\u001b[39m\u001b[38;5;124mX.shape[1] == \u001b[39m\u001b[38;5;132;01m%d\u001b[39;00m\u001b[38;5;124m while Y.shape[1] == \u001b[39m\u001b[38;5;132;01m%d\u001b[39;00m\u001b[38;5;124m\"\u001b[39m \u001b[38;5;241m%\u001b[39m (\n\u001b[0;32m    162\u001b[0m                          X\u001b[38;5;241m.\u001b[39mshape[\u001b[38;5;241m1\u001b[39m], Y\u001b[38;5;241m.\u001b[39mshape[\u001b[38;5;241m1\u001b[39m]))\n\u001b[0;32m    164\u001b[0m \u001b[38;5;28;01mreturn\u001b[39;00m X, Y\n",
      "\u001b[1;31mValueError\u001b[0m: Incompatible dimension for X and Y matrices: X.shape[1] == 135 while Y.shape[1] == 6920"
     ]
    }
   ],
   "source": [
    "#vectorize using countvectorize that converts into a matrix of token counts\n",
    "course_count = CountVectorizer(stop_words='english', analyzer='word', ngram_range=(1, 2), min_df=0)\n",
    "course_count_matrix = course_count.fit_transform(cf_dataset['course_description'].values.astype('U'))\n",
    "\n",
    "#vectorize using countvectorize that converts into a matrix of token counts\n",
    "user_count = CountVectorizer(stop_words='english', analyzer='word', ngram_range=(1, 2), min_df=0)\n",
    "user_count_matrix = user_count.fit_transform(cf_dataset['description'].values.astype('U'))\n",
    "\n",
    "\n",
    "#cosine similarity between the the matrix itself (normalized dot product of X and Y)\n",
    "course_cosine_sim = cosine_similarity(course_count_matrix, user_count_matrix)\n",
    "\n",
    "#create indices for the courses is using series\n",
    "cf_course_dataset = cf_course_dataset.reset_index()\n",
    "courses = cf_course_dataset['sr_']\n",
    "indices = pd.Series(cf_course_dataset.index, index=cf_course_dataset['sr_'])\n",
    "\n",
    "#function to get content-filtered recommendations\n",
    "def get_course_cf_recommendations(course): \n",
    "    \n",
    "    #get index of course\n",
    "    course_id = indices[course]\n",
    "    \n",
    "    #find the most similar 30 courses using cosine_sim and sorting with highest similarity\n",
    "    sim_scores = list(enumerate(course_cosine_sim[course_id]))\n",
    "    sim_scores = sorted(sim_scores, key=lambda x: x[1], reverse=True)\n",
    "    sim_scores = sim_scores[1:31]\n",
    "    course_indices = [i[0] for i in sim_scores]\n",
    "    \n",
    "    return courses.iloc[course_indices]"
   ]
  },
  {
   "cell_type": "code",
   "execution_count": null,
   "id": "4702bde8",
   "metadata": {},
   "outputs": [],
   "source": []
  },
  {
   "cell_type": "code",
   "execution_count": null,
   "id": "01a766c1",
   "metadata": {},
   "outputs": [],
   "source": []
  },
  {
   "cell_type": "code",
   "execution_count": null,
   "id": "35c5fa93",
   "metadata": {},
   "outputs": [],
   "source": []
  },
  {
   "cell_type": "code",
   "execution_count": null,
   "id": "240dc34f",
   "metadata": {},
   "outputs": [],
   "source": []
  },
  {
   "cell_type": "code",
   "execution_count": null,
   "id": "2efe1933",
   "metadata": {},
   "outputs": [],
   "source": []
  }
 ],
 "metadata": {
  "kernelspec": {
   "display_name": "Python 3 (ipykernel)",
   "language": "python",
   "name": "python3"
  },
  "language_info": {
   "codemirror_mode": {
    "name": "ipython",
    "version": 3
   },
   "file_extension": ".py",
   "mimetype": "text/x-python",
   "name": "python",
   "nbconvert_exporter": "python",
   "pygments_lexer": "ipython3",
   "version": "3.9.7"
  }
 },
 "nbformat": 4,
 "nbformat_minor": 5
}
